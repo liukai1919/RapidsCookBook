{
 "cells": [
  {
   "cell_type": "code",
   "execution_count": 1,
   "metadata": {
    "collapsed": true,
    "pycharm": {
     "is_executing": false
    }
   },
   "outputs": [],
   "source": [
    "import cudf\n",
    "import pandas as pd\n",
    "from matplotlib import pyplot as plt\n",
    "\n"
   ]
  },
  {
   "cell_type": "code",
   "execution_count": 2,
   "outputs": [
    {
     "data": {
      "text/plain": "Index(['INSTNM', 'CITY', 'STABBR', 'HBCU', 'MENONLY', 'WOMENONLY', 'RELAFFIL',\n       'SATVRMID', 'SATMTMID', 'DISTANCEONLY', 'UGDS', 'UGDS_WHITE',\n       'UGDS_BLACK', 'UGDS_HISP', 'UGDS_ASIAN', 'UGDS_AIAN', 'UGDS_NHPI',\n       'UGDS_2MOR', 'UGDS_NRA', 'UGDS_UNKN', 'PPTUG_EF', 'CURROPER', 'PCTPELL',\n       'PCTFLOAN', 'UG25ABV', 'MD_EARN_WNE_P10', 'GRAD_DEBT_MDN_SUPP'],\n      dtype='object')"
     },
     "metadata": {},
     "output_type": "execute_result",
     "execution_count": 2
    }
   ],
   "source": [
    "#看一下字段名的玩法\n",
    "college = cudf.read_csv('../Data/college.csv')\n",
    "col = college.columns\n",
    "col\n",
    "\n"
   ],
   "metadata": {
    "collapsed": false,
    "pycharm": {
     "name": "#%%\n",
     "is_executing": false
    }
   }
  },
  {
   "cell_type": "code",
   "execution_count": 3,
   "outputs": [
    {
     "data": {
      "text/plain": "array(['INSTNM', 'CITY', 'STABBR', 'HBCU', 'MENONLY', 'WOMENONLY',\n       'RELAFFIL', 'SATVRMID', 'SATMTMID', 'DISTANCEONLY', 'UGDS',\n       'UGDS_WHITE', 'UGDS_BLACK', 'UGDS_HISP', 'UGDS_ASIAN', 'UGDS_AIAN',\n       'UGDS_NHPI', 'UGDS_2MOR', 'UGDS_NRA', 'UGDS_UNKN', 'PPTUG_EF',\n       'CURROPER', 'PCTPELL', 'PCTFLOAN', 'UG25ABV', 'MD_EARN_WNE_P10',\n       'GRAD_DEBT_MDN_SUPP'], dtype=object)"
     },
     "metadata": {},
     "output_type": "execute_result",
     "execution_count": 3
    }
   ],
   "source": [
    "col.values\n",
    "\n"
   ],
   "metadata": {
    "collapsed": false,
    "pycharm": {
     "name": "#%%\n",
     "is_executing": false
    }
   }
  },
  {
   "cell_type": "code",
   "execution_count": 4,
   "outputs": [
    {
     "data": {
      "text/plain": "'WOMENONLY'"
     },
     "metadata": {},
     "output_type": "execute_result",
     "execution_count": 4
    }
   ],
   "source": [
    "col[5]\n",
    "\n"
   ],
   "metadata": {
    "collapsed": false,
    "pycharm": {
     "name": "#%%\n",
     "is_executing": false
    }
   }
  },
  {
   "cell_type": "code",
   "execution_count": 5,
   "outputs": [
    {
     "data": {
      "text/plain": "Index(['CITY', 'SATMTMID', 'UGDS'], dtype='object')"
     },
     "metadata": {},
     "output_type": "execute_result",
     "execution_count": 5
    }
   ],
   "source": [
    "col[[1,8,10]]\n",
    "\n"
   ],
   "metadata": {
    "collapsed": false,
    "pycharm": {
     "name": "#%%\n",
     "is_executing": false
    }
   }
  },
  {
   "cell_type": "code",
   "execution_count": 6,
   "outputs": [
    {
     "data": {
      "text/plain": "Index(['PPTUG_EF', 'CURROPER', 'PCTPELL'], dtype='object')"
     },
     "metadata": {},
     "output_type": "execute_result",
     "execution_count": 6
    }
   ],
   "source": [
    "col[-7:-4]\n",
    "\n"
   ],
   "metadata": {
    "collapsed": false,
    "pycharm": {
     "name": "#%%\n",
     "is_executing": false
    }
   }
  },
  {
   "cell_type": "code",
   "execution_count": 9,
   "outputs": [
    {
     "data": {
      "text/plain": "('CITY', 'WOMENONLY', 0)"
     },
     "metadata": {},
     "output_type": "execute_result",
     "execution_count": 9
    }
   ],
   "source": [
    "col.min(),col.max(),col.isnull().sum()\n",
    "\n"
   ],
   "metadata": {
    "collapsed": false,
    "pycharm": {
     "name": "#%%\n",
     "is_executing": false
    }
   }
  },
  {
   "cell_type": "code",
   "execution_count": 10,
   "outputs": [
    {
     "data": {
      "text/plain": "Index(['INSTNM_A', 'CITY_A', 'STABBR_A', 'HBCU_A', 'MENONLY_A', 'WOMENONLY_A',\n       'RELAFFIL_A', 'SATVRMID_A', 'SATMTMID_A', 'DISTANCEONLY_A', 'UGDS_A',\n       'UGDS_WHITE_A', 'UGDS_BLACK_A', 'UGDS_HISP_A', 'UGDS_ASIAN_A',\n       'UGDS_AIAN_A', 'UGDS_NHPI_A', 'UGDS_2MOR_A', 'UGDS_NRA_A',\n       'UGDS_UNKN_A', 'PPTUG_EF_A', 'CURROPER_A', 'PCTPELL_A', 'PCTFLOAN_A',\n       'UG25ABV_A', 'MD_EARN_WNE_P10_A', 'GRAD_DEBT_MDN_SUPP_A'],\n      dtype='object')"
     },
     "metadata": {},
     "output_type": "execute_result",
     "execution_count": 10
    }
   ],
   "source": [
    "col + '_A'\n",
    "\n"
   ],
   "metadata": {
    "collapsed": false,
    "pycharm": {
     "name": "#%%\n",
     "is_executing": false
    }
   }
  },
  {
   "cell_type": "code",
   "execution_count": 12,
   "outputs": [
    {
     "data": {
      "text/plain": "array([ True, False,  True,  True,  True,  True,  True,  True,  True,\n       False,  True,  True,  True,  True,  True,  True,  True,  True,\n        True,  True,  True, False,  True,  True,  True,  True,  True])"
     },
     "metadata": {},
     "output_type": "execute_result",
     "execution_count": 12
    }
   ],
   "source": [
    "col > 'G'\n",
    "\n"
   ],
   "metadata": {
    "collapsed": false,
    "pycharm": {
     "name": "#%%\n",
     "is_executing": false
    }
   }
  },
  {
   "cell_type": "code",
   "execution_count": 13,
   "outputs": [
    {
     "data": {
      "text/plain": "                 UNIQUE_ID               POSITION_TITLE  \\\nRACE                                                      \nHispanic/Latino          0  ASSISTANT DIRECTOR (EX LVL)   \nHispanic/Latino          1            LIBRARY ASSISTANT   \nWhite                    2               POLICE OFFICER   \nWhite                    3            ENGINEER/OPERATOR   \nWhite                    4                  ELECTRICIAN   \n\n                                    DEPARTMENT  BASE_SALARY EMPLOYMENT_TYPE  \\\nRACE                                                                          \nHispanic/Latino    Municipal Courts Department     121862.0       Full Time   \nHispanic/Latino                        Library      26125.0       Full Time   \nWhite            Houston Police Department-HPD      45279.0       Full Time   \nWhite            Houston Fire Department (HFD)      63166.0       Full Time   \nWhite              General Services Department      56347.0       Full Time   \n\n                 GENDER EMPLOYMENT_STATUS   HIRE_DATE    JOB_DATE  \nRACE                                                               \nHispanic/Latino  Female            Active  2006-06-12  2012-10-13  \nHispanic/Latino  Female            Active  2000-07-19  2010-09-18  \nWhite              Male            Active  2015-02-03  2015-02-03  \nWhite              Male            Active  1982-02-08  1991-05-25  \nWhite              Male            Active  1989-06-19  1994-10-22  ",
      "text/html": "<div>\n<style scoped>\n    .dataframe tbody tr th:only-of-type {\n        vertical-align: middle;\n    }\n\n    .dataframe tbody tr th {\n        vertical-align: top;\n    }\n\n    .dataframe thead th {\n        text-align: right;\n    }\n</style>\n<table border=\"1\" class=\"dataframe\">\n  <thead>\n    <tr style=\"text-align: right;\">\n      <th></th>\n      <th>UNIQUE_ID</th>\n      <th>POSITION_TITLE</th>\n      <th>DEPARTMENT</th>\n      <th>BASE_SALARY</th>\n      <th>EMPLOYMENT_TYPE</th>\n      <th>GENDER</th>\n      <th>EMPLOYMENT_STATUS</th>\n      <th>HIRE_DATE</th>\n      <th>JOB_DATE</th>\n    </tr>\n    <tr>\n      <th>RACE</th>\n      <th></th>\n      <th></th>\n      <th></th>\n      <th></th>\n      <th></th>\n      <th></th>\n      <th></th>\n      <th></th>\n      <th></th>\n    </tr>\n  </thead>\n  <tbody>\n    <tr>\n      <th>Hispanic/Latino</th>\n      <td>0</td>\n      <td>ASSISTANT DIRECTOR (EX LVL)</td>\n      <td>Municipal Courts Department</td>\n      <td>121862.0</td>\n      <td>Full Time</td>\n      <td>Female</td>\n      <td>Active</td>\n      <td>2006-06-12</td>\n      <td>2012-10-13</td>\n    </tr>\n    <tr>\n      <th>Hispanic/Latino</th>\n      <td>1</td>\n      <td>LIBRARY ASSISTANT</td>\n      <td>Library</td>\n      <td>26125.0</td>\n      <td>Full Time</td>\n      <td>Female</td>\n      <td>Active</td>\n      <td>2000-07-19</td>\n      <td>2010-09-18</td>\n    </tr>\n    <tr>\n      <th>White</th>\n      <td>2</td>\n      <td>POLICE OFFICER</td>\n      <td>Houston Police Department-HPD</td>\n      <td>45279.0</td>\n      <td>Full Time</td>\n      <td>Male</td>\n      <td>Active</td>\n      <td>2015-02-03</td>\n      <td>2015-02-03</td>\n    </tr>\n    <tr>\n      <th>White</th>\n      <td>3</td>\n      <td>ENGINEER/OPERATOR</td>\n      <td>Houston Fire Department (HFD)</td>\n      <td>63166.0</td>\n      <td>Full Time</td>\n      <td>Male</td>\n      <td>Active</td>\n      <td>1982-02-08</td>\n      <td>1991-05-25</td>\n    </tr>\n    <tr>\n      <th>White</th>\n      <td>4</td>\n      <td>ELECTRICIAN</td>\n      <td>General Services Department</td>\n      <td>56347.0</td>\n      <td>Full Time</td>\n      <td>Male</td>\n      <td>Active</td>\n      <td>1989-06-19</td>\n      <td>1994-10-22</td>\n    </tr>\n  </tbody>\n</table>\n</div>"
     },
     "metadata": {},
     "output_type": "execute_result",
     "execution_count": 13
    }
   ],
   "source": [
    "employee = cudf.read_csv('../Data/employee.csv',index_col='RACE')\n",
    "employee.head()\n",
    "\n"
   ],
   "metadata": {
    "collapsed": false,
    "pycharm": {
     "name": "#%%\n",
     "is_executing": false
    }
   }
  },
  {
   "cell_type": "code",
   "execution_count": 14,
   "outputs": [
    {
     "data": {
      "text/plain": "False"
     },
     "metadata": {},
     "output_type": "execute_result",
     "execution_count": 14
    }
   ],
   "source": [
    "#在传统的编译环境中应该是TURE，但是CUDA的方式有一些特殊\n",
    "salary1=employee['BASE_SALARY']\n",
    "salary2=employee['BASE_SALARY']\n",
    "salary1 is salary2\n",
    "\n"
   ],
   "metadata": {
    "collapsed": false,
    "pycharm": {
     "name": "#%%\n",
     "is_executing": false
    }
   }
  },
  {
   "cell_type": "code",
   "execution_count": null,
   "outputs": [],
   "source": [],
   "metadata": {
    "collapsed": false,
    "pycharm": {
     "name": "#%%\n"
    }
   }
  },
  {
   "cell_type": "code",
   "execution_count": 18,
   "outputs": [],
   "source": [
    "#找字段的不同\n",
    "baseball_14 = cudf.read_csv('../Data/baseball14.csv',index_col='playerID')\n",
    "baseball_15 = cudf.read_csv('../Data/baseball15.csv',index_col='playerID')\n",
    "baseball_16 = cudf.read_csv('../Data/baseball16.csv',index_col='playerID')"
   ],
   "metadata": {
    "collapsed": false,
    "pycharm": {
     "name": "#%%\n",
     "is_executing": false
    }
   }
  },
  {
   "cell_type": "code",
   "execution_count": 24,
   "outputs": [
    {
     "traceback": [
      "\u001b[0;31m---------------------------------------------------------------------------\u001b[0m",
      "\u001b[0;31mAttributeError\u001b[0m                            Traceback (most recent call last)",
      "\u001b[0;32m<ipython-input-24-c934630de6d1>\u001b[0m in \u001b[0;36m<module>\u001b[0;34m\u001b[0m\n\u001b[0;32m----> 1\u001b[0;31m \u001b[0mbaseball_14\u001b[0m\u001b[0;34m.\u001b[0m\u001b[0mindex\u001b[0m\u001b[0;34m.\u001b[0m\u001b[0mdifference\u001b[0m\u001b[0;34m(\u001b[0m\u001b[0mbaseball_15\u001b[0m\u001b[0;34m.\u001b[0m\u001b[0mindex\u001b[0m\u001b[0;34m)\u001b[0m\u001b[0;34m\u001b[0m\u001b[0;34m\u001b[0m\u001b[0m\n\u001b[0m\u001b[1;32m      2\u001b[0m \u001b[0;34m\u001b[0m\u001b[0m\n",
      "\u001b[0;31mAttributeError\u001b[0m: 'StringIndex' object has no attribute 'difference'"
     ],
     "ename": "AttributeError",
     "evalue": "'StringIndex' object has no attribute 'difference'",
     "output_type": "error"
    }
   ],
   "source": [
    "baseball_14.index.difference(baseball_15.index)"
   ],
   "metadata": {
    "collapsed": false,
    "pycharm": {
     "name": "#%%\n",
     "is_executing": false
    }
   }
  },
  {
   "cell_type": "code",
   "execution_count": 21,
   "outputs": [],
   "source": [
    "#有一个功能cudf还不支持\n",
    "bb_14 = baseball_14.to_pandas()\n",
    "bb_15 = baseball_15.to_pandas()\n",
    "bb_16 = baseball_16.to_pandas()\n"
   ],
   "metadata": {
    "collapsed": false,
    "pycharm": {
     "name": "#%%\n",
     "is_executing": false
    }
   }
  },
  {
   "cell_type": "code",
   "execution_count": 26,
   "outputs": [
    {
     "data": {
      "text/plain": "Index(['cartech02', 'corpoca01', 'dominma01', 'fowlede01', 'grossro01',\n       'guzmaje01', 'hoeslj01', 'krausma01', 'preslal01', 'singljo02',\n       'villajo01'],\n      dtype='object', name='playerID')"
     },
     "metadata": {},
     "output_type": "execute_result",
     "execution_count": 26
    }
   ],
   "source": [
    "bb_14.index.difference(bb_15.index)\n",
    "\n",
    "\n"
   ],
   "metadata": {
    "collapsed": false,
    "pycharm": {
     "name": "#%%\n",
     "is_executing": false
    }
   }
  },
  {
   "cell_type": "code",
   "execution_count": 27,
   "outputs": [
    {
     "data": {
      "text/plain": "Index(['cartech02', 'corpoca01', 'dominma01', 'fowlede01', 'grossro01',\n       'guzmaje01', 'hoeslj01', 'krausma01', 'preslal01', 'singljo02',\n       'villajo01'],\n      dtype='object', name='playerID')"
     },
     "metadata": {},
     "output_type": "execute_result",
     "execution_count": 27
    }
   ],
   "source": [
    "bb_14.index.difference(bb_16.index)"
   ],
   "metadata": {
    "collapsed": false,
    "pycharm": {
     "name": "#%%\n",
     "is_executing": false
    }
   }
  },
  {
   "cell_type": "code",
   "execution_count": 28,
   "outputs": [],
   "source": [
    "hits_14 = baseball_14['H']\n",
    "hits_15 = baseball_15['H']\n",
    "hits_16 = baseball_16['H'] \n",
    "\n"
   ],
   "metadata": {
    "collapsed": false,
    "pycharm": {
     "name": "#%%\n",
     "is_executing": false
    }
   }
  },
  {
   "cell_type": "code",
   "execution_count": 29,
   "outputs": [
    {
     "data": {
      "text/plain": "altuvjo01     425\ncartech02     193\ncastrja01     174\ncongeha01    null\ncorpoca01    null\nName: H, dtype: int64"
     },
     "metadata": {},
     "output_type": "execute_result",
     "execution_count": 29
    }
   ],
   "source": [
    "#这样加会有空值\n",
    "(hits_14+hits_15).head()\n"
   ],
   "metadata": {
    "collapsed": false,
    "pycharm": {
     "name": "#%%\n",
     "is_executing": false
    }
   }
  },
  {
   "cell_type": "code",
   "execution_count": 30,
   "outputs": [
    {
     "data": {
      "text/plain": "altuvjo01    425\ncartech02    193\ncastrja01    174\ncongeha01     46\ncorpoca01     40\nName: 0, dtype: int64"
     },
     "metadata": {},
     "output_type": "execute_result",
     "execution_count": 30
    }
   ],
   "source": [
    "#这样就可以了\n",
    "hits_14.add(hits_15,fill_value=0).head()"
   ],
   "metadata": {
    "collapsed": false,
    "pycharm": {
     "name": "#%%\n",
     "is_executing": false
    }
   }
  },
  {
   "cell_type": "code",
   "execution_count": 51,
   "outputs": [],
   "source": [
    "#从别的表添加字段\n",
    "employee = cudf.read_csv('../Data/employee.csv')\n",
    "dept_sal=employee[['DEPARTMENT','BASE_SALARY']]\n"
   ],
   "metadata": {
    "collapsed": false,
    "pycharm": {
     "name": "#%%\n",
     "is_executing": false
    }
   }
  },
  {
   "cell_type": "code",
   "execution_count": 52,
   "outputs": [
    {
     "name": "stderr",
     "text": [
      "WARNING:When using a sequence of booleans for `ascending`, `na_position` flag is not yet supported and defaults to treating nulls as greater than all numbers\n"
     ],
     "output_type": "stream"
    }
   ],
   "source": [
    "dept_sal = dept_sal.sort_values(['DEPARTMENT','BASE_SALARY'],ascending=[True,False])\n"
   ],
   "metadata": {
    "collapsed": false,
    "pycharm": {
     "name": "#%%\n",
     "is_executing": false
    }
   }
  },
  {
   "cell_type": "code",
   "execution_count": 53,
   "outputs": [
    {
     "data": {
      "text/plain": "                        DEPARTMENT BASE_SALARY\n1494    Admn. & Regulatory Affairs    140416.0\n149       City Controller's Office     64251.0\n71                    City Council        null\n647   Convention and Entertainment     38397.0\n1500   Dept of Neighborhoods (DON)     89221.0",
      "text/html": "<div>\n<style scoped>\n    .dataframe tbody tr th:only-of-type {\n        vertical-align: middle;\n    }\n\n    .dataframe tbody tr th {\n        vertical-align: top;\n    }\n\n    .dataframe thead th {\n        text-align: right;\n    }\n</style>\n<table border=\"1\" class=\"dataframe\">\n  <thead>\n    <tr style=\"text-align: right;\">\n      <th></th>\n      <th>DEPARTMENT</th>\n      <th>BASE_SALARY</th>\n    </tr>\n  </thead>\n  <tbody>\n    <tr>\n      <th>1494</th>\n      <td>Admn. &amp; Regulatory Affairs</td>\n      <td>140416.0</td>\n    </tr>\n    <tr>\n      <th>149</th>\n      <td>City Controller's Office</td>\n      <td>64251.0</td>\n    </tr>\n    <tr>\n      <th>71</th>\n      <td>City Council</td>\n      <td>null</td>\n    </tr>\n    <tr>\n      <th>647</th>\n      <td>Convention and Entertainment</td>\n      <td>38397.0</td>\n    </tr>\n    <tr>\n      <th>1500</th>\n      <td>Dept of Neighborhoods (DON)</td>\n      <td>89221.0</td>\n    </tr>\n  </tbody>\n</table>\n</div>"
     },
     "metadata": {},
     "output_type": "execute_result",
     "execution_count": 53
    }
   ],
   "source": [
    "max_dept_sal = dept_sal.drop_duplicates(subset='DEPARTMENT')\n",
    "max_dept_sal.head()\n",
    "\n"
   ],
   "metadata": {
    "collapsed": false,
    "pycharm": {
     "name": "#%%\n",
     "is_executing": false
    }
   }
  },
  {
   "cell_type": "code",
   "execution_count": 61,
   "outputs": [
    {
     "traceback": [
      "\u001b[0;31m---------------------------------------------------------------------------\u001b[0m",
      "\u001b[0;31mNameError\u001b[0m                                 Traceback (most recent call last)",
      "\u001b[0;32m<ipython-input-61-09161d17a331>\u001b[0m in \u001b[0;36m<module>\u001b[0;34m\u001b[0m\n\u001b[0;32m----> 1\u001b[0;31m \u001b[0mmax_dept_sal\u001b[0m \u001b[0;34m=\u001b[0m \u001b[0mmax_dept_sal\u001b[0m\u001b[0;34m.\u001b[0m\u001b[0mset_index\u001b[0m\u001b[0;34m(\u001b[0m\u001b[0;34m'DEPARTMENT'\u001b[0m\u001b[0;34m)\u001b[0m\u001b[0;34m\u001b[0m\u001b[0;34m\u001b[0m\u001b[0m\n\u001b[0m\u001b[1;32m      2\u001b[0m \u001b[0memployee\u001b[0m \u001b[0;34m=\u001b[0m \u001b[0memployee\u001b[0m\u001b[0;34m.\u001b[0m\u001b[0mset_index\u001b[0m\u001b[0;34m(\u001b[0m\u001b[0;34m'DEPARTMENT'\u001b[0m\u001b[0;34m)\u001b[0m\u001b[0;34m\u001b[0m\u001b[0;34m\u001b[0m\u001b[0m\n\u001b[1;32m      3\u001b[0m \u001b[0memployee\u001b[0m\u001b[0;34m.\u001b[0m\u001b[0mhead\u001b[0m\u001b[0;34m(\u001b[0m\u001b[0;34m)\u001b[0m\u001b[0;34m\u001b[0m\u001b[0;34m\u001b[0m\u001b[0m\n\u001b[1;32m      4\u001b[0m \u001b[0;34m\u001b[0m\u001b[0m\n",
      "\u001b[0;32m~/anaconda3/envs/liukai/lib/python3.6/site-packages/cudf/core/dataframe.py\u001b[0m in \u001b[0;36mset_index\u001b[0;34m(self, index, drop)\u001b[0m\n\u001b[1;32m   1481\u001b[0m             \u001b[0mdf\u001b[0m \u001b[0;34m=\u001b[0m \u001b[0mself\u001b[0m\u001b[0;34m.\u001b[0m\u001b[0mcopy\u001b[0m\u001b[0;34m(\u001b[0m\u001b[0mdeep\u001b[0m\u001b[0;34m=\u001b[0m\u001b[0;32mFalse\u001b[0m\u001b[0;34m)\u001b[0m\u001b[0;34m\u001b[0m\u001b[0;34m\u001b[0m\u001b[0m\n\u001b[1;32m   1482\u001b[0m             \u001b[0;32mif\u001b[0m \u001b[0mdrop\u001b[0m\u001b[0;34m:\u001b[0m\u001b[0;34m\u001b[0m\u001b[0;34m\u001b[0m\u001b[0m\n\u001b[0;32m-> 1483\u001b[0;31m                 \u001b[0mdf\u001b[0m\u001b[0;34m.\u001b[0m\u001b[0m_drop_column\u001b[0m\u001b[0;34m(\u001b[0m\u001b[0mindex\u001b[0m\u001b[0;34m)\u001b[0m\u001b[0;34m\u001b[0m\u001b[0;34m\u001b[0m\u001b[0m\n\u001b[0m\u001b[1;32m   1484\u001b[0m             \u001b[0;32mreturn\u001b[0m \u001b[0mdf\u001b[0m\u001b[0;34m.\u001b[0m\u001b[0mset_index\u001b[0m\u001b[0;34m(\u001b[0m\u001b[0mself\u001b[0m\u001b[0;34m[\u001b[0m\u001b[0mindex\u001b[0m\u001b[0;34m]\u001b[0m\u001b[0;34m)\u001b[0m\u001b[0;34m\u001b[0m\u001b[0;34m\u001b[0m\u001b[0m\n\u001b[1;32m   1485\u001b[0m         \u001b[0;31m# Otherwise\u001b[0m\u001b[0;34m\u001b[0m\u001b[0;34m\u001b[0m\u001b[0;34m\u001b[0m\u001b[0m\n",
      "\u001b[0;32m~/anaconda3/envs/liukai/lib/python3.6/site-packages/cudf/core/dataframe.py\u001b[0m in \u001b[0;36m_drop_column\u001b[0;34m(self, name)\u001b[0m\n\u001b[1;32m   1775\u001b[0m         \"\"\"\n\u001b[1;32m   1776\u001b[0m         \u001b[0;32mif\u001b[0m \u001b[0mname\u001b[0m \u001b[0;32mnot\u001b[0m \u001b[0;32min\u001b[0m \u001b[0mself\u001b[0m\u001b[0;34m.\u001b[0m\u001b[0m_data\u001b[0m\u001b[0;34m:\u001b[0m\u001b[0;34m\u001b[0m\u001b[0;34m\u001b[0m\u001b[0m\n\u001b[0;32m-> 1777\u001b[0;31m             \u001b[0;32mraise\u001b[0m \u001b[0mNameError\u001b[0m\u001b[0;34m(\u001b[0m\u001b[0;34m\"column {!r} does not exist\"\u001b[0m\u001b[0;34m.\u001b[0m\u001b[0mformat\u001b[0m\u001b[0;34m(\u001b[0m\u001b[0mname\u001b[0m\u001b[0;34m)\u001b[0m\u001b[0;34m)\u001b[0m\u001b[0;34m\u001b[0m\u001b[0;34m\u001b[0m\u001b[0m\n\u001b[0m\u001b[1;32m   1778\u001b[0m         \u001b[0;32mdel\u001b[0m \u001b[0mself\u001b[0m\u001b[0;34m.\u001b[0m\u001b[0m_data\u001b[0m\u001b[0;34m[\u001b[0m\u001b[0mname\u001b[0m\u001b[0;34m]\u001b[0m\u001b[0;34m\u001b[0m\u001b[0;34m\u001b[0m\u001b[0m\n\u001b[1;32m   1779\u001b[0m \u001b[0;34m\u001b[0m\u001b[0m\n",
      "\u001b[0;31mNameError\u001b[0m: column 'DEPARTMENT' does not exist"
     ],
     "ename": "NameError",
     "evalue": "column 'DEPARTMENT' does not exist",
     "output_type": "error"
    }
   ],
   "source": [
    "max_dept_sal = max_dept_sal.set_index('DEPARTMENT')\n",
    "employee = employee.set_index('DEPARTMENT')\n"
   ],
   "metadata": {
    "collapsed": false,
    "pycharm": {
     "name": "#%%\n",
     "is_executing": false
    }
   }
  },
  {
   "cell_type": "code",
   "execution_count": 64,
   "outputs": [
    {
     "data": {
      "text/plain": "Empty DataFrame\nColumns: [UNIQUE_ID, POSITION_TITLE, BASE_SALARY, RACE, EMPLOYMENT_TYPE, GENDER, EMPLOYMENT_STATUS, HIRE_DATE, JOB_DATE, MAX_DEPT_SALARY]\nIndex: []",
      "text/html": "<div>\n<style scoped>\n    .dataframe tbody tr th:only-of-type {\n        vertical-align: middle;\n    }\n\n    .dataframe tbody tr th {\n        vertical-align: top;\n    }\n\n    .dataframe thead th {\n        text-align: right;\n    }\n</style>\n<table border=\"1\" class=\"dataframe\">\n  <thead>\n    <tr style=\"text-align: right;\">\n      <th></th>\n      <th>UNIQUE_ID</th>\n      <th>POSITION_TITLE</th>\n      <th>BASE_SALARY</th>\n      <th>RACE</th>\n      <th>EMPLOYMENT_TYPE</th>\n      <th>GENDER</th>\n      <th>EMPLOYMENT_STATUS</th>\n      <th>HIRE_DATE</th>\n      <th>JOB_DATE</th>\n      <th>MAX_DEPT_SALARY</th>\n    </tr>\n    <tr>\n      <th>DEPARTMENT</th>\n      <th></th>\n      <th></th>\n      <th></th>\n      <th></th>\n      <th></th>\n      <th></th>\n      <th></th>\n      <th></th>\n      <th></th>\n      <th></th>\n    </tr>\n  </thead>\n  <tbody>\n  </tbody>\n</table>\n</div>"
     },
     "metadata": {},
     "output_type": "execute_result",
     "execution_count": 64
    }
   ],
   "source": [
    "#这是pandas代码这个是OK的\n",
    "mds = max_dept_sal.to_pandas()\n",
    "ee = employee.to_pandas()\n",
    "ee['MAX_DEPT_SALARY'] = mds['BASE_SALARY']\n",
    "ee.head()\n",
    "ee.query('BASE_SALARY>MAX_DEPT_SALARY')"
   ],
   "metadata": {
    "collapsed": false,
    "pycharm": {
     "name": "#%%\n",
     "is_executing": false
    }
   }
  },
  {
   "cell_type": "code",
   "execution_count": 60,
   "outputs": [
    {
     "data": {
      "text/plain": "                             BASE_SALARY\nDEPARTMENT                              \nAdmn. & Regulatory Affairs      140416.0\nCity Controller's Office         64251.0\nCity Council                        null\nConvention and Entertainment     38397.0\nDept of Neighborhoods (DON)      89221.0",
      "text/html": "<div>\n<style scoped>\n    .dataframe tbody tr th:only-of-type {\n        vertical-align: middle;\n    }\n\n    .dataframe tbody tr th {\n        vertical-align: top;\n    }\n\n    .dataframe thead th {\n        text-align: right;\n    }\n</style>\n<table border=\"1\" class=\"dataframe\">\n  <thead>\n    <tr style=\"text-align: right;\">\n      <th></th>\n      <th>BASE_SALARY</th>\n    </tr>\n    <tr>\n      <th>DEPARTMENT</th>\n      <th></th>\n    </tr>\n  </thead>\n  <tbody>\n    <tr>\n      <th>Admn. &amp; Regulatory Affairs</th>\n      <td>140416.0</td>\n    </tr>\n    <tr>\n      <th>City Controller's Office</th>\n      <td>64251.0</td>\n    </tr>\n    <tr>\n      <th>City Council</th>\n      <td>null</td>\n    </tr>\n    <tr>\n      <th>Convention and Entertainment</th>\n      <td>38397.0</td>\n    </tr>\n    <tr>\n      <th>Dept of Neighborhoods (DON)</th>\n      <td>89221.0</td>\n    </tr>\n  </tbody>\n</table>\n</div>"
     },
     "metadata": {},
     "output_type": "execute_result",
     "execution_count": 60
    }
   ],
   "source": [
    "max_dept_sal.head()"
   ],
   "metadata": {
    "collapsed": false,
    "pycharm": {
     "name": "#%%\n",
     "is_executing": false
    }
   }
  },
  {
   "cell_type": "code",
   "execution_count": 55,
   "outputs": [
    {
     "traceback": [
      "\u001b[0;31m---------------------------------------------------------------------------\u001b[0m",
      "\u001b[0;31mValueError\u001b[0m                                Traceback (most recent call last)",
      "\u001b[0;32m<ipython-input-55-f3918be1da5d>\u001b[0m in \u001b[0;36m<module>\u001b[0;34m\u001b[0m\n\u001b[0;32m----> 1\u001b[0;31m \u001b[0memployee\u001b[0m\u001b[0;34m[\u001b[0m\u001b[0;34m'MAX_DEPT_SALARY'\u001b[0m\u001b[0;34m]\u001b[0m \u001b[0;34m=\u001b[0m \u001b[0mmax_dept_sal\u001b[0m\u001b[0;34m[\u001b[0m\u001b[0;34m'BASE_SALARY'\u001b[0m\u001b[0;34m]\u001b[0m\u001b[0;34m\u001b[0m\u001b[0;34m\u001b[0m\u001b[0m\n\u001b[0m\u001b[1;32m      2\u001b[0m \u001b[0memployee\u001b[0m\u001b[0;34m.\u001b[0m\u001b[0mhead\u001b[0m\u001b[0;34m(\u001b[0m\u001b[0;34m)\u001b[0m\u001b[0;34m\u001b[0m\u001b[0;34m\u001b[0m\u001b[0m\n\u001b[1;32m      3\u001b[0m \u001b[0;34m\u001b[0m\u001b[0m\n\u001b[1;32m      4\u001b[0m \u001b[0;34m\u001b[0m\u001b[0m\n",
      "\u001b[0;32m~/anaconda3/envs/liukai/lib/python3.6/site-packages/cudf/core/dataframe.py\u001b[0m in \u001b[0;36m__setitem__\u001b[0;34m(self, arg, value)\u001b[0m\n\u001b[1;32m    545\u001b[0m                     \u001b[0;31m# disc. with pandas here\u001b[0m\u001b[0;34m\u001b[0m\u001b[0;34m\u001b[0m\u001b[0;34m\u001b[0m\u001b[0m\n\u001b[1;32m    546\u001b[0m                     \u001b[0;31m# pandas raises key error here\u001b[0m\u001b[0;34m\u001b[0m\u001b[0;34m\u001b[0m\u001b[0;34m\u001b[0m\u001b[0m\n\u001b[0;32m--> 547\u001b[0;31m                     \u001b[0mself\u001b[0m\u001b[0;34m.\u001b[0m\u001b[0minsert\u001b[0m\u001b[0;34m(\u001b[0m\u001b[0mlen\u001b[0m\u001b[0;34m(\u001b[0m\u001b[0mself\u001b[0m\u001b[0;34m.\u001b[0m\u001b[0m_data\u001b[0m\u001b[0;34m)\u001b[0m\u001b[0;34m,\u001b[0m \u001b[0marg\u001b[0m\u001b[0;34m,\u001b[0m \u001b[0mvalue\u001b[0m\u001b[0;34m)\u001b[0m\u001b[0;34m\u001b[0m\u001b[0;34m\u001b[0m\u001b[0m\n\u001b[0m\u001b[1;32m    548\u001b[0m \u001b[0;34m\u001b[0m\u001b[0m\n\u001b[1;32m    549\u001b[0m         elif isinstance(\n",
      "\u001b[0;32m~/anaconda3/envs/liukai/lib/python3.6/site-packages/cudf/core/dataframe.py\u001b[0m in \u001b[0;36minsert\u001b[0;34m(self, loc, name, value)\u001b[0m\n\u001b[1;32m   1651\u001b[0m                         )\n\u001b[1;32m   1652\u001b[0m         \u001b[0;32melif\u001b[0m \u001b[0misinstance\u001b[0m\u001b[0;34m(\u001b[0m\u001b[0mvalue\u001b[0m\u001b[0;34m,\u001b[0m \u001b[0;34m(\u001b[0m\u001b[0mpd\u001b[0m\u001b[0;34m.\u001b[0m\u001b[0mSeries\u001b[0m\u001b[0;34m,\u001b[0m \u001b[0mSeries\u001b[0m\u001b[0;34m)\u001b[0m\u001b[0;34m)\u001b[0m\u001b[0;34m:\u001b[0m\u001b[0;34m\u001b[0m\u001b[0;34m\u001b[0m\u001b[0m\n\u001b[0;32m-> 1653\u001b[0;31m             \u001b[0mvalue\u001b[0m \u001b[0;34m=\u001b[0m \u001b[0mSeries\u001b[0m\u001b[0;34m(\u001b[0m\u001b[0mvalue\u001b[0m\u001b[0;34m)\u001b[0m\u001b[0;34m.\u001b[0m\u001b[0m_align_to_index\u001b[0m\u001b[0;34m(\u001b[0m\u001b[0mself\u001b[0m\u001b[0;34m.\u001b[0m\u001b[0m_index\u001b[0m\u001b[0;34m,\u001b[0m \u001b[0mhow\u001b[0m\u001b[0;34m=\u001b[0m\u001b[0;34m\"right\"\u001b[0m\u001b[0;34m)\u001b[0m\u001b[0;34m\u001b[0m\u001b[0;34m\u001b[0m\u001b[0m\n\u001b[0m\u001b[1;32m   1654\u001b[0m \u001b[0;34m\u001b[0m\u001b[0m\n\u001b[1;32m   1655\u001b[0m         \u001b[0mvalue\u001b[0m \u001b[0;34m=\u001b[0m \u001b[0mcolumn\u001b[0m\u001b[0;34m.\u001b[0m\u001b[0mas_column\u001b[0m\u001b[0;34m(\u001b[0m\u001b[0mvalue\u001b[0m\u001b[0;34m)\u001b[0m\u001b[0;34m\u001b[0m\u001b[0;34m\u001b[0m\u001b[0m\n",
      "\u001b[0;32m~/anaconda3/envs/liukai/lib/python3.6/site-packages/cudf/core/series.py\u001b[0m in \u001b[0;36m_align_to_index\u001b[0;34m(self, index, how, sort, allow_non_unique)\u001b[0m\n\u001b[1;32m   2629\u001b[0m                 \u001b[0mindex\u001b[0m\u001b[0;34m.\u001b[0m\u001b[0munique\u001b[0m\u001b[0;34m(\u001b[0m\u001b[0;34m)\u001b[0m\u001b[0;34m\u001b[0m\u001b[0;34m\u001b[0m\u001b[0m\n\u001b[1;32m   2630\u001b[0m             ):\n\u001b[0;32m-> 2631\u001b[0;31m                 \u001b[0;32mraise\u001b[0m \u001b[0mValueError\u001b[0m\u001b[0;34m(\u001b[0m\u001b[0;34m\"Cannot align indices with non-unique values\"\u001b[0m\u001b[0;34m)\u001b[0m\u001b[0;34m\u001b[0m\u001b[0;34m\u001b[0m\u001b[0m\n\u001b[0m\u001b[1;32m   2632\u001b[0m         \u001b[0mlhs\u001b[0m \u001b[0;34m=\u001b[0m \u001b[0mself\u001b[0m\u001b[0;34m.\u001b[0m\u001b[0mto_frame\u001b[0m\u001b[0;34m(\u001b[0m\u001b[0;36m0\u001b[0m\u001b[0;34m)\u001b[0m\u001b[0;34m\u001b[0m\u001b[0;34m\u001b[0m\u001b[0m\n\u001b[1;32m   2633\u001b[0m         \u001b[0mrhs\u001b[0m \u001b[0;34m=\u001b[0m \u001b[0mcudf\u001b[0m\u001b[0;34m.\u001b[0m\u001b[0mDataFrame\u001b[0m\u001b[0;34m(\u001b[0m\u001b[0mindex\u001b[0m\u001b[0;34m=\u001b[0m\u001b[0mas_index\u001b[0m\u001b[0;34m(\u001b[0m\u001b[0mindex\u001b[0m\u001b[0;34m)\u001b[0m\u001b[0;34m)\u001b[0m\u001b[0;34m\u001b[0m\u001b[0;34m\u001b[0m\u001b[0m\n",
      "\u001b[0;31mValueError\u001b[0m: Cannot align indices with non-unique values"
     ],
     "ename": "ValueError",
     "evalue": "Cannot align indices with non-unique values",
     "output_type": "error"
    }
   ],
   "source": [
    "#cudf就不行\n",
    "employee['MAX_DEPT_SALARY'] = max_dept_sal['BASE_SALARY']\n",
    "employee.head()\n",
    "\n"
   ],
   "metadata": {
    "collapsed": false,
    "pycharm": {
     "name": "#%%\n",
     "is_executing": false
    }
   }
  },
  {
   "cell_type": "code",
   "execution_count": 69,
   "outputs": [
    {
     "data": {
      "text/plain": "CITY                   object\nSTABBR                 object\nHBCU                  float64\nMENONLY               float64\nWOMENONLY             float64\nRELAFFIL                int64\nSATVRMID              float64\nSATMTMID              float64\nDISTANCEONLY          float64\nUGDS                  float64\nUGDS_WHITE            float64\nUGDS_BLACK            float64\nUGDS_HISP             float64\nUGDS_ASIAN            float64\nUGDS_AIAN             float64\nUGDS_NHPI             float64\nUGDS_2MOR             float64\nUGDS_NRA              float64\nUGDS_UNKN             float64\nPPTUG_EF              float64\nCURROPER                int64\nPCTPELL               float64\nPCTFLOAN              float64\nUG25ABV               float64\nMD_EARN_WNE_P10        object\nGRAD_DEBT_MDN_SUPP     object\ndtype: object"
     },
     "metadata": {},
     "output_type": "execute_result",
     "execution_count": 69
    }
   ],
   "source": [
    "#获取每个字段的最大值\n",
    "college = cudf.read_csv('../Data/college.csv',index_col='INSTNM')\n",
    "college.dtypes\n",
    "\n"
   ],
   "metadata": {
    "collapsed": false,
    "pycharm": {
     "name": "#%%\n",
     "is_executing": false
    }
   }
  },
  {
   "cell_type": "code",
   "execution_count": 70,
   "outputs": [
    {
     "data": {
      "text/plain": "Alabama A & M University                                  33888.0\nUniversity of Alabama at Birmingham                       21941.5\nAmridge University                                        23370.0\nUniversity of Alabama in Huntsville                       24097.0\nAlabama State University                                  33118.5\n                                                           ...   \nSAE Institute of Technology  San Francisco                 9500.0\nRasmussen College - Overland Park                         21163.0\nNational Personal Training Institute of Cleveland          6333.0\nBay Area Medical Academy - San Jose Satellite Location       null\nExcel Learning Center-San Antonio South                   12125.0\nName: GRAD_DEBT_MDN_SUPP, Length: 7535, dtype: float64"
     },
     "metadata": {},
     "output_type": "execute_result",
     "execution_count": 70
    }
   ],
   "source": [
    "#可以看到有一些非数字的字段，我们需要处理\n",
    "college.MD_EARN_WNE_P10.head()\n",
    "#这些其实是数字，转化一下\n",
    "cols = ['MD_EARN_WNE_P10','GRAD_DEBT_MDN_SUPP']\n",
    "college = college.to_pandas()\n",
    "for col in cols:\n",
    "    college[col] = pd.to_numeric(college[col],errors='coerce')\n",
    "college = cudf.from_pandas(college)\n"
   ],
   "metadata": {
    "collapsed": false,
    "pycharm": {
     "name": "#%%\n",
     "is_executing": false
    }
   }
  },
  {
   "cell_type": "code",
   "execution_count": 71,
   "outputs": [
    {
     "data": {
      "text/plain": "MD_EARN_WNE_P10       float64\nGRAD_DEBT_MDN_SUPP    float64\ndtype: object"
     },
     "metadata": {},
     "output_type": "execute_result",
     "execution_count": 71
    }
   ],
   "source": [
    "#现在ok了\n",
    "college.dtypes.loc[cols]\n"
   ],
   "metadata": {
    "collapsed": false,
    "pycharm": {
     "name": "#%%\n",
     "is_executing": false
    }
   }
  },
  {
   "cell_type": "code",
   "execution_count": 73,
   "outputs": [
    {
     "data": {
      "text/plain": "                                     HBCU  MENONLY  WOMENONLY  RELAFFIL  \\\nINSTNM                                                                    \nAlabama A & M University              1.0      0.0        0.0         0   \nUniversity of Alabama at Birmingham   0.0      0.0        0.0         0   \nAmridge University                    0.0      0.0        0.0         1   \nUniversity of Alabama in Huntsville   0.0      0.0        0.0         0   \nAlabama State University              1.0      0.0        0.0         0   \n\n                                    SATVRMID SATMTMID  DISTANCEONLY     UGDS  \\\nINSTNM                                                                         \nAlabama A & M University               424.0    420.0           0.0   4206.0   \nUniversity of Alabama at Birmingham    570.0    565.0           0.0  11383.0   \nAmridge University                      null     null           1.0    291.0   \nUniversity of Alabama in Huntsville    595.0    590.0           0.0   5451.0   \nAlabama State University               425.0    430.0           0.0   4811.0   \n\n                                     UGDS_WHITE  UGDS_BLACK  ...  UGDS_2MOR  \\\nINSTNM                                                       ...              \nAlabama A & M University                 0.0333      0.9353  ...     0.0000   \nUniversity of Alabama at Birmingham      0.5922      0.2600  ...     0.0368   \nAmridge University                       0.2990      0.4192  ...     0.0000   \nUniversity of Alabama in Huntsville      0.6988      0.1255  ...     0.0172   \nAlabama State University                 0.0158      0.9208  ...     0.0098   \n\n                                     UGDS_NRA  UGDS_UNKN  PPTUG_EF  CURROPER  \\\nINSTNM                                                                         \nAlabama A & M University               0.0059     0.0138    0.0656         1   \nUniversity of Alabama at Birmingham    0.0179     0.0100    0.2607         1   \nAmridge University                     0.0000     0.2715    0.4536         1   \nUniversity of Alabama in Huntsville    0.0332     0.0350    0.2146         1   \nAlabama State University               0.0243     0.0137    0.0892         1   \n\n                                     PCTPELL  PCTFLOAN  UG25ABV  \\\nINSTNM                                                            \nAlabama A & M University              0.7356    0.8284   0.1049   \nUniversity of Alabama at Birmingham   0.3460    0.5214   0.2422   \nAmridge University                    0.6801    0.7795   0.8540   \nUniversity of Alabama in Huntsville   0.3072    0.4596   0.2640   \nAlabama State University              0.7347    0.7554   0.1270   \n\n                                     MD_EARN_WNE_P10  GRAD_DEBT_MDN_SUPP  \nINSTNM                                                                    \nAlabama A & M University                     30300.0             33888.0  \nUniversity of Alabama at Birmingham          39700.0             21941.5  \nAmridge University                           40100.0             23370.0  \nUniversity of Alabama in Huntsville          45500.0             24097.0  \nAlabama State University                     26600.0             33118.5  \n\n[5 rows x 24 columns]",
      "text/html": "<div>\n<style scoped>\n    .dataframe tbody tr th:only-of-type {\n        vertical-align: middle;\n    }\n\n    .dataframe tbody tr th {\n        vertical-align: top;\n    }\n\n    .dataframe thead th {\n        text-align: right;\n    }\n</style>\n<table border=\"1\" class=\"dataframe\">\n  <thead>\n    <tr style=\"text-align: right;\">\n      <th></th>\n      <th>HBCU</th>\n      <th>MENONLY</th>\n      <th>WOMENONLY</th>\n      <th>RELAFFIL</th>\n      <th>SATVRMID</th>\n      <th>SATMTMID</th>\n      <th>DISTANCEONLY</th>\n      <th>UGDS</th>\n      <th>UGDS_WHITE</th>\n      <th>UGDS_BLACK</th>\n      <th>...</th>\n      <th>UGDS_2MOR</th>\n      <th>UGDS_NRA</th>\n      <th>UGDS_UNKN</th>\n      <th>PPTUG_EF</th>\n      <th>CURROPER</th>\n      <th>PCTPELL</th>\n      <th>PCTFLOAN</th>\n      <th>UG25ABV</th>\n      <th>MD_EARN_WNE_P10</th>\n      <th>GRAD_DEBT_MDN_SUPP</th>\n    </tr>\n    <tr>\n      <th>INSTNM</th>\n      <th></th>\n      <th></th>\n      <th></th>\n      <th></th>\n      <th></th>\n      <th></th>\n      <th></th>\n      <th></th>\n      <th></th>\n      <th></th>\n      <th></th>\n      <th></th>\n      <th></th>\n      <th></th>\n      <th></th>\n      <th></th>\n      <th></th>\n      <th></th>\n      <th></th>\n      <th></th>\n      <th></th>\n    </tr>\n  </thead>\n  <tbody>\n    <tr>\n      <th>Alabama A &amp; M University</th>\n      <td>1.0</td>\n      <td>0.0</td>\n      <td>0.0</td>\n      <td>0</td>\n      <td>424.0</td>\n      <td>420.0</td>\n      <td>0.0</td>\n      <td>4206.0</td>\n      <td>0.0333</td>\n      <td>0.9353</td>\n      <td>...</td>\n      <td>0.0000</td>\n      <td>0.0059</td>\n      <td>0.0138</td>\n      <td>0.0656</td>\n      <td>1</td>\n      <td>0.7356</td>\n      <td>0.8284</td>\n      <td>0.1049</td>\n      <td>30300.0</td>\n      <td>33888.0</td>\n    </tr>\n    <tr>\n      <th>University of Alabama at Birmingham</th>\n      <td>0.0</td>\n      <td>0.0</td>\n      <td>0.0</td>\n      <td>0</td>\n      <td>570.0</td>\n      <td>565.0</td>\n      <td>0.0</td>\n      <td>11383.0</td>\n      <td>0.5922</td>\n      <td>0.2600</td>\n      <td>...</td>\n      <td>0.0368</td>\n      <td>0.0179</td>\n      <td>0.0100</td>\n      <td>0.2607</td>\n      <td>1</td>\n      <td>0.3460</td>\n      <td>0.5214</td>\n      <td>0.2422</td>\n      <td>39700.0</td>\n      <td>21941.5</td>\n    </tr>\n    <tr>\n      <th>Amridge University</th>\n      <td>0.0</td>\n      <td>0.0</td>\n      <td>0.0</td>\n      <td>1</td>\n      <td>null</td>\n      <td>null</td>\n      <td>1.0</td>\n      <td>291.0</td>\n      <td>0.2990</td>\n      <td>0.4192</td>\n      <td>...</td>\n      <td>0.0000</td>\n      <td>0.0000</td>\n      <td>0.2715</td>\n      <td>0.4536</td>\n      <td>1</td>\n      <td>0.6801</td>\n      <td>0.7795</td>\n      <td>0.8540</td>\n      <td>40100.0</td>\n      <td>23370.0</td>\n    </tr>\n    <tr>\n      <th>University of Alabama in Huntsville</th>\n      <td>0.0</td>\n      <td>0.0</td>\n      <td>0.0</td>\n      <td>0</td>\n      <td>595.0</td>\n      <td>590.0</td>\n      <td>0.0</td>\n      <td>5451.0</td>\n      <td>0.6988</td>\n      <td>0.1255</td>\n      <td>...</td>\n      <td>0.0172</td>\n      <td>0.0332</td>\n      <td>0.0350</td>\n      <td>0.2146</td>\n      <td>1</td>\n      <td>0.3072</td>\n      <td>0.4596</td>\n      <td>0.2640</td>\n      <td>45500.0</td>\n      <td>24097.0</td>\n    </tr>\n    <tr>\n      <th>Alabama State University</th>\n      <td>1.0</td>\n      <td>0.0</td>\n      <td>0.0</td>\n      <td>0</td>\n      <td>425.0</td>\n      <td>430.0</td>\n      <td>0.0</td>\n      <td>4811.0</td>\n      <td>0.0158</td>\n      <td>0.9208</td>\n      <td>...</td>\n      <td>0.0098</td>\n      <td>0.0243</td>\n      <td>0.0137</td>\n      <td>0.0892</td>\n      <td>1</td>\n      <td>0.7347</td>\n      <td>0.7554</td>\n      <td>0.1270</td>\n      <td>26600.0</td>\n      <td>33118.5</td>\n    </tr>\n  </tbody>\n</table>\n<p>5 rows × 24 columns</p>\n</div>"
     },
     "metadata": {},
     "output_type": "execute_result",
     "execution_count": 73
    }
   ],
   "source": [
    "#找到所有数字类型的数据\n",
    "import numpy as np\n",
    "college_n = college.select_dtypes(include=[np.number])\n",
    "college_n.head()\n",
    "\n"
   ],
   "metadata": {
    "collapsed": false,
    "pycharm": {
     "name": "#%%\n",
     "is_executing": false
    }
   }
  },
  {
   "cell_type": "code",
   "execution_count": 74,
   "outputs": [
    {
     "data": {
      "text/plain": "HBCU          True\nMENONLY       True\nWOMENONLY     True\nRELAFFIL      True\nSATVRMID     False\ndtype: bool"
     },
     "metadata": {},
     "output_type": "execute_result",
     "execution_count": 74
    }
   ],
   "source": [
    "#清除只有2个类型数字字段\n",
    "college_n_p = college_n.to_pandas()\n",
    "cri = college_n_p.nunique() == 2\n",
    "cri.head()\n"
   ],
   "metadata": {
    "collapsed": false,
    "pycharm": {
     "name": "#%%\n",
     "is_executing": false
    }
   }
  },
  {
   "cell_type": "code",
   "execution_count": 77,
   "outputs": [
    {
     "data": {
      "text/plain": "['HBCU', 'MENONLY', 'WOMENONLY', 'RELAFFIL', 'DISTANCEONLY', 'CURROPER']"
     },
     "metadata": {},
     "output_type": "execute_result",
     "execution_count": 77
    }
   ],
   "source": [
    "binary_cols = college_n.columns[cri].tolist()\n",
    "binary_cols\n"
   ],
   "metadata": {
    "collapsed": false,
    "pycharm": {
     "name": "#%%\n",
     "is_executing": false
    }
   }
  },
  {
   "cell_type": "code",
   "execution_count": 78,
   "outputs": [
    {
     "data": {
      "text/plain": "                                    SATVRMID SATMTMID     UGDS  UGDS_WHITE  \\\nINSTNM                                                                       \nAlabama A & M University               424.0    420.0   4206.0      0.0333   \nUniversity of Alabama at Birmingham    570.0    565.0  11383.0      0.5922   \nAmridge University                      null     null    291.0      0.2990   \nUniversity of Alabama in Huntsville    595.0    590.0   5451.0      0.6988   \nAlabama State University               425.0    430.0   4811.0      0.0158   \n\n                                     UGDS_BLACK  UGDS_HISP  UGDS_ASIAN  \\\nINSTNM                                                                   \nAlabama A & M University                 0.9353     0.0055      0.0019   \nUniversity of Alabama at Birmingham      0.2600     0.0283      0.0518   \nAmridge University                       0.4192     0.0069      0.0034   \nUniversity of Alabama in Huntsville      0.1255     0.0382      0.0376   \nAlabama State University                 0.9208     0.0121      0.0019   \n\n                                     UGDS_AIAN  UGDS_NHPI  UGDS_2MOR  \\\nINSTNM                                                                 \nAlabama A & M University                0.0024     0.0019     0.0000   \nUniversity of Alabama at Birmingham     0.0022     0.0007     0.0368   \nAmridge University                      0.0000     0.0000     0.0000   \nUniversity of Alabama in Huntsville     0.0143     0.0002     0.0172   \nAlabama State University                0.0010     0.0006     0.0098   \n\n                                     UGDS_NRA  UGDS_UNKN  PPTUG_EF  PCTPELL  \\\nINSTNM                                                                        \nAlabama A & M University               0.0059     0.0138    0.0656   0.7356   \nUniversity of Alabama at Birmingham    0.0179     0.0100    0.2607   0.3460   \nAmridge University                     0.0000     0.2715    0.4536   0.6801   \nUniversity of Alabama in Huntsville    0.0332     0.0350    0.2146   0.3072   \nAlabama State University               0.0243     0.0137    0.0892   0.7347   \n\n                                     PCTFLOAN  UG25ABV  MD_EARN_WNE_P10  \\\nINSTNM                                                                    \nAlabama A & M University               0.8284   0.1049          30300.0   \nUniversity of Alabama at Birmingham    0.5214   0.2422          39700.0   \nAmridge University                     0.7795   0.8540          40100.0   \nUniversity of Alabama in Huntsville    0.4596   0.2640          45500.0   \nAlabama State University               0.7554   0.1270          26600.0   \n\n                                     GRAD_DEBT_MDN_SUPP  \nINSTNM                                                   \nAlabama A & M University                        33888.0  \nUniversity of Alabama at Birmingham             21941.5  \nAmridge University                              23370.0  \nUniversity of Alabama in Huntsville             24097.0  \nAlabama State University                        33118.5  ",
      "text/html": "<div>\n<style scoped>\n    .dataframe tbody tr th:only-of-type {\n        vertical-align: middle;\n    }\n\n    .dataframe tbody tr th {\n        vertical-align: top;\n    }\n\n    .dataframe thead th {\n        text-align: right;\n    }\n</style>\n<table border=\"1\" class=\"dataframe\">\n  <thead>\n    <tr style=\"text-align: right;\">\n      <th></th>\n      <th>SATVRMID</th>\n      <th>SATMTMID</th>\n      <th>UGDS</th>\n      <th>UGDS_WHITE</th>\n      <th>UGDS_BLACK</th>\n      <th>UGDS_HISP</th>\n      <th>UGDS_ASIAN</th>\n      <th>UGDS_AIAN</th>\n      <th>UGDS_NHPI</th>\n      <th>UGDS_2MOR</th>\n      <th>UGDS_NRA</th>\n      <th>UGDS_UNKN</th>\n      <th>PPTUG_EF</th>\n      <th>PCTPELL</th>\n      <th>PCTFLOAN</th>\n      <th>UG25ABV</th>\n      <th>MD_EARN_WNE_P10</th>\n      <th>GRAD_DEBT_MDN_SUPP</th>\n    </tr>\n    <tr>\n      <th>INSTNM</th>\n      <th></th>\n      <th></th>\n      <th></th>\n      <th></th>\n      <th></th>\n      <th></th>\n      <th></th>\n      <th></th>\n      <th></th>\n      <th></th>\n      <th></th>\n      <th></th>\n      <th></th>\n      <th></th>\n      <th></th>\n      <th></th>\n      <th></th>\n      <th></th>\n    </tr>\n  </thead>\n  <tbody>\n    <tr>\n      <th>Alabama A &amp; M University</th>\n      <td>424.0</td>\n      <td>420.0</td>\n      <td>4206.0</td>\n      <td>0.0333</td>\n      <td>0.9353</td>\n      <td>0.0055</td>\n      <td>0.0019</td>\n      <td>0.0024</td>\n      <td>0.0019</td>\n      <td>0.0000</td>\n      <td>0.0059</td>\n      <td>0.0138</td>\n      <td>0.0656</td>\n      <td>0.7356</td>\n      <td>0.8284</td>\n      <td>0.1049</td>\n      <td>30300.0</td>\n      <td>33888.0</td>\n    </tr>\n    <tr>\n      <th>University of Alabama at Birmingham</th>\n      <td>570.0</td>\n      <td>565.0</td>\n      <td>11383.0</td>\n      <td>0.5922</td>\n      <td>0.2600</td>\n      <td>0.0283</td>\n      <td>0.0518</td>\n      <td>0.0022</td>\n      <td>0.0007</td>\n      <td>0.0368</td>\n      <td>0.0179</td>\n      <td>0.0100</td>\n      <td>0.2607</td>\n      <td>0.3460</td>\n      <td>0.5214</td>\n      <td>0.2422</td>\n      <td>39700.0</td>\n      <td>21941.5</td>\n    </tr>\n    <tr>\n      <th>Amridge University</th>\n      <td>null</td>\n      <td>null</td>\n      <td>291.0</td>\n      <td>0.2990</td>\n      <td>0.4192</td>\n      <td>0.0069</td>\n      <td>0.0034</td>\n      <td>0.0000</td>\n      <td>0.0000</td>\n      <td>0.0000</td>\n      <td>0.0000</td>\n      <td>0.2715</td>\n      <td>0.4536</td>\n      <td>0.6801</td>\n      <td>0.7795</td>\n      <td>0.8540</td>\n      <td>40100.0</td>\n      <td>23370.0</td>\n    </tr>\n    <tr>\n      <th>University of Alabama in Huntsville</th>\n      <td>595.0</td>\n      <td>590.0</td>\n      <td>5451.0</td>\n      <td>0.6988</td>\n      <td>0.1255</td>\n      <td>0.0382</td>\n      <td>0.0376</td>\n      <td>0.0143</td>\n      <td>0.0002</td>\n      <td>0.0172</td>\n      <td>0.0332</td>\n      <td>0.0350</td>\n      <td>0.2146</td>\n      <td>0.3072</td>\n      <td>0.4596</td>\n      <td>0.2640</td>\n      <td>45500.0</td>\n      <td>24097.0</td>\n    </tr>\n    <tr>\n      <th>Alabama State University</th>\n      <td>425.0</td>\n      <td>430.0</td>\n      <td>4811.0</td>\n      <td>0.0158</td>\n      <td>0.9208</td>\n      <td>0.0121</td>\n      <td>0.0019</td>\n      <td>0.0010</td>\n      <td>0.0006</td>\n      <td>0.0098</td>\n      <td>0.0243</td>\n      <td>0.0137</td>\n      <td>0.0892</td>\n      <td>0.7347</td>\n      <td>0.7554</td>\n      <td>0.1270</td>\n      <td>26600.0</td>\n      <td>33118.5</td>\n    </tr>\n  </tbody>\n</table>\n</div>"
     },
     "metadata": {},
     "output_type": "execute_result",
     "execution_count": 78
    }
   ],
   "source": [
    "college_n2 = college_n.drop(labels=binary_cols,axis='columns')\n",
    "college_n2.head()\n"
   ],
   "metadata": {
    "collapsed": false,
    "pycharm": {
     "name": "#%%\n",
     "is_executing": false
    }
   }
  },
  {
   "cell_type": "code",
   "execution_count": 81,
   "outputs": [
    {
     "data": {
      "text/plain": "SATVRMID                             California Institute of Technology\nSATMTMID                             California Institute of Technology\nUGDS                                      University of Phoenix-Arizona\nUGDS_WHITE                       Mr Leon's School of Hair Design-Moscow\nUGDS_BLACK                           Velvatex College of Beauty Culture\nUGDS_HISP                       Thunderbird School of Global Management\nUGDS_ASIAN                          Cosmopolitan Beauty and Tech School\nUGDS_AIAN                             Haskell Indian Nations University\nUGDS_NHPI                                       Palau Community College\nUGDS_2MOR                                                 LIU Brentwood\nUGDS_NRA               California University of Management and Sciences\nUGDS_UNKN             Le Cordon Bleu College of Culinary Arts-San Fr...\nPPTUG_EF                        Thunderbird School of Global Management\nPCTPELL                                        MTI Business College Inc\nPCTFLOAN                                         ABC Beauty College Inc\nUG25ABV                                  Dongguk University-Los Angeles\nMD_EARN_WNE_P10                            Medical College of Wisconsin\nGRAD_DEBT_MDN_SUPP           Southwest University of Visual Arts-Tucson\ndtype: object"
     },
     "metadata": {},
     "output_type": "execute_result",
     "execution_count": 81
    }
   ],
   "source": [
    "# 通过idxmanx方法找到每个字段的最大值，这里只能通过pandas操作\n",
    "college_n2_p = college_n2.to_pandas()\n",
    "max_cols = college_n2_p.idxmax()\n",
    "max_cols"
   ],
   "metadata": {
    "collapsed": false,
    "pycharm": {
     "name": "#%%\n",
     "is_executing": false
    }
   }
  },
  {
   "cell_type": "code",
   "execution_count": 82,
   "outputs": [
    {
     "data": {
      "text/plain": "array(['California Institute of Technology',\n       'University of Phoenix-Arizona',\n       \"Mr Leon's School of Hair Design-Moscow\",\n       'Velvatex College of Beauty Culture',\n       'Thunderbird School of Global Management',\n       'Cosmopolitan Beauty and Tech School',\n       'Haskell Indian Nations University', 'Palau Community College',\n       'LIU Brentwood',\n       'California University of Management and Sciences',\n       'Le Cordon Bleu College of Culinary Arts-San Francisco',\n       'MTI Business College Inc', 'ABC Beauty College Inc',\n       'Dongguk University-Los Angeles', 'Medical College of Wisconsin',\n       'Southwest University of Visual Arts-Tucson'], dtype=object)"
     },
     "metadata": {},
     "output_type": "execute_result",
     "execution_count": 82
    }
   ],
   "source": [
    "unique_max_cols = max_cols.unique()\n",
    "unique_max_cols\n"
   ],
   "metadata": {
    "collapsed": false,
    "pycharm": {
     "name": "#%%\n",
     "is_executing": false
    }
   }
  },
  {
   "cell_type": "code",
   "execution_count": 86,
   "outputs": [
    {
     "data": {
      "text/plain": "<pandas.io.formats.style.Styler at 0x7f4b1c58bba8>",
      "text/html": "<style  type=\"text/css\" >\n    #T_8cb22b6a_6fe3_11ea_95ad_9cb6d01f99f3row0_col0 {\n            background-color:  yellow;\n        }    #T_8cb22b6a_6fe3_11ea_95ad_9cb6d01f99f3row0_col1 {\n            background-color:  yellow;\n        }    #T_8cb22b6a_6fe3_11ea_95ad_9cb6d01f99f3row1_col2 {\n            background-color:  yellow;\n        }    #T_8cb22b6a_6fe3_11ea_95ad_9cb6d01f99f3row2_col3 {\n            background-color:  yellow;\n        }    #T_8cb22b6a_6fe3_11ea_95ad_9cb6d01f99f3row3_col4 {\n            background-color:  yellow;\n        }    #T_8cb22b6a_6fe3_11ea_95ad_9cb6d01f99f3row4_col5 {\n            background-color:  yellow;\n        }    #T_8cb22b6a_6fe3_11ea_95ad_9cb6d01f99f3row4_col12 {\n            background-color:  yellow;\n        }    #T_8cb22b6a_6fe3_11ea_95ad_9cb6d01f99f3row5_col6 {\n            background-color:  yellow;\n        }    #T_8cb22b6a_6fe3_11ea_95ad_9cb6d01f99f3row6_col7 {\n            background-color:  yellow;\n        }    #T_8cb22b6a_6fe3_11ea_95ad_9cb6d01f99f3row7_col8 {\n            background-color:  yellow;\n        }    #T_8cb22b6a_6fe3_11ea_95ad_9cb6d01f99f3row8_col9 {\n            background-color:  yellow;\n        }    #T_8cb22b6a_6fe3_11ea_95ad_9cb6d01f99f3row9_col10 {\n            background-color:  yellow;\n        }    #T_8cb22b6a_6fe3_11ea_95ad_9cb6d01f99f3row10_col11 {\n            background-color:  yellow;\n        }    #T_8cb22b6a_6fe3_11ea_95ad_9cb6d01f99f3row11_col13 {\n            background-color:  yellow;\n        }    #T_8cb22b6a_6fe3_11ea_95ad_9cb6d01f99f3row11_col14 {\n            background-color:  yellow;\n        }    #T_8cb22b6a_6fe3_11ea_95ad_9cb6d01f99f3row12_col14 {\n            background-color:  yellow;\n        }    #T_8cb22b6a_6fe3_11ea_95ad_9cb6d01f99f3row13_col15 {\n            background-color:  yellow;\n        }    #T_8cb22b6a_6fe3_11ea_95ad_9cb6d01f99f3row14_col16 {\n            background-color:  yellow;\n        }    #T_8cb22b6a_6fe3_11ea_95ad_9cb6d01f99f3row15_col17 {\n            background-color:  yellow;\n        }</style><table id=\"T_8cb22b6a_6fe3_11ea_95ad_9cb6d01f99f3\" ><thead>    <tr>        <th class=\"blank level0\" ></th>        <th class=\"col_heading level0 col0\" >SATVRMID</th>        <th class=\"col_heading level0 col1\" >SATMTMID</th>        <th class=\"col_heading level0 col2\" >UGDS</th>        <th class=\"col_heading level0 col3\" >UGDS_WHITE</th>        <th class=\"col_heading level0 col4\" >UGDS_BLACK</th>        <th class=\"col_heading level0 col5\" >UGDS_HISP</th>        <th class=\"col_heading level0 col6\" >UGDS_ASIAN</th>        <th class=\"col_heading level0 col7\" >UGDS_AIAN</th>        <th class=\"col_heading level0 col8\" >UGDS_NHPI</th>        <th class=\"col_heading level0 col9\" >UGDS_2MOR</th>        <th class=\"col_heading level0 col10\" >UGDS_NRA</th>        <th class=\"col_heading level0 col11\" >UGDS_UNKN</th>        <th class=\"col_heading level0 col12\" >PPTUG_EF</th>        <th class=\"col_heading level0 col13\" >PCTPELL</th>        <th class=\"col_heading level0 col14\" >PCTFLOAN</th>        <th class=\"col_heading level0 col15\" >UG25ABV</th>        <th class=\"col_heading level0 col16\" >MD_EARN_WNE_P10</th>        <th class=\"col_heading level0 col17\" >GRAD_DEBT_MDN_SUPP</th>    </tr>    <tr>        <th class=\"index_name level0\" >INSTNM</th>        <th class=\"blank\" ></th>        <th class=\"blank\" ></th>        <th class=\"blank\" ></th>        <th class=\"blank\" ></th>        <th class=\"blank\" ></th>        <th class=\"blank\" ></th>        <th class=\"blank\" ></th>        <th class=\"blank\" ></th>        <th class=\"blank\" ></th>        <th class=\"blank\" ></th>        <th class=\"blank\" ></th>        <th class=\"blank\" ></th>        <th class=\"blank\" ></th>        <th class=\"blank\" ></th>        <th class=\"blank\" ></th>        <th class=\"blank\" ></th>        <th class=\"blank\" ></th>        <th class=\"blank\" ></th>    </tr></thead><tbody>\n                <tr>\n                        <th id=\"T_8cb22b6a_6fe3_11ea_95ad_9cb6d01f99f3level0_row0\" class=\"row_heading level0 row0\" >California Institute of Technology</th>\n                        <td id=\"T_8cb22b6a_6fe3_11ea_95ad_9cb6d01f99f3row0_col0\" class=\"data row0 col0\" >765</td>\n                        <td id=\"T_8cb22b6a_6fe3_11ea_95ad_9cb6d01f99f3row0_col1\" class=\"data row0 col1\" >785</td>\n                        <td id=\"T_8cb22b6a_6fe3_11ea_95ad_9cb6d01f99f3row0_col2\" class=\"data row0 col2\" >983</td>\n                        <td id=\"T_8cb22b6a_6fe3_11ea_95ad_9cb6d01f99f3row0_col3\" class=\"data row0 col3\" >0.2787</td>\n                        <td id=\"T_8cb22b6a_6fe3_11ea_95ad_9cb6d01f99f3row0_col4\" class=\"data row0 col4\" >0.0153</td>\n                        <td id=\"T_8cb22b6a_6fe3_11ea_95ad_9cb6d01f99f3row0_col5\" class=\"data row0 col5\" >0.1221</td>\n                        <td id=\"T_8cb22b6a_6fe3_11ea_95ad_9cb6d01f99f3row0_col6\" class=\"data row0 col6\" >0.4385</td>\n                        <td id=\"T_8cb22b6a_6fe3_11ea_95ad_9cb6d01f99f3row0_col7\" class=\"data row0 col7\" >0.001</td>\n                        <td id=\"T_8cb22b6a_6fe3_11ea_95ad_9cb6d01f99f3row0_col8\" class=\"data row0 col8\" >0</td>\n                        <td id=\"T_8cb22b6a_6fe3_11ea_95ad_9cb6d01f99f3row0_col9\" class=\"data row0 col9\" >0.057</td>\n                        <td id=\"T_8cb22b6a_6fe3_11ea_95ad_9cb6d01f99f3row0_col10\" class=\"data row0 col10\" >0.0875</td>\n                        <td id=\"T_8cb22b6a_6fe3_11ea_95ad_9cb6d01f99f3row0_col11\" class=\"data row0 col11\" >0</td>\n                        <td id=\"T_8cb22b6a_6fe3_11ea_95ad_9cb6d01f99f3row0_col12\" class=\"data row0 col12\" >0</td>\n                        <td id=\"T_8cb22b6a_6fe3_11ea_95ad_9cb6d01f99f3row0_col13\" class=\"data row0 col13\" >0.1126</td>\n                        <td id=\"T_8cb22b6a_6fe3_11ea_95ad_9cb6d01f99f3row0_col14\" class=\"data row0 col14\" >0.2303</td>\n                        <td id=\"T_8cb22b6a_6fe3_11ea_95ad_9cb6d01f99f3row0_col15\" class=\"data row0 col15\" >0.0082</td>\n                        <td id=\"T_8cb22b6a_6fe3_11ea_95ad_9cb6d01f99f3row0_col16\" class=\"data row0 col16\" >77800</td>\n                        <td id=\"T_8cb22b6a_6fe3_11ea_95ad_9cb6d01f99f3row0_col17\" class=\"data row0 col17\" >11812.5</td>\n            </tr>\n            <tr>\n                        <th id=\"T_8cb22b6a_6fe3_11ea_95ad_9cb6d01f99f3level0_row1\" class=\"row_heading level0 row1\" >University of Phoenix-Arizona</th>\n                        <td id=\"T_8cb22b6a_6fe3_11ea_95ad_9cb6d01f99f3row1_col0\" class=\"data row1 col0\" >nan</td>\n                        <td id=\"T_8cb22b6a_6fe3_11ea_95ad_9cb6d01f99f3row1_col1\" class=\"data row1 col1\" >nan</td>\n                        <td id=\"T_8cb22b6a_6fe3_11ea_95ad_9cb6d01f99f3row1_col2\" class=\"data row1 col2\" >151558</td>\n                        <td id=\"T_8cb22b6a_6fe3_11ea_95ad_9cb6d01f99f3row1_col3\" class=\"data row1 col3\" >0.3098</td>\n                        <td id=\"T_8cb22b6a_6fe3_11ea_95ad_9cb6d01f99f3row1_col4\" class=\"data row1 col4\" >0.1555</td>\n                        <td id=\"T_8cb22b6a_6fe3_11ea_95ad_9cb6d01f99f3row1_col5\" class=\"data row1 col5\" >0.076</td>\n                        <td id=\"T_8cb22b6a_6fe3_11ea_95ad_9cb6d01f99f3row1_col6\" class=\"data row1 col6\" >0.0082</td>\n                        <td id=\"T_8cb22b6a_6fe3_11ea_95ad_9cb6d01f99f3row1_col7\" class=\"data row1 col7\" >0.0042</td>\n                        <td id=\"T_8cb22b6a_6fe3_11ea_95ad_9cb6d01f99f3row1_col8\" class=\"data row1 col8\" >0.005</td>\n                        <td id=\"T_8cb22b6a_6fe3_11ea_95ad_9cb6d01f99f3row1_col9\" class=\"data row1 col9\" >0.1131</td>\n                        <td id=\"T_8cb22b6a_6fe3_11ea_95ad_9cb6d01f99f3row1_col10\" class=\"data row1 col10\" >0.0131</td>\n                        <td id=\"T_8cb22b6a_6fe3_11ea_95ad_9cb6d01f99f3row1_col11\" class=\"data row1 col11\" >0.3152</td>\n                        <td id=\"T_8cb22b6a_6fe3_11ea_95ad_9cb6d01f99f3row1_col12\" class=\"data row1 col12\" >0</td>\n                        <td id=\"T_8cb22b6a_6fe3_11ea_95ad_9cb6d01f99f3row1_col13\" class=\"data row1 col13\" >0.6009</td>\n                        <td id=\"T_8cb22b6a_6fe3_11ea_95ad_9cb6d01f99f3row1_col14\" class=\"data row1 col14\" >0.592</td>\n                        <td id=\"T_8cb22b6a_6fe3_11ea_95ad_9cb6d01f99f3row1_col15\" class=\"data row1 col15\" >nan</td>\n                        <td id=\"T_8cb22b6a_6fe3_11ea_95ad_9cb6d01f99f3row1_col16\" class=\"data row1 col16\" >nan</td>\n                        <td id=\"T_8cb22b6a_6fe3_11ea_95ad_9cb6d01f99f3row1_col17\" class=\"data row1 col17\" >33000</td>\n            </tr>\n            <tr>\n                        <th id=\"T_8cb22b6a_6fe3_11ea_95ad_9cb6d01f99f3level0_row2\" class=\"row_heading level0 row2\" >Mr Leon's School of Hair Design-Moscow</th>\n                        <td id=\"T_8cb22b6a_6fe3_11ea_95ad_9cb6d01f99f3row2_col0\" class=\"data row2 col0\" >nan</td>\n                        <td id=\"T_8cb22b6a_6fe3_11ea_95ad_9cb6d01f99f3row2_col1\" class=\"data row2 col1\" >nan</td>\n                        <td id=\"T_8cb22b6a_6fe3_11ea_95ad_9cb6d01f99f3row2_col2\" class=\"data row2 col2\" >16</td>\n                        <td id=\"T_8cb22b6a_6fe3_11ea_95ad_9cb6d01f99f3row2_col3\" class=\"data row2 col3\" >1</td>\n                        <td id=\"T_8cb22b6a_6fe3_11ea_95ad_9cb6d01f99f3row2_col4\" class=\"data row2 col4\" >0</td>\n                        <td id=\"T_8cb22b6a_6fe3_11ea_95ad_9cb6d01f99f3row2_col5\" class=\"data row2 col5\" >0</td>\n                        <td id=\"T_8cb22b6a_6fe3_11ea_95ad_9cb6d01f99f3row2_col6\" class=\"data row2 col6\" >0</td>\n                        <td id=\"T_8cb22b6a_6fe3_11ea_95ad_9cb6d01f99f3row2_col7\" class=\"data row2 col7\" >0</td>\n                        <td id=\"T_8cb22b6a_6fe3_11ea_95ad_9cb6d01f99f3row2_col8\" class=\"data row2 col8\" >0</td>\n                        <td id=\"T_8cb22b6a_6fe3_11ea_95ad_9cb6d01f99f3row2_col9\" class=\"data row2 col9\" >0</td>\n                        <td id=\"T_8cb22b6a_6fe3_11ea_95ad_9cb6d01f99f3row2_col10\" class=\"data row2 col10\" >0</td>\n                        <td id=\"T_8cb22b6a_6fe3_11ea_95ad_9cb6d01f99f3row2_col11\" class=\"data row2 col11\" >0</td>\n                        <td id=\"T_8cb22b6a_6fe3_11ea_95ad_9cb6d01f99f3row2_col12\" class=\"data row2 col12\" >0</td>\n                        <td id=\"T_8cb22b6a_6fe3_11ea_95ad_9cb6d01f99f3row2_col13\" class=\"data row2 col13\" >0.625</td>\n                        <td id=\"T_8cb22b6a_6fe3_11ea_95ad_9cb6d01f99f3row2_col14\" class=\"data row2 col14\" >0.625</td>\n                        <td id=\"T_8cb22b6a_6fe3_11ea_95ad_9cb6d01f99f3row2_col15\" class=\"data row2 col15\" >0.2</td>\n                        <td id=\"T_8cb22b6a_6fe3_11ea_95ad_9cb6d01f99f3row2_col16\" class=\"data row2 col16\" >nan</td>\n                        <td id=\"T_8cb22b6a_6fe3_11ea_95ad_9cb6d01f99f3row2_col17\" class=\"data row2 col17\" >15710</td>\n            </tr>\n            <tr>\n                        <th id=\"T_8cb22b6a_6fe3_11ea_95ad_9cb6d01f99f3level0_row3\" class=\"row_heading level0 row3\" >Velvatex College of Beauty Culture</th>\n                        <td id=\"T_8cb22b6a_6fe3_11ea_95ad_9cb6d01f99f3row3_col0\" class=\"data row3 col0\" >nan</td>\n                        <td id=\"T_8cb22b6a_6fe3_11ea_95ad_9cb6d01f99f3row3_col1\" class=\"data row3 col1\" >nan</td>\n                        <td id=\"T_8cb22b6a_6fe3_11ea_95ad_9cb6d01f99f3row3_col2\" class=\"data row3 col2\" >25</td>\n                        <td id=\"T_8cb22b6a_6fe3_11ea_95ad_9cb6d01f99f3row3_col3\" class=\"data row3 col3\" >0</td>\n                        <td id=\"T_8cb22b6a_6fe3_11ea_95ad_9cb6d01f99f3row3_col4\" class=\"data row3 col4\" >1</td>\n                        <td id=\"T_8cb22b6a_6fe3_11ea_95ad_9cb6d01f99f3row3_col5\" class=\"data row3 col5\" >0</td>\n                        <td id=\"T_8cb22b6a_6fe3_11ea_95ad_9cb6d01f99f3row3_col6\" class=\"data row3 col6\" >0</td>\n                        <td id=\"T_8cb22b6a_6fe3_11ea_95ad_9cb6d01f99f3row3_col7\" class=\"data row3 col7\" >0</td>\n                        <td id=\"T_8cb22b6a_6fe3_11ea_95ad_9cb6d01f99f3row3_col8\" class=\"data row3 col8\" >0</td>\n                        <td id=\"T_8cb22b6a_6fe3_11ea_95ad_9cb6d01f99f3row3_col9\" class=\"data row3 col9\" >0</td>\n                        <td id=\"T_8cb22b6a_6fe3_11ea_95ad_9cb6d01f99f3row3_col10\" class=\"data row3 col10\" >0</td>\n                        <td id=\"T_8cb22b6a_6fe3_11ea_95ad_9cb6d01f99f3row3_col11\" class=\"data row3 col11\" >0</td>\n                        <td id=\"T_8cb22b6a_6fe3_11ea_95ad_9cb6d01f99f3row3_col12\" class=\"data row3 col12\" >0.2</td>\n                        <td id=\"T_8cb22b6a_6fe3_11ea_95ad_9cb6d01f99f3row3_col13\" class=\"data row3 col13\" >0.7692</td>\n                        <td id=\"T_8cb22b6a_6fe3_11ea_95ad_9cb6d01f99f3row3_col14\" class=\"data row3 col14\" >0</td>\n                        <td id=\"T_8cb22b6a_6fe3_11ea_95ad_9cb6d01f99f3row3_col15\" class=\"data row3 col15\" >0.52</td>\n                        <td id=\"T_8cb22b6a_6fe3_11ea_95ad_9cb6d01f99f3row3_col16\" class=\"data row3 col16\" >nan</td>\n                        <td id=\"T_8cb22b6a_6fe3_11ea_95ad_9cb6d01f99f3row3_col17\" class=\"data row3 col17\" >nan</td>\n            </tr>\n            <tr>\n                        <th id=\"T_8cb22b6a_6fe3_11ea_95ad_9cb6d01f99f3level0_row4\" class=\"row_heading level0 row4\" >Thunderbird School of Global Management</th>\n                        <td id=\"T_8cb22b6a_6fe3_11ea_95ad_9cb6d01f99f3row4_col0\" class=\"data row4 col0\" >nan</td>\n                        <td id=\"T_8cb22b6a_6fe3_11ea_95ad_9cb6d01f99f3row4_col1\" class=\"data row4 col1\" >nan</td>\n                        <td id=\"T_8cb22b6a_6fe3_11ea_95ad_9cb6d01f99f3row4_col2\" class=\"data row4 col2\" >1</td>\n                        <td id=\"T_8cb22b6a_6fe3_11ea_95ad_9cb6d01f99f3row4_col3\" class=\"data row4 col3\" >0</td>\n                        <td id=\"T_8cb22b6a_6fe3_11ea_95ad_9cb6d01f99f3row4_col4\" class=\"data row4 col4\" >0</td>\n                        <td id=\"T_8cb22b6a_6fe3_11ea_95ad_9cb6d01f99f3row4_col5\" class=\"data row4 col5\" >1</td>\n                        <td id=\"T_8cb22b6a_6fe3_11ea_95ad_9cb6d01f99f3row4_col6\" class=\"data row4 col6\" >0</td>\n                        <td id=\"T_8cb22b6a_6fe3_11ea_95ad_9cb6d01f99f3row4_col7\" class=\"data row4 col7\" >0</td>\n                        <td id=\"T_8cb22b6a_6fe3_11ea_95ad_9cb6d01f99f3row4_col8\" class=\"data row4 col8\" >0</td>\n                        <td id=\"T_8cb22b6a_6fe3_11ea_95ad_9cb6d01f99f3row4_col9\" class=\"data row4 col9\" >0</td>\n                        <td id=\"T_8cb22b6a_6fe3_11ea_95ad_9cb6d01f99f3row4_col10\" class=\"data row4 col10\" >0</td>\n                        <td id=\"T_8cb22b6a_6fe3_11ea_95ad_9cb6d01f99f3row4_col11\" class=\"data row4 col11\" >0</td>\n                        <td id=\"T_8cb22b6a_6fe3_11ea_95ad_9cb6d01f99f3row4_col12\" class=\"data row4 col12\" >1</td>\n                        <td id=\"T_8cb22b6a_6fe3_11ea_95ad_9cb6d01f99f3row4_col13\" class=\"data row4 col13\" >0</td>\n                        <td id=\"T_8cb22b6a_6fe3_11ea_95ad_9cb6d01f99f3row4_col14\" class=\"data row4 col14\" >0</td>\n                        <td id=\"T_8cb22b6a_6fe3_11ea_95ad_9cb6d01f99f3row4_col15\" class=\"data row4 col15\" >0</td>\n                        <td id=\"T_8cb22b6a_6fe3_11ea_95ad_9cb6d01f99f3row4_col16\" class=\"data row4 col16\" >118900</td>\n                        <td id=\"T_8cb22b6a_6fe3_11ea_95ad_9cb6d01f99f3row4_col17\" class=\"data row4 col17\" >nan</td>\n            </tr>\n            <tr>\n                        <th id=\"T_8cb22b6a_6fe3_11ea_95ad_9cb6d01f99f3level0_row5\" class=\"row_heading level0 row5\" >Cosmopolitan Beauty and Tech School</th>\n                        <td id=\"T_8cb22b6a_6fe3_11ea_95ad_9cb6d01f99f3row5_col0\" class=\"data row5 col0\" >nan</td>\n                        <td id=\"T_8cb22b6a_6fe3_11ea_95ad_9cb6d01f99f3row5_col1\" class=\"data row5 col1\" >nan</td>\n                        <td id=\"T_8cb22b6a_6fe3_11ea_95ad_9cb6d01f99f3row5_col2\" class=\"data row5 col2\" >110</td>\n                        <td id=\"T_8cb22b6a_6fe3_11ea_95ad_9cb6d01f99f3row5_col3\" class=\"data row5 col3\" >0.0091</td>\n                        <td id=\"T_8cb22b6a_6fe3_11ea_95ad_9cb6d01f99f3row5_col4\" class=\"data row5 col4\" >0</td>\n                        <td id=\"T_8cb22b6a_6fe3_11ea_95ad_9cb6d01f99f3row5_col5\" class=\"data row5 col5\" >0.0182</td>\n                        <td id=\"T_8cb22b6a_6fe3_11ea_95ad_9cb6d01f99f3row5_col6\" class=\"data row5 col6\" >0.9727</td>\n                        <td id=\"T_8cb22b6a_6fe3_11ea_95ad_9cb6d01f99f3row5_col7\" class=\"data row5 col7\" >0</td>\n                        <td id=\"T_8cb22b6a_6fe3_11ea_95ad_9cb6d01f99f3row5_col8\" class=\"data row5 col8\" >0</td>\n                        <td id=\"T_8cb22b6a_6fe3_11ea_95ad_9cb6d01f99f3row5_col9\" class=\"data row5 col9\" >0</td>\n                        <td id=\"T_8cb22b6a_6fe3_11ea_95ad_9cb6d01f99f3row5_col10\" class=\"data row5 col10\" >0</td>\n                        <td id=\"T_8cb22b6a_6fe3_11ea_95ad_9cb6d01f99f3row5_col11\" class=\"data row5 col11\" >0</td>\n                        <td id=\"T_8cb22b6a_6fe3_11ea_95ad_9cb6d01f99f3row5_col12\" class=\"data row5 col12\" >0.3182</td>\n                        <td id=\"T_8cb22b6a_6fe3_11ea_95ad_9cb6d01f99f3row5_col13\" class=\"data row5 col13\" >0.7761</td>\n                        <td id=\"T_8cb22b6a_6fe3_11ea_95ad_9cb6d01f99f3row5_col14\" class=\"data row5 col14\" >0.1244</td>\n                        <td id=\"T_8cb22b6a_6fe3_11ea_95ad_9cb6d01f99f3row5_col15\" class=\"data row5 col15\" >0.9545</td>\n                        <td id=\"T_8cb22b6a_6fe3_11ea_95ad_9cb6d01f99f3row5_col16\" class=\"data row5 col16\" >nan</td>\n                        <td id=\"T_8cb22b6a_6fe3_11ea_95ad_9cb6d01f99f3row5_col17\" class=\"data row5 col17\" >nan</td>\n            </tr>\n            <tr>\n                        <th id=\"T_8cb22b6a_6fe3_11ea_95ad_9cb6d01f99f3level0_row6\" class=\"row_heading level0 row6\" >Haskell Indian Nations University</th>\n                        <td id=\"T_8cb22b6a_6fe3_11ea_95ad_9cb6d01f99f3row6_col0\" class=\"data row6 col0\" >430</td>\n                        <td id=\"T_8cb22b6a_6fe3_11ea_95ad_9cb6d01f99f3row6_col1\" class=\"data row6 col1\" >440</td>\n                        <td id=\"T_8cb22b6a_6fe3_11ea_95ad_9cb6d01f99f3row6_col2\" class=\"data row6 col2\" >805</td>\n                        <td id=\"T_8cb22b6a_6fe3_11ea_95ad_9cb6d01f99f3row6_col3\" class=\"data row6 col3\" >0</td>\n                        <td id=\"T_8cb22b6a_6fe3_11ea_95ad_9cb6d01f99f3row6_col4\" class=\"data row6 col4\" >0</td>\n                        <td id=\"T_8cb22b6a_6fe3_11ea_95ad_9cb6d01f99f3row6_col5\" class=\"data row6 col5\" >0</td>\n                        <td id=\"T_8cb22b6a_6fe3_11ea_95ad_9cb6d01f99f3row6_col6\" class=\"data row6 col6\" >0</td>\n                        <td id=\"T_8cb22b6a_6fe3_11ea_95ad_9cb6d01f99f3row6_col7\" class=\"data row6 col7\" >1</td>\n                        <td id=\"T_8cb22b6a_6fe3_11ea_95ad_9cb6d01f99f3row6_col8\" class=\"data row6 col8\" >0</td>\n                        <td id=\"T_8cb22b6a_6fe3_11ea_95ad_9cb6d01f99f3row6_col9\" class=\"data row6 col9\" >0</td>\n                        <td id=\"T_8cb22b6a_6fe3_11ea_95ad_9cb6d01f99f3row6_col10\" class=\"data row6 col10\" >0</td>\n                        <td id=\"T_8cb22b6a_6fe3_11ea_95ad_9cb6d01f99f3row6_col11\" class=\"data row6 col11\" >0</td>\n                        <td id=\"T_8cb22b6a_6fe3_11ea_95ad_9cb6d01f99f3row6_col12\" class=\"data row6 col12\" >0.0224</td>\n                        <td id=\"T_8cb22b6a_6fe3_11ea_95ad_9cb6d01f99f3row6_col13\" class=\"data row6 col13\" >0.8396</td>\n                        <td id=\"T_8cb22b6a_6fe3_11ea_95ad_9cb6d01f99f3row6_col14\" class=\"data row6 col14\" >0</td>\n                        <td id=\"T_8cb22b6a_6fe3_11ea_95ad_9cb6d01f99f3row6_col15\" class=\"data row6 col15\" >0.2089</td>\n                        <td id=\"T_8cb22b6a_6fe3_11ea_95ad_9cb6d01f99f3row6_col16\" class=\"data row6 col16\" >22800</td>\n                        <td id=\"T_8cb22b6a_6fe3_11ea_95ad_9cb6d01f99f3row6_col17\" class=\"data row6 col17\" >nan</td>\n            </tr>\n            <tr>\n                        <th id=\"T_8cb22b6a_6fe3_11ea_95ad_9cb6d01f99f3level0_row7\" class=\"row_heading level0 row7\" >Palau Community College</th>\n                        <td id=\"T_8cb22b6a_6fe3_11ea_95ad_9cb6d01f99f3row7_col0\" class=\"data row7 col0\" >nan</td>\n                        <td id=\"T_8cb22b6a_6fe3_11ea_95ad_9cb6d01f99f3row7_col1\" class=\"data row7 col1\" >nan</td>\n                        <td id=\"T_8cb22b6a_6fe3_11ea_95ad_9cb6d01f99f3row7_col2\" class=\"data row7 col2\" >602</td>\n                        <td id=\"T_8cb22b6a_6fe3_11ea_95ad_9cb6d01f99f3row7_col3\" class=\"data row7 col3\" >0</td>\n                        <td id=\"T_8cb22b6a_6fe3_11ea_95ad_9cb6d01f99f3row7_col4\" class=\"data row7 col4\" >0.0017</td>\n                        <td id=\"T_8cb22b6a_6fe3_11ea_95ad_9cb6d01f99f3row7_col5\" class=\"data row7 col5\" >0</td>\n                        <td id=\"T_8cb22b6a_6fe3_11ea_95ad_9cb6d01f99f3row7_col6\" class=\"data row7 col6\" >0</td>\n                        <td id=\"T_8cb22b6a_6fe3_11ea_95ad_9cb6d01f99f3row7_col7\" class=\"data row7 col7\" >0</td>\n                        <td id=\"T_8cb22b6a_6fe3_11ea_95ad_9cb6d01f99f3row7_col8\" class=\"data row7 col8\" >0.9983</td>\n                        <td id=\"T_8cb22b6a_6fe3_11ea_95ad_9cb6d01f99f3row7_col9\" class=\"data row7 col9\" >0</td>\n                        <td id=\"T_8cb22b6a_6fe3_11ea_95ad_9cb6d01f99f3row7_col10\" class=\"data row7 col10\" >0</td>\n                        <td id=\"T_8cb22b6a_6fe3_11ea_95ad_9cb6d01f99f3row7_col11\" class=\"data row7 col11\" >0</td>\n                        <td id=\"T_8cb22b6a_6fe3_11ea_95ad_9cb6d01f99f3row7_col12\" class=\"data row7 col12\" >0.3887</td>\n                        <td id=\"T_8cb22b6a_6fe3_11ea_95ad_9cb6d01f99f3row7_col13\" class=\"data row7 col13\" >0.856</td>\n                        <td id=\"T_8cb22b6a_6fe3_11ea_95ad_9cb6d01f99f3row7_col14\" class=\"data row7 col14\" >0</td>\n                        <td id=\"T_8cb22b6a_6fe3_11ea_95ad_9cb6d01f99f3row7_col15\" class=\"data row7 col15\" >0.2616</td>\n                        <td id=\"T_8cb22b6a_6fe3_11ea_95ad_9cb6d01f99f3row7_col16\" class=\"data row7 col16\" >24700</td>\n                        <td id=\"T_8cb22b6a_6fe3_11ea_95ad_9cb6d01f99f3row7_col17\" class=\"data row7 col17\" >nan</td>\n            </tr>\n            <tr>\n                        <th id=\"T_8cb22b6a_6fe3_11ea_95ad_9cb6d01f99f3level0_row8\" class=\"row_heading level0 row8\" >LIU Brentwood</th>\n                        <td id=\"T_8cb22b6a_6fe3_11ea_95ad_9cb6d01f99f3row8_col0\" class=\"data row8 col0\" >nan</td>\n                        <td id=\"T_8cb22b6a_6fe3_11ea_95ad_9cb6d01f99f3row8_col1\" class=\"data row8 col1\" >nan</td>\n                        <td id=\"T_8cb22b6a_6fe3_11ea_95ad_9cb6d01f99f3row8_col2\" class=\"data row8 col2\" >15</td>\n                        <td id=\"T_8cb22b6a_6fe3_11ea_95ad_9cb6d01f99f3row8_col3\" class=\"data row8 col3\" >0</td>\n                        <td id=\"T_8cb22b6a_6fe3_11ea_95ad_9cb6d01f99f3row8_col4\" class=\"data row8 col4\" >0.1333</td>\n                        <td id=\"T_8cb22b6a_6fe3_11ea_95ad_9cb6d01f99f3row8_col5\" class=\"data row8 col5\" >0.2667</td>\n                        <td id=\"T_8cb22b6a_6fe3_11ea_95ad_9cb6d01f99f3row8_col6\" class=\"data row8 col6\" >0</td>\n                        <td id=\"T_8cb22b6a_6fe3_11ea_95ad_9cb6d01f99f3row8_col7\" class=\"data row8 col7\" >0</td>\n                        <td id=\"T_8cb22b6a_6fe3_11ea_95ad_9cb6d01f99f3row8_col8\" class=\"data row8 col8\" >0</td>\n                        <td id=\"T_8cb22b6a_6fe3_11ea_95ad_9cb6d01f99f3row8_col9\" class=\"data row8 col9\" >0.5333</td>\n                        <td id=\"T_8cb22b6a_6fe3_11ea_95ad_9cb6d01f99f3row8_col10\" class=\"data row8 col10\" >0</td>\n                        <td id=\"T_8cb22b6a_6fe3_11ea_95ad_9cb6d01f99f3row8_col11\" class=\"data row8 col11\" >0.0667</td>\n                        <td id=\"T_8cb22b6a_6fe3_11ea_95ad_9cb6d01f99f3row8_col12\" class=\"data row8 col12\" >0.4</td>\n                        <td id=\"T_8cb22b6a_6fe3_11ea_95ad_9cb6d01f99f3row8_col13\" class=\"data row8 col13\" >0.5652</td>\n                        <td id=\"T_8cb22b6a_6fe3_11ea_95ad_9cb6d01f99f3row8_col14\" class=\"data row8 col14\" >0.7826</td>\n                        <td id=\"T_8cb22b6a_6fe3_11ea_95ad_9cb6d01f99f3row8_col15\" class=\"data row8 col15\" >0.7826</td>\n                        <td id=\"T_8cb22b6a_6fe3_11ea_95ad_9cb6d01f99f3row8_col16\" class=\"data row8 col16\" >44600</td>\n                        <td id=\"T_8cb22b6a_6fe3_11ea_95ad_9cb6d01f99f3row8_col17\" class=\"data row8 col17\" >25499</td>\n            </tr>\n            <tr>\n                        <th id=\"T_8cb22b6a_6fe3_11ea_95ad_9cb6d01f99f3level0_row9\" class=\"row_heading level0 row9\" >California University of Management and Sciences</th>\n                        <td id=\"T_8cb22b6a_6fe3_11ea_95ad_9cb6d01f99f3row9_col0\" class=\"data row9 col0\" >nan</td>\n                        <td id=\"T_8cb22b6a_6fe3_11ea_95ad_9cb6d01f99f3row9_col1\" class=\"data row9 col1\" >nan</td>\n                        <td id=\"T_8cb22b6a_6fe3_11ea_95ad_9cb6d01f99f3row9_col2\" class=\"data row9 col2\" >98</td>\n                        <td id=\"T_8cb22b6a_6fe3_11ea_95ad_9cb6d01f99f3row9_col3\" class=\"data row9 col3\" >0.0102</td>\n                        <td id=\"T_8cb22b6a_6fe3_11ea_95ad_9cb6d01f99f3row9_col4\" class=\"data row9 col4\" >0.0204</td>\n                        <td id=\"T_8cb22b6a_6fe3_11ea_95ad_9cb6d01f99f3row9_col5\" class=\"data row9 col5\" >0</td>\n                        <td id=\"T_8cb22b6a_6fe3_11ea_95ad_9cb6d01f99f3row9_col6\" class=\"data row9 col6\" >0.0408</td>\n                        <td id=\"T_8cb22b6a_6fe3_11ea_95ad_9cb6d01f99f3row9_col7\" class=\"data row9 col7\" >0</td>\n                        <td id=\"T_8cb22b6a_6fe3_11ea_95ad_9cb6d01f99f3row9_col8\" class=\"data row9 col8\" >0</td>\n                        <td id=\"T_8cb22b6a_6fe3_11ea_95ad_9cb6d01f99f3row9_col9\" class=\"data row9 col9\" >0</td>\n                        <td id=\"T_8cb22b6a_6fe3_11ea_95ad_9cb6d01f99f3row9_col10\" class=\"data row9 col10\" >0.9286</td>\n                        <td id=\"T_8cb22b6a_6fe3_11ea_95ad_9cb6d01f99f3row9_col11\" class=\"data row9 col11\" >0</td>\n                        <td id=\"T_8cb22b6a_6fe3_11ea_95ad_9cb6d01f99f3row9_col12\" class=\"data row9 col12\" >0</td>\n                        <td id=\"T_8cb22b6a_6fe3_11ea_95ad_9cb6d01f99f3row9_col13\" class=\"data row9 col13\" >0.0926</td>\n                        <td id=\"T_8cb22b6a_6fe3_11ea_95ad_9cb6d01f99f3row9_col14\" class=\"data row9 col14\" >0.0556</td>\n                        <td id=\"T_8cb22b6a_6fe3_11ea_95ad_9cb6d01f99f3row9_col15\" class=\"data row9 col15\" >0.6852</td>\n                        <td id=\"T_8cb22b6a_6fe3_11ea_95ad_9cb6d01f99f3row9_col16\" class=\"data row9 col16\" >nan</td>\n                        <td id=\"T_8cb22b6a_6fe3_11ea_95ad_9cb6d01f99f3row9_col17\" class=\"data row9 col17\" >nan</td>\n            </tr>\n            <tr>\n                        <th id=\"T_8cb22b6a_6fe3_11ea_95ad_9cb6d01f99f3level0_row10\" class=\"row_heading level0 row10\" >Le Cordon Bleu College of Culinary Arts-San Francisco</th>\n                        <td id=\"T_8cb22b6a_6fe3_11ea_95ad_9cb6d01f99f3row10_col0\" class=\"data row10 col0\" >nan</td>\n                        <td id=\"T_8cb22b6a_6fe3_11ea_95ad_9cb6d01f99f3row10_col1\" class=\"data row10 col1\" >nan</td>\n                        <td id=\"T_8cb22b6a_6fe3_11ea_95ad_9cb6d01f99f3row10_col2\" class=\"data row10 col2\" >442</td>\n                        <td id=\"T_8cb22b6a_6fe3_11ea_95ad_9cb6d01f99f3row10_col3\" class=\"data row10 col3\" >0.0317</td>\n                        <td id=\"T_8cb22b6a_6fe3_11ea_95ad_9cb6d01f99f3row10_col4\" class=\"data row10 col4\" >0.009</td>\n                        <td id=\"T_8cb22b6a_6fe3_11ea_95ad_9cb6d01f99f3row10_col5\" class=\"data row10 col5\" >0.0113</td>\n                        <td id=\"T_8cb22b6a_6fe3_11ea_95ad_9cb6d01f99f3row10_col6\" class=\"data row10 col6\" >0.0271</td>\n                        <td id=\"T_8cb22b6a_6fe3_11ea_95ad_9cb6d01f99f3row10_col7\" class=\"data row10 col7\" >0.0045</td>\n                        <td id=\"T_8cb22b6a_6fe3_11ea_95ad_9cb6d01f99f3row10_col8\" class=\"data row10 col8\" >0.0023</td>\n                        <td id=\"T_8cb22b6a_6fe3_11ea_95ad_9cb6d01f99f3row10_col9\" class=\"data row10 col9\" >0.0113</td>\n                        <td id=\"T_8cb22b6a_6fe3_11ea_95ad_9cb6d01f99f3row10_col10\" class=\"data row10 col10\" >0</td>\n                        <td id=\"T_8cb22b6a_6fe3_11ea_95ad_9cb6d01f99f3row10_col11\" class=\"data row10 col11\" >0.9027</td>\n                        <td id=\"T_8cb22b6a_6fe3_11ea_95ad_9cb6d01f99f3row10_col12\" class=\"data row10 col12\" >0</td>\n                        <td id=\"T_8cb22b6a_6fe3_11ea_95ad_9cb6d01f99f3row10_col13\" class=\"data row10 col13\" >0.3722</td>\n                        <td id=\"T_8cb22b6a_6fe3_11ea_95ad_9cb6d01f99f3row10_col14\" class=\"data row10 col14\" >0.5358</td>\n                        <td id=\"T_8cb22b6a_6fe3_11ea_95ad_9cb6d01f99f3row10_col15\" class=\"data row10 col15\" >0.544</td>\n                        <td id=\"T_8cb22b6a_6fe3_11ea_95ad_9cb6d01f99f3row10_col16\" class=\"data row10 col16\" >34000</td>\n                        <td id=\"T_8cb22b6a_6fe3_11ea_95ad_9cb6d01f99f3row10_col17\" class=\"data row10 col17\" >12931</td>\n            </tr>\n            <tr>\n                        <th id=\"T_8cb22b6a_6fe3_11ea_95ad_9cb6d01f99f3level0_row11\" class=\"row_heading level0 row11\" >MTI Business College Inc</th>\n                        <td id=\"T_8cb22b6a_6fe3_11ea_95ad_9cb6d01f99f3row11_col0\" class=\"data row11 col0\" >nan</td>\n                        <td id=\"T_8cb22b6a_6fe3_11ea_95ad_9cb6d01f99f3row11_col1\" class=\"data row11 col1\" >nan</td>\n                        <td id=\"T_8cb22b6a_6fe3_11ea_95ad_9cb6d01f99f3row11_col2\" class=\"data row11 col2\" >146</td>\n                        <td id=\"T_8cb22b6a_6fe3_11ea_95ad_9cb6d01f99f3row11_col3\" class=\"data row11 col3\" >0.2397</td>\n                        <td id=\"T_8cb22b6a_6fe3_11ea_95ad_9cb6d01f99f3row11_col4\" class=\"data row11 col4\" >0.5137</td>\n                        <td id=\"T_8cb22b6a_6fe3_11ea_95ad_9cb6d01f99f3row11_col5\" class=\"data row11 col5\" >0.1438</td>\n                        <td id=\"T_8cb22b6a_6fe3_11ea_95ad_9cb6d01f99f3row11_col6\" class=\"data row11 col6\" >0.0479</td>\n                        <td id=\"T_8cb22b6a_6fe3_11ea_95ad_9cb6d01f99f3row11_col7\" class=\"data row11 col7\" >0.0342</td>\n                        <td id=\"T_8cb22b6a_6fe3_11ea_95ad_9cb6d01f99f3row11_col8\" class=\"data row11 col8\" >0.0205</td>\n                        <td id=\"T_8cb22b6a_6fe3_11ea_95ad_9cb6d01f99f3row11_col9\" class=\"data row11 col9\" >0</td>\n                        <td id=\"T_8cb22b6a_6fe3_11ea_95ad_9cb6d01f99f3row11_col10\" class=\"data row11 col10\" >0</td>\n                        <td id=\"T_8cb22b6a_6fe3_11ea_95ad_9cb6d01f99f3row11_col11\" class=\"data row11 col11\" >0</td>\n                        <td id=\"T_8cb22b6a_6fe3_11ea_95ad_9cb6d01f99f3row11_col12\" class=\"data row11 col12\" >0</td>\n                        <td id=\"T_8cb22b6a_6fe3_11ea_95ad_9cb6d01f99f3row11_col13\" class=\"data row11 col13\" >1</td>\n                        <td id=\"T_8cb22b6a_6fe3_11ea_95ad_9cb6d01f99f3row11_col14\" class=\"data row11 col14\" >1</td>\n                        <td id=\"T_8cb22b6a_6fe3_11ea_95ad_9cb6d01f99f3row11_col15\" class=\"data row11 col15\" >0.3986</td>\n                        <td id=\"T_8cb22b6a_6fe3_11ea_95ad_9cb6d01f99f3row11_col16\" class=\"data row11 col16\" >23000</td>\n                        <td id=\"T_8cb22b6a_6fe3_11ea_95ad_9cb6d01f99f3row11_col17\" class=\"data row11 col17\" >9500</td>\n            </tr>\n            <tr>\n                        <th id=\"T_8cb22b6a_6fe3_11ea_95ad_9cb6d01f99f3level0_row12\" class=\"row_heading level0 row12\" >ABC Beauty College Inc</th>\n                        <td id=\"T_8cb22b6a_6fe3_11ea_95ad_9cb6d01f99f3row12_col0\" class=\"data row12 col0\" >nan</td>\n                        <td id=\"T_8cb22b6a_6fe3_11ea_95ad_9cb6d01f99f3row12_col1\" class=\"data row12 col1\" >nan</td>\n                        <td id=\"T_8cb22b6a_6fe3_11ea_95ad_9cb6d01f99f3row12_col2\" class=\"data row12 col2\" >38</td>\n                        <td id=\"T_8cb22b6a_6fe3_11ea_95ad_9cb6d01f99f3row12_col3\" class=\"data row12 col3\" >0.2895</td>\n                        <td id=\"T_8cb22b6a_6fe3_11ea_95ad_9cb6d01f99f3row12_col4\" class=\"data row12 col4\" >0.6579</td>\n                        <td id=\"T_8cb22b6a_6fe3_11ea_95ad_9cb6d01f99f3row12_col5\" class=\"data row12 col5\" >0.0526</td>\n                        <td id=\"T_8cb22b6a_6fe3_11ea_95ad_9cb6d01f99f3row12_col6\" class=\"data row12 col6\" >0</td>\n                        <td id=\"T_8cb22b6a_6fe3_11ea_95ad_9cb6d01f99f3row12_col7\" class=\"data row12 col7\" >0</td>\n                        <td id=\"T_8cb22b6a_6fe3_11ea_95ad_9cb6d01f99f3row12_col8\" class=\"data row12 col8\" >0</td>\n                        <td id=\"T_8cb22b6a_6fe3_11ea_95ad_9cb6d01f99f3row12_col9\" class=\"data row12 col9\" >0</td>\n                        <td id=\"T_8cb22b6a_6fe3_11ea_95ad_9cb6d01f99f3row12_col10\" class=\"data row12 col10\" >0</td>\n                        <td id=\"T_8cb22b6a_6fe3_11ea_95ad_9cb6d01f99f3row12_col11\" class=\"data row12 col11\" >0</td>\n                        <td id=\"T_8cb22b6a_6fe3_11ea_95ad_9cb6d01f99f3row12_col12\" class=\"data row12 col12\" >0.2105</td>\n                        <td id=\"T_8cb22b6a_6fe3_11ea_95ad_9cb6d01f99f3row12_col13\" class=\"data row12 col13\" >0.9815</td>\n                        <td id=\"T_8cb22b6a_6fe3_11ea_95ad_9cb6d01f99f3row12_col14\" class=\"data row12 col14\" >1</td>\n                        <td id=\"T_8cb22b6a_6fe3_11ea_95ad_9cb6d01f99f3row12_col15\" class=\"data row12 col15\" >0.4688</td>\n                        <td id=\"T_8cb22b6a_6fe3_11ea_95ad_9cb6d01f99f3row12_col16\" class=\"data row12 col16\" >nan</td>\n                        <td id=\"T_8cb22b6a_6fe3_11ea_95ad_9cb6d01f99f3row12_col17\" class=\"data row12 col17\" >16500</td>\n            </tr>\n            <tr>\n                        <th id=\"T_8cb22b6a_6fe3_11ea_95ad_9cb6d01f99f3level0_row13\" class=\"row_heading level0 row13\" >Dongguk University-Los Angeles</th>\n                        <td id=\"T_8cb22b6a_6fe3_11ea_95ad_9cb6d01f99f3row13_col0\" class=\"data row13 col0\" >nan</td>\n                        <td id=\"T_8cb22b6a_6fe3_11ea_95ad_9cb6d01f99f3row13_col1\" class=\"data row13 col1\" >nan</td>\n                        <td id=\"T_8cb22b6a_6fe3_11ea_95ad_9cb6d01f99f3row13_col2\" class=\"data row13 col2\" >20</td>\n                        <td id=\"T_8cb22b6a_6fe3_11ea_95ad_9cb6d01f99f3row13_col3\" class=\"data row13 col3\" >0.35</td>\n                        <td id=\"T_8cb22b6a_6fe3_11ea_95ad_9cb6d01f99f3row13_col4\" class=\"data row13 col4\" >0</td>\n                        <td id=\"T_8cb22b6a_6fe3_11ea_95ad_9cb6d01f99f3row13_col5\" class=\"data row13 col5\" >0.15</td>\n                        <td id=\"T_8cb22b6a_6fe3_11ea_95ad_9cb6d01f99f3row13_col6\" class=\"data row13 col6\" >0.5</td>\n                        <td id=\"T_8cb22b6a_6fe3_11ea_95ad_9cb6d01f99f3row13_col7\" class=\"data row13 col7\" >0</td>\n                        <td id=\"T_8cb22b6a_6fe3_11ea_95ad_9cb6d01f99f3row13_col8\" class=\"data row13 col8\" >0</td>\n                        <td id=\"T_8cb22b6a_6fe3_11ea_95ad_9cb6d01f99f3row13_col9\" class=\"data row13 col9\" >0</td>\n                        <td id=\"T_8cb22b6a_6fe3_11ea_95ad_9cb6d01f99f3row13_col10\" class=\"data row13 col10\" >0</td>\n                        <td id=\"T_8cb22b6a_6fe3_11ea_95ad_9cb6d01f99f3row13_col11\" class=\"data row13 col11\" >0</td>\n                        <td id=\"T_8cb22b6a_6fe3_11ea_95ad_9cb6d01f99f3row13_col12\" class=\"data row13 col12\" >nan</td>\n                        <td id=\"T_8cb22b6a_6fe3_11ea_95ad_9cb6d01f99f3row13_col13\" class=\"data row13 col13\" >nan</td>\n                        <td id=\"T_8cb22b6a_6fe3_11ea_95ad_9cb6d01f99f3row13_col14\" class=\"data row13 col14\" >nan</td>\n                        <td id=\"T_8cb22b6a_6fe3_11ea_95ad_9cb6d01f99f3row13_col15\" class=\"data row13 col15\" >1</td>\n                        <td id=\"T_8cb22b6a_6fe3_11ea_95ad_9cb6d01f99f3row13_col16\" class=\"data row13 col16\" >nan</td>\n                        <td id=\"T_8cb22b6a_6fe3_11ea_95ad_9cb6d01f99f3row13_col17\" class=\"data row13 col17\" >nan</td>\n            </tr>\n            <tr>\n                        <th id=\"T_8cb22b6a_6fe3_11ea_95ad_9cb6d01f99f3level0_row14\" class=\"row_heading level0 row14\" >Medical College of Wisconsin</th>\n                        <td id=\"T_8cb22b6a_6fe3_11ea_95ad_9cb6d01f99f3row14_col0\" class=\"data row14 col0\" >nan</td>\n                        <td id=\"T_8cb22b6a_6fe3_11ea_95ad_9cb6d01f99f3row14_col1\" class=\"data row14 col1\" >nan</td>\n                        <td id=\"T_8cb22b6a_6fe3_11ea_95ad_9cb6d01f99f3row14_col2\" class=\"data row14 col2\" >nan</td>\n                        <td id=\"T_8cb22b6a_6fe3_11ea_95ad_9cb6d01f99f3row14_col3\" class=\"data row14 col3\" >nan</td>\n                        <td id=\"T_8cb22b6a_6fe3_11ea_95ad_9cb6d01f99f3row14_col4\" class=\"data row14 col4\" >nan</td>\n                        <td id=\"T_8cb22b6a_6fe3_11ea_95ad_9cb6d01f99f3row14_col5\" class=\"data row14 col5\" >nan</td>\n                        <td id=\"T_8cb22b6a_6fe3_11ea_95ad_9cb6d01f99f3row14_col6\" class=\"data row14 col6\" >nan</td>\n                        <td id=\"T_8cb22b6a_6fe3_11ea_95ad_9cb6d01f99f3row14_col7\" class=\"data row14 col7\" >nan</td>\n                        <td id=\"T_8cb22b6a_6fe3_11ea_95ad_9cb6d01f99f3row14_col8\" class=\"data row14 col8\" >nan</td>\n                        <td id=\"T_8cb22b6a_6fe3_11ea_95ad_9cb6d01f99f3row14_col9\" class=\"data row14 col9\" >nan</td>\n                        <td id=\"T_8cb22b6a_6fe3_11ea_95ad_9cb6d01f99f3row14_col10\" class=\"data row14 col10\" >nan</td>\n                        <td id=\"T_8cb22b6a_6fe3_11ea_95ad_9cb6d01f99f3row14_col11\" class=\"data row14 col11\" >nan</td>\n                        <td id=\"T_8cb22b6a_6fe3_11ea_95ad_9cb6d01f99f3row14_col12\" class=\"data row14 col12\" >nan</td>\n                        <td id=\"T_8cb22b6a_6fe3_11ea_95ad_9cb6d01f99f3row14_col13\" class=\"data row14 col13\" >nan</td>\n                        <td id=\"T_8cb22b6a_6fe3_11ea_95ad_9cb6d01f99f3row14_col14\" class=\"data row14 col14\" >nan</td>\n                        <td id=\"T_8cb22b6a_6fe3_11ea_95ad_9cb6d01f99f3row14_col15\" class=\"data row14 col15\" >nan</td>\n                        <td id=\"T_8cb22b6a_6fe3_11ea_95ad_9cb6d01f99f3row14_col16\" class=\"data row14 col16\" >233100</td>\n                        <td id=\"T_8cb22b6a_6fe3_11ea_95ad_9cb6d01f99f3row14_col17\" class=\"data row14 col17\" >nan</td>\n            </tr>\n            <tr>\n                        <th id=\"T_8cb22b6a_6fe3_11ea_95ad_9cb6d01f99f3level0_row15\" class=\"row_heading level0 row15\" >Southwest University of Visual Arts-Tucson</th>\n                        <td id=\"T_8cb22b6a_6fe3_11ea_95ad_9cb6d01f99f3row15_col0\" class=\"data row15 col0\" >nan</td>\n                        <td id=\"T_8cb22b6a_6fe3_11ea_95ad_9cb6d01f99f3row15_col1\" class=\"data row15 col1\" >nan</td>\n                        <td id=\"T_8cb22b6a_6fe3_11ea_95ad_9cb6d01f99f3row15_col2\" class=\"data row15 col2\" >161</td>\n                        <td id=\"T_8cb22b6a_6fe3_11ea_95ad_9cb6d01f99f3row15_col3\" class=\"data row15 col3\" >0.4534</td>\n                        <td id=\"T_8cb22b6a_6fe3_11ea_95ad_9cb6d01f99f3row15_col4\" class=\"data row15 col4\" >0.0435</td>\n                        <td id=\"T_8cb22b6a_6fe3_11ea_95ad_9cb6d01f99f3row15_col5\" class=\"data row15 col5\" >0.3168</td>\n                        <td id=\"T_8cb22b6a_6fe3_11ea_95ad_9cb6d01f99f3row15_col6\" class=\"data row15 col6\" >0.0062</td>\n                        <td id=\"T_8cb22b6a_6fe3_11ea_95ad_9cb6d01f99f3row15_col7\" class=\"data row15 col7\" >0.0311</td>\n                        <td id=\"T_8cb22b6a_6fe3_11ea_95ad_9cb6d01f99f3row15_col8\" class=\"data row15 col8\" >0</td>\n                        <td id=\"T_8cb22b6a_6fe3_11ea_95ad_9cb6d01f99f3row15_col9\" class=\"data row15 col9\" >0</td>\n                        <td id=\"T_8cb22b6a_6fe3_11ea_95ad_9cb6d01f99f3row15_col10\" class=\"data row15 col10\" >0</td>\n                        <td id=\"T_8cb22b6a_6fe3_11ea_95ad_9cb6d01f99f3row15_col11\" class=\"data row15 col11\" >0.1491</td>\n                        <td id=\"T_8cb22b6a_6fe3_11ea_95ad_9cb6d01f99f3row15_col12\" class=\"data row15 col12\" >0.2795</td>\n                        <td id=\"T_8cb22b6a_6fe3_11ea_95ad_9cb6d01f99f3row15_col13\" class=\"data row15 col13\" >0.4469</td>\n                        <td id=\"T_8cb22b6a_6fe3_11ea_95ad_9cb6d01f99f3row15_col14\" class=\"data row15 col14\" >0.4292</td>\n                        <td id=\"T_8cb22b6a_6fe3_11ea_95ad_9cb6d01f99f3row15_col15\" class=\"data row15 col15\" >0.8657</td>\n                        <td id=\"T_8cb22b6a_6fe3_11ea_95ad_9cb6d01f99f3row15_col16\" class=\"data row15 col16\" >27200</td>\n                        <td id=\"T_8cb22b6a_6fe3_11ea_95ad_9cb6d01f99f3row15_col17\" class=\"data row15 col17\" >49750</td>\n            </tr>\n    </tbody></table>"
     },
     "metadata": {},
     "output_type": "execute_result",
     "execution_count": 86
    }
   ],
   "source": [
    "college_n2_p.loc[unique_max_cols].style.highlight_max()\n",
    "\n"
   ],
   "metadata": {
    "collapsed": false,
    "pycharm": {
     "name": "#%%\n",
     "is_executing": false
    }
   }
  }
 ],
 "metadata": {
  "kernelspec": {
   "display_name": "Python 3",
   "language": "python",
   "name": "python3"
  },
  "language_info": {
   "codemirror_mode": {
    "name": "ipython",
    "version": 2
   },
   "file_extension": ".py",
   "mimetype": "text/x-python",
   "name": "python",
   "nbconvert_exporter": "python",
   "pygments_lexer": "ipython2",
   "version": "2.7.6"
  },
  "pycharm": {
   "stem_cell": {
    "cell_type": "raw",
    "source": [],
    "metadata": {
     "collapsed": false
    }
   }
  }
 },
 "nbformat": 4,
 "nbformat_minor": 0
}