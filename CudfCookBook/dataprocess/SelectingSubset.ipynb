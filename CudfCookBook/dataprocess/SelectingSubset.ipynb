{
 "cells": [
  {
   "cell_type": "code",
   "execution_count": 2,
   "metadata": {
    "collapsed": true,
    "pycharm": {
     "is_executing": false
    }
   },
   "outputs": [],
   "source": [
    "import cudf"
   ]
  },
  {
   "cell_type": "code",
   "execution_count": 3,
   "outputs": [
    {
     "data": {
      "text/plain": "Alabama A & M University                   Normal\nUniversity of Alabama at Birmingham    Birmingham\nAmridge University                     Montgomery\nUniversity of Alabama in Huntsville    Huntsville\nAlabama State University               Montgomery\nName: CITY, dtype: object"
     },
     "metadata": {},
     "output_type": "execute_result",
     "execution_count": 3
    }
   ],
   "source": [
    "college = cudf.read_csv('../Data/college.csv',index_col='INSTNM')\n",
    "city = college['CITY']\n",
    "city.head()"
   ],
   "metadata": {
    "collapsed": false,
    "pycharm": {
     "name": "#%%\n",
     "is_executing": false
    }
   }
  },
  {
   "cell_type": "code",
   "execution_count": 6,
   "outputs": [
    {
     "data": {
      "text/plain": "Alabama State University              Montgomery\nEnterprise State Community College    Enterprise\nHeritage Christian University           Florence\nMarion Military Institute                 Marion\nReid State Technical College           Evergreen\nName: CITY, dtype: object"
     },
     "metadata": {},
     "output_type": "execute_result",
     "execution_count": 6
    }
   ],
   "source": [
    "#取第三条\n",
    "city.iloc[3]\n",
    "#取10，20，30\n",
    "city.iloc[[10,20,30]]\n",
    "#取第四条开始一直到50，每10条取一次\n",
    "city.iloc[4:50:10]"
   ],
   "metadata": {
    "collapsed": false,
    "pycharm": {
     "name": "#%%\n",
     "is_executing": false
    }
   }
  },
  {
   "cell_type": "code",
   "execution_count": 7,
   "outputs": [
    {
     "data": {
      "text/plain": "'Enterprise'"
     },
     "metadata": {},
     "output_type": "execute_result",
     "execution_count": 7
    }
   ],
   "source": [
    "city.loc['Enterprise State Community College']"
   ],
   "metadata": {
    "collapsed": false,
    "pycharm": {
     "name": "#%%\n",
     "is_executing": false
    }
   }
  },
  {
   "cell_type": "code",
   "execution_count": 10,
   "outputs": [
    {
     "data": {
      "text/plain": "['Northwest HVAC/R Training Center',\n 'California State University-Dominguez Hills',\n 'Lower Columbia College',\n 'Southwest Acupuncture College-Boulder']"
     },
     "metadata": {},
     "output_type": "execute_result",
     "execution_count": 10
    }
   ],
   "source": [
    "import numpy as np\n",
    "np.random.seed(1)\n",
    "labels = list(np.random.choice(city.index,4))\n",
    "labels\n"
   ],
   "metadata": {
    "collapsed": false,
    "pycharm": {
     "name": "#%%\n",
     "is_executing": false
    }
   }
  },
  {
   "cell_type": "code",
   "execution_count": 11,
   "outputs": [
    {
     "data": {
      "text/plain": "Northwest HVAC/R Training Center                Spokane\nCalifornia State University-Dominguez Hills      Carson\nLower Columbia College                         Longview\nSouthwest Acupuncture College-Boulder           Boulder\nName: CITY, dtype: object"
     },
     "metadata": {},
     "output_type": "execute_result",
     "execution_count": 11
    }
   ],
   "source": [
    "city.loc[labels]\n",
    "\n"
   ],
   "metadata": {
    "collapsed": false,
    "pycharm": {
     "name": "#%%\n",
     "is_executing": false
    }
   }
  },
  {
   "cell_type": "code",
   "execution_count": 12,
   "outputs": [
    {
     "data": {
      "text/plain": "California State University-Dominguez Hills                      Carson\nUniversity of California-Irvine                                  Irvine\nLe Cordon Bleu College of Culinary Arts-San Francisco     San Francisco\nCET-Sobrato                                                    San Jose\nCharles R Drew University of Medicine and Science           Los Angeles\n                                                              ...      \nVirginia Union University                                      Richmond\nEvergreen Beauty and Barber College-Bellevue                   Bellevue\nClark College                                                 Vancouver\nPierce College-Fort Steilacoom                                 Lakewood\nITT Technical Institute-Spokane Valley                   Spokane Valley\nName: CITY, Length: 375, dtype: object"
     },
     "metadata": {},
     "output_type": "execute_result",
     "execution_count": 12
    }
   ],
   "source": [
    "city.loc['California State University-Dominguez Hills':'Lower Columbia College':10]\n",
    "\n"
   ],
   "metadata": {
    "collapsed": false,
    "pycharm": {
     "name": "#%%\n",
     "is_executing": false
    }
   }
  },
  {
   "cell_type": "code",
   "execution_count": 13,
   "outputs": [
    {
     "data": {
      "text/plain": "                                           CITY STABBR  HBCU  MENONLY  \\\nINSTNM                                                                  \nAlabama A & M University                 Normal     AL   1.0      0.0   \nUniversity of Alabama at Birmingham  Birmingham     AL   0.0      0.0   \nAmridge University                   Montgomery     AL   0.0      0.0   \nUniversity of Alabama in Huntsville  Huntsville     AL   0.0      0.0   \nAlabama State University             Montgomery     AL   1.0      0.0   \n\n                                     WOMENONLY  RELAFFIL SATVRMID SATMTMID  \\\nINSTNM                                                                       \nAlabama A & M University                   0.0         0    424.0    420.0   \nUniversity of Alabama at Birmingham        0.0         0    570.0    565.0   \nAmridge University                         0.0         1     null     null   \nUniversity of Alabama in Huntsville        0.0         0    595.0    590.0   \nAlabama State University                   0.0         0    425.0    430.0   \n\n                                     DISTANCEONLY     UGDS  ...  UGDS_2MOR  \\\nINSTNM                                                      ...              \nAlabama A & M University                      0.0   4206.0  ...     0.0000   \nUniversity of Alabama at Birmingham           0.0  11383.0  ...     0.0368   \nAmridge University                            1.0    291.0  ...     0.0000   \nUniversity of Alabama in Huntsville           0.0   5451.0  ...     0.0172   \nAlabama State University                      0.0   4811.0  ...     0.0098   \n\n                                     UGDS_NRA  UGDS_UNKN  PPTUG_EF  CURROPER  \\\nINSTNM                                                                         \nAlabama A & M University               0.0059     0.0138    0.0656         1   \nUniversity of Alabama at Birmingham    0.0179     0.0100    0.2607         1   \nAmridge University                     0.0000     0.2715    0.4536         1   \nUniversity of Alabama in Huntsville    0.0332     0.0350    0.2146         1   \nAlabama State University               0.0243     0.0137    0.0892         1   \n\n                                     PCTPELL  PCTFLOAN  UG25ABV  \\\nINSTNM                                                            \nAlabama A & M University              0.7356    0.8284   0.1049   \nUniversity of Alabama at Birmingham   0.3460    0.5214   0.2422   \nAmridge University                    0.6801    0.7795   0.8540   \nUniversity of Alabama in Huntsville   0.3072    0.4596   0.2640   \nAlabama State University              0.7347    0.7554   0.1270   \n\n                                     MD_EARN_WNE_P10  GRAD_DEBT_MDN_SUPP  \nINSTNM                                                                    \nAlabama A & M University                       30300               33888  \nUniversity of Alabama at Birmingham            39700             21941.5  \nAmridge University                             40100               23370  \nUniversity of Alabama in Huntsville            45500               24097  \nAlabama State University                       26600             33118.5  \n\n[5 rows x 26 columns]",
      "text/html": "<div>\n<style scoped>\n    .dataframe tbody tr th:only-of-type {\n        vertical-align: middle;\n    }\n\n    .dataframe tbody tr th {\n        vertical-align: top;\n    }\n\n    .dataframe thead th {\n        text-align: right;\n    }\n</style>\n<table border=\"1\" class=\"dataframe\">\n  <thead>\n    <tr style=\"text-align: right;\">\n      <th></th>\n      <th>CITY</th>\n      <th>STABBR</th>\n      <th>HBCU</th>\n      <th>MENONLY</th>\n      <th>WOMENONLY</th>\n      <th>RELAFFIL</th>\n      <th>SATVRMID</th>\n      <th>SATMTMID</th>\n      <th>DISTANCEONLY</th>\n      <th>UGDS</th>\n      <th>...</th>\n      <th>UGDS_2MOR</th>\n      <th>UGDS_NRA</th>\n      <th>UGDS_UNKN</th>\n      <th>PPTUG_EF</th>\n      <th>CURROPER</th>\n      <th>PCTPELL</th>\n      <th>PCTFLOAN</th>\n      <th>UG25ABV</th>\n      <th>MD_EARN_WNE_P10</th>\n      <th>GRAD_DEBT_MDN_SUPP</th>\n    </tr>\n    <tr>\n      <th>INSTNM</th>\n      <th></th>\n      <th></th>\n      <th></th>\n      <th></th>\n      <th></th>\n      <th></th>\n      <th></th>\n      <th></th>\n      <th></th>\n      <th></th>\n      <th></th>\n      <th></th>\n      <th></th>\n      <th></th>\n      <th></th>\n      <th></th>\n      <th></th>\n      <th></th>\n      <th></th>\n      <th></th>\n      <th></th>\n    </tr>\n  </thead>\n  <tbody>\n    <tr>\n      <th>Alabama A &amp; M University</th>\n      <td>Normal</td>\n      <td>AL</td>\n      <td>1.0</td>\n      <td>0.0</td>\n      <td>0.0</td>\n      <td>0</td>\n      <td>424.0</td>\n      <td>420.0</td>\n      <td>0.0</td>\n      <td>4206.0</td>\n      <td>...</td>\n      <td>0.0000</td>\n      <td>0.0059</td>\n      <td>0.0138</td>\n      <td>0.0656</td>\n      <td>1</td>\n      <td>0.7356</td>\n      <td>0.8284</td>\n      <td>0.1049</td>\n      <td>30300</td>\n      <td>33888</td>\n    </tr>\n    <tr>\n      <th>University of Alabama at Birmingham</th>\n      <td>Birmingham</td>\n      <td>AL</td>\n      <td>0.0</td>\n      <td>0.0</td>\n      <td>0.0</td>\n      <td>0</td>\n      <td>570.0</td>\n      <td>565.0</td>\n      <td>0.0</td>\n      <td>11383.0</td>\n      <td>...</td>\n      <td>0.0368</td>\n      <td>0.0179</td>\n      <td>0.0100</td>\n      <td>0.2607</td>\n      <td>1</td>\n      <td>0.3460</td>\n      <td>0.5214</td>\n      <td>0.2422</td>\n      <td>39700</td>\n      <td>21941.5</td>\n    </tr>\n    <tr>\n      <th>Amridge University</th>\n      <td>Montgomery</td>\n      <td>AL</td>\n      <td>0.0</td>\n      <td>0.0</td>\n      <td>0.0</td>\n      <td>1</td>\n      <td>null</td>\n      <td>null</td>\n      <td>1.0</td>\n      <td>291.0</td>\n      <td>...</td>\n      <td>0.0000</td>\n      <td>0.0000</td>\n      <td>0.2715</td>\n      <td>0.4536</td>\n      <td>1</td>\n      <td>0.6801</td>\n      <td>0.7795</td>\n      <td>0.8540</td>\n      <td>40100</td>\n      <td>23370</td>\n    </tr>\n    <tr>\n      <th>University of Alabama in Huntsville</th>\n      <td>Huntsville</td>\n      <td>AL</td>\n      <td>0.0</td>\n      <td>0.0</td>\n      <td>0.0</td>\n      <td>0</td>\n      <td>595.0</td>\n      <td>590.0</td>\n      <td>0.0</td>\n      <td>5451.0</td>\n      <td>...</td>\n      <td>0.0172</td>\n      <td>0.0332</td>\n      <td>0.0350</td>\n      <td>0.2146</td>\n      <td>1</td>\n      <td>0.3072</td>\n      <td>0.4596</td>\n      <td>0.2640</td>\n      <td>45500</td>\n      <td>24097</td>\n    </tr>\n    <tr>\n      <th>Alabama State University</th>\n      <td>Montgomery</td>\n      <td>AL</td>\n      <td>1.0</td>\n      <td>0.0</td>\n      <td>0.0</td>\n      <td>0</td>\n      <td>425.0</td>\n      <td>430.0</td>\n      <td>0.0</td>\n      <td>4811.0</td>\n      <td>...</td>\n      <td>0.0098</td>\n      <td>0.0243</td>\n      <td>0.0137</td>\n      <td>0.0892</td>\n      <td>1</td>\n      <td>0.7347</td>\n      <td>0.7554</td>\n      <td>0.1270</td>\n      <td>26600</td>\n      <td>33118.5</td>\n    </tr>\n  </tbody>\n</table>\n<p>5 rows × 26 columns</p>\n</div>"
     },
     "metadata": {},
     "output_type": "execute_result",
     "execution_count": 13
    }
   ],
   "source": [
    "college = cudf.read_csv('../Data/college.csv',index_col='INSTNM')\n",
    "college.head()\n",
    "\n"
   ],
   "metadata": {
    "collapsed": false,
    "pycharm": {
     "name": "#%%\n",
     "is_executing": false
    }
   }
  },
  {
   "cell_type": "code",
   "execution_count": 14,
   "outputs": [
    {
     "data": {
      "text/plain": "                                     CITY STABBR  HBCU  MENONLY  WOMENONLY  \\\nUniversity of Alaska Anchorage  Anchorage     AK   0.0      0.0        0.0   \n\n                                RELAFFIL SATVRMID SATMTMID  DISTANCEONLY  \\\nUniversity of Alaska Anchorage         0     null     null           0.0   \n\n                                   UGDS  ...  UGDS_2MOR  UGDS_NRA  UGDS_UNKN  \\\nUniversity of Alaska Anchorage  12865.0  ...      0.098    0.0181     0.0457   \n\n                                PPTUG_EF  CURROPER  PCTPELL  PCTFLOAN  \\\nUniversity of Alaska Anchorage    0.4539         1   0.2385    0.2647   \n\n                                UG25ABV  MD_EARN_WNE_P10  GRAD_DEBT_MDN_SUPP  \nUniversity of Alaska Anchorage   0.4386            42500             19449.5  \n\n[1 rows x 26 columns]",
      "text/html": "<div>\n<style scoped>\n    .dataframe tbody tr th:only-of-type {\n        vertical-align: middle;\n    }\n\n    .dataframe tbody tr th {\n        vertical-align: top;\n    }\n\n    .dataframe thead th {\n        text-align: right;\n    }\n</style>\n<table border=\"1\" class=\"dataframe\">\n  <thead>\n    <tr style=\"text-align: right;\">\n      <th></th>\n      <th>CITY</th>\n      <th>STABBR</th>\n      <th>HBCU</th>\n      <th>MENONLY</th>\n      <th>WOMENONLY</th>\n      <th>RELAFFIL</th>\n      <th>SATVRMID</th>\n      <th>SATMTMID</th>\n      <th>DISTANCEONLY</th>\n      <th>UGDS</th>\n      <th>...</th>\n      <th>UGDS_2MOR</th>\n      <th>UGDS_NRA</th>\n      <th>UGDS_UNKN</th>\n      <th>PPTUG_EF</th>\n      <th>CURROPER</th>\n      <th>PCTPELL</th>\n      <th>PCTFLOAN</th>\n      <th>UG25ABV</th>\n      <th>MD_EARN_WNE_P10</th>\n      <th>GRAD_DEBT_MDN_SUPP</th>\n    </tr>\n  </thead>\n  <tbody>\n    <tr>\n      <th>University of Alaska Anchorage</th>\n      <td>Anchorage</td>\n      <td>AK</td>\n      <td>0.0</td>\n      <td>0.0</td>\n      <td>0.0</td>\n      <td>0</td>\n      <td>null</td>\n      <td>null</td>\n      <td>0.0</td>\n      <td>12865.0</td>\n      <td>...</td>\n      <td>0.098</td>\n      <td>0.0181</td>\n      <td>0.0457</td>\n      <td>0.4539</td>\n      <td>1</td>\n      <td>0.2385</td>\n      <td>0.2647</td>\n      <td>0.4386</td>\n      <td>42500</td>\n      <td>19449.5</td>\n    </tr>\n  </tbody>\n</table>\n<p>1 rows × 26 columns</p>\n</div>"
     },
     "metadata": {},
     "output_type": "execute_result",
     "execution_count": 14
    }
   ],
   "source": [
    "college.iloc[60]\n",
    "\n"
   ],
   "metadata": {
    "collapsed": false,
    "pycharm": {
     "name": "#%%\n",
     "is_executing": false
    }
   }
  },
  {
   "cell_type": "code",
   "execution_count": 15,
   "outputs": [
    {
     "data": {
      "text/plain": "                                     CITY STABBR  HBCU  MENONLY  WOMENONLY  \\\nUniversity of Alaska Anchorage  Anchorage     AK   0.0      0.0        0.0   \n\n                                RELAFFIL SATVRMID SATMTMID  DISTANCEONLY  \\\nUniversity of Alaska Anchorage         0     null     null           0.0   \n\n                                   UGDS  ...  UGDS_2MOR  UGDS_NRA  UGDS_UNKN  \\\nUniversity of Alaska Anchorage  12865.0  ...      0.098    0.0181     0.0457   \n\n                                PPTUG_EF  CURROPER  PCTPELL  PCTFLOAN  \\\nUniversity of Alaska Anchorage    0.4539         1   0.2385    0.2647   \n\n                                UG25ABV  MD_EARN_WNE_P10  GRAD_DEBT_MDN_SUPP  \nUniversity of Alaska Anchorage   0.4386            42500             19449.5  \n\n[1 rows x 26 columns]",
      "text/html": "<div>\n<style scoped>\n    .dataframe tbody tr th:only-of-type {\n        vertical-align: middle;\n    }\n\n    .dataframe tbody tr th {\n        vertical-align: top;\n    }\n\n    .dataframe thead th {\n        text-align: right;\n    }\n</style>\n<table border=\"1\" class=\"dataframe\">\n  <thead>\n    <tr style=\"text-align: right;\">\n      <th></th>\n      <th>CITY</th>\n      <th>STABBR</th>\n      <th>HBCU</th>\n      <th>MENONLY</th>\n      <th>WOMENONLY</th>\n      <th>RELAFFIL</th>\n      <th>SATVRMID</th>\n      <th>SATMTMID</th>\n      <th>DISTANCEONLY</th>\n      <th>UGDS</th>\n      <th>...</th>\n      <th>UGDS_2MOR</th>\n      <th>UGDS_NRA</th>\n      <th>UGDS_UNKN</th>\n      <th>PPTUG_EF</th>\n      <th>CURROPER</th>\n      <th>PCTPELL</th>\n      <th>PCTFLOAN</th>\n      <th>UG25ABV</th>\n      <th>MD_EARN_WNE_P10</th>\n      <th>GRAD_DEBT_MDN_SUPP</th>\n    </tr>\n  </thead>\n  <tbody>\n    <tr>\n      <th>University of Alaska Anchorage</th>\n      <td>Anchorage</td>\n      <td>AK</td>\n      <td>0.0</td>\n      <td>0.0</td>\n      <td>0.0</td>\n      <td>0</td>\n      <td>null</td>\n      <td>null</td>\n      <td>0.0</td>\n      <td>12865.0</td>\n      <td>...</td>\n      <td>0.098</td>\n      <td>0.0181</td>\n      <td>0.0457</td>\n      <td>0.4539</td>\n      <td>1</td>\n      <td>0.2385</td>\n      <td>0.2647</td>\n      <td>0.4386</td>\n      <td>42500</td>\n      <td>19449.5</td>\n    </tr>\n  </tbody>\n</table>\n<p>1 rows × 26 columns</p>\n</div>"
     },
     "metadata": {},
     "output_type": "execute_result",
     "execution_count": 15
    }
   ],
   "source": [
    "college.loc['University of Alaska Anchorage']\n",
    "\n"
   ],
   "metadata": {
    "collapsed": false,
    "pycharm": {
     "name": "#%%\n",
     "is_executing": false
    }
   }
  },
  {
   "cell_type": "code",
   "execution_count": 16,
   "outputs": [
    {
     "data": {
      "text/plain": "                                            CITY STABBR  HBCU  MENONLY  \\\nINSTNM                                                                   \nUniversity of Alaska Anchorage         Anchorage     AK   0.0      0.0   \nInternational Academy of Hair Design       Tempe     AZ   0.0      0.0   \nUniversity of Alabama in Huntsville   Huntsville     AL   0.0      0.0   \n\n                                      WOMENONLY  RELAFFIL SATVRMID SATMTMID  \\\nINSTNM                                                                        \nUniversity of Alaska Anchorage              0.0         0     null     null   \nInternational Academy of Hair Design        0.0         0     null     null   \nUniversity of Alabama in Huntsville         0.0         0    595.0    590.0   \n\n                                      DISTANCEONLY     UGDS  ...  UGDS_2MOR  \\\nINSTNM                                                       ...              \nUniversity of Alaska Anchorage                 0.0  12865.0  ...     0.0980   \nInternational Academy of Hair Design           0.0    188.0  ...     0.0160   \nUniversity of Alabama in Huntsville            0.0   5451.0  ...     0.0172   \n\n                                      UGDS_NRA  UGDS_UNKN  PPTUG_EF  CURROPER  \\\nINSTNM                                                                          \nUniversity of Alaska Anchorage          0.0181     0.0457    0.4539         1   \nInternational Academy of Hair Design    0.0000     0.0638    0.0000         0   \nUniversity of Alabama in Huntsville     0.0332     0.0350    0.2146         1   \n\n                                      PCTPELL  PCTFLOAN  UG25ABV  \\\nINSTNM                                                             \nUniversity of Alaska Anchorage         0.2385    0.2647   0.4386   \nInternational Academy of Hair Design   0.7185    0.7346   0.3905   \nUniversity of Alabama in Huntsville    0.3072    0.4596   0.2640   \n\n                                      MD_EARN_WNE_P10  GRAD_DEBT_MDN_SUPP  \nINSTNM                                                                     \nUniversity of Alaska Anchorage                  42500             19449.5  \nInternational Academy of Hair Design            22200               10556  \nUniversity of Alabama in Huntsville             45500               24097  \n\n[3 rows x 26 columns]",
      "text/html": "<div>\n<style scoped>\n    .dataframe tbody tr th:only-of-type {\n        vertical-align: middle;\n    }\n\n    .dataframe tbody tr th {\n        vertical-align: top;\n    }\n\n    .dataframe thead th {\n        text-align: right;\n    }\n</style>\n<table border=\"1\" class=\"dataframe\">\n  <thead>\n    <tr style=\"text-align: right;\">\n      <th></th>\n      <th>CITY</th>\n      <th>STABBR</th>\n      <th>HBCU</th>\n      <th>MENONLY</th>\n      <th>WOMENONLY</th>\n      <th>RELAFFIL</th>\n      <th>SATVRMID</th>\n      <th>SATMTMID</th>\n      <th>DISTANCEONLY</th>\n      <th>UGDS</th>\n      <th>...</th>\n      <th>UGDS_2MOR</th>\n      <th>UGDS_NRA</th>\n      <th>UGDS_UNKN</th>\n      <th>PPTUG_EF</th>\n      <th>CURROPER</th>\n      <th>PCTPELL</th>\n      <th>PCTFLOAN</th>\n      <th>UG25ABV</th>\n      <th>MD_EARN_WNE_P10</th>\n      <th>GRAD_DEBT_MDN_SUPP</th>\n    </tr>\n    <tr>\n      <th>INSTNM</th>\n      <th></th>\n      <th></th>\n      <th></th>\n      <th></th>\n      <th></th>\n      <th></th>\n      <th></th>\n      <th></th>\n      <th></th>\n      <th></th>\n      <th></th>\n      <th></th>\n      <th></th>\n      <th></th>\n      <th></th>\n      <th></th>\n      <th></th>\n      <th></th>\n      <th></th>\n      <th></th>\n      <th></th>\n    </tr>\n  </thead>\n  <tbody>\n    <tr>\n      <th>University of Alaska Anchorage</th>\n      <td>Anchorage</td>\n      <td>AK</td>\n      <td>0.0</td>\n      <td>0.0</td>\n      <td>0.0</td>\n      <td>0</td>\n      <td>null</td>\n      <td>null</td>\n      <td>0.0</td>\n      <td>12865.0</td>\n      <td>...</td>\n      <td>0.0980</td>\n      <td>0.0181</td>\n      <td>0.0457</td>\n      <td>0.4539</td>\n      <td>1</td>\n      <td>0.2385</td>\n      <td>0.2647</td>\n      <td>0.4386</td>\n      <td>42500</td>\n      <td>19449.5</td>\n    </tr>\n    <tr>\n      <th>International Academy of Hair Design</th>\n      <td>Tempe</td>\n      <td>AZ</td>\n      <td>0.0</td>\n      <td>0.0</td>\n      <td>0.0</td>\n      <td>0</td>\n      <td>null</td>\n      <td>null</td>\n      <td>0.0</td>\n      <td>188.0</td>\n      <td>...</td>\n      <td>0.0160</td>\n      <td>0.0000</td>\n      <td>0.0638</td>\n      <td>0.0000</td>\n      <td>0</td>\n      <td>0.7185</td>\n      <td>0.7346</td>\n      <td>0.3905</td>\n      <td>22200</td>\n      <td>10556</td>\n    </tr>\n    <tr>\n      <th>University of Alabama in Huntsville</th>\n      <td>Huntsville</td>\n      <td>AL</td>\n      <td>0.0</td>\n      <td>0.0</td>\n      <td>0.0</td>\n      <td>0</td>\n      <td>595.0</td>\n      <td>590.0</td>\n      <td>0.0</td>\n      <td>5451.0</td>\n      <td>...</td>\n      <td>0.0172</td>\n      <td>0.0332</td>\n      <td>0.0350</td>\n      <td>0.2146</td>\n      <td>1</td>\n      <td>0.3072</td>\n      <td>0.4596</td>\n      <td>0.2640</td>\n      <td>45500</td>\n      <td>24097</td>\n    </tr>\n  </tbody>\n</table>\n<p>3 rows × 26 columns</p>\n</div>"
     },
     "metadata": {},
     "output_type": "execute_result",
     "execution_count": 16
    }
   ],
   "source": [
    "college.iloc[[60,99,3]]\n",
    "\n"
   ],
   "metadata": {
    "collapsed": false,
    "pycharm": {
     "name": "#%%\n",
     "is_executing": false
    }
   }
  },
  {
   "cell_type": "code",
   "execution_count": 17,
   "outputs": [
    {
     "data": {
      "text/plain": "                                         CITY STABBR  HBCU  MENONLY  \\\nINSTNM                                                                \nInternational Academy of Hair Design    Tempe     AZ   0.0      0.0   \nGateWay Community College             Phoenix     AZ   0.0      0.0   \nMesa Community College                   Mesa     AZ   0.0      0.0   \n\n                                      WOMENONLY  RELAFFIL SATVRMID SATMTMID  \\\nINSTNM                                                                        \nInternational Academy of Hair Design        0.0         0     null     null   \nGateWay Community College                   0.0         0     null     null   \nMesa Community College                      0.0         0     null     null   \n\n                                      DISTANCEONLY     UGDS  ...  UGDS_2MOR  \\\nINSTNM                                                       ...              \nInternational Academy of Hair Design           0.0    188.0  ...     0.0160   \nGateWay Community College                      0.0   5211.0  ...     0.0127   \nMesa Community College                         0.0  19055.0  ...     0.0205   \n\n                                      UGDS_NRA  UGDS_UNKN  PPTUG_EF  CURROPER  \\\nINSTNM                                                                          \nInternational Academy of Hair Design    0.0000     0.0638    0.0000         0   \nGateWay Community College               0.0161     0.0702    0.7465         1   \nMesa Community College                  0.0257     0.0682    0.6457         1   \n\n                                      PCTPELL  PCTFLOAN  UG25ABV  \\\nINSTNM                                                             \nInternational Academy of Hair Design   0.7185    0.7346   0.3905   \nGateWay Community College              0.3270    0.2189   0.5832   \nMesa Community College                 0.3423    0.2207   0.4010   \n\n                                      MD_EARN_WNE_P10  GRAD_DEBT_MDN_SUPP  \nINSTNM                                                                     \nInternational Academy of Hair Design            22200               10556  \nGateWay Community College                       29800                7283  \nMesa Community College                          35200                8000  \n\n[3 rows x 26 columns]",
      "text/html": "<div>\n<style scoped>\n    .dataframe tbody tr th:only-of-type {\n        vertical-align: middle;\n    }\n\n    .dataframe tbody tr th {\n        vertical-align: top;\n    }\n\n    .dataframe thead th {\n        text-align: right;\n    }\n</style>\n<table border=\"1\" class=\"dataframe\">\n  <thead>\n    <tr style=\"text-align: right;\">\n      <th></th>\n      <th>CITY</th>\n      <th>STABBR</th>\n      <th>HBCU</th>\n      <th>MENONLY</th>\n      <th>WOMENONLY</th>\n      <th>RELAFFIL</th>\n      <th>SATVRMID</th>\n      <th>SATMTMID</th>\n      <th>DISTANCEONLY</th>\n      <th>UGDS</th>\n      <th>...</th>\n      <th>UGDS_2MOR</th>\n      <th>UGDS_NRA</th>\n      <th>UGDS_UNKN</th>\n      <th>PPTUG_EF</th>\n      <th>CURROPER</th>\n      <th>PCTPELL</th>\n      <th>PCTFLOAN</th>\n      <th>UG25ABV</th>\n      <th>MD_EARN_WNE_P10</th>\n      <th>GRAD_DEBT_MDN_SUPP</th>\n    </tr>\n    <tr>\n      <th>INSTNM</th>\n      <th></th>\n      <th></th>\n      <th></th>\n      <th></th>\n      <th></th>\n      <th></th>\n      <th></th>\n      <th></th>\n      <th></th>\n      <th></th>\n      <th></th>\n      <th></th>\n      <th></th>\n      <th></th>\n      <th></th>\n      <th></th>\n      <th></th>\n      <th></th>\n      <th></th>\n      <th></th>\n      <th></th>\n    </tr>\n  </thead>\n  <tbody>\n    <tr>\n      <th>International Academy of Hair Design</th>\n      <td>Tempe</td>\n      <td>AZ</td>\n      <td>0.0</td>\n      <td>0.0</td>\n      <td>0.0</td>\n      <td>0</td>\n      <td>null</td>\n      <td>null</td>\n      <td>0.0</td>\n      <td>188.0</td>\n      <td>...</td>\n      <td>0.0160</td>\n      <td>0.0000</td>\n      <td>0.0638</td>\n      <td>0.0000</td>\n      <td>0</td>\n      <td>0.7185</td>\n      <td>0.7346</td>\n      <td>0.3905</td>\n      <td>22200</td>\n      <td>10556</td>\n    </tr>\n    <tr>\n      <th>GateWay Community College</th>\n      <td>Phoenix</td>\n      <td>AZ</td>\n      <td>0.0</td>\n      <td>0.0</td>\n      <td>0.0</td>\n      <td>0</td>\n      <td>null</td>\n      <td>null</td>\n      <td>0.0</td>\n      <td>5211.0</td>\n      <td>...</td>\n      <td>0.0127</td>\n      <td>0.0161</td>\n      <td>0.0702</td>\n      <td>0.7465</td>\n      <td>1</td>\n      <td>0.3270</td>\n      <td>0.2189</td>\n      <td>0.5832</td>\n      <td>29800</td>\n      <td>7283</td>\n    </tr>\n    <tr>\n      <th>Mesa Community College</th>\n      <td>Mesa</td>\n      <td>AZ</td>\n      <td>0.0</td>\n      <td>0.0</td>\n      <td>0.0</td>\n      <td>0</td>\n      <td>null</td>\n      <td>null</td>\n      <td>0.0</td>\n      <td>19055.0</td>\n      <td>...</td>\n      <td>0.0205</td>\n      <td>0.0257</td>\n      <td>0.0682</td>\n      <td>0.6457</td>\n      <td>1</td>\n      <td>0.3423</td>\n      <td>0.2207</td>\n      <td>0.4010</td>\n      <td>35200</td>\n      <td>8000</td>\n    </tr>\n  </tbody>\n</table>\n<p>3 rows × 26 columns</p>\n</div>"
     },
     "metadata": {},
     "output_type": "execute_result",
     "execution_count": 17
    }
   ],
   "source": [
    "college.iloc[99:102]\n",
    "\n"
   ],
   "metadata": {
    "collapsed": false,
    "pycharm": {
     "name": "#%%\n",
     "is_executing": false
    }
   }
  },
  {
   "cell_type": "code",
   "execution_count": 18,
   "outputs": [
    {
     "data": {
      "text/plain": "                                           CITY STABBR  HBCU  MENONLY\nINSTNM                                                               \nAlabama A & M University                 Normal     AL   1.0      0.0\nUniversity of Alabama at Birmingham  Birmingham     AL   0.0      0.0\nAmridge University                   Montgomery     AL   0.0      0.0",
      "text/html": "<div>\n<style scoped>\n    .dataframe tbody tr th:only-of-type {\n        vertical-align: middle;\n    }\n\n    .dataframe tbody tr th {\n        vertical-align: top;\n    }\n\n    .dataframe thead th {\n        text-align: right;\n    }\n</style>\n<table border=\"1\" class=\"dataframe\">\n  <thead>\n    <tr style=\"text-align: right;\">\n      <th></th>\n      <th>CITY</th>\n      <th>STABBR</th>\n      <th>HBCU</th>\n      <th>MENONLY</th>\n    </tr>\n    <tr>\n      <th>INSTNM</th>\n      <th></th>\n      <th></th>\n      <th></th>\n      <th></th>\n    </tr>\n  </thead>\n  <tbody>\n    <tr>\n      <th>Alabama A &amp; M University</th>\n      <td>Normal</td>\n      <td>AL</td>\n      <td>1.0</td>\n      <td>0.0</td>\n    </tr>\n    <tr>\n      <th>University of Alabama at Birmingham</th>\n      <td>Birmingham</td>\n      <td>AL</td>\n      <td>0.0</td>\n      <td>0.0</td>\n    </tr>\n    <tr>\n      <th>Amridge University</th>\n      <td>Montgomery</td>\n      <td>AL</td>\n      <td>0.0</td>\n      <td>0.0</td>\n    </tr>\n  </tbody>\n</table>\n</div>"
     },
     "metadata": {},
     "output_type": "execute_result",
     "execution_count": 18
    }
   ],
   "source": [
    "college.iloc[:3,:4]\n",
    "\n"
   ],
   "metadata": {
    "collapsed": false,
    "pycharm": {
     "name": "#%%\n",
     "is_executing": false
    }
   }
  },
  {
   "cell_type": "code",
   "execution_count": 19,
   "outputs": [
    {
     "data": {
      "text/plain": "                                           CITY STABBR  HBCU  MENONLY\nAlabama A & M University                 Normal     AL   1.0      0.0\nUniversity of Alabama at Birmingham  Birmingham     AL   0.0      0.0\nAmridge University                   Montgomery     AL   0.0      0.0",
      "text/html": "<div>\n<style scoped>\n    .dataframe tbody tr th:only-of-type {\n        vertical-align: middle;\n    }\n\n    .dataframe tbody tr th {\n        vertical-align: top;\n    }\n\n    .dataframe thead th {\n        text-align: right;\n    }\n</style>\n<table border=\"1\" class=\"dataframe\">\n  <thead>\n    <tr style=\"text-align: right;\">\n      <th></th>\n      <th>CITY</th>\n      <th>STABBR</th>\n      <th>HBCU</th>\n      <th>MENONLY</th>\n    </tr>\n  </thead>\n  <tbody>\n    <tr>\n      <th>Alabama A &amp; M University</th>\n      <td>Normal</td>\n      <td>AL</td>\n      <td>1.0</td>\n      <td>0.0</td>\n    </tr>\n    <tr>\n      <th>University of Alabama at Birmingham</th>\n      <td>Birmingham</td>\n      <td>AL</td>\n      <td>0.0</td>\n      <td>0.0</td>\n    </tr>\n    <tr>\n      <th>Amridge University</th>\n      <td>Montgomery</td>\n      <td>AL</td>\n      <td>0.0</td>\n      <td>0.0</td>\n    </tr>\n  </tbody>\n</table>\n</div>"
     },
     "metadata": {},
     "output_type": "execute_result",
     "execution_count": 19
    }
   ],
   "source": [
    "college.loc[:'Amridge University',:'MENONLY']"
   ],
   "metadata": {
    "collapsed": false,
    "pycharm": {
     "name": "#%%\n",
     "is_executing": false
    }
   }
  },
  {
   "cell_type": "code",
   "execution_count": 20,
   "outputs": [
    {
     "data": {
      "text/plain": "                                     WOMENONLY SATVRMID\nINSTNM                                                 \nAlabama A & M University                   0.0    424.0\nUniversity of Alabama at Birmingham        0.0    570.0\nAmridge University                         0.0     null\nUniversity of Alabama in Huntsville        0.0    595.0\nAlabama State University                   0.0    425.0",
      "text/html": "<div>\n<style scoped>\n    .dataframe tbody tr th:only-of-type {\n        vertical-align: middle;\n    }\n\n    .dataframe tbody tr th {\n        vertical-align: top;\n    }\n\n    .dataframe thead th {\n        text-align: right;\n    }\n</style>\n<table border=\"1\" class=\"dataframe\">\n  <thead>\n    <tr style=\"text-align: right;\">\n      <th></th>\n      <th>WOMENONLY</th>\n      <th>SATVRMID</th>\n    </tr>\n    <tr>\n      <th>INSTNM</th>\n      <th></th>\n      <th></th>\n    </tr>\n  </thead>\n  <tbody>\n    <tr>\n      <th>Alabama A &amp; M University</th>\n      <td>0.0</td>\n      <td>424.0</td>\n    </tr>\n    <tr>\n      <th>University of Alabama at Birmingham</th>\n      <td>0.0</td>\n      <td>570.0</td>\n    </tr>\n    <tr>\n      <th>Amridge University</th>\n      <td>0.0</td>\n      <td>null</td>\n    </tr>\n    <tr>\n      <th>University of Alabama in Huntsville</th>\n      <td>0.0</td>\n      <td>595.0</td>\n    </tr>\n    <tr>\n      <th>Alabama State University</th>\n      <td>0.0</td>\n      <td>425.0</td>\n    </tr>\n  </tbody>\n</table>\n</div>"
     },
     "metadata": {},
     "output_type": "execute_result",
     "execution_count": 20
    }
   ],
   "source": [
    "college.iloc[:,[4,6]].head()\n",
    "\n"
   ],
   "metadata": {
    "collapsed": false,
    "pycharm": {
     "name": "#%%\n",
     "is_executing": false
    }
   }
  },
  {
   "cell_type": "code",
   "execution_count": 22,
   "outputs": [
    {
     "data": {
      "text/plain": "                                     WOMENONLY SATVRMID\nAlabama A & M University                   0.0    424.0\nUniversity of Alabama at Birmingham        0.0    570.0\nAmridge University                         0.0     null\nUniversity of Alabama in Huntsville        0.0    595.0\nAlabama State University                   0.0    425.0",
      "text/html": "<div>\n<style scoped>\n    .dataframe tbody tr th:only-of-type {\n        vertical-align: middle;\n    }\n\n    .dataframe tbody tr th {\n        vertical-align: top;\n    }\n\n    .dataframe thead th {\n        text-align: right;\n    }\n</style>\n<table border=\"1\" class=\"dataframe\">\n  <thead>\n    <tr style=\"text-align: right;\">\n      <th></th>\n      <th>WOMENONLY</th>\n      <th>SATVRMID</th>\n    </tr>\n  </thead>\n  <tbody>\n    <tr>\n      <th>Alabama A &amp; M University</th>\n      <td>0.0</td>\n      <td>424.0</td>\n    </tr>\n    <tr>\n      <th>University of Alabama at Birmingham</th>\n      <td>0.0</td>\n      <td>570.0</td>\n    </tr>\n    <tr>\n      <th>Amridge University</th>\n      <td>0.0</td>\n      <td>null</td>\n    </tr>\n    <tr>\n      <th>University of Alabama in Huntsville</th>\n      <td>0.0</td>\n      <td>595.0</td>\n    </tr>\n    <tr>\n      <th>Alabama State University</th>\n      <td>0.0</td>\n      <td>425.0</td>\n    </tr>\n  </tbody>\n</table>\n</div>"
     },
     "metadata": {},
     "output_type": "execute_result",
     "execution_count": 22
    }
   ],
   "source": [
    "college.loc[:,['WOMENONLY','SATVRMID']].head()\n",
    "\n"
   ],
   "metadata": {
    "collapsed": false,
    "pycharm": {
     "name": "#%%\n",
     "is_executing": false
    }
   }
  },
  {
   "cell_type": "code",
   "execution_count": 23,
   "outputs": [
    {
     "data": {
      "text/plain": "PCTFLOAN    0.401\nName: The University of Alabama, dtype: float64"
     },
     "metadata": {},
     "output_type": "execute_result",
     "execution_count": 23
    }
   ],
   "source": [
    "college.iloc[5,-4]\n",
    "\n"
   ],
   "metadata": {
    "collapsed": false,
    "pycharm": {
     "name": "#%%\n",
     "is_executing": false
    }
   }
  },
  {
   "cell_type": "code",
   "execution_count": 24,
   "outputs": [
    {
     "data": {
      "text/plain": "INSTNM\nEmpire Beauty School-Flagstaff     0\nCharles of Italy Beauty College    0\nCentral Arizona College            0\nUniversity of Arizona              0\nArizona State University-Tempe     0\nName: RELAFFIL, dtype: int64"
     },
     "metadata": {},
     "output_type": "execute_result",
     "execution_count": 24
    }
   ],
   "source": [
    "college.iloc[90:80:-2,5]\n"
   ],
   "metadata": {
    "collapsed": false,
    "pycharm": {
     "name": "#%%\n",
     "is_executing": false
    }
   }
  },
  {
   "cell_type": "code",
   "execution_count": 33,
   "outputs": [],
   "source": [],
   "metadata": {
    "collapsed": false,
    "pycharm": {
     "name": "#%%\n",
     "is_executing": false
    }
   }
  },
  {
   "cell_type": "code",
   "execution_count": 33,
   "outputs": [],
   "source": [],
   "metadata": {
    "collapsed": false,
    "pycharm": {
     "name": "#%%\n",
     "is_executing": false
    }
   }
  }
 ],
 "metadata": {
  "kernelspec": {
   "display_name": "Python 3",
   "language": "python",
   "name": "python3"
  },
  "language_info": {
   "codemirror_mode": {
    "name": "ipython",
    "version": 2
   },
   "file_extension": ".py",
   "mimetype": "text/x-python",
   "name": "python",
   "nbconvert_exporter": "python",
   "pygments_lexer": "ipython2",
   "version": "2.7.6"
  },
  "pycharm": {
   "stem_cell": {
    "cell_type": "raw",
    "source": [],
    "metadata": {
     "collapsed": false
    }
   }
  }
 },
 "nbformat": 4,
 "nbformat_minor": 0
}