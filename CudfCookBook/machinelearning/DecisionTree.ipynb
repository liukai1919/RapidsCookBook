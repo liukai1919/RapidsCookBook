{
 "cells": [
  {
   "cell_type": "code",
   "execution_count": 2,
   "metadata": {
    "collapsed": true,
    "pycharm": {
     "is_executing": false
    }
   },
   "outputs": [],
   "source": [
    "#随机森林\n",
    "#这是一个非常不成熟的算法，我县不跟新了，等rapids更新吧\n",
    "from sklearn.datasets import load_breast_cancer\n",
    "from sklearn.model_selection import train_test_split\n",
    "from cuml.ensemble import RandomForestClassifier\n",
    "cancer = load_breast_cancer()\n",
    "X_train,X_test,y_train,y_test =  train_test_split(cancer.data,cancer.target,stratify=cancer.target,random_state=42)"
   ]
  },
  {
   "cell_type": "code",
   "execution_count": 8,
   "outputs": [
    {
     "name": "stderr",
     "text": [
      "/home/liukai/anaconda3/envs/liukai/lib/python3.6/site-packages/ipykernel_launcher.py:2: UserWarning: To use GPU-based prediction, first train                           using float 32 data to fit the estimator.\n",
      "  \n"
     ],
     "output_type": "stream"
    },
    {
     "data": {
      "text/plain": "RandomForestClassifier(n_estimators=5, max_depth=16, handle=<cuml.common.handle.Handle object at 0x7f436b492348>, max_features='auto', n_bins=3, n_streams=8, split_algo=1, split_criterion=0, min_rows_per_node=2, bootstrap=True, bootstrap_features=False, verbose=False, rows_sample=1.0, max_leaves=-1, quantile_per_tree=False, min_impurity_decrease=0.0, seed=None)"
     },
     "metadata": {},
     "output_type": "execute_result",
     "execution_count": 8
    }
   ],
   "source": [
    "forest = RandomForestClassifier(n_estimators=5, n_bins=3)\n",
    "forest.fit(X_train,y_train.astype('int32'))"
   ],
   "metadata": {
    "collapsed": false,
    "pycharm": {
     "name": "#%%\n",
     "is_executing": false
    }
   }
  },
  {
   "cell_type": "code",
   "execution_count": 10,
   "outputs": [
    {
     "traceback": [
      "\u001b[0;31m---------------------------------------------------------------------------\u001b[0m",
      "\u001b[0;31mRuntimeError\u001b[0m                              Traceback (most recent call last)",
      "\u001b[0;32m<ipython-input-10-0385f95fc5f1>\u001b[0m in \u001b[0;36m<module>\u001b[0;34m\u001b[0m\n\u001b[0;32m----> 1\u001b[0;31m \u001b[0mprint\u001b[0m\u001b[0;34m(\u001b[0m\u001b[0mforest\u001b[0m\u001b[0;34m.\u001b[0m\u001b[0mscore\u001b[0m\u001b[0;34m(\u001b[0m\u001b[0mX_train\u001b[0m\u001b[0;34m,\u001b[0m\u001b[0my_train\u001b[0m\u001b[0;34m.\u001b[0m\u001b[0mastype\u001b[0m\u001b[0;34m(\u001b[0m\u001b[0;34m'int32'\u001b[0m\u001b[0;34m)\u001b[0m\u001b[0;34m)\u001b[0m\u001b[0;34m)\u001b[0m\u001b[0;34m\u001b[0m\u001b[0;34m\u001b[0m\u001b[0m\n\u001b[0m\u001b[1;32m      2\u001b[0m \u001b[0;34m\u001b[0m\u001b[0m\n",
      "\u001b[0;32mcuml/ensemble/randomforestclassifier.pyx\u001b[0m in \u001b[0;36mcuml.ensemble.randomforestclassifier.RandomForestClassifier.score\u001b[0;34m()\u001b[0m\n",
      "\u001b[0;32mcuml/ensemble/randomforestclassifier.pyx\u001b[0m in \u001b[0;36mcuml.ensemble.randomforestclassifier.RandomForestClassifier.predict\u001b[0;34m()\u001b[0m\n",
      "\u001b[0;32mcuml/ensemble/randomforestclassifier.pyx\u001b[0m in \u001b[0;36mcuml.ensemble.randomforestclassifier.RandomForestClassifier._predict_model_on_gpu\u001b[0;34m()\u001b[0m\n",
      "\u001b[0;31mRuntimeError\u001b[0m: Exception occured! file=/conda/conda-bld/libcuml_1580844594932/work/cpp/src/randomforest/randomforest.cu line=324: TREELITE FAIL: call='TreeliteModelBuilderCommitModel(model_builder, model)'. Reason:[16:59:48] /conda/conda-bld/libcuml_1580844594932/work/cpp/build/treelite/src/treelite/src/frontend/builder.cc:440: Impossible thing happened: model has no leaf node!\n\nStack trace returned 10 entries:\n[bt] (0) /home/liukai/anaconda3/envs/liukai/lib/python3.6/site-packages/cuml/common/../../../../libcuml++.so(dmlc::StackTrace[abi:cxx11]()+0x1bc) [0x7f43f09f44bc]\n[bt] (1) /home/liukai/anaconda3/envs/liukai/lib/python3.6/site-packages/cuml/common/../../../../libcuml++.so(dmlc::LogMessageFatal::~LogMessageFatal()+0x28) [0x7f43f09f5818]\n[bt] (2) /home/liukai/anaconda3/envs/liukai/lib/python3.6/site-packages/cuml/common/../../../../libcuml++.so(treelite::frontend::ModelBuilder::CommitModel(treelite::Model*)+0x4136) [0x7f43f0a12fa6]\n[bt] (3) /home/liukai/anaconda3/envs/liukai/lib/python3.6/site-packages/cuml/common/../../../../libcuml++.so(TreeliteModelBuilderCommitModel+0x13b) [0x7f43f09f126b]\n[bt] (4) /home/liukai/anaconda3/envs/liukai/lib/python3.6/site-packages/cuml/common/../../../../libcuml++.so(void ML::build_treelite_forest<float, int>(void**, ML::RandomForestMetaData<float, int> const*, int, int, std::vector<unsigned char, std::allocator<unsigned char> >&)+0x49f) [0x7f43f07fd9cf]\n[bt] (5) /home/liukai/anaconda3/envs/liukai/lib/python3.6/site-packages/cuml/ensemble/randomforestclassifier.cpython-36m-x86_64-linux-gnu.so(+0x13d00) [0x7f436cdc9d00]\n[bt] (6) /home/liukai/anaconda3/envs/liukai/lib/python3.6/site-packages/cuml/ensemble/randomforestclassifier.cpython-36m-x86_64-linux-gnu.so(+0x152d7) [0x7f436cdcb2d7]\n[bt] (7) /home/liukai/anaconda3/envs/liukai/bin/python(_PyObject_FastCallDict+0x8b) [0x557f11923d2b]\n[bt] (8) /home/liukai/anaconda3/envs/liukai/bin/python(_PyObject_Call_Prepend+0x63) [0x557f11928b33]\n[bt] (9) /home/liukai/anaconda3/envs/liukai/lib/python3.6/site-packages/cuml/ensemble/randomforestclassifier.cpython-36m-x86_64-linux-gnu.so(+0xd4b0) [0x7f436cdc34b0]\n\n\n\nObtained 64 stack frames\n#0 in /home/liukai/anaconda3/envs/liukai/lib/python3.6/site-packages/cuml/common/../../../../libcuml++.so(_ZN8MLCommon9Exception16collectCallStackEv+0x3e) [0x7f43f05d532e]\n#1 in /home/liukai/anaconda3/envs/liukai/lib/python3.6/site-packages/cuml/common/../../../../libcuml++.so(_ZN8MLCommon9ExceptionC2ERKNSt7__cxx1112basic_stringIcSt11char_traitsIcESaIcEEE+0x80) [0x7f43f05d5e40]\n#2 in /home/liukai/anaconda3/envs/liukai/lib/python3.6/site-packages/cuml/common/../../../../libcuml++.so(_ZN2ML21build_treelite_forestIfiEEvPPvPKNS_20RandomForestMetaDataIT_T0_EEiiRSt6vectorIhSaIhEE+0x909) [0x7f43f07fde39]\n#3 in /home/liukai/anaconda3/envs/liukai/lib/python3.6/site-packages/cuml/ensemble/randomforestclassifier.cpython-36m-x86_64-linux-gnu.so(+0x13d00) [0x7f436cdc9d00]\n#4 in /home/liukai/anaconda3/envs/liukai/lib/python3.6/site-packages/cuml/ensemble/randomforestclassifier.cpython-36m-x86_64-linux-gnu.so(+0x152d7) [0x7f436cdcb2d7]\n#5 in /home/liukai/anaconda3/envs/liukai/bin/python(_PyObject_FastCallDict+0x8b) [0x557f11923d2b]\n#6 in /home/liukai/anaconda3/envs/liukai/bin/python(_PyObject_Call_Prepend+0x63) [0x557f11928b33]\n#7 in /home/liukai/anaconda3/envs/liukai/lib/python3.6/site-packages/cuml/ensemble/randomforestclassifier.cpython-36m-x86_64-linux-gnu.so(+0xd4b0) [0x7f436cdc34b0]\n#8 in /home/liukai/anaconda3/envs/liukai/lib/python3.6/site-packages/cuml/ensemble/randomforestclassifier.cpython-36m-x86_64-linux-gnu.so(+0x1dc8a) [0x7f436cdd3c8a]\n#9 in /home/liukai/anaconda3/envs/liukai/bin/python(_PyObject_FastCallDict+0x8b) [0x557f11923d2b]\n#10 in /home/liukai/anaconda3/envs/liukai/bin/python(+0x1a16ae) [0x557f119b16ae]\n#11 in /home/liukai/anaconda3/envs/liukai/bin/python(_PyEval_EvalFrameDefault+0x30a) [0x557f119d67aa]\n#12 in /home/liukai/anaconda3/envs/liukai/bin/python(PyEval_EvalCodeEx+0x329) [0x557f11986069]\n#13 in /home/liukai/anaconda3/envs/liukai/bin/python(PyEval_EvalCode+0x1c) [0x557f11986dfc]\n#14 in /home/liukai/anaconda3/envs/liukai/bin/python(+0x1c41fb) [0x557f119d41fb]\n#15 in /home/liukai/anaconda3/envs/liukai/bin/python(_PyCFunction_FastCallDict+0x91) [0x557f11923a81]\n#16 in /home/liukai/anaconda3/envs/liukai/bin/python(+0x1a155c) [0x557f119b155c]\n#17 in /home/liukai/anaconda3/envs/liukai/bin/python(_PyEval_EvalFrameDefault+0x30a) [0x557f119d67aa]\n#18 in /home/liukai/anaconda3/envs/liukai/bin/python(_PyGen_Send+0x256) [0x557f119b48e6]\n#19 in /home/liukai/anaconda3/envs/liukai/bin/python(_PyEval_EvalFrameDefault+0x13a0) [0x557f119d7840]\n#20 in /home/liukai/anaconda3/envs/liukai/bin/python(_PyGen_Send+0x256) [0x557f119b48e6]\n#21 in /home/liukai/anaconda3/envs/liukai/bin/python(_PyEval_EvalFrameDefault+0x13a0) [0x557f119d7840]\n#22 in /home/liukai/anaconda3/envs/liukai/bin/python(_PyGen_Send+0x256) [0x557f119b48e6]\n#23 in /home/liukai/anaconda3/envs/liukai/bin/python(_PyCFunction_FastCallDict+0x115) [0x557f11923b05]\n#24 in /home/liukai/anaconda3/envs/liukai/bin/python(+0x1a155c) [0x557f119b155c]\n#25 in /home/liukai/anaconda3/envs/liukai/bin/python(_PyEval_EvalFrameDefault+0x30a) [0x557f119d67aa]\n#26 in /home/liukai/anaconda3/envs/liukai/bin/python(+0x171a5b) [0x557f11981a5b]\n#27 in /home/liukai/anaconda3/envs/liukai/bin/python(+0x1a1635) [0x557f119b1635]\n#28 in /home/liukai/anaconda3/envs/liukai/bin/python(_PyEval_EvalFrameDefault+0x30a) [0x557f119d67aa]\n#29 in /home/liukai/anaconda3/envs/liukai/bin/python(+0x171a5b) [0x557f11981a5b]\n#30 in /home/liukai/anaconda3/envs/liukai/bin/python(+0x1a1635) [0x557f119b1635]\n#31 in /home/liukai/anaconda3/envs/liukai/bin/python(_PyEval_EvalFrameDefault+0x30a) [0x557f119d67aa]\n#32 in /home/liukai/anaconda3/envs/liukai/bin/python(+0x170cf6) [0x557f11980cf6]\n#33 in /home/liukai/anaconda3/envs/liukai/bin/python(_PyFunction_FastCallDict+0x3da) [0x557f1198238a]\n#34 in /home/liukai/anaconda3/envs/liukai/bin/python(_PyObject_FastCallDict+0x26f) [0x557f11923f0f]\n#35 in /home/liukai/anaconda3/envs/liukai/bin/python(_PyObject_Call_Prepend+0x63) [0x557f11928b33]\n#36 in /home/liukai/anaconda3/envs/liukai/bin/python(PyObject_Call+0x3e) [0x557f1192394e]\n#37 in /home/liukai/anaconda3/envs/liukai/bin/python(_PyEval_EvalFrameDefault+0x1a92) [0x557f119d7f32]\n#38 in /home/liukai/anaconda3/envs/liukai/bin/python(+0x170fc6) [0x557f11980fc6]\n#39 in /home/liukai/anaconda3/envs/liukai/bin/python(+0x171c91) [0x557f11981c91]\n#40 in /home/liukai/anaconda3/envs/liukai/bin/python(+0x1a1635) [0x557f119b1635]\n#41 in /home/liukai/anaconda3/envs/liukai/bin/python(_PyEval_EvalFrameDefault+0x10b8) [0x557f119d7558]\n#42 in /home/liukai/anaconda3/envs/liukai/bin/python(+0x1a4450) [0x557f119b4450]\n#43 in /home/liukai/anaconda3/envs/liukai/bin/python(_PyCFunction_FastCallDict+0x91) [0x557f11923a81]\n#44 in /home/liukai/anaconda3/envs/liukai/bin/python(+0x1a155c) [0x557f119b155c]\n#45 in /home/liukai/anaconda3/envs/liukai/bin/python(_PyEval_EvalFrameDefault+0x30a) [0x557f119d67aa]\n#46 in /home/liukai/anaconda3/envs/liukai/bin/python(+0x170fc6) [0x557f11980fc6]\n#47 in /home/liukai/anaconda3/envs/liukai/bin/python(+0x171c91) [0x557f11981c91]\n#48 in /home/liukai/anaconda3/envs/liukai/bin/python(+0x1a1635) [0x557f119b1635]\n#49 in /home/liukai/anaconda3/envs/liukai/bin/python(_PyEval_EvalFrameDefault+0x30a) [0x557f119d67aa]\n#50 in /home/liukai/anaconda3/envs/liukai/bin/python(+0x1a4450) [0x557f119b4450]\n#51 in /home/liukai/anaconda3/envs/liukai/bin/python(_PyCFunction_FastCallDict+0x91) [0x557f11923a81]\n#52 in /home/liukai/anaconda3/envs/liukai/bin/python(+0x1a155c) [0x557f119b155c]\n#53 in /home/liukai/anaconda3/envs/liukai/bin/python(_PyEval_EvalFrameDefault+0x30a) [0x557f119d67aa]\n#54 in /home/liukai/anaconda3/envs/liukai/bin/python(+0x170fc6) [0x557f11980fc6]\n#55 in /home/liukai/anaconda3/envs/liukai/bin/python(+0x171c91) [0x557f11981c91]\n#56 in /home/liukai/anaconda3/envs/liukai/bin/python(+0x1a1635) [0x557f119b1635]\n#57 in /home/liukai/anaconda3/envs/liukai/bin/python(_PyEval_EvalFrameDefault+0x30a) [0x557f119d67aa]\n#58 in /home/liukai/anaconda3/envs/liukai/bin/python(+0x1a4450) [0x557f119b4450]\n#59 in /home/liukai/anaconda3/envs/liukai/bin/python(_PyCFunction_FastCallDict+0x91) [0x557f11923a81]\n#60 in /home/liukai/anaconda3/envs/liukai/bin/python(+0x1a155c) [0x557f119b155c]\n#61 in /home/liukai/anaconda3/envs/liukai/bin/python(_PyEval_EvalFrameDefault+0x30a) [0x557f119d67aa]\n#62 in /home/liukai/anaconda3/envs/liukai/bin/python(+0x170fc6) [0x557f11980fc6]\n#63 in /home/liukai/anaconda3/envs/liukai/bin/python(_PyFunction_FastCallDict+0x1bc) [0x557f1198216c]\n"
     ],
     "ename": "RuntimeError",
     "evalue": "Exception occured! file=/conda/conda-bld/libcuml_1580844594932/work/cpp/src/randomforest/randomforest.cu line=324: TREELITE FAIL: call='TreeliteModelBuilderCommitModel(model_builder, model)'. Reason:[16:59:48] /conda/conda-bld/libcuml_1580844594932/work/cpp/build/treelite/src/treelite/src/frontend/builder.cc:440: Impossible thing happened: model has no leaf node!\n\nStack trace returned 10 entries:\n[bt] (0) /home/liukai/anaconda3/envs/liukai/lib/python3.6/site-packages/cuml/common/../../../../libcuml++.so(dmlc::StackTrace[abi:cxx11]()+0x1bc) [0x7f43f09f44bc]\n[bt] (1) /home/liukai/anaconda3/envs/liukai/lib/python3.6/site-packages/cuml/common/../../../../libcuml++.so(dmlc::LogMessageFatal::~LogMessageFatal()+0x28) [0x7f43f09f5818]\n[bt] (2) /home/liukai/anaconda3/envs/liukai/lib/python3.6/site-packages/cuml/common/../../../../libcuml++.so(treelite::frontend::ModelBuilder::CommitModel(treelite::Model*)+0x4136) [0x7f43f0a12fa6]\n[bt] (3) /home/liukai/anaconda3/envs/liukai/lib/python3.6/site-packages/cuml/common/../../../../libcuml++.so(TreeliteModelBuilderCommitModel+0x13b) [0x7f43f09f126b]\n[bt] (4) /home/liukai/anaconda3/envs/liukai/lib/python3.6/site-packages/cuml/common/../../../../libcuml++.so(void ML::build_treelite_forest<float, int>(void**, ML::RandomForestMetaData<float, int> const*, int, int, std::vector<unsigned char, std::allocator<unsigned char> >&)+0x49f) [0x7f43f07fd9cf]\n[bt] (5) /home/liukai/anaconda3/envs/liukai/lib/python3.6/site-packages/cuml/ensemble/randomforestclassifier.cpython-36m-x86_64-linux-gnu.so(+0x13d00) [0x7f436cdc9d00]\n[bt] (6) /home/liukai/anaconda3/envs/liukai/lib/python3.6/site-packages/cuml/ensemble/randomforestclassifier.cpython-36m-x86_64-linux-gnu.so(+0x152d7) [0x7f436cdcb2d7]\n[bt] (7) /home/liukai/anaconda3/envs/liukai/bin/python(_PyObject_FastCallDict+0x8b) [0x557f11923d2b]\n[bt] (8) /home/liukai/anaconda3/envs/liukai/bin/python(_PyObject_Call_Prepend+0x63) [0x557f11928b33]\n[bt] (9) /home/liukai/anaconda3/envs/liukai/lib/python3.6/site-packages/cuml/ensemble/randomforestclassifier.cpython-36m-x86_64-linux-gnu.so(+0xd4b0) [0x7f436cdc34b0]\n\n\n\nObtained 64 stack frames\n#0 in /home/liukai/anaconda3/envs/liukai/lib/python3.6/site-packages/cuml/common/../../../../libcuml++.so(_ZN8MLCommon9Exception16collectCallStackEv+0x3e) [0x7f43f05d532e]\n#1 in /home/liukai/anaconda3/envs/liukai/lib/python3.6/site-packages/cuml/common/../../../../libcuml++.so(_ZN8MLCommon9ExceptionC2ERKNSt7__cxx1112basic_stringIcSt11char_traitsIcESaIcEEE+0x80) [0x7f43f05d5e40]\n#2 in /home/liukai/anaconda3/envs/liukai/lib/python3.6/site-packages/cuml/common/../../../../libcuml++.so(_ZN2ML21build_treelite_forestIfiEEvPPvPKNS_20RandomForestMetaDataIT_T0_EEiiRSt6vectorIhSaIhEE+0x909) [0x7f43f07fde39]\n#3 in /home/liukai/anaconda3/envs/liukai/lib/python3.6/site-packages/cuml/ensemble/randomforestclassifier.cpython-36m-x86_64-linux-gnu.so(+0x13d00) [0x7f436cdc9d00]\n#4 in /home/liukai/anaconda3/envs/liukai/lib/python3.6/site-packages/cuml/ensemble/randomforestclassifier.cpython-36m-x86_64-linux-gnu.so(+0x152d7) [0x7f436cdcb2d7]\n#5 in /home/liukai/anaconda3/envs/liukai/bin/python(_PyObject_FastCallDict+0x8b) [0x557f11923d2b]\n#6 in /home/liukai/anaconda3/envs/liukai/bin/python(_PyObject_Call_Prepend+0x63) [0x557f11928b33]\n#7 in /home/liukai/anaconda3/envs/liukai/lib/python3.6/site-packages/cuml/ensemble/randomforestclassifier.cpython-36m-x86_64-linux-gnu.so(+0xd4b0) [0x7f436cdc34b0]\n#8 in /home/liukai/anaconda3/envs/liukai/lib/python3.6/site-packages/cuml/ensemble/randomforestclassifier.cpython-36m-x86_64-linux-gnu.so(+0x1dc8a) [0x7f436cdd3c8a]\n#9 in /home/liukai/anaconda3/envs/liukai/bin/python(_PyObject_FastCallDict+0x8b) [0x557f11923d2b]\n#10 in /home/liukai/anaconda3/envs/liukai/bin/python(+0x1a16ae) [0x557f119b16ae]\n#11 in /home/liukai/anaconda3/envs/liukai/bin/python(_PyEval_EvalFrameDefault+0x30a) [0x557f119d67aa]\n#12 in /home/liukai/anaconda3/envs/liukai/bin/python(PyEval_EvalCodeEx+0x329) [0x557f11986069]\n#13 in /home/liukai/anaconda3/envs/liukai/bin/python(PyEval_EvalCode+0x1c) [0x557f11986dfc]\n#14 in /home/liukai/anaconda3/envs/liukai/bin/python(+0x1c41fb) [0x557f119d41fb]\n#15 in /home/liukai/anaconda3/envs/liukai/bin/python(_PyCFunction_FastCallDict+0x91) [0x557f11923a81]\n#16 in /home/liukai/anaconda3/envs/liukai/bin/python(+0x1a155c) [0x557f119b155c]\n#17 in /home/liukai/anaconda3/envs/liukai/bin/python(_PyEval_EvalFrameDefault+0x30a) [0x557f119d67aa]\n#18 in /home/liukai/anaconda3/envs/liukai/bin/python(_PyGen_Send+0x256) [0x557f119b48e6]\n#19 in /home/liukai/anaconda3/envs/liukai/bin/python(_PyEval_EvalFrameDefault+0x13a0) [0x557f119d7840]\n#20 in /home/liukai/anaconda3/envs/liukai/bin/python(_PyGen_Send+0x256) [0x557f119b48e6]\n#21 in /home/liukai/anaconda3/envs/liukai/bin/python(_PyEval_EvalFrameDefault+0x13a0) [0x557f119d7840]\n#22 in /home/liukai/anaconda3/envs/liukai/bin/python(_PyGen_Send+0x256) [0x557f119b48e6]\n#23 in /home/liukai/anaconda3/envs/liukai/bin/python(_PyCFunction_FastCallDict+0x115) [0x557f11923b05]\n#24 in /home/liukai/anaconda3/envs/liukai/bin/python(+0x1a155c) [0x557f119b155c]\n#25 in /home/liukai/anaconda3/envs/liukai/bin/python(_PyEval_EvalFrameDefault+0x30a) [0x557f119d67aa]\n#26 in /home/liukai/anaconda3/envs/liukai/bin/python(+0x171a5b) [0x557f11981a5b]\n#27 in /home/liukai/anaconda3/envs/liukai/bin/python(+0x1a1635) [0x557f119b1635]\n#28 in /home/liukai/anaconda3/envs/liukai/bin/python(_PyEval_EvalFrameDefault+0x30a) [0x557f119d67aa]\n#29 in /home/liukai/anaconda3/envs/liukai/bin/python(+0x171a5b) [0x557f11981a5b]\n#30 in /home/liukai/anaconda3/envs/liukai/bin/python(+0x1a1635) [0x557f119b1635]\n#31 in /home/liukai/anaconda3/envs/liukai/bin/python(_PyEval_EvalFrameDefault+0x30a) [0x557f119d67aa]\n#32 in /home/liukai/anaconda3/envs/liukai/bin/python(+0x170cf6) [0x557f11980cf6]\n#33 in /home/liukai/anaconda3/envs/liukai/bin/python(_PyFunction_FastCallDict+0x3da) [0x557f1198238a]\n#34 in /home/liukai/anaconda3/envs/liukai/bin/python(_PyObject_FastCallDict+0x26f) [0x557f11923f0f]\n#35 in /home/liukai/anaconda3/envs/liukai/bin/python(_PyObject_Call_Prepend+0x63) [0x557f11928b33]\n#36 in /home/liukai/anaconda3/envs/liukai/bin/python(PyObject_Call+0x3e) [0x557f1192394e]\n#37 in /home/liukai/anaconda3/envs/liukai/bin/python(_PyEval_EvalFrameDefault+0x1a92) [0x557f119d7f32]\n#38 in /home/liukai/anaconda3/envs/liukai/bin/python(+0x170fc6) [0x557f11980fc6]\n#39 in /home/liukai/anaconda3/envs/liukai/bin/python(+0x171c91) [0x557f11981c91]\n#40 in /home/liukai/anaconda3/envs/liukai/bin/python(+0x1a1635) [0x557f119b1635]\n#41 in /home/liukai/anaconda3/envs/liukai/bin/python(_PyEval_EvalFrameDefault+0x10b8) [0x557f119d7558]\n#42 in /home/liukai/anaconda3/envs/liukai/bin/python(+0x1a4450) [0x557f119b4450]\n#43 in /home/liukai/anaconda3/envs/liukai/bin/python(_PyCFunction_FastCallDict+0x91) [0x557f11923a81]\n#44 in /home/liukai/anaconda3/envs/liukai/bin/python(+0x1a155c) [0x557f119b155c]\n#45 in /home/liukai/anaconda3/envs/liukai/bin/python(_PyEval_EvalFrameDefault+0x30a) [0x557f119d67aa]\n#46 in /home/liukai/anaconda3/envs/liukai/bin/python(+0x170fc6) [0x557f11980fc6]\n#47 in /home/liukai/anaconda3/envs/liukai/bin/python(+0x171c91) [0x557f11981c91]\n#48 in /home/liukai/anaconda3/envs/liukai/bin/python(+0x1a1635) [0x557f119b1635]\n#49 in /home/liukai/anaconda3/envs/liukai/bin/python(_PyEval_EvalFrameDefault+0x30a) [0x557f119d67aa]\n#50 in /home/liukai/anaconda3/envs/liukai/bin/python(+0x1a4450) [0x557f119b4450]\n#51 in /home/liukai/anaconda3/envs/liukai/bin/python(_PyCFunction_FastCallDict+0x91) [0x557f11923a81]\n#52 in /home/liukai/anaconda3/envs/liukai/bin/python(+0x1a155c) [0x557f119b155c]\n#53 in /home/liukai/anaconda3/envs/liukai/bin/python(_PyEval_EvalFrameDefault+0x30a) [0x557f119d67aa]\n#54 in /home/liukai/anaconda3/envs/liukai/bin/python(+0x170fc6) [0x557f11980fc6]\n#55 in /home/liukai/anaconda3/envs/liukai/bin/python(+0x171c91) [0x557f11981c91]\n#56 in /home/liukai/anaconda3/envs/liukai/bin/python(+0x1a1635) [0x557f119b1635]\n#57 in /home/liukai/anaconda3/envs/liukai/bin/python(_PyEval_EvalFrameDefault+0x30a) [0x557f119d67aa]\n#58 in /home/liukai/anaconda3/envs/liukai/bin/python(+0x1a4450) [0x557f119b4450]\n#59 in /home/liukai/anaconda3/envs/liukai/bin/python(_PyCFunction_FastCallDict+0x91) [0x557f11923a81]\n#60 in /home/liukai/anaconda3/envs/liukai/bin/python(+0x1a155c) [0x557f119b155c]\n#61 in /home/liukai/anaconda3/envs/liukai/bin/python(_PyEval_EvalFrameDefault+0x30a) [0x557f119d67aa]\n#62 in /home/liukai/anaconda3/envs/liukai/bin/python(+0x170fc6) [0x557f11980fc6]\n#63 in /home/liukai/anaconda3/envs/liukai/bin/python(_PyFunction_FastCallDict+0x1bc) [0x557f1198216c]\n",
     "output_type": "error"
    }
   ],
   "source": [
    "print(forest.score(X_train,y_train.astype('int32')))\n"
   ],
   "metadata": {
    "collapsed": false,
    "pycharm": {
     "name": "#%%\n",
     "is_executing": false
    }
   }
  }
 ],
 "metadata": {
  "kernelspec": {
   "display_name": "Python 3",
   "language": "python",
   "name": "python3"
  },
  "language_info": {
   "codemirror_mode": {
    "name": "ipython",
    "version": 2
   },
   "file_extension": ".py",
   "mimetype": "text/x-python",
   "name": "python",
   "nbconvert_exporter": "python",
   "pygments_lexer": "ipython2",
   "version": "2.7.6"
  },
  "pycharm": {
   "stem_cell": {
    "cell_type": "raw",
    "source": [],
    "metadata": {
     "collapsed": false
    }
   }
  }
 },
 "nbformat": 4,
 "nbformat_minor": 0
}