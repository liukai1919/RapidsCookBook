{
 "cells": [
  {
   "cell_type": "code",
   "execution_count": 1,
   "metadata": {
    "collapsed": true,
    "pycharm": {
     "is_executing": false
    }
   },
   "outputs": [
    {
     "name": "stderr",
     "text": [
      "/home/liukai/anaconda3/envs/liukai/lib/python3.6/site-packages/sklearn/externals/six.py:31: FutureWarning: The module is deprecated in version 0.21 and will be removed in version 0.23 since we've dropped support for Python 2.7. Please rely on the official version of six (https://pypi.org/project/six/).\n",
      "  \"(https://pypi.org/project/six/).\", FutureWarning)\n",
      "/home/liukai/anaconda3/envs/liukai/lib/python3.6/site-packages/sklearn/externals/joblib/__init__.py:15: FutureWarning: sklearn.externals.joblib is deprecated in 0.21 and will be removed in 0.23. Please import this functionality directly from joblib, which can be installed with: pip install joblib. If this warning is raised when loading pickled models, you may need to re-serialize those models with scikit-learn 0.21+.\n",
      "  warnings.warn(msg, category=FutureWarning)\n"
     ],
     "output_type": "stream"
    }
   ],
   "source": [
    "import mglearn\n",
    "from cuml.linear_model import linear_regression\n",
    "from sklearn.model_selection import train_test_split\n",
    "X,y = mglearn.datasets.make_wave(n_samples=40)\n",
    "X_train,X_test,y_train,y_test = train_test_split(X,y,random_state=42)\n",
    "\n"
   ]
  },
  {
   "cell_type": "code",
   "execution_count": 4,
   "outputs": [
    {
     "name": "stderr",
     "text": [
      "/home/liukai/anaconda3/envs/liukai/lib/python3.6/site-packages/cuml/utils/input_utils.py:222: UserWarning: Expected column ('F') major order, but got the opposite. Converting data, this will result in additional memory utilization.\n",
      "  warnings.warn(\"Expected \" + order_to_str(order) + \" major order, \"\n"
     ],
     "output_type": "stream"
    }
   ],
   "source": [
    "lr = linear_regression.LinearRegression().fit(X_train,y_train)"
   ],
   "metadata": {
    "collapsed": false,
    "pycharm": {
     "name": "#%%\n",
     "is_executing": false
    }
   }
  },
  {
   "cell_type": "code",
   "execution_count": 7,
   "outputs": [
    {
     "name": "stdout",
     "text": [
      "系数：0    0.479545\n",
      "dtype: float64\n",
      "截据：-0.09847983994403889\n"
     ],
     "output_type": "stream"
    }
   ],
   "source": [
    "print('系数：{}'.format(lr.coef_))\n",
    "print('截据：{}'.format(lr.intercept_))"
   ],
   "metadata": {
    "collapsed": false,
    "pycharm": {
     "name": "#%%\n",
     "is_executing": false
    }
   }
  },
  {
   "cell_type": "code",
   "execution_count": 8,
   "outputs": [
    {
     "traceback": [
      "\u001b[0;31m---------------------------------------------------------------------------\u001b[0m",
      "\u001b[0;31mAttributeError\u001b[0m                            Traceback (most recent call last)",
      "\u001b[0;32m<ipython-input-8-e2c9abb35e28>\u001b[0m in \u001b[0;36m<module>\u001b[0;34m\u001b[0m\n\u001b[0;32m----> 1\u001b[0;31m \u001b[0mprint\u001b[0m\u001b[0;34m(\u001b[0m\u001b[0;34m'Train set score:{:2f}'\u001b[0m\u001b[0;34m.\u001b[0m\u001b[0mformat\u001b[0m\u001b[0;34m(\u001b[0m\u001b[0mlr\u001b[0m\u001b[0;34m.\u001b[0m\u001b[0mscore\u001b[0m\u001b[0;34m(\u001b[0m\u001b[0mX_train\u001b[0m\u001b[0;34m,\u001b[0m\u001b[0my_train\u001b[0m\u001b[0;34m)\u001b[0m\u001b[0;34m)\u001b[0m\u001b[0;34m)\u001b[0m\u001b[0;34m\u001b[0m\u001b[0;34m\u001b[0m\u001b[0m\n\u001b[0m\u001b[1;32m      2\u001b[0m \u001b[0mprint\u001b[0m\u001b[0;34m(\u001b[0m\u001b[0;34m'Test set score:{:2f'\u001b[0m\u001b[0;34m.\u001b[0m\u001b[0mformat\u001b[0m\u001b[0;34m(\u001b[0m\u001b[0mlr\u001b[0m\u001b[0;34m.\u001b[0m\u001b[0mscore\u001b[0m\u001b[0;34m(\u001b[0m\u001b[0mX_test\u001b[0m\u001b[0;34m,\u001b[0m\u001b[0my_test\u001b[0m\u001b[0;34m)\u001b[0m\u001b[0;34m)\u001b[0m\u001b[0;34m)\u001b[0m\u001b[0;34m\u001b[0m\u001b[0;34m\u001b[0m\u001b[0m\n\u001b[1;32m      3\u001b[0m \u001b[0;34m\u001b[0m\u001b[0m\n\u001b[1;32m      4\u001b[0m \u001b[0;34m\u001b[0m\u001b[0m\n",
      "\u001b[0;31mAttributeError\u001b[0m: 'LinearRegression' object has no attribute 'score'"
     ],
     "ename": "AttributeError",
     "evalue": "'LinearRegression' object has no attribute 'score'",
     "output_type": "error"
    }
   ],
   "source": [
    "#目前不支持评估模型\n",
    "# print('Train set score:{:2f}'.format(lr.score(X_train,y_train)))\n",
    "# print('Test set score:{:2f'.format(lr.score(X_test,y_test)))\n",
    "\n"
   ],
   "metadata": {
    "collapsed": false,
    "pycharm": {
     "name": "#%%\n",
     "is_executing": false
    }
   }
  },
  {
   "cell_type": "code",
   "execution_count": 9,
   "outputs": [
    {
     "name": "stderr",
     "text": [
      "/home/liukai/anaconda3/envs/liukai/lib/python3.6/site-packages/cuml/utils/input_utils.py:222: UserWarning: Expected column ('F') major order, but got the opposite. Converting data, this will result in additional memory utilization.\n",
      "  warnings.warn(\"Expected \" + order_to_str(order) + \" major order, \"\n"
     ],
     "output_type": "stream"
    }
   ],
   "source": [
    "#岭回归，一种正则化\n",
    "from cuml.linear_model import Ridge\n",
    "ridge = Ridge().fit(X_train,y_train)\n",
    "\n"
   ],
   "metadata": {
    "collapsed": false,
    "pycharm": {
     "name": "#%%\n",
     "is_executing": false
    }
   }
  },
  {
   "cell_type": "code",
   "execution_count": 11,
   "outputs": [
    {
     "name": "stdout",
     "text": [
      "Train set score:0.652658\n",
      "Test set score:0.773527\n"
     ],
     "output_type": "stream"
    }
   ],
   "source": [
    "print('Train set score:{:2f}'.format(ridge.score(X_train,y_train)))\n",
    "print('Test set score:{:2f}'.format(ridge.score(X_test,y_test)))\n",
    "\n"
   ],
   "metadata": {
    "collapsed": false,
    "pycharm": {
     "name": "#%%\n",
     "is_executing": false
    }
   }
  },
  {
   "cell_type": "code",
   "execution_count": 12,
   "outputs": [
    {
     "name": "stderr",
     "text": [
      "/home/liukai/anaconda3/envs/liukai/lib/python3.6/site-packages/cuml/utils/input_utils.py:222: UserWarning: Expected column ('F') major order, but got the opposite. Converting data, this will result in additional memory utilization.\n",
      "  warnings.warn(\"Expected \" + order_to_str(order) + \" major order, \"\n"
     ],
     "output_type": "stream"
    }
   ],
   "source": [
    "#调参\n",
    "ridge10 = Ridge(alpha=10).fit(X_train,y_train)\n"
   ],
   "metadata": {
    "collapsed": false,
    "pycharm": {
     "name": "#%%\n",
     "is_executing": false
    }
   }
  },
  {
   "cell_type": "code",
   "execution_count": 13,
   "outputs": [
    {
     "name": "stdout",
     "text": [
      "Train set score:0.646745\n",
      "Test set score:0.765401\n"
     ],
     "output_type": "stream"
    }
   ],
   "source": [
    "print('Train set score:{:2f}'.format(ridge10.score(X_train,y_train)))\n",
    "print('Test set score:{:2f}'.format(ridge10.score(X_test,y_test)))\n",
    "\n"
   ],
   "metadata": {
    "collapsed": false,
    "pycharm": {
     "name": "#%%\n",
     "is_executing": false
    }
   }
  },
  {
   "cell_type": "code",
   "execution_count": 14,
   "outputs": [
    {
     "name": "stdout",
     "text": [
      "Train set score:0.652729\n",
      "Test set score:0.773488\n"
     ],
     "output_type": "stream"
    },
    {
     "name": "stderr",
     "text": [
      "/home/liukai/anaconda3/envs/liukai/lib/python3.6/site-packages/cuml/utils/input_utils.py:222: UserWarning: Expected column ('F') major order, but got the opposite. Converting data, this will result in additional memory utilization.\n",
      "  warnings.warn(\"Expected \" + order_to_str(order) + \" major order, \"\n"
     ],
     "output_type": "stream"
    }
   ],
   "source": [
    "ridg01 = Ridge(alpha=0.1).fit(X_train,y_train)\n",
    "print('Train set score:{:2f}'.format(ridg01.score(X_train,y_train)))\n",
    "print('Test set score:{:2f}'.format(ridg01.score(X_test,y_test)))\n"
   ],
   "metadata": {
    "collapsed": false,
    "pycharm": {
     "name": "#%%\n",
     "is_executing": false
    }
   }
  },
  {
   "cell_type": "code",
   "execution_count": 18,
   "outputs": [
    {
     "name": "stdout",
     "text": [
      "Train set score:0.366267\n",
      "Test set score:0.323388\n",
      "Num of features used:1\n"
     ],
     "output_type": "stream"
    }
   ],
   "source": [
    "#lasso,另一种正则化\n",
    "from cuml.linear_model import Lasso\n",
    "import numpy as np\n",
    "lasso = Lasso().fit(X_train,y_train)\n",
    "print('Train set score:{:2f}'.format(lasso.score(X_train,y_train)))\n",
    "print('Test set score:{:2f}'.format(lasso.score(X_test,y_test)))\n",
    "print(('Num of features used:{}'.format(np.sum(lasso.coef_ !=0))))\n"
   ],
   "metadata": {
    "collapsed": false,
    "pycharm": {
     "name": "#%%\n",
     "is_executing": false
    }
   }
  },
  {
   "cell_type": "code",
   "execution_count": 22,
   "outputs": [
    {
     "name": "stdout",
     "text": [
      "Train set score:0.652701\n",
      "Test set score:0.773534\n",
      "Num of features used:1\n"
     ],
     "output_type": "stream"
    }
   ],
   "source": [
    "lasso001 = Lasso(alpha=0.01,max_iter=100000).fit(X_train,y_train)\n",
    "print('Train set score:{:2f}'.format(lasso001.score(X_train,y_train)))\n",
    "print('Test set score:{:2f}'.format(lasso001.score(X_test,y_test)))\n",
    "print(('Num of features used:{}'.format(np.sum(lasso001.coef_ !=0))))"
   ],
   "metadata": {
    "collapsed": false,
    "pycharm": {
     "name": "#%%\n",
     "is_executing": false
    }
   }
  },
  {
   "cell_type": "code",
   "execution_count": 23,
   "outputs": [
    {
     "name": "stdout",
     "text": [
      "Train set score:0.652730\n",
      "Test set score:0.773473\n",
      "Num of features used:1\n"
     ],
     "output_type": "stream"
    }
   ],
   "source": [
    "lasso00001 = Lasso(alpha=0.0001,max_iter=100000).fit(X_train,y_train)\n",
    "print('Train set score:{:2f}'.format(lasso00001.score(X_train,y_train)))\n",
    "print('Test set score:{:2f}'.format(lasso00001.score(X_test,y_test)))\n",
    "print(('Num of features used:{}'.format(np.sum(lasso00001.coef_ !=0))))\n"
   ],
   "metadata": {
    "collapsed": false,
    "pycharm": {
     "name": "#%%\n",
     "is_executing": false
    }
   }
  }
 ],
 "metadata": {
  "kernelspec": {
   "display_name": "Python 3",
   "language": "python",
   "name": "python3"
  },
  "language_info": {
   "codemirror_mode": {
    "name": "ipython",
    "version": 2
   },
   "file_extension": ".py",
   "mimetype": "text/x-python",
   "name": "python",
   "nbconvert_exporter": "python",
   "pygments_lexer": "ipython2",
   "version": "2.7.6"
  },
  "pycharm": {
   "stem_cell": {
    "cell_type": "raw",
    "source": [],
    "metadata": {
     "collapsed": false
    }
   }
  }
 },
 "nbformat": 4,
 "nbformat_minor": 0
}