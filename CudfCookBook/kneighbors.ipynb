{
 "cells": [
  {
   "cell_type": "code",
   "execution_count": 2,
   "metadata": {
    "collapsed": true,
    "pycharm": {
     "is_executing": false
    }
   },
   "outputs": [
    {
     "name": "stderr",
     "text": [
      "/home/liukai/anaconda3/envs/liukai/lib/python3.6/site-packages/sklearn/externals/six.py:31: FutureWarning: The module is deprecated in version 0.21 and will be removed in version 0.23 since we've dropped support for Python 2.7. Please rely on the official version of six (https://pypi.org/project/six/).\n",
      "  \"(https://pypi.org/project/six/).\", FutureWarning)\n",
      "/home/liukai/anaconda3/envs/liukai/lib/python3.6/site-packages/sklearn/externals/joblib/__init__.py:15: FutureWarning: sklearn.externals.joblib is deprecated in 0.21 and will be removed in 0.23. Please import this functionality directly from joblib, which can be installed with: pip install joblib. If this warning is raised when loading pickled models, you may need to re-serialize those models with scikit-learn 0.21+.\n",
      "  warnings.warn(msg, category=FutureWarning)\n"
     ],
     "output_type": "stream"
    }
   ],
   "source": [
    "import cuml\n",
    "from sklearn.model_selection import train_test_split\n",
    "import mglearn"
   ]
  },
  {
   "cell_type": "code",
   "execution_count": 3,
   "outputs": [
    {
     "name": "stderr",
     "text": [
      "/home/liukai/anaconda3/envs/liukai/lib/python3.6/site-packages/sklearn/utils/deprecation.py:87: FutureWarning: Function make_blobs is deprecated; Please import make_blobs directly from scikit-learn\n",
      "  warnings.warn(msg, category=FutureWarning)\n"
     ],
     "output_type": "stream"
    }
   ],
   "source": [
    "#K邻近算法\n",
    "X,y=mglearn.datasets.make_forge()\n",
    "X_train,X_test,y_train,y_test =  train_test_split(X,y,random_state=0)"
   ],
   "metadata": {
    "collapsed": false,
    "pycharm": {
     "name": "#%%\n",
     "is_executing": false
    }
   }
  },
  {
   "cell_type": "code",
   "execution_count": 7,
   "outputs": [],
   "source": [
    "from cuml.neighbors import kneighbors_classifier\n",
    "clf = kneighbors_classifier.KNeighborsClassifier(n_neighbors=3)"
   ],
   "metadata": {
    "collapsed": false,
    "pycharm": {
     "name": "#%%\n",
     "is_executing": false
    }
   }
  },
  {
   "cell_type": "code",
   "execution_count": 8,
   "outputs": [],
   "source": [
    "clf.fit(X_train,y_train)\n"
   ],
   "metadata": {
    "collapsed": false,
    "pycharm": {
     "name": "#%%\n",
     "is_executing": false
    }
   }
  },
  {
   "cell_type": "code",
   "execution_count": 9,
   "outputs": [
    {
     "name": "stdout",
     "text": [
      "Test set predictions: [1 0 1 0 1 0 0] \n"
     ],
     "output_type": "stream"
    }
   ],
   "source": [
    "#预测结果\n",
    "print(\"Test set predictions: {} \".format(clf.predict(X_test)))\n"
   ],
   "metadata": {
    "collapsed": false,
    "pycharm": {
     "name": "#%%\n",
     "is_executing": false
    }
   }
  },
  {
   "cell_type": "code",
   "execution_count": 10,
   "outputs": [
    {
     "name": "stdout",
     "text": [
      "Test set accuracy: 0.86\n"
     ],
     "output_type": "stream"
    }
   ],
   "source": [
    "#评价模型\n",
    "print(\"Test set accuracy: {:.2f}\".format(clf.score(X_test,y_test)))\n"
   ],
   "metadata": {
    "collapsed": false,
    "pycharm": {
     "name": "#%%\n",
     "is_executing": false
    }
   }
  },
  {
   "cell_type": "code",
   "execution_count": 20,
   "outputs": [],
   "source": [
    "#另一个关于K邻近的例子\n",
    "from sklearn.datasets import load_breast_cancer"
   ],
   "metadata": {
    "collapsed": false,
    "pycharm": {
     "name": "#%%\n",
     "is_executing": false
    }
   }
  },
  {
   "cell_type": "code",
   "execution_count": 21,
   "outputs": [],
   "source": [
    "#准备数据\n",
    "cancer = load_breast_cancer()\n",
    "X_train,X_test,y_train,y_test =  train_test_split(cancer.data,cancer.target,stratify=cancer.target,random_state=66)\n",
    "train_accuracy=[]\n",
    "test_accuracy=[]\n",
    "neighbors_settings=range(1,11)"
   ],
   "metadata": {
    "collapsed": false,
    "pycharm": {
     "name": "#%%\n",
     "is_executing": false
    }
   }
  },
  {
   "cell_type": "code",
   "execution_count": 22,
   "outputs": [],
   "source": [
    "for n_nerghbors in neighbors_settings:\n",
    "    clf = kneighbors_classifier.KNeighborsClassifier(n_neighbors=n_nerghbors)\n",
    "    clf.fit(X_train,y_train)\n",
    "    train_accuracy.append(clf.score(X_train,y_train))\n",
    "    test_accuracy.append(clf.score(X_test,y_test))\n",
    "\n"
   ],
   "metadata": {
    "collapsed": false,
    "pycharm": {
     "name": "#%%\n",
     "is_executing": false
    }
   }
  },
  {
   "cell_type": "code",
   "execution_count": 23,
   "outputs": [
    {
     "data": {
      "text/plain": "<matplotlib.legend.Legend at 0x7f3fc9852898>"
     },
     "metadata": {},
     "output_type": "execute_result",
     "execution_count": 23
    },
    {
     "data": {
      "text/plain": "<Figure size 432x288 with 1 Axes>",
      "image/png": "[encoded data removed]"
     },
     "metadata": {
      "needs_background": "light"
     },
     "output_type": "display_data"
    }
   ],
   "source": [
    "import matplotlib.pyplot as plt\n",
    "plt.plot(neighbors_settings,train_accuracy,label='training accuracy')\n",
    "plt.plot(neighbors_settings,test_accuracy,label='test accuracy')\n",
    "plt.ylabel(\"Accuracy\")\n",
    "plt.xlabel(\"n_neighbors\")\n",
    "plt.legend()\n"
   ],
   "metadata": {
    "collapsed": false,
    "pycharm": {
     "name": "#%%\n",
     "is_executing": false
    }
   }
  },
  {
   "cell_type": "code",
   "execution_count": 31,
   "outputs": [
    {
     "name": "stderr",
     "text": [
      "/home/liukai/anaconda3/envs/liukai/lib/python3.6/site-packages/cuml/utils/input_utils.py:222: UserWarning: Expected column ('F') major order, but got the opposite. Converting data, this will result in additional memory utilization.\n",
      "  warnings.warn(\"Expected \" + order_to_str(order) + \" major order, \"\n"
     ],
     "output_type": "stream"
    }
   ],
   "source": [
    "#K邻近回归示例\n",
    "from cuml.neighbors import KNeighborsRegressor\n",
    "X,y = mglearn.datasets.make_wave(n_samples=40)\n",
    "X_train,X_test,y_train,y_test = train_test_split(X,y,random_state=0)\n",
    "reg = KNeighborsRegressor(n_neighbors=3)\n",
    "reg.fit(X_train,y_train)\n",
    "\n"
   ],
   "metadata": {
    "collapsed": false,
    "pycharm": {
     "name": "#%%\n",
     "is_executing": false
    }
   }
  },
  {
   "cell_type": "code",
   "execution_count": 32,
   "outputs": [
    {
     "name": "stdout",
     "text": [
      "Test set predictions: [-0.05396539  0.35686049  1.13671923 -1.89415681 -1.13881397 -1.63113368\n",
      "  0.35686049  0.91241378 -0.44680443 -1.13881397] \n",
      "None\n"
     ],
     "output_type": "stream"
    },
    {
     "name": "stderr",
     "text": [
      "/home/liukai/anaconda3/envs/liukai/lib/python3.6/site-packages/cuml/utils/input_utils.py:222: UserWarning: Expected column ('F') major order, but got the opposite. Converting data, this will result in additional memory utilization.\n",
      "  warnings.warn(\"Expected \" + order_to_str(order) + \" major order, \"\n"
     ],
     "output_type": "stream"
    }
   ],
   "source": [
    "print(print(\"Test set predictions: {} \".format(reg.predict(X_test))))"
   ],
   "metadata": {
    "collapsed": false,
    "pycharm": {
     "name": "#%%\n",
     "is_executing": false
    }
   }
  },
  {
   "cell_type": "code",
   "execution_count": 33,
   "outputs": [
    {
     "name": "stdout",
     "text": [
      "Test set r^2: 0.83\n"
     ],
     "output_type": "stream"
    },
    {
     "name": "stderr",
     "text": [
      "/home/liukai/anaconda3/envs/liukai/lib/python3.6/site-packages/cuml/utils/input_utils.py:222: UserWarning: Expected column ('F') major order, but got the opposite. Converting data, this will result in additional memory utilization.\n",
      "  warnings.warn(\"Expected \" + order_to_str(order) + \" major order, \"\n"
     ],
     "output_type": "stream"
    }
   ],
   "source": [
    "#评价模型\n",
    "print(\"Test set r^2: {:.2f}\".format(reg.score(X_test,y_test)))\n",
    "\n"
   ],
   "metadata": {
    "collapsed": false,
    "pycharm": {
     "name": "#%%\n",
     "is_executing": false
    }
   }
  }
 ],
 "metadata": {
  "kernelspec": {
   "display_name": "Python 3",
   "language": "python",
   "name": "python3"
  },
  "language_info": {
   "codemirror_mode": {
    "name": "ipython",
    "version": 2
   },
   "file_extension": ".py",
   "mimetype": "text/x-python",
   "name": "python",
   "nbconvert_exporter": "python",
   "pygments_lexer": "ipython2",
   "version": "2.7.6"
  },
  "pycharm": {
   "stem_cell": {
    "cell_type": "raw",
    "source": [],
    "metadata": {
     "collapsed": false
    }
   }
  }
 },
 "nbformat": 4,
 "nbformat_minor": 0
}