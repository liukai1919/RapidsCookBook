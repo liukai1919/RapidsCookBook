{
 "cells": [
  {
   "cell_type": "code",
   "execution_count": 2,
   "metadata": {
    "collapsed": true,
    "pycharm": {
     "is_executing": false
    }
   },
   "outputs": [],
   "source": [
    "import cudf\n",
    "\n",
    "movie = cudf.read_csv('../Data/movie.csv')"
   ]
  },
  {
   "cell_type": "code",
   "execution_count": 27,
   "outputs": [
    {
     "data": {
      "text/plain": "      actor_1_name      actor_2_name          actor_3_name      director_name\n0      CCH Pounder  Joel David Moore             Wes Studi      James Cameron\n1      Johnny Depp     Orlando Bloom        Jack Davenport     Gore Verbinski\n2  Christoph Waltz      Rory Kinnear      Stephanie Sigman         Sam Mendes\n3        Tom Hardy    Christian Bale  Joseph Gordon-Levitt  Christopher Nolan\n4      Doug Walker        Rob Walker                  None        Doug Walker",
      "text/html": "<div>\n<style scoped>\n    .dataframe tbody tr th:only-of-type {\n        vertical-align: middle;\n    }\n\n    .dataframe tbody tr th {\n        vertical-align: top;\n    }\n\n    .dataframe thead th {\n        text-align: right;\n    }\n</style>\n<table border=\"1\" class=\"dataframe\">\n  <thead>\n    <tr style=\"text-align: right;\">\n      <th></th>\n      <th>actor_1_name</th>\n      <th>actor_2_name</th>\n      <th>actor_3_name</th>\n      <th>director_name</th>\n    </tr>\n  </thead>\n  <tbody>\n    <tr>\n      <th>0</th>\n      <td>CCH Pounder</td>\n      <td>Joel David Moore</td>\n      <td>Wes Studi</td>\n      <td>James Cameron</td>\n    </tr>\n    <tr>\n      <th>1</th>\n      <td>Johnny Depp</td>\n      <td>Orlando Bloom</td>\n      <td>Jack Davenport</td>\n      <td>Gore Verbinski</td>\n    </tr>\n    <tr>\n      <th>2</th>\n      <td>Christoph Waltz</td>\n      <td>Rory Kinnear</td>\n      <td>Stephanie Sigman</td>\n      <td>Sam Mendes</td>\n    </tr>\n    <tr>\n      <th>3</th>\n      <td>Tom Hardy</td>\n      <td>Christian Bale</td>\n      <td>Joseph Gordon-Levitt</td>\n      <td>Christopher Nolan</td>\n    </tr>\n    <tr>\n      <th>4</th>\n      <td>Doug Walker</td>\n      <td>Rob Walker</td>\n      <td>None</td>\n      <td>Doug Walker</td>\n    </tr>\n  </tbody>\n</table>\n</div>"
     },
     "metadata": {},
     "output_type": "execute_result",
     "execution_count": 27
    }
   ],
   "source": [
    "#选择多个字段\n",
    "movie_actor_director = movie[['actor_1_name','actor_2_name','actor_3_name','director_name']]\n",
    "movie_actor_director.head()"
   ],
   "metadata": {
    "collapsed": false,
    "pycharm": {
     "name": "#%%\n",
     "is_executing": false
    }
   }
  },
  {
   "cell_type": "code",
   "execution_count": 33,
   "outputs": [
    {
     "data": {
      "text/plain": "   color      director_name num_critic_for_reviews duration  \\\n0  Color      James Cameron                  723.0    178.0   \n1  Color     Gore Verbinski                  302.0    169.0   \n2  Color         Sam Mendes                  602.0    148.0   \n3  Color  Christopher Nolan                  813.0    164.0   \n4   None        Doug Walker                   null     null   \n\n   director_facebook_likes actor_3_facebook_likes      actor_2_name  \\\n0                      0.0                  855.0  Joel David Moore   \n1                    563.0                 1000.0     Orlando Bloom   \n2                      0.0                  161.0      Rory Kinnear   \n3                  22000.0                23000.0    Christian Bale   \n4                    131.0                   null        Rob Walker   \n\n   actor_1_facebook_likes        gross                           genres  ...  \\\n0                  1000.0  760505847.0  Action|Adventure|Fantasy|Sci-Fi  ...   \n1                 40000.0  309404152.0         Action|Adventure|Fantasy  ...   \n2                 11000.0  200074175.0        Action|Adventure|Thriller  ...   \n3                 27000.0  448130642.0                  Action|Thriller  ...   \n4                   131.0         null                      Documentary  ...   \n\n  num_user_for_reviews language country content_rating       budget  \\\n0               3054.0  English     USA          PG-13  237000000.0   \n1               1238.0  English     USA          PG-13  300000000.0   \n2                994.0  English      UK          PG-13  245000000.0   \n3               2701.0  English     USA          PG-13  250000000.0   \n4                 null     None    None           None         null   \n\n  title_year actor_2_facebook_likes imdb_score  aspect_ratio  \\\n0     2009.0                  936.0        7.9          1.78   \n1     2007.0                 5000.0        7.1          2.35   \n2     2015.0                  393.0        6.8          2.35   \n3     2012.0                23000.0        8.5          2.35   \n4       null                   12.0        7.1          null   \n\n   movie_facebook_likes  \n0                 33000  \n1                     0  \n2                 85000  \n3                164000  \n4                     0  \n\n[5 rows x 28 columns]",
      "text/html": "<div>\n<style scoped>\n    .dataframe tbody tr th:only-of-type {\n        vertical-align: middle;\n    }\n\n    .dataframe tbody tr th {\n        vertical-align: top;\n    }\n\n    .dataframe thead th {\n        text-align: right;\n    }\n</style>\n<table border=\"1\" class=\"dataframe\">\n  <thead>\n    <tr style=\"text-align: right;\">\n      <th></th>\n      <th>color</th>\n      <th>director_name</th>\n      <th>num_critic_for_reviews</th>\n      <th>duration</th>\n      <th>director_facebook_likes</th>\n      <th>actor_3_facebook_likes</th>\n      <th>actor_2_name</th>\n      <th>actor_1_facebook_likes</th>\n      <th>gross</th>\n      <th>genres</th>\n      <th>...</th>\n      <th>num_user_for_reviews</th>\n      <th>language</th>\n      <th>country</th>\n      <th>content_rating</th>\n      <th>budget</th>\n      <th>title_year</th>\n      <th>actor_2_facebook_likes</th>\n      <th>imdb_score</th>\n      <th>aspect_ratio</th>\n      <th>movie_facebook_likes</th>\n    </tr>\n  </thead>\n  <tbody>\n    <tr>\n      <th>0</th>\n      <td>Color</td>\n      <td>James Cameron</td>\n      <td>723.0</td>\n      <td>178.0</td>\n      <td>0.0</td>\n      <td>855.0</td>\n      <td>Joel David Moore</td>\n      <td>1000.0</td>\n      <td>760505847.0</td>\n      <td>Action|Adventure|Fantasy|Sci-Fi</td>\n      <td>...</td>\n      <td>3054.0</td>\n      <td>English</td>\n      <td>USA</td>\n      <td>PG-13</td>\n      <td>237000000.0</td>\n      <td>2009.0</td>\n      <td>936.0</td>\n      <td>7.9</td>\n      <td>1.78</td>\n      <td>33000</td>\n    </tr>\n    <tr>\n      <th>1</th>\n      <td>Color</td>\n      <td>Gore Verbinski</td>\n      <td>302.0</td>\n      <td>169.0</td>\n      <td>563.0</td>\n      <td>1000.0</td>\n      <td>Orlando Bloom</td>\n      <td>40000.0</td>\n      <td>309404152.0</td>\n      <td>Action|Adventure|Fantasy</td>\n      <td>...</td>\n      <td>1238.0</td>\n      <td>English</td>\n      <td>USA</td>\n      <td>PG-13</td>\n      <td>300000000.0</td>\n      <td>2007.0</td>\n      <td>5000.0</td>\n      <td>7.1</td>\n      <td>2.35</td>\n      <td>0</td>\n    </tr>\n    <tr>\n      <th>2</th>\n      <td>Color</td>\n      <td>Sam Mendes</td>\n      <td>602.0</td>\n      <td>148.0</td>\n      <td>0.0</td>\n      <td>161.0</td>\n      <td>Rory Kinnear</td>\n      <td>11000.0</td>\n      <td>200074175.0</td>\n      <td>Action|Adventure|Thriller</td>\n      <td>...</td>\n      <td>994.0</td>\n      <td>English</td>\n      <td>UK</td>\n      <td>PG-13</td>\n      <td>245000000.0</td>\n      <td>2015.0</td>\n      <td>393.0</td>\n      <td>6.8</td>\n      <td>2.35</td>\n      <td>85000</td>\n    </tr>\n    <tr>\n      <th>3</th>\n      <td>Color</td>\n      <td>Christopher Nolan</td>\n      <td>813.0</td>\n      <td>164.0</td>\n      <td>22000.0</td>\n      <td>23000.0</td>\n      <td>Christian Bale</td>\n      <td>27000.0</td>\n      <td>448130642.0</td>\n      <td>Action|Thriller</td>\n      <td>...</td>\n      <td>2701.0</td>\n      <td>English</td>\n      <td>USA</td>\n      <td>PG-13</td>\n      <td>250000000.0</td>\n      <td>2012.0</td>\n      <td>23000.0</td>\n      <td>8.5</td>\n      <td>2.35</td>\n      <td>164000</td>\n    </tr>\n    <tr>\n      <th>4</th>\n      <td>None</td>\n      <td>Doug Walker</td>\n      <td>null</td>\n      <td>null</td>\n      <td>131.0</td>\n      <td>null</td>\n      <td>Rob Walker</td>\n      <td>131.0</td>\n      <td>null</td>\n      <td>Documentary</td>\n      <td>...</td>\n      <td>null</td>\n      <td>None</td>\n      <td>None</td>\n      <td>None</td>\n      <td>null</td>\n      <td>null</td>\n      <td>12.0</td>\n      <td>7.1</td>\n      <td>null</td>\n      <td>0</td>\n    </tr>\n  </tbody>\n</table>\n<p>5 rows × 28 columns</p>\n</div>"
     },
     "metadata": {},
     "output_type": "execute_result",
     "execution_count": 33
    }
   ],
   "source": [
    "#让字段名排列更易读\n",
    "movie = cudf.read_csv('../Data/movie.csv')\n",
    "movie.head()\n"
   ],
   "metadata": {
    "collapsed": false,
    "pycharm": {
     "name": "#%%\n",
     "is_executing": false
    }
   }
  },
  {
   "cell_type": "code",
   "execution_count": 34,
   "outputs": [
    {
     "data": {
      "text/plain": "Index(['color', 'director_name', 'num_critic_for_reviews', 'duration',\n       'director_facebook_likes', 'actor_3_facebook_likes', 'actor_2_name',\n       'actor_1_facebook_likes', 'gross', 'genres', 'actor_1_name',\n       'movie_title', 'num_voted_users', 'cast_total_facebook_likes',\n       'actor_3_name', 'facenumber_in_poster', 'plot_keywords',\n       'movie_imdb_link', 'num_user_for_reviews', 'language', 'country',\n       'content_rating', 'budget', 'title_year', 'actor_2_facebook_likes',\n       'imdb_score', 'aspect_ratio', 'movie_facebook_likes'],\n      dtype='object')"
     },
     "metadata": {},
     "output_type": "execute_result",
     "execution_count": 34
    }
   ],
   "source": [
    "movie.columns\n"
   ],
   "metadata": {
    "collapsed": false,
    "pycharm": {
     "name": "#%%\n",
     "is_executing": false
    }
   }
  },
  {
   "cell_type": "code",
   "execution_count": 35,
   "outputs": [],
   "source": [
    "disc_core=['movie_title','title_year','content_rating','genres']\n",
    "disc_people=['director_name','actor_1_name','actor_2_name','actor_3_name']\n",
    "disc_other=['color','country','language','plot_keywords','movie_imdb_link']\n",
    "cont_fb=['director_facebook_likes','actor_1_facebook_likes','actor_2_facebook_likes','actor_3_facebook_likes','cast_total_facebook_likes','movie_facebook_likes']\n",
    "cont_finance = ['budget','gross']\n",
    "cont_num_reviews = ['num_voted_users','num_user_for_reviews','num_critic_for_reviews']\n",
    "cont_other = ['imdb_score','duration','aspect_ratio','facenumber_in_poster']"
   ],
   "metadata": {
    "collapsed": false,
    "pycharm": {
     "name": "#%%\n",
     "is_executing": false
    }
   }
  },
  {
   "cell_type": "code",
   "execution_count": 36,
   "outputs": [
    {
     "data": {
      "text/plain": "True"
     },
     "metadata": {},
     "output_type": "execute_result",
     "execution_count": 36
    }
   ],
   "source": [
    "new_col_order = disc_core+disc_people+disc_other+cont_fb+cont_finance+cont_num_reviews+cont_other\n",
    "set(movie.columns) ==set(new_col_order)\n"
   ],
   "metadata": {
    "collapsed": false,
    "pycharm": {
     "name": "#%%\n",
     "is_executing": false
    }
   }
  },
  {
   "cell_type": "code",
   "execution_count": 37,
   "outputs": [
    {
     "data": {
      "text/plain": "                                  movie_title title_year content_rating  \\\n0                                      Avatar     2009.0          PG-13   \n1    Pirates of the Caribbean: At World's End     2007.0          PG-13   \n2                                     Spectre     2015.0          PG-13   \n3                       The Dark Knight Rises     2012.0          PG-13   \n4  Star Wars: Episode VII - The Force Awakens       null           None   \n\n                            genres      director_name     actor_1_name  \\\n0  Action|Adventure|Fantasy|Sci-Fi      James Cameron      CCH Pounder   \n1         Action|Adventure|Fantasy     Gore Verbinski      Johnny Depp   \n2        Action|Adventure|Thriller         Sam Mendes  Christoph Waltz   \n3                  Action|Thriller  Christopher Nolan        Tom Hardy   \n4                      Documentary        Doug Walker      Doug Walker   \n\n       actor_2_name          actor_3_name  color country  ...  \\\n0  Joel David Moore             Wes Studi  Color     USA  ...   \n1     Orlando Bloom        Jack Davenport  Color     USA  ...   \n2      Rory Kinnear      Stephanie Sigman  Color      UK  ...   \n3    Christian Bale  Joseph Gordon-Levitt  Color     USA  ...   \n4        Rob Walker                  None   None    None  ...   \n\n  movie_facebook_likes       budget        gross num_voted_users  \\\n0                33000  237000000.0  760505847.0          886204   \n1                    0  300000000.0  309404152.0          471220   \n2                85000  245000000.0  200074175.0          275868   \n3               164000  250000000.0  448130642.0         1144337   \n4                    0         null         null               8   \n\n  num_user_for_reviews  num_critic_for_reviews imdb_score duration  \\\n0               3054.0                   723.0        7.9    178.0   \n1               1238.0                   302.0        7.1    169.0   \n2                994.0                   602.0        6.8    148.0   \n3               2701.0                   813.0        8.5    164.0   \n4                 null                    null        7.1     null   \n\n   aspect_ratio facenumber_in_poster  \n0          1.78                  0.0  \n1          2.35                  0.0  \n2          2.35                  1.0  \n3          2.35                  0.0  \n4          null                  0.0  \n\n[5 rows x 28 columns]",
      "text/html": "<div>\n<style scoped>\n    .dataframe tbody tr th:only-of-type {\n        vertical-align: middle;\n    }\n\n    .dataframe tbody tr th {\n        vertical-align: top;\n    }\n\n    .dataframe thead th {\n        text-align: right;\n    }\n</style>\n<table border=\"1\" class=\"dataframe\">\n  <thead>\n    <tr style=\"text-align: right;\">\n      <th></th>\n      <th>movie_title</th>\n      <th>title_year</th>\n      <th>content_rating</th>\n      <th>genres</th>\n      <th>director_name</th>\n      <th>actor_1_name</th>\n      <th>actor_2_name</th>\n      <th>actor_3_name</th>\n      <th>color</th>\n      <th>country</th>\n      <th>...</th>\n      <th>movie_facebook_likes</th>\n      <th>budget</th>\n      <th>gross</th>\n      <th>num_voted_users</th>\n      <th>num_user_for_reviews</th>\n      <th>num_critic_for_reviews</th>\n      <th>imdb_score</th>\n      <th>duration</th>\n      <th>aspect_ratio</th>\n      <th>facenumber_in_poster</th>\n    </tr>\n  </thead>\n  <tbody>\n    <tr>\n      <th>0</th>\n      <td>Avatar</td>\n      <td>2009.0</td>\n      <td>PG-13</td>\n      <td>Action|Adventure|Fantasy|Sci-Fi</td>\n      <td>James Cameron</td>\n      <td>CCH Pounder</td>\n      <td>Joel David Moore</td>\n      <td>Wes Studi</td>\n      <td>Color</td>\n      <td>USA</td>\n      <td>...</td>\n      <td>33000</td>\n      <td>237000000.0</td>\n      <td>760505847.0</td>\n      <td>886204</td>\n      <td>3054.0</td>\n      <td>723.0</td>\n      <td>7.9</td>\n      <td>178.0</td>\n      <td>1.78</td>\n      <td>0.0</td>\n    </tr>\n    <tr>\n      <th>1</th>\n      <td>Pirates of the Caribbean: At World's End</td>\n      <td>2007.0</td>\n      <td>PG-13</td>\n      <td>Action|Adventure|Fantasy</td>\n      <td>Gore Verbinski</td>\n      <td>Johnny Depp</td>\n      <td>Orlando Bloom</td>\n      <td>Jack Davenport</td>\n      <td>Color</td>\n      <td>USA</td>\n      <td>...</td>\n      <td>0</td>\n      <td>300000000.0</td>\n      <td>309404152.0</td>\n      <td>471220</td>\n      <td>1238.0</td>\n      <td>302.0</td>\n      <td>7.1</td>\n      <td>169.0</td>\n      <td>2.35</td>\n      <td>0.0</td>\n    </tr>\n    <tr>\n      <th>2</th>\n      <td>Spectre</td>\n      <td>2015.0</td>\n      <td>PG-13</td>\n      <td>Action|Adventure|Thriller</td>\n      <td>Sam Mendes</td>\n      <td>Christoph Waltz</td>\n      <td>Rory Kinnear</td>\n      <td>Stephanie Sigman</td>\n      <td>Color</td>\n      <td>UK</td>\n      <td>...</td>\n      <td>85000</td>\n      <td>245000000.0</td>\n      <td>200074175.0</td>\n      <td>275868</td>\n      <td>994.0</td>\n      <td>602.0</td>\n      <td>6.8</td>\n      <td>148.0</td>\n      <td>2.35</td>\n      <td>1.0</td>\n    </tr>\n    <tr>\n      <th>3</th>\n      <td>The Dark Knight Rises</td>\n      <td>2012.0</td>\n      <td>PG-13</td>\n      <td>Action|Thriller</td>\n      <td>Christopher Nolan</td>\n      <td>Tom Hardy</td>\n      <td>Christian Bale</td>\n      <td>Joseph Gordon-Levitt</td>\n      <td>Color</td>\n      <td>USA</td>\n      <td>...</td>\n      <td>164000</td>\n      <td>250000000.0</td>\n      <td>448130642.0</td>\n      <td>1144337</td>\n      <td>2701.0</td>\n      <td>813.0</td>\n      <td>8.5</td>\n      <td>164.0</td>\n      <td>2.35</td>\n      <td>0.0</td>\n    </tr>\n    <tr>\n      <th>4</th>\n      <td>Star Wars: Episode VII - The Force Awakens</td>\n      <td>null</td>\n      <td>None</td>\n      <td>Documentary</td>\n      <td>Doug Walker</td>\n      <td>Doug Walker</td>\n      <td>Rob Walker</td>\n      <td>None</td>\n      <td>None</td>\n      <td>None</td>\n      <td>...</td>\n      <td>0</td>\n      <td>null</td>\n      <td>null</td>\n      <td>8</td>\n      <td>null</td>\n      <td>null</td>\n      <td>7.1</td>\n      <td>null</td>\n      <td>null</td>\n      <td>0.0</td>\n    </tr>\n  </tbody>\n</table>\n<p>5 rows × 28 columns</p>\n</div>"
     },
     "metadata": {},
     "output_type": "execute_result",
     "execution_count": 37
    }
   ],
   "source": [
    "movie2 = movie[new_col_order]\n",
    "movie2.head()"
   ],
   "metadata": {
    "collapsed": false,
    "pycharm": {
     "name": "#%%\n",
     "is_executing": false
    }
   }
  },
  {
   "cell_type": "code",
   "execution_count": 24,
   "outputs": [
    {
     "data": {
      "text/plain": "(4916, 28)"
     },
     "metadata": {},
     "output_type": "execute_result",
     "execution_count": 24
    }
   ],
   "source": [
    "#对整个表进行操作\n",
    "movie = cudf.read_csv('../Data/movie.csv')\n",
    "movie.shape"
   ],
   "metadata": {
    "collapsed": false,
    "pycharm": {
     "name": "#%%\n",
     "is_executing": false
    }
   }
  },
  {
   "cell_type": "code",
   "execution_count": 15,
   "outputs": [
    {
     "data": {
      "text/plain": "2"
     },
     "metadata": {},
     "output_type": "execute_result",
     "execution_count": 15
    }
   ],
   "source": [
    "movie.ndim"
   ],
   "metadata": {
    "collapsed": false,
    "pycharm": {
     "name": "#%%\n",
     "is_executing": false
    }
   }
  },
  {
   "cell_type": "code",
   "execution_count": 16,
   "outputs": [
    {
     "data": {
      "text/plain": "4916"
     },
     "metadata": {},
     "output_type": "execute_result",
     "execution_count": 16
    }
   ],
   "source": [
    "len(movie)"
   ],
   "metadata": {
    "collapsed": false,
    "pycharm": {
     "name": "#%%\n",
     "is_executing": false
    }
   }
  },
  {
   "cell_type": "code",
   "execution_count": 17,
   "outputs": [
    {
     "data": {
      "text/plain": "color                        4897\ndirector_name                4814\nnum_critic_for_reviews       4867\nduration                     4901\ndirector_facebook_likes      4814\nactor_3_facebook_likes       4893\nactor_2_name                 4903\nactor_1_facebook_likes       4909\ngross                        4054\ngenres                       4916\nactor_1_name                 4909\nmovie_title                  4916\nnum_voted_users              4916\ncast_total_facebook_likes    4916\nactor_3_name                 4893\nfacenumber_in_poster         4903\nplot_keywords                4764\nmovie_imdb_link              4916\nnum_user_for_reviews         4895\nlanguage                     4904\ncountry                      4911\ncontent_rating               4616\nbudget                       4432\ntitle_year                   4810\nactor_2_facebook_likes       4903\nimdb_score                   4916\naspect_ratio                 4590\nmovie_facebook_likes         4916\ndtype: int64"
     },
     "metadata": {},
     "output_type": "execute_result",
     "execution_count": 17
    }
   ],
   "source": [
    "movie.count()"
   ],
   "metadata": {
    "collapsed": false,
    "pycharm": {
     "name": "#%%\n",
     "is_executing": false
    }
   }
  },
  {
   "cell_type": "code",
   "execution_count": 18,
   "outputs": [
    {
     "data": {
      "text/plain": "       num_critic_for_reviews     duration  director_facebook_likes  \\\ncount             4867.000000  4901.000000              4814.000000   \nmean               137.988905   107.090798               691.014541   \nstd                120.239379    25.286015              2832.954125   \nmin                  1.000000     7.000000                 0.000000   \n25%                 49.000000    93.000000                 7.000000   \n50%                108.000000   103.000000                48.000000   \n75%                191.000000   118.000000               189.750000   \nmax                813.000000   511.000000             23000.000000   \n\n       actor_3_facebook_likes  actor_1_facebook_likes         gross  \\\ncount             4893.000000             4909.000000  4.054000e+03   \nmean               631.276313             6494.488491  4.764451e+07   \nstd               1625.874802            15106.986884  6.737255e+07   \nmin                  0.000000                0.000000  1.620000e+02   \n25%                132.000000              607.000000  5.019656e+06   \n50%                366.000000              982.000000  2.504396e+07   \n75%                633.000000            11000.000000  6.110841e+07   \nmax              23000.000000           640000.000000  7.605058e+08   \n\n       num_voted_users  cast_total_facebook_likes  facenumber_in_poster  \\\ncount     4.916000e+03                4916.000000           4903.000000   \nmean      8.264492e+04                9579.815907              1.377320   \nstd       1.383222e+05               18164.316990              2.023826   \nmin       5.000000e+00                   0.000000              0.000000   \n25%       8.361750e+03                1394.750000              0.000000   \n50%       3.313250e+04                3049.000000              1.000000   \n75%       9.377275e+04               13616.750000              2.000000   \nmax       1.689764e+06              656730.000000             43.000000   \n\n       num_user_for_reviews        budget   title_year  \\\ncount           4895.000000  4.432000e+03  4810.000000   \nmean             267.668846  3.654749e+07  2002.447609   \nstd              372.934839  1.002427e+08    12.453977   \nmin                1.000000  2.180000e+02  1916.000000   \n25%               64.000000  6.000000e+06  1999.000000   \n50%              153.000000  1.985000e+07  2005.000000   \n75%              320.500000  4.300000e+07  2011.000000   \nmax             5060.000000  4.200000e+09  2016.000000   \n\n       actor_2_facebook_likes   imdb_score  aspect_ratio  movie_facebook_likes  \ncount             4903.000000  4916.000000   4590.000000           4916.000000  \nmean              1621.923516     6.437429      2.222349           7348.294142  \nstd               4011.299523     1.127802      1.402940          19206.016458  \nmin                  0.000000     1.600000      1.180000              0.000000  \n25%                277.000000     5.800000      1.850000              0.000000  \n50%                593.000000     6.600000      2.350000            159.000000  \n75%                912.000000     7.200000      2.350000           2000.000000  \nmax             137000.000000     9.500000     16.000000         349000.000000  ",
      "text/html": "<div>\n<style scoped>\n    .dataframe tbody tr th:only-of-type {\n        vertical-align: middle;\n    }\n\n    .dataframe tbody tr th {\n        vertical-align: top;\n    }\n\n    .dataframe thead th {\n        text-align: right;\n    }\n</style>\n<table border=\"1\" class=\"dataframe\">\n  <thead>\n    <tr style=\"text-align: right;\">\n      <th></th>\n      <th>num_critic_for_reviews</th>\n      <th>duration</th>\n      <th>director_facebook_likes</th>\n      <th>actor_3_facebook_likes</th>\n      <th>actor_1_facebook_likes</th>\n      <th>gross</th>\n      <th>num_voted_users</th>\n      <th>cast_total_facebook_likes</th>\n      <th>facenumber_in_poster</th>\n      <th>num_user_for_reviews</th>\n      <th>budget</th>\n      <th>title_year</th>\n      <th>actor_2_facebook_likes</th>\n      <th>imdb_score</th>\n      <th>aspect_ratio</th>\n      <th>movie_facebook_likes</th>\n    </tr>\n  </thead>\n  <tbody>\n    <tr>\n      <th>count</th>\n      <td>4867.000000</td>\n      <td>4901.000000</td>\n      <td>4814.000000</td>\n      <td>4893.000000</td>\n      <td>4909.000000</td>\n      <td>4.054000e+03</td>\n      <td>4.916000e+03</td>\n      <td>4916.000000</td>\n      <td>4903.000000</td>\n      <td>4895.000000</td>\n      <td>4.432000e+03</td>\n      <td>4810.000000</td>\n      <td>4903.000000</td>\n      <td>4916.000000</td>\n      <td>4590.000000</td>\n      <td>4916.000000</td>\n    </tr>\n    <tr>\n      <th>mean</th>\n      <td>137.988905</td>\n      <td>107.090798</td>\n      <td>691.014541</td>\n      <td>631.276313</td>\n      <td>6494.488491</td>\n      <td>4.764451e+07</td>\n      <td>8.264492e+04</td>\n      <td>9579.815907</td>\n      <td>1.377320</td>\n      <td>267.668846</td>\n      <td>3.654749e+07</td>\n      <td>2002.447609</td>\n      <td>1621.923516</td>\n      <td>6.437429</td>\n      <td>2.222349</td>\n      <td>7348.294142</td>\n    </tr>\n    <tr>\n      <th>std</th>\n      <td>120.239379</td>\n      <td>25.286015</td>\n      <td>2832.954125</td>\n      <td>1625.874802</td>\n      <td>15106.986884</td>\n      <td>6.737255e+07</td>\n      <td>1.383222e+05</td>\n      <td>18164.316990</td>\n      <td>2.023826</td>\n      <td>372.934839</td>\n      <td>1.002427e+08</td>\n      <td>12.453977</td>\n      <td>4011.299523</td>\n      <td>1.127802</td>\n      <td>1.402940</td>\n      <td>19206.016458</td>\n    </tr>\n    <tr>\n      <th>min</th>\n      <td>1.000000</td>\n      <td>7.000000</td>\n      <td>0.000000</td>\n      <td>0.000000</td>\n      <td>0.000000</td>\n      <td>1.620000e+02</td>\n      <td>5.000000e+00</td>\n      <td>0.000000</td>\n      <td>0.000000</td>\n      <td>1.000000</td>\n      <td>2.180000e+02</td>\n      <td>1916.000000</td>\n      <td>0.000000</td>\n      <td>1.600000</td>\n      <td>1.180000</td>\n      <td>0.000000</td>\n    </tr>\n    <tr>\n      <th>25%</th>\n      <td>49.000000</td>\n      <td>93.000000</td>\n      <td>7.000000</td>\n      <td>132.000000</td>\n      <td>607.000000</td>\n      <td>5.019656e+06</td>\n      <td>8.361750e+03</td>\n      <td>1394.750000</td>\n      <td>0.000000</td>\n      <td>64.000000</td>\n      <td>6.000000e+06</td>\n      <td>1999.000000</td>\n      <td>277.000000</td>\n      <td>5.800000</td>\n      <td>1.850000</td>\n      <td>0.000000</td>\n    </tr>\n    <tr>\n      <th>50%</th>\n      <td>108.000000</td>\n      <td>103.000000</td>\n      <td>48.000000</td>\n      <td>366.000000</td>\n      <td>982.000000</td>\n      <td>2.504396e+07</td>\n      <td>3.313250e+04</td>\n      <td>3049.000000</td>\n      <td>1.000000</td>\n      <td>153.000000</td>\n      <td>1.985000e+07</td>\n      <td>2005.000000</td>\n      <td>593.000000</td>\n      <td>6.600000</td>\n      <td>2.350000</td>\n      <td>159.000000</td>\n    </tr>\n    <tr>\n      <th>75%</th>\n      <td>191.000000</td>\n      <td>118.000000</td>\n      <td>189.750000</td>\n      <td>633.000000</td>\n      <td>11000.000000</td>\n      <td>6.110841e+07</td>\n      <td>9.377275e+04</td>\n      <td>13616.750000</td>\n      <td>2.000000</td>\n      <td>320.500000</td>\n      <td>4.300000e+07</td>\n      <td>2011.000000</td>\n      <td>912.000000</td>\n      <td>7.200000</td>\n      <td>2.350000</td>\n      <td>2000.000000</td>\n    </tr>\n    <tr>\n      <th>max</th>\n      <td>813.000000</td>\n      <td>511.000000</td>\n      <td>23000.000000</td>\n      <td>23000.000000</td>\n      <td>640000.000000</td>\n      <td>7.605058e+08</td>\n      <td>1.689764e+06</td>\n      <td>656730.000000</td>\n      <td>43.000000</td>\n      <td>5060.000000</td>\n      <td>4.200000e+09</td>\n      <td>2016.000000</td>\n      <td>137000.000000</td>\n      <td>9.500000</td>\n      <td>16.000000</td>\n      <td>349000.000000</td>\n    </tr>\n  </tbody>\n</table>\n</div>"
     },
     "metadata": {},
     "output_type": "execute_result",
     "execution_count": 18
    }
   ],
   "source": [
    "movie.describe()"
   ],
   "metadata": {
    "collapsed": false,
    "pycharm": {
     "name": "#%%\n",
     "is_executing": false
    }
   }
  },
  {
   "cell_type": "code",
   "execution_count": 19,
   "outputs": [
    {
     "data": {
      "text/plain": "       num_critic_for_reviews     duration  director_facebook_likes  \\\ncount             4867.000000  4901.000000              4814.000000   \nmean               137.988905   107.090798               691.014541   \nstd                120.239379    25.286015              2832.954125   \nmin                  1.000000     7.000000                 0.000000   \n1%                   2.000000    43.000000                 0.000000   \n30%                 60.000000    95.000000                11.000000   \n50%                108.000000   103.000000                48.000000   \n99%                546.680000   189.000000             16000.000000   \nmax                813.000000   511.000000             23000.000000   \n\n       actor_3_facebook_likes  actor_1_facebook_likes         gross  \\\ncount             4893.000000             4909.000000  4.054000e+03   \nmean               631.276313             6494.488491  4.764451e+07   \nstd               1625.874802            15106.986884  6.737255e+07   \nmin                  0.000000                0.000000  1.620000e+02   \n1%                   0.000000                6.080000  8.474800e+03   \n30%                176.000000              694.000000  7.914069e+06   \n50%                366.000000              982.000000  2.504396e+07   \n99%              11000.000000            44920.000000  3.264128e+08   \nmax              23000.000000           640000.000000  7.605058e+08   \n\n       num_voted_users  cast_total_facebook_likes  facenumber_in_poster  \\\ncount     4.916000e+03                4916.000000           4903.000000   \nmean      8.264492e+04                9579.815907              1.377320   \nstd       1.383222e+05               18164.316990              2.023826   \nmin       5.000000e+00                   0.000000              0.000000   \n1%        5.300000e+01                   6.000000              0.000000   \n30%       1.186450e+04                1684.500000              0.000000   \n50%       3.313250e+04                3049.000000              1.000000   \n99%       6.815846e+05               62413.900000              8.000000   \nmax       1.689764e+06              656730.000000             43.000000   \n\n       num_user_for_reviews        budget   title_year  \\\ncount           4895.000000  4.432000e+03  4810.000000   \nmean             267.668846  3.654749e+07  2002.447609   \nstd              372.934839  1.002427e+08    12.453977   \nmin                1.000000  2.180000e+02  1916.000000   \n1%                 1.940000  6.000000e+04  1951.000000   \n30%               80.000000  8.000000e+06  2000.000000   \n50%              153.000000  1.985000e+07  2005.000000   \n99%             1999.240000  2.000000e+08  2016.000000   \nmax             5060.000000  4.200000e+09  2016.000000   \n\n       actor_2_facebook_likes   imdb_score  aspect_ratio  movie_facebook_likes  \ncount             4903.000000  4916.000000   4590.000000           4916.000000  \nmean              1621.923516     6.437429      2.222349           7348.294142  \nstd               4011.299523     1.127802      1.402940          19206.016458  \nmin                  0.000000     1.600000      1.180000              0.000000  \n1%                   0.000000     3.100000      1.330000              0.000000  \n30%                345.000000     6.000000      1.850000              0.000000  \n50%                593.000000     6.600000      2.350000            159.000000  \n99%              17000.000000     8.500000      4.000000          93850.000000  \nmax             137000.000000     9.500000     16.000000         349000.000000  ",
      "text/html": "<div>\n<style scoped>\n    .dataframe tbody tr th:only-of-type {\n        vertical-align: middle;\n    }\n\n    .dataframe tbody tr th {\n        vertical-align: top;\n    }\n\n    .dataframe thead th {\n        text-align: right;\n    }\n</style>\n<table border=\"1\" class=\"dataframe\">\n  <thead>\n    <tr style=\"text-align: right;\">\n      <th></th>\n      <th>num_critic_for_reviews</th>\n      <th>duration</th>\n      <th>director_facebook_likes</th>\n      <th>actor_3_facebook_likes</th>\n      <th>actor_1_facebook_likes</th>\n      <th>gross</th>\n      <th>num_voted_users</th>\n      <th>cast_total_facebook_likes</th>\n      <th>facenumber_in_poster</th>\n      <th>num_user_for_reviews</th>\n      <th>budget</th>\n      <th>title_year</th>\n      <th>actor_2_facebook_likes</th>\n      <th>imdb_score</th>\n      <th>aspect_ratio</th>\n      <th>movie_facebook_likes</th>\n    </tr>\n  </thead>\n  <tbody>\n    <tr>\n      <th>count</th>\n      <td>4867.000000</td>\n      <td>4901.000000</td>\n      <td>4814.000000</td>\n      <td>4893.000000</td>\n      <td>4909.000000</td>\n      <td>4.054000e+03</td>\n      <td>4.916000e+03</td>\n      <td>4916.000000</td>\n      <td>4903.000000</td>\n      <td>4895.000000</td>\n      <td>4.432000e+03</td>\n      <td>4810.000000</td>\n      <td>4903.000000</td>\n      <td>4916.000000</td>\n      <td>4590.000000</td>\n      <td>4916.000000</td>\n    </tr>\n    <tr>\n      <th>mean</th>\n      <td>137.988905</td>\n      <td>107.090798</td>\n      <td>691.014541</td>\n      <td>631.276313</td>\n      <td>6494.488491</td>\n      <td>4.764451e+07</td>\n      <td>8.264492e+04</td>\n      <td>9579.815907</td>\n      <td>1.377320</td>\n      <td>267.668846</td>\n      <td>3.654749e+07</td>\n      <td>2002.447609</td>\n      <td>1621.923516</td>\n      <td>6.437429</td>\n      <td>2.222349</td>\n      <td>7348.294142</td>\n    </tr>\n    <tr>\n      <th>std</th>\n      <td>120.239379</td>\n      <td>25.286015</td>\n      <td>2832.954125</td>\n      <td>1625.874802</td>\n      <td>15106.986884</td>\n      <td>6.737255e+07</td>\n      <td>1.383222e+05</td>\n      <td>18164.316990</td>\n      <td>2.023826</td>\n      <td>372.934839</td>\n      <td>1.002427e+08</td>\n      <td>12.453977</td>\n      <td>4011.299523</td>\n      <td>1.127802</td>\n      <td>1.402940</td>\n      <td>19206.016458</td>\n    </tr>\n    <tr>\n      <th>min</th>\n      <td>1.000000</td>\n      <td>7.000000</td>\n      <td>0.000000</td>\n      <td>0.000000</td>\n      <td>0.000000</td>\n      <td>1.620000e+02</td>\n      <td>5.000000e+00</td>\n      <td>0.000000</td>\n      <td>0.000000</td>\n      <td>1.000000</td>\n      <td>2.180000e+02</td>\n      <td>1916.000000</td>\n      <td>0.000000</td>\n      <td>1.600000</td>\n      <td>1.180000</td>\n      <td>0.000000</td>\n    </tr>\n    <tr>\n      <th>1%</th>\n      <td>2.000000</td>\n      <td>43.000000</td>\n      <td>0.000000</td>\n      <td>0.000000</td>\n      <td>6.080000</td>\n      <td>8.474800e+03</td>\n      <td>5.300000e+01</td>\n      <td>6.000000</td>\n      <td>0.000000</td>\n      <td>1.940000</td>\n      <td>6.000000e+04</td>\n      <td>1951.000000</td>\n      <td>0.000000</td>\n      <td>3.100000</td>\n      <td>1.330000</td>\n      <td>0.000000</td>\n    </tr>\n    <tr>\n      <th>30%</th>\n      <td>60.000000</td>\n      <td>95.000000</td>\n      <td>11.000000</td>\n      <td>176.000000</td>\n      <td>694.000000</td>\n      <td>7.914069e+06</td>\n      <td>1.186450e+04</td>\n      <td>1684.500000</td>\n      <td>0.000000</td>\n      <td>80.000000</td>\n      <td>8.000000e+06</td>\n      <td>2000.000000</td>\n      <td>345.000000</td>\n      <td>6.000000</td>\n      <td>1.850000</td>\n      <td>0.000000</td>\n    </tr>\n    <tr>\n      <th>50%</th>\n      <td>108.000000</td>\n      <td>103.000000</td>\n      <td>48.000000</td>\n      <td>366.000000</td>\n      <td>982.000000</td>\n      <td>2.504396e+07</td>\n      <td>3.313250e+04</td>\n      <td>3049.000000</td>\n      <td>1.000000</td>\n      <td>153.000000</td>\n      <td>1.985000e+07</td>\n      <td>2005.000000</td>\n      <td>593.000000</td>\n      <td>6.600000</td>\n      <td>2.350000</td>\n      <td>159.000000</td>\n    </tr>\n    <tr>\n      <th>99%</th>\n      <td>546.680000</td>\n      <td>189.000000</td>\n      <td>16000.000000</td>\n      <td>11000.000000</td>\n      <td>44920.000000</td>\n      <td>3.264128e+08</td>\n      <td>6.815846e+05</td>\n      <td>62413.900000</td>\n      <td>8.000000</td>\n      <td>1999.240000</td>\n      <td>2.000000e+08</td>\n      <td>2016.000000</td>\n      <td>17000.000000</td>\n      <td>8.500000</td>\n      <td>4.000000</td>\n      <td>93850.000000</td>\n    </tr>\n    <tr>\n      <th>max</th>\n      <td>813.000000</td>\n      <td>511.000000</td>\n      <td>23000.000000</td>\n      <td>23000.000000</td>\n      <td>640000.000000</td>\n      <td>7.605058e+08</td>\n      <td>1.689764e+06</td>\n      <td>656730.000000</td>\n      <td>43.000000</td>\n      <td>5060.000000</td>\n      <td>4.200000e+09</td>\n      <td>2016.000000</td>\n      <td>137000.000000</td>\n      <td>9.500000</td>\n      <td>16.000000</td>\n      <td>349000.000000</td>\n    </tr>\n  </tbody>\n</table>\n</div>"
     },
     "metadata": {},
     "output_type": "execute_result",
     "execution_count": 19
    }
   ],
   "source": [
    "movie.describe(percentiles=[.01,.3,.99])"
   ],
   "metadata": {
    "collapsed": false,
    "pycharm": {
     "name": "#%%\n",
     "is_executing": false
    }
   }
  },
  {
   "cell_type": "code",
   "execution_count": 22,
   "outputs": [
    {
     "data": {
      "text/plain": "   color  director_name  num_critic_for_reviews  duration  \\\n0  False          False                   False     False   \n1  False          False                   False     False   \n2  False          False                   False     False   \n3  False          False                   False     False   \n4   True          False                    True      True   \n\n   director_facebook_likes  actor_3_facebook_likes  actor_2_name  \\\n0                    False                   False         False   \n1                    False                   False         False   \n2                    False                   False         False   \n3                    False                   False         False   \n4                    False                    True         False   \n\n   actor_1_facebook_likes  gross  genres  ...  num_user_for_reviews  language  \\\n0                   False  False   False  ...                 False     False   \n1                   False  False   False  ...                 False     False   \n2                   False  False   False  ...                 False     False   \n3                   False  False   False  ...                 False     False   \n4                   False   True   False  ...                  True      True   \n\n   country  content_rating  budget  title_year  actor_2_facebook_likes  \\\n0    False           False   False       False                   False   \n1    False           False   False       False                   False   \n2    False           False   False       False                   False   \n3    False           False   False       False                   False   \n4     True            True    True        True                   False   \n\n   imdb_score  aspect_ratio  movie_facebook_likes  \n0       False         False                 False  \n1       False         False                 False  \n2       False         False                 False  \n3       False         False                 False  \n4       False          True                 False  \n\n[5 rows x 28 columns]",
      "text/html": "<div>\n<style scoped>\n    .dataframe tbody tr th:only-of-type {\n        vertical-align: middle;\n    }\n\n    .dataframe tbody tr th {\n        vertical-align: top;\n    }\n\n    .dataframe thead th {\n        text-align: right;\n    }\n</style>\n<table border=\"1\" class=\"dataframe\">\n  <thead>\n    <tr style=\"text-align: right;\">\n      <th></th>\n      <th>color</th>\n      <th>director_name</th>\n      <th>num_critic_for_reviews</th>\n      <th>duration</th>\n      <th>director_facebook_likes</th>\n      <th>actor_3_facebook_likes</th>\n      <th>actor_2_name</th>\n      <th>actor_1_facebook_likes</th>\n      <th>gross</th>\n      <th>genres</th>\n      <th>...</th>\n      <th>num_user_for_reviews</th>\n      <th>language</th>\n      <th>country</th>\n      <th>content_rating</th>\n      <th>budget</th>\n      <th>title_year</th>\n      <th>actor_2_facebook_likes</th>\n      <th>imdb_score</th>\n      <th>aspect_ratio</th>\n      <th>movie_facebook_likes</th>\n    </tr>\n  </thead>\n  <tbody>\n    <tr>\n      <th>0</th>\n      <td>False</td>\n      <td>False</td>\n      <td>False</td>\n      <td>False</td>\n      <td>False</td>\n      <td>False</td>\n      <td>False</td>\n      <td>False</td>\n      <td>False</td>\n      <td>False</td>\n      <td>...</td>\n      <td>False</td>\n      <td>False</td>\n      <td>False</td>\n      <td>False</td>\n      <td>False</td>\n      <td>False</td>\n      <td>False</td>\n      <td>False</td>\n      <td>False</td>\n      <td>False</td>\n    </tr>\n    <tr>\n      <th>1</th>\n      <td>False</td>\n      <td>False</td>\n      <td>False</td>\n      <td>False</td>\n      <td>False</td>\n      <td>False</td>\n      <td>False</td>\n      <td>False</td>\n      <td>False</td>\n      <td>False</td>\n      <td>...</td>\n      <td>False</td>\n      <td>False</td>\n      <td>False</td>\n      <td>False</td>\n      <td>False</td>\n      <td>False</td>\n      <td>False</td>\n      <td>False</td>\n      <td>False</td>\n      <td>False</td>\n    </tr>\n    <tr>\n      <th>2</th>\n      <td>False</td>\n      <td>False</td>\n      <td>False</td>\n      <td>False</td>\n      <td>False</td>\n      <td>False</td>\n      <td>False</td>\n      <td>False</td>\n      <td>False</td>\n      <td>False</td>\n      <td>...</td>\n      <td>False</td>\n      <td>False</td>\n      <td>False</td>\n      <td>False</td>\n      <td>False</td>\n      <td>False</td>\n      <td>False</td>\n      <td>False</td>\n      <td>False</td>\n      <td>False</td>\n    </tr>\n    <tr>\n      <th>3</th>\n      <td>False</td>\n      <td>False</td>\n      <td>False</td>\n      <td>False</td>\n      <td>False</td>\n      <td>False</td>\n      <td>False</td>\n      <td>False</td>\n      <td>False</td>\n      <td>False</td>\n      <td>...</td>\n      <td>False</td>\n      <td>False</td>\n      <td>False</td>\n      <td>False</td>\n      <td>False</td>\n      <td>False</td>\n      <td>False</td>\n      <td>False</td>\n      <td>False</td>\n      <td>False</td>\n    </tr>\n    <tr>\n      <th>4</th>\n      <td>True</td>\n      <td>False</td>\n      <td>True</td>\n      <td>True</td>\n      <td>False</td>\n      <td>True</td>\n      <td>False</td>\n      <td>False</td>\n      <td>True</td>\n      <td>False</td>\n      <td>...</td>\n      <td>True</td>\n      <td>True</td>\n      <td>True</td>\n      <td>True</td>\n      <td>True</td>\n      <td>True</td>\n      <td>False</td>\n      <td>False</td>\n      <td>True</td>\n      <td>False</td>\n    </tr>\n  </tbody>\n</table>\n<p>5 rows × 28 columns</p>\n</div>"
     },
     "metadata": {},
     "output_type": "execute_result",
     "execution_count": 22
    }
   ],
   "source": [
    "#更多的函数式操作\n",
    "movie.isnull().head()"
   ],
   "metadata": {
    "collapsed": false,
    "pycharm": {
     "name": "#%%\n",
     "is_executing": false
    }
   }
  },
  {
   "cell_type": "code",
   "execution_count": 25,
   "outputs": [
    {
     "data": {
      "text/plain": "color                       19\ndirector_name              102\nnum_critic_for_reviews      49\nduration                    15\ndirector_facebook_likes    102\ndtype: int64"
     },
     "metadata": {},
     "output_type": "execute_result",
     "execution_count": 25
    }
   ],
   "source": [
    "movie.isnull().sum().head()"
   ],
   "metadata": {
    "collapsed": false,
    "pycharm": {
     "name": "#%%\n",
     "is_executing": false
    }
   }
  },
  {
   "cell_type": "code",
   "execution_count": 26,
   "outputs": [
    {
     "data": {
      "text/plain": "2654"
     },
     "metadata": {},
     "output_type": "execute_result",
     "execution_count": 26
    }
   ],
   "source": [
    "movie.isnull().sum().sum()"
   ],
   "metadata": {
    "collapsed": false,
    "pycharm": {
     "name": "#%%\n",
     "is_executing": false
    }
   }
  },
  {
   "cell_type": "code",
   "execution_count": 27,
   "outputs": [
    {
     "data": {
      "text/plain": "True"
     },
     "metadata": {},
     "output_type": "execute_result",
     "execution_count": 27
    }
   ],
   "source": [
    "movie.isnull().any().any()"
   ],
   "metadata": {
    "collapsed": false,
    "pycharm": {
     "name": "#%%\n",
     "is_executing": false
    }
   }
  },
  {
   "cell_type": "code",
   "execution_count": 3,
   "outputs": [],
   "source": [
    "#字段名过滤\n",
    "college = cudf.read_csv('../Data/college.csv')\n",
    "# college_ugds_=college.filter 目前不支持"
   ],
   "metadata": {
    "collapsed": false,
    "pycharm": {
     "name": "#%%\n",
     "is_executing": false
    }
   }
  },
  {
   "cell_type": "code",
   "execution_count": null,
   "outputs": [],
   "source": [
    "\n"
   ],
   "metadata": {
    "collapsed": false,
    "pycharm": {
     "name": "#%%\n"
    }
   }
  }
 ],
 "metadata": {
  "kernelspec": {
   "display_name": "Python 3",
   "language": "python",
   "name": "python3"
  },
  "language_info": {
   "codemirror_mode": {
    "name": "ipython",
    "version": 2
   },
   "file_extension": ".py",
   "mimetype": "text/x-python",
   "name": "python",
   "nbconvert_exporter": "python",
   "pygments_lexer": "ipython2",
   "version": "2.7.6"
  },
  "pycharm": {
   "stem_cell": {
    "cell_type": "raw",
    "source": [],
    "metadata": {
     "collapsed": false
    }
   }
  }
 },
 "nbformat": 4,
 "nbformat_minor": 0
}