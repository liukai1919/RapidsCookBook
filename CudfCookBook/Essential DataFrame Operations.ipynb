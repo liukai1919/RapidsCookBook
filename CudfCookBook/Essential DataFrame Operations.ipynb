{
 "cells": [
  {
   "cell_type": "code",
   "execution_count": 1,
   "metadata": {
    "collapsed": true,
    "pycharm": {
     "is_executing": false
    }
   },
   "outputs": [],
   "source": [
    "import cudf\n",
    "\n",
    "movie = cudf.read_csv('../Data/movie.csv')"
   ]
  },
  {
   "cell_type": "code",
   "execution_count": 27,
   "outputs": [
    {
     "data": {
      "text/plain": "      actor_1_name      actor_2_name          actor_3_name      director_name\n0      CCH Pounder  Joel David Moore             Wes Studi      James Cameron\n1      Johnny Depp     Orlando Bloom        Jack Davenport     Gore Verbinski\n2  Christoph Waltz      Rory Kinnear      Stephanie Sigman         Sam Mendes\n3        Tom Hardy    Christian Bale  Joseph Gordon-Levitt  Christopher Nolan\n4      Doug Walker        Rob Walker                  None        Doug Walker",
      "text/html": "<div>\n<style scoped>\n    .dataframe tbody tr th:only-of-type {\n        vertical-align: middle;\n    }\n\n    .dataframe tbody tr th {\n        vertical-align: top;\n    }\n\n    .dataframe thead th {\n        text-align: right;\n    }\n</style>\n<table border=\"1\" class=\"dataframe\">\n  <thead>\n    <tr style=\"text-align: right;\">\n      <th></th>\n      <th>actor_1_name</th>\n      <th>actor_2_name</th>\n      <th>actor_3_name</th>\n      <th>director_name</th>\n    </tr>\n  </thead>\n  <tbody>\n    <tr>\n      <th>0</th>\n      <td>CCH Pounder</td>\n      <td>Joel David Moore</td>\n      <td>Wes Studi</td>\n      <td>James Cameron</td>\n    </tr>\n    <tr>\n      <th>1</th>\n      <td>Johnny Depp</td>\n      <td>Orlando Bloom</td>\n      <td>Jack Davenport</td>\n      <td>Gore Verbinski</td>\n    </tr>\n    <tr>\n      <th>2</th>\n      <td>Christoph Waltz</td>\n      <td>Rory Kinnear</td>\n      <td>Stephanie Sigman</td>\n      <td>Sam Mendes</td>\n    </tr>\n    <tr>\n      <th>3</th>\n      <td>Tom Hardy</td>\n      <td>Christian Bale</td>\n      <td>Joseph Gordon-Levitt</td>\n      <td>Christopher Nolan</td>\n    </tr>\n    <tr>\n      <th>4</th>\n      <td>Doug Walker</td>\n      <td>Rob Walker</td>\n      <td>None</td>\n      <td>Doug Walker</td>\n    </tr>\n  </tbody>\n</table>\n</div>"
     },
     "metadata": {},
     "output_type": "execute_result",
     "execution_count": 27
    }
   ],
   "source": [
    "#选择多个字段\n",
    "movie_actor_director = movie[['actor_1_name','actor_2_name','actor_3_name','director_name']]\n",
    "movie_actor_director.head()"
   ],
   "metadata": {
    "collapsed": false,
    "pycharm": {
     "name": "#%%\n",
     "is_executing": false
    }
   }
  },
  {
   "cell_type": "code",
   "execution_count": 33,
   "outputs": [
    {
     "data": {
      "text/plain": "   color      director_name num_critic_for_reviews duration  \\\n0  Color      James Cameron                  723.0    178.0   \n1  Color     Gore Verbinski                  302.0    169.0   \n2  Color         Sam Mendes                  602.0    148.0   \n3  Color  Christopher Nolan                  813.0    164.0   \n4   None        Doug Walker                   null     null   \n\n   director_facebook_likes actor_3_facebook_likes      actor_2_name  \\\n0                      0.0                  855.0  Joel David Moore   \n1                    563.0                 1000.0     Orlando Bloom   \n2                      0.0                  161.0      Rory Kinnear   \n3                  22000.0                23000.0    Christian Bale   \n4                    131.0                   null        Rob Walker   \n\n   actor_1_facebook_likes        gross                           genres  ...  \\\n0                  1000.0  760505847.0  Action|Adventure|Fantasy|Sci-Fi  ...   \n1                 40000.0  309404152.0         Action|Adventure|Fantasy  ...   \n2                 11000.0  200074175.0        Action|Adventure|Thriller  ...   \n3                 27000.0  448130642.0                  Action|Thriller  ...   \n4                   131.0         null                      Documentary  ...   \n\n  num_user_for_reviews language country content_rating       budget  \\\n0               3054.0  English     USA          PG-13  237000000.0   \n1               1238.0  English     USA          PG-13  300000000.0   \n2                994.0  English      UK          PG-13  245000000.0   \n3               2701.0  English     USA          PG-13  250000000.0   \n4                 null     None    None           None         null   \n\n  title_year actor_2_facebook_likes imdb_score  aspect_ratio  \\\n0     2009.0                  936.0        7.9          1.78   \n1     2007.0                 5000.0        7.1          2.35   \n2     2015.0                  393.0        6.8          2.35   \n3     2012.0                23000.0        8.5          2.35   \n4       null                   12.0        7.1          null   \n\n   movie_facebook_likes  \n0                 33000  \n1                     0  \n2                 85000  \n3                164000  \n4                     0  \n\n[5 rows x 28 columns]",
      "text/html": "<div>\n<style scoped>\n    .dataframe tbody tr th:only-of-type {\n        vertical-align: middle;\n    }\n\n    .dataframe tbody tr th {\n        vertical-align: top;\n    }\n\n    .dataframe thead th {\n        text-align: right;\n    }\n</style>\n<table border=\"1\" class=\"dataframe\">\n  <thead>\n    <tr style=\"text-align: right;\">\n      <th></th>\n      <th>color</th>\n      <th>director_name</th>\n      <th>num_critic_for_reviews</th>\n      <th>duration</th>\n      <th>director_facebook_likes</th>\n      <th>actor_3_facebook_likes</th>\n      <th>actor_2_name</th>\n      <th>actor_1_facebook_likes</th>\n      <th>gross</th>\n      <th>genres</th>\n      <th>...</th>\n      <th>num_user_for_reviews</th>\n      <th>language</th>\n      <th>country</th>\n      <th>content_rating</th>\n      <th>budget</th>\n      <th>title_year</th>\n      <th>actor_2_facebook_likes</th>\n      <th>imdb_score</th>\n      <th>aspect_ratio</th>\n      <th>movie_facebook_likes</th>\n    </tr>\n  </thead>\n  <tbody>\n    <tr>\n      <th>0</th>\n      <td>Color</td>\n      <td>James Cameron</td>\n      <td>723.0</td>\n      <td>178.0</td>\n      <td>0.0</td>\n      <td>855.0</td>\n      <td>Joel David Moore</td>\n      <td>1000.0</td>\n      <td>760505847.0</td>\n      <td>Action|Adventure|Fantasy|Sci-Fi</td>\n      <td>...</td>\n      <td>3054.0</td>\n      <td>English</td>\n      <td>USA</td>\n      <td>PG-13</td>\n      <td>237000000.0</td>\n      <td>2009.0</td>\n      <td>936.0</td>\n      <td>7.9</td>\n      <td>1.78</td>\n      <td>33000</td>\n    </tr>\n    <tr>\n      <th>1</th>\n      <td>Color</td>\n      <td>Gore Verbinski</td>\n      <td>302.0</td>\n      <td>169.0</td>\n      <td>563.0</td>\n      <td>1000.0</td>\n      <td>Orlando Bloom</td>\n      <td>40000.0</td>\n      <td>309404152.0</td>\n      <td>Action|Adventure|Fantasy</td>\n      <td>...</td>\n      <td>1238.0</td>\n      <td>English</td>\n      <td>USA</td>\n      <td>PG-13</td>\n      <td>300000000.0</td>\n      <td>2007.0</td>\n      <td>5000.0</td>\n      <td>7.1</td>\n      <td>2.35</td>\n      <td>0</td>\n    </tr>\n    <tr>\n      <th>2</th>\n      <td>Color</td>\n      <td>Sam Mendes</td>\n      <td>602.0</td>\n      <td>148.0</td>\n      <td>0.0</td>\n      <td>161.0</td>\n      <td>Rory Kinnear</td>\n      <td>11000.0</td>\n      <td>200074175.0</td>\n      <td>Action|Adventure|Thriller</td>\n      <td>...</td>\n      <td>994.0</td>\n      <td>English</td>\n      <td>UK</td>\n      <td>PG-13</td>\n      <td>245000000.0</td>\n      <td>2015.0</td>\n      <td>393.0</td>\n      <td>6.8</td>\n      <td>2.35</td>\n      <td>85000</td>\n    </tr>\n    <tr>\n      <th>3</th>\n      <td>Color</td>\n      <td>Christopher Nolan</td>\n      <td>813.0</td>\n      <td>164.0</td>\n      <td>22000.0</td>\n      <td>23000.0</td>\n      <td>Christian Bale</td>\n      <td>27000.0</td>\n      <td>448130642.0</td>\n      <td>Action|Thriller</td>\n      <td>...</td>\n      <td>2701.0</td>\n      <td>English</td>\n      <td>USA</td>\n      <td>PG-13</td>\n      <td>250000000.0</td>\n      <td>2012.0</td>\n      <td>23000.0</td>\n      <td>8.5</td>\n      <td>2.35</td>\n      <td>164000</td>\n    </tr>\n    <tr>\n      <th>4</th>\n      <td>None</td>\n      <td>Doug Walker</td>\n      <td>null</td>\n      <td>null</td>\n      <td>131.0</td>\n      <td>null</td>\n      <td>Rob Walker</td>\n      <td>131.0</td>\n      <td>null</td>\n      <td>Documentary</td>\n      <td>...</td>\n      <td>null</td>\n      <td>None</td>\n      <td>None</td>\n      <td>None</td>\n      <td>null</td>\n      <td>null</td>\n      <td>12.0</td>\n      <td>7.1</td>\n      <td>null</td>\n      <td>0</td>\n    </tr>\n  </tbody>\n</table>\n<p>5 rows × 28 columns</p>\n</div>"
     },
     "metadata": {},
     "output_type": "execute_result",
     "execution_count": 33
    }
   ],
   "source": [
    "#让字段名排列更易读\n",
    "movie = cudf.read_csv('../Data/movie.csv')\n",
    "movie.head()\n"
   ],
   "metadata": {
    "collapsed": false,
    "pycharm": {
     "name": "#%%\n",
     "is_executing": false
    }
   }
  },
  {
   "cell_type": "code",
   "execution_count": 34,
   "outputs": [
    {
     "data": {
      "text/plain": "Index(['color', 'director_name', 'num_critic_for_reviews', 'duration',\n       'director_facebook_likes', 'actor_3_facebook_likes', 'actor_2_name',\n       'actor_1_facebook_likes', 'gross', 'genres', 'actor_1_name',\n       'movie_title', 'num_voted_users', 'cast_total_facebook_likes',\n       'actor_3_name', 'facenumber_in_poster', 'plot_keywords',\n       'movie_imdb_link', 'num_user_for_reviews', 'language', 'country',\n       'content_rating', 'budget', 'title_year', 'actor_2_facebook_likes',\n       'imdb_score', 'aspect_ratio', 'movie_facebook_likes'],\n      dtype='object')"
     },
     "metadata": {},
     "output_type": "execute_result",
     "execution_count": 34
    }
   ],
   "source": [
    "movie.columns\n"
   ],
   "metadata": {
    "collapsed": false,
    "pycharm": {
     "name": "#%%\n",
     "is_executing": false
    }
   }
  },
  {
   "cell_type": "code",
   "execution_count": 35,
   "outputs": [],
   "source": [
    "disc_core=['movie_title','title_year','content_rating','genres']\n",
    "disc_people=['director_name','actor_1_name','actor_2_name','actor_3_name']\n",
    "disc_other=['color','country','language','plot_keywords','movie_imdb_link']\n",
    "cont_fb=['director_facebook_likes','actor_1_facebook_likes','actor_2_facebook_likes','actor_3_facebook_likes','cast_total_facebook_likes','movie_facebook_likes']\n",
    "cont_finance = ['budget','gross']\n",
    "cont_num_reviews = ['num_voted_users','num_user_for_reviews','num_critic_for_reviews']\n",
    "cont_other = ['imdb_score','duration','aspect_ratio','facenumber_in_poster']"
   ],
   "metadata": {
    "collapsed": false,
    "pycharm": {
     "name": "#%%\n",
     "is_executing": false
    }
   }
  },
  {
   "cell_type": "code",
   "execution_count": 36,
   "outputs": [
    {
     "data": {
      "text/plain": "True"
     },
     "metadata": {},
     "output_type": "execute_result",
     "execution_count": 36
    }
   ],
   "source": [
    "new_col_order = disc_core+disc_people+disc_other+cont_fb+cont_finance+cont_num_reviews+cont_other\n",
    "set(movie.columns) ==set(new_col_order)\n"
   ],
   "metadata": {
    "collapsed": false,
    "pycharm": {
     "name": "#%%\n",
     "is_executing": false
    }
   }
  },
  {
   "cell_type": "code",
   "execution_count": 37,
   "outputs": [
    {
     "data": {
      "text/plain": "                                  movie_title title_year content_rating  \\\n0                                      Avatar     2009.0          PG-13   \n1    Pirates of the Caribbean: At World's End     2007.0          PG-13   \n2                                     Spectre     2015.0          PG-13   \n3                       The Dark Knight Rises     2012.0          PG-13   \n4  Star Wars: Episode VII - The Force Awakens       null           None   \n\n                            genres      director_name     actor_1_name  \\\n0  Action|Adventure|Fantasy|Sci-Fi      James Cameron      CCH Pounder   \n1         Action|Adventure|Fantasy     Gore Verbinski      Johnny Depp   \n2        Action|Adventure|Thriller         Sam Mendes  Christoph Waltz   \n3                  Action|Thriller  Christopher Nolan        Tom Hardy   \n4                      Documentary        Doug Walker      Doug Walker   \n\n       actor_2_name          actor_3_name  color country  ...  \\\n0  Joel David Moore             Wes Studi  Color     USA  ...   \n1     Orlando Bloom        Jack Davenport  Color     USA  ...   \n2      Rory Kinnear      Stephanie Sigman  Color      UK  ...   \n3    Christian Bale  Joseph Gordon-Levitt  Color     USA  ...   \n4        Rob Walker                  None   None    None  ...   \n\n  movie_facebook_likes       budget        gross num_voted_users  \\\n0                33000  237000000.0  760505847.0          886204   \n1                    0  300000000.0  309404152.0          471220   \n2                85000  245000000.0  200074175.0          275868   \n3               164000  250000000.0  448130642.0         1144337   \n4                    0         null         null               8   \n\n  num_user_for_reviews  num_critic_for_reviews imdb_score duration  \\\n0               3054.0                   723.0        7.9    178.0   \n1               1238.0                   302.0        7.1    169.0   \n2                994.0                   602.0        6.8    148.0   \n3               2701.0                   813.0        8.5    164.0   \n4                 null                    null        7.1     null   \n\n   aspect_ratio facenumber_in_poster  \n0          1.78                  0.0  \n1          2.35                  0.0  \n2          2.35                  1.0  \n3          2.35                  0.0  \n4          null                  0.0  \n\n[5 rows x 28 columns]",
      "text/html": "<div>\n<style scoped>\n    .dataframe tbody tr th:only-of-type {\n        vertical-align: middle;\n    }\n\n    .dataframe tbody tr th {\n        vertical-align: top;\n    }\n\n    .dataframe thead th {\n        text-align: right;\n    }\n</style>\n<table border=\"1\" class=\"dataframe\">\n  <thead>\n    <tr style=\"text-align: right;\">\n      <th></th>\n      <th>movie_title</th>\n      <th>title_year</th>\n      <th>content_rating</th>\n      <th>genres</th>\n      <th>director_name</th>\n      <th>actor_1_name</th>\n      <th>actor_2_name</th>\n      <th>actor_3_name</th>\n      <th>color</th>\n      <th>country</th>\n      <th>...</th>\n      <th>movie_facebook_likes</th>\n      <th>budget</th>\n      <th>gross</th>\n      <th>num_voted_users</th>\n      <th>num_user_for_reviews</th>\n      <th>num_critic_for_reviews</th>\n      <th>imdb_score</th>\n      <th>duration</th>\n      <th>aspect_ratio</th>\n      <th>facenumber_in_poster</th>\n    </tr>\n  </thead>\n  <tbody>\n    <tr>\n      <th>0</th>\n      <td>Avatar</td>\n      <td>2009.0</td>\n      <td>PG-13</td>\n      <td>Action|Adventure|Fantasy|Sci-Fi</td>\n      <td>James Cameron</td>\n      <td>CCH Pounder</td>\n      <td>Joel David Moore</td>\n      <td>Wes Studi</td>\n      <td>Color</td>\n      <td>USA</td>\n      <td>...</td>\n      <td>33000</td>\n      <td>237000000.0</td>\n      <td>760505847.0</td>\n      <td>886204</td>\n      <td>3054.0</td>\n      <td>723.0</td>\n      <td>7.9</td>\n      <td>178.0</td>\n      <td>1.78</td>\n      <td>0.0</td>\n    </tr>\n    <tr>\n      <th>1</th>\n      <td>Pirates of the Caribbean: At World's End</td>\n      <td>2007.0</td>\n      <td>PG-13</td>\n      <td>Action|Adventure|Fantasy</td>\n      <td>Gore Verbinski</td>\n      <td>Johnny Depp</td>\n      <td>Orlando Bloom</td>\n      <td>Jack Davenport</td>\n      <td>Color</td>\n      <td>USA</td>\n      <td>...</td>\n      <td>0</td>\n      <td>300000000.0</td>\n      <td>309404152.0</td>\n      <td>471220</td>\n      <td>1238.0</td>\n      <td>302.0</td>\n      <td>7.1</td>\n      <td>169.0</td>\n      <td>2.35</td>\n      <td>0.0</td>\n    </tr>\n    <tr>\n      <th>2</th>\n      <td>Spectre</td>\n      <td>2015.0</td>\n      <td>PG-13</td>\n      <td>Action|Adventure|Thriller</td>\n      <td>Sam Mendes</td>\n      <td>Christoph Waltz</td>\n      <td>Rory Kinnear</td>\n      <td>Stephanie Sigman</td>\n      <td>Color</td>\n      <td>UK</td>\n      <td>...</td>\n      <td>85000</td>\n      <td>245000000.0</td>\n      <td>200074175.0</td>\n      <td>275868</td>\n      <td>994.0</td>\n      <td>602.0</td>\n      <td>6.8</td>\n      <td>148.0</td>\n      <td>2.35</td>\n      <td>1.0</td>\n    </tr>\n    <tr>\n      <th>3</th>\n      <td>The Dark Knight Rises</td>\n      <td>2012.0</td>\n      <td>PG-13</td>\n      <td>Action|Thriller</td>\n      <td>Christopher Nolan</td>\n      <td>Tom Hardy</td>\n      <td>Christian Bale</td>\n      <td>Joseph Gordon-Levitt</td>\n      <td>Color</td>\n      <td>USA</td>\n      <td>...</td>\n      <td>164000</td>\n      <td>250000000.0</td>\n      <td>448130642.0</td>\n      <td>1144337</td>\n      <td>2701.0</td>\n      <td>813.0</td>\n      <td>8.5</td>\n      <td>164.0</td>\n      <td>2.35</td>\n      <td>0.0</td>\n    </tr>\n    <tr>\n      <th>4</th>\n      <td>Star Wars: Episode VII - The Force Awakens</td>\n      <td>null</td>\n      <td>None</td>\n      <td>Documentary</td>\n      <td>Doug Walker</td>\n      <td>Doug Walker</td>\n      <td>Rob Walker</td>\n      <td>None</td>\n      <td>None</td>\n      <td>None</td>\n      <td>...</td>\n      <td>0</td>\n      <td>null</td>\n      <td>null</td>\n      <td>8</td>\n      <td>null</td>\n      <td>null</td>\n      <td>7.1</td>\n      <td>null</td>\n      <td>null</td>\n      <td>0.0</td>\n    </tr>\n  </tbody>\n</table>\n<p>5 rows × 28 columns</p>\n</div>"
     },
     "metadata": {},
     "output_type": "execute_result",
     "execution_count": 37
    }
   ],
   "source": [
    "movie2 = movie[new_col_order]\n",
    "movie2.head()\n"
   ],
   "metadata": {
    "collapsed": false,
    "pycharm": {
     "name": "#%%\n",
     "is_executing": false
    }
   }
  }
 ],
 "metadata": {
  "kernelspec": {
   "display_name": "Python 3",
   "language": "python",
   "name": "python3"
  },
  "language_info": {
   "codemirror_mode": {
    "name": "ipython",
    "version": 2
   },
   "file_extension": ".py",
   "mimetype": "text/x-python",
   "name": "python",
   "nbconvert_exporter": "python",
   "pygments_lexer": "ipython2",
   "version": "2.7.6"
  },
  "pycharm": {
   "stem_cell": {
    "cell_type": "raw",
    "source": [],
    "metadata": {
     "collapsed": false
    }
   }
  }
 },
 "nbformat": 4,
 "nbformat_minor": 0
}