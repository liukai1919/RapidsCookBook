{
 "cells": [
  {
   "cell_type": "code",
   "execution_count": 9,
   "metadata": {
    "collapsed": true,
    "pycharm": {
     "is_executing": false
    }
   },
   "outputs": [],
   "source": [
    "import cudf\n",
    "college = cudf.read_csv('../Data/college.csv')"
   ]
  },
  {
   "cell_type": "code",
   "execution_count": 4,
   "outputs": [
    {
     "data": {
      "text/plain": "                                INSTNM        CITY STABBR  HBCU  MENONLY  \\\n0             Alabama A & M University      Normal     AL   1.0      0.0   \n1  University of Alabama at Birmingham  Birmingham     AL   0.0      0.0   \n2                   Amridge University  Montgomery     AL   0.0      0.0   \n3  University of Alabama in Huntsville  Huntsville     AL   0.0      0.0   \n4             Alabama State University  Montgomery     AL   1.0      0.0   \n\n   WOMENONLY  RELAFFIL SATVRMID SATMTMID  DISTANCEONLY  ...  UGDS_2MOR  \\\n0        0.0         0    424.0    420.0           0.0  ...     0.0000   \n1        0.0         0    570.0    565.0           0.0  ...     0.0368   \n2        0.0         1     null     null           1.0  ...     0.0000   \n3        0.0         0    595.0    590.0           0.0  ...     0.0172   \n4        0.0         0    425.0    430.0           0.0  ...     0.0098   \n\n   UGDS_NRA  UGDS_UNKN  PPTUG_EF  CURROPER  PCTPELL  PCTFLOAN  UG25ABV  \\\n0    0.0059     0.0138    0.0656         1   0.7356    0.8284   0.1049   \n1    0.0179     0.0100    0.2607         1   0.3460    0.5214   0.2422   \n2    0.0000     0.2715    0.4536         1   0.6801    0.7795   0.8540   \n3    0.0332     0.0350    0.2146         1   0.3072    0.4596   0.2640   \n4    0.0243     0.0137    0.0892         1   0.7347    0.7554   0.1270   \n\n   MD_EARN_WNE_P10  GRAD_DEBT_MDN_SUPP  \n0            30300               33888  \n1            39700             21941.5  \n2            40100               23370  \n3            45500               24097  \n4            26600             33118.5  \n\n[5 rows x 27 columns]",
      "text/html": "<div>\n<style scoped>\n    .dataframe tbody tr th:only-of-type {\n        vertical-align: middle;\n    }\n\n    .dataframe tbody tr th {\n        vertical-align: top;\n    }\n\n    .dataframe thead th {\n        text-align: right;\n    }\n</style>\n<table border=\"1\" class=\"dataframe\">\n  <thead>\n    <tr style=\"text-align: right;\">\n      <th></th>\n      <th>INSTNM</th>\n      <th>CITY</th>\n      <th>STABBR</th>\n      <th>HBCU</th>\n      <th>MENONLY</th>\n      <th>WOMENONLY</th>\n      <th>RELAFFIL</th>\n      <th>SATVRMID</th>\n      <th>SATMTMID</th>\n      <th>DISTANCEONLY</th>\n      <th>...</th>\n      <th>UGDS_2MOR</th>\n      <th>UGDS_NRA</th>\n      <th>UGDS_UNKN</th>\n      <th>PPTUG_EF</th>\n      <th>CURROPER</th>\n      <th>PCTPELL</th>\n      <th>PCTFLOAN</th>\n      <th>UG25ABV</th>\n      <th>MD_EARN_WNE_P10</th>\n      <th>GRAD_DEBT_MDN_SUPP</th>\n    </tr>\n  </thead>\n  <tbody>\n    <tr>\n      <th>0</th>\n      <td>Alabama A &amp; M University</td>\n      <td>Normal</td>\n      <td>AL</td>\n      <td>1.0</td>\n      <td>0.0</td>\n      <td>0.0</td>\n      <td>0</td>\n      <td>424.0</td>\n      <td>420.0</td>\n      <td>0.0</td>\n      <td>...</td>\n      <td>0.0000</td>\n      <td>0.0059</td>\n      <td>0.0138</td>\n      <td>0.0656</td>\n      <td>1</td>\n      <td>0.7356</td>\n      <td>0.8284</td>\n      <td>0.1049</td>\n      <td>30300</td>\n      <td>33888</td>\n    </tr>\n    <tr>\n      <th>1</th>\n      <td>University of Alabama at Birmingham</td>\n      <td>Birmingham</td>\n      <td>AL</td>\n      <td>0.0</td>\n      <td>0.0</td>\n      <td>0.0</td>\n      <td>0</td>\n      <td>570.0</td>\n      <td>565.0</td>\n      <td>0.0</td>\n      <td>...</td>\n      <td>0.0368</td>\n      <td>0.0179</td>\n      <td>0.0100</td>\n      <td>0.2607</td>\n      <td>1</td>\n      <td>0.3460</td>\n      <td>0.5214</td>\n      <td>0.2422</td>\n      <td>39700</td>\n      <td>21941.5</td>\n    </tr>\n    <tr>\n      <th>2</th>\n      <td>Amridge University</td>\n      <td>Montgomery</td>\n      <td>AL</td>\n      <td>0.0</td>\n      <td>0.0</td>\n      <td>0.0</td>\n      <td>1</td>\n      <td>null</td>\n      <td>null</td>\n      <td>1.0</td>\n      <td>...</td>\n      <td>0.0000</td>\n      <td>0.0000</td>\n      <td>0.2715</td>\n      <td>0.4536</td>\n      <td>1</td>\n      <td>0.6801</td>\n      <td>0.7795</td>\n      <td>0.8540</td>\n      <td>40100</td>\n      <td>23370</td>\n    </tr>\n    <tr>\n      <th>3</th>\n      <td>University of Alabama in Huntsville</td>\n      <td>Huntsville</td>\n      <td>AL</td>\n      <td>0.0</td>\n      <td>0.0</td>\n      <td>0.0</td>\n      <td>0</td>\n      <td>595.0</td>\n      <td>590.0</td>\n      <td>0.0</td>\n      <td>...</td>\n      <td>0.0172</td>\n      <td>0.0332</td>\n      <td>0.0350</td>\n      <td>0.2146</td>\n      <td>1</td>\n      <td>0.3072</td>\n      <td>0.4596</td>\n      <td>0.2640</td>\n      <td>45500</td>\n      <td>24097</td>\n    </tr>\n    <tr>\n      <th>4</th>\n      <td>Alabama State University</td>\n      <td>Montgomery</td>\n      <td>AL</td>\n      <td>1.0</td>\n      <td>0.0</td>\n      <td>0.0</td>\n      <td>0</td>\n      <td>425.0</td>\n      <td>430.0</td>\n      <td>0.0</td>\n      <td>...</td>\n      <td>0.0098</td>\n      <td>0.0243</td>\n      <td>0.0137</td>\n      <td>0.0892</td>\n      <td>1</td>\n      <td>0.7347</td>\n      <td>0.7554</td>\n      <td>0.1270</td>\n      <td>26600</td>\n      <td>33118.5</td>\n    </tr>\n  </tbody>\n</table>\n<p>5 rows × 27 columns</p>\n</div>"
     },
     "metadata": {},
     "output_type": "execute_result",
     "execution_count": 4
    }
   ],
   "source": [
    "college.head()"
   ],
   "metadata": {
    "collapsed": false,
    "pycharm": {
     "name": "#%%\n",
     "is_executing": false
    }
   }
  },
  {
   "cell_type": "code",
   "execution_count": 5,
   "outputs": [
    {
     "data": {
      "text/plain": "(7535, 27)"
     },
     "metadata": {},
     "output_type": "execute_result",
     "execution_count": 5
    }
   ],
   "source": [
    "college.shape"
   ],
   "metadata": {
    "collapsed": false,
    "pycharm": {
     "name": "#%%\n",
     "is_executing": false
    }
   }
  },
  {
   "cell_type": "code",
   "execution_count": 6,
   "outputs": [
    {
     "traceback": [
      "\u001b[0;31m---------------------------------------------------------------------------\u001b[0m",
      "\u001b[0;31mAttributeError\u001b[0m                            Traceback (most recent call last)",
      "\u001b[0;32m<ipython-input-6-913acf5e2261>\u001b[0m in \u001b[0;36m<module>\u001b[0;34m\u001b[0m\n\u001b[0;32m----> 1\u001b[0;31m \u001b[0mcollege\u001b[0m\u001b[0;34m.\u001b[0m\u001b[0minfo\u001b[0m\u001b[0;34m(\u001b[0m\u001b[0;34m)\u001b[0m\u001b[0;34m\u001b[0m\u001b[0;34m\u001b[0m\u001b[0m\n\u001b[0m\u001b[1;32m      2\u001b[0m \u001b[0;34m\u001b[0m\u001b[0m\n\u001b[1;32m      3\u001b[0m \u001b[0;34m\u001b[0m\u001b[0m\n",
      "\u001b[0;32m~/anaconda3/envs/liukai/lib/python3.6/site-packages/cudf/core/dataframe.py\u001b[0m in \u001b[0;36m__getattr__\u001b[0;34m(self, key)\u001b[0m\n\u001b[1;32m    334\u001b[0m             \u001b[0;32mreturn\u001b[0m \u001b[0mself\u001b[0m\u001b[0;34m[\u001b[0m\u001b[0mkey\u001b[0m\u001b[0;34m]\u001b[0m\u001b[0;34m\u001b[0m\u001b[0;34m\u001b[0m\u001b[0m\n\u001b[1;32m    335\u001b[0m \u001b[0;34m\u001b[0m\u001b[0m\n\u001b[0;32m--> 336\u001b[0;31m         \u001b[0;32mraise\u001b[0m \u001b[0mAttributeError\u001b[0m\u001b[0;34m(\u001b[0m\u001b[0;34m\"'DataFrame' object has no attribute %r\"\u001b[0m \u001b[0;34m%\u001b[0m \u001b[0mkey\u001b[0m\u001b[0;34m)\u001b[0m\u001b[0;34m\u001b[0m\u001b[0;34m\u001b[0m\u001b[0m\n\u001b[0m\u001b[1;32m    337\u001b[0m \u001b[0;34m\u001b[0m\u001b[0m\n\u001b[1;32m    338\u001b[0m     \u001b[0;32mdef\u001b[0m \u001b[0m__getitem__\u001b[0m\u001b[0;34m(\u001b[0m\u001b[0mself\u001b[0m\u001b[0;34m,\u001b[0m \u001b[0marg\u001b[0m\u001b[0;34m)\u001b[0m\u001b[0;34m:\u001b[0m\u001b[0;34m\u001b[0m\u001b[0;34m\u001b[0m\u001b[0m\n",
      "\u001b[0;31mAttributeError\u001b[0m: 'DataFrame' object has no attribute 'info'"
     ],
     "ename": "AttributeError",
     "evalue": "'DataFrame' object has no attribute 'info'",
     "output_type": "error"
    }
   ],
   "source": [
    "# college.info() 目前不支持\n",
    "\n"
   ],
   "metadata": {
    "collapsed": false,
    "pycharm": {
     "name": "#%%\n",
     "is_executing": false
    }
   }
  },
  {
   "cell_type": "code",
   "execution_count": 10,
   "outputs": [
    {
     "data": {
      "text/plain": "               count         mean          std    min         25%        50%  \\\nHBCU          7164.0     0.014238     0.118478    0.0    0.000000    0.00000   \nMENONLY       7164.0     0.009213     0.095546    0.0    0.000000    0.00000   \nWOMENONLY     7164.0     0.005304     0.072642    0.0    0.000000    0.00000   \nRELAFFIL      7535.0     0.190975     0.393096    0.0    0.000000    0.00000   \nSATVRMID      1185.0   522.819409    68.578862  290.0  475.000000  510.00000   \nSATMTMID      1196.0   530.765050    73.469767  310.0  482.000000  520.00000   \nDISTANCEONLY  7164.0     0.005583     0.074519    0.0    0.000000    0.00000   \nUGDS          6874.0  2356.837940  5474.275871    0.0  117.000000  412.50000   \nUGDS_WHITE    6874.0     0.510207     0.286958    0.0    0.267500    0.55570   \nUGDS_BLACK    6874.0     0.189997     0.224587    0.0    0.036125    0.10005   \nUGDS_HISP     6874.0     0.161635     0.221854    0.0    0.027600    0.07140   \nUGDS_ASIAN    6874.0     0.033544     0.073777    0.0    0.002500    0.01290   \nUGDS_AIAN     6874.0     0.013813     0.070196    0.0    0.000000    0.00260   \nUGDS_NHPI     6874.0     0.004569     0.033125    0.0    0.000000    0.00000   \nUGDS_2MOR     6874.0     0.023950     0.031288    0.0    0.000000    0.01750   \nUGDS_NRA      6874.0     0.016086     0.050172    0.0    0.000000    0.00000   \nUGDS_UNKN     6874.0     0.045181     0.093440    0.0    0.000000    0.01430   \nPPTUG_EF      6853.0     0.226639     0.246470    0.0    0.000000    0.15040   \nCURROPER      7535.0     0.923291     0.266146    0.0    1.000000    1.00000   \nPCTPELL       6849.0     0.530643     0.225544    0.0    0.357800    0.52150   \nPCTFLOAN      6849.0     0.522211     0.283616    0.0    0.332900    0.58330   \nUG25ABV       6718.0     0.410021     0.228939    0.0    0.241500    0.40075   \n\n                      75%          max  \nHBCU             0.000000       1.0000  \nMENONLY          0.000000       1.0000  \nWOMENONLY        0.000000       1.0000  \nRELAFFIL         0.000000       1.0000  \nSATVRMID       555.000000     765.0000  \nSATMTMID       565.000000     785.0000  \nDISTANCEONLY     0.000000       1.0000  \nUGDS          1929.500000  151558.0000  \nUGDS_WHITE       0.747875       1.0000  \nUGDS_BLACK       0.257700       1.0000  \nUGDS_HISP        0.198875       1.0000  \nUGDS_ASIAN       0.032700       0.9727  \nUGDS_AIAN        0.007300       1.0000  \nUGDS_NHPI        0.002500       0.9983  \nUGDS_2MOR        0.033900       0.5333  \nUGDS_NRA         0.011700       0.9286  \nUGDS_UNKN        0.045400       0.9027  \nPPTUG_EF         0.376900       1.0000  \nCURROPER         1.000000       1.0000  \nPCTPELL          0.712900       1.0000  \nPCTFLOAN         0.745000       1.0000  \nUG25ABV          0.572275       1.0000  ",
      "text/html": "<div>\n<style scoped>\n    .dataframe tbody tr th:only-of-type {\n        vertical-align: middle;\n    }\n\n    .dataframe tbody tr th {\n        vertical-align: top;\n    }\n\n    .dataframe thead th {\n        text-align: right;\n    }\n</style>\n<table border=\"1\" class=\"dataframe\">\n  <thead>\n    <tr style=\"text-align: right;\">\n      <th></th>\n      <th>count</th>\n      <th>mean</th>\n      <th>std</th>\n      <th>min</th>\n      <th>25%</th>\n      <th>50%</th>\n      <th>75%</th>\n      <th>max</th>\n    </tr>\n  </thead>\n  <tbody>\n    <tr>\n      <th>HBCU</th>\n      <td>7164.0</td>\n      <td>0.014238</td>\n      <td>0.118478</td>\n      <td>0.0</td>\n      <td>0.000000</td>\n      <td>0.00000</td>\n      <td>0.000000</td>\n      <td>1.0000</td>\n    </tr>\n    <tr>\n      <th>MENONLY</th>\n      <td>7164.0</td>\n      <td>0.009213</td>\n      <td>0.095546</td>\n      <td>0.0</td>\n      <td>0.000000</td>\n      <td>0.00000</td>\n      <td>0.000000</td>\n      <td>1.0000</td>\n    </tr>\n    <tr>\n      <th>WOMENONLY</th>\n      <td>7164.0</td>\n      <td>0.005304</td>\n      <td>0.072642</td>\n      <td>0.0</td>\n      <td>0.000000</td>\n      <td>0.00000</td>\n      <td>0.000000</td>\n      <td>1.0000</td>\n    </tr>\n    <tr>\n      <th>RELAFFIL</th>\n      <td>7535.0</td>\n      <td>0.190975</td>\n      <td>0.393096</td>\n      <td>0.0</td>\n      <td>0.000000</td>\n      <td>0.00000</td>\n      <td>0.000000</td>\n      <td>1.0000</td>\n    </tr>\n    <tr>\n      <th>SATVRMID</th>\n      <td>1185.0</td>\n      <td>522.819409</td>\n      <td>68.578862</td>\n      <td>290.0</td>\n      <td>475.000000</td>\n      <td>510.00000</td>\n      <td>555.000000</td>\n      <td>765.0000</td>\n    </tr>\n    <tr>\n      <th>SATMTMID</th>\n      <td>1196.0</td>\n      <td>530.765050</td>\n      <td>73.469767</td>\n      <td>310.0</td>\n      <td>482.000000</td>\n      <td>520.00000</td>\n      <td>565.000000</td>\n      <td>785.0000</td>\n    </tr>\n    <tr>\n      <th>DISTANCEONLY</th>\n      <td>7164.0</td>\n      <td>0.005583</td>\n      <td>0.074519</td>\n      <td>0.0</td>\n      <td>0.000000</td>\n      <td>0.00000</td>\n      <td>0.000000</td>\n      <td>1.0000</td>\n    </tr>\n    <tr>\n      <th>UGDS</th>\n      <td>6874.0</td>\n      <td>2356.837940</td>\n      <td>5474.275871</td>\n      <td>0.0</td>\n      <td>117.000000</td>\n      <td>412.50000</td>\n      <td>1929.500000</td>\n      <td>151558.0000</td>\n    </tr>\n    <tr>\n      <th>UGDS_WHITE</th>\n      <td>6874.0</td>\n      <td>0.510207</td>\n      <td>0.286958</td>\n      <td>0.0</td>\n      <td>0.267500</td>\n      <td>0.55570</td>\n      <td>0.747875</td>\n      <td>1.0000</td>\n    </tr>\n    <tr>\n      <th>UGDS_BLACK</th>\n      <td>6874.0</td>\n      <td>0.189997</td>\n      <td>0.224587</td>\n      <td>0.0</td>\n      <td>0.036125</td>\n      <td>0.10005</td>\n      <td>0.257700</td>\n      <td>1.0000</td>\n    </tr>\n    <tr>\n      <th>UGDS_HISP</th>\n      <td>6874.0</td>\n      <td>0.161635</td>\n      <td>0.221854</td>\n      <td>0.0</td>\n      <td>0.027600</td>\n      <td>0.07140</td>\n      <td>0.198875</td>\n      <td>1.0000</td>\n    </tr>\n    <tr>\n      <th>UGDS_ASIAN</th>\n      <td>6874.0</td>\n      <td>0.033544</td>\n      <td>0.073777</td>\n      <td>0.0</td>\n      <td>0.002500</td>\n      <td>0.01290</td>\n      <td>0.032700</td>\n      <td>0.9727</td>\n    </tr>\n    <tr>\n      <th>UGDS_AIAN</th>\n      <td>6874.0</td>\n      <td>0.013813</td>\n      <td>0.070196</td>\n      <td>0.0</td>\n      <td>0.000000</td>\n      <td>0.00260</td>\n      <td>0.007300</td>\n      <td>1.0000</td>\n    </tr>\n    <tr>\n      <th>UGDS_NHPI</th>\n      <td>6874.0</td>\n      <td>0.004569</td>\n      <td>0.033125</td>\n      <td>0.0</td>\n      <td>0.000000</td>\n      <td>0.00000</td>\n      <td>0.002500</td>\n      <td>0.9983</td>\n    </tr>\n    <tr>\n      <th>UGDS_2MOR</th>\n      <td>6874.0</td>\n      <td>0.023950</td>\n      <td>0.031288</td>\n      <td>0.0</td>\n      <td>0.000000</td>\n      <td>0.01750</td>\n      <td>0.033900</td>\n      <td>0.5333</td>\n    </tr>\n    <tr>\n      <th>UGDS_NRA</th>\n      <td>6874.0</td>\n      <td>0.016086</td>\n      <td>0.050172</td>\n      <td>0.0</td>\n      <td>0.000000</td>\n      <td>0.00000</td>\n      <td>0.011700</td>\n      <td>0.9286</td>\n    </tr>\n    <tr>\n      <th>UGDS_UNKN</th>\n      <td>6874.0</td>\n      <td>0.045181</td>\n      <td>0.093440</td>\n      <td>0.0</td>\n      <td>0.000000</td>\n      <td>0.01430</td>\n      <td>0.045400</td>\n      <td>0.9027</td>\n    </tr>\n    <tr>\n      <th>PPTUG_EF</th>\n      <td>6853.0</td>\n      <td>0.226639</td>\n      <td>0.246470</td>\n      <td>0.0</td>\n      <td>0.000000</td>\n      <td>0.15040</td>\n      <td>0.376900</td>\n      <td>1.0000</td>\n    </tr>\n    <tr>\n      <th>CURROPER</th>\n      <td>7535.0</td>\n      <td>0.923291</td>\n      <td>0.266146</td>\n      <td>0.0</td>\n      <td>1.000000</td>\n      <td>1.00000</td>\n      <td>1.000000</td>\n      <td>1.0000</td>\n    </tr>\n    <tr>\n      <th>PCTPELL</th>\n      <td>6849.0</td>\n      <td>0.530643</td>\n      <td>0.225544</td>\n      <td>0.0</td>\n      <td>0.357800</td>\n      <td>0.52150</td>\n      <td>0.712900</td>\n      <td>1.0000</td>\n    </tr>\n    <tr>\n      <th>PCTFLOAN</th>\n      <td>6849.0</td>\n      <td>0.522211</td>\n      <td>0.283616</td>\n      <td>0.0</td>\n      <td>0.332900</td>\n      <td>0.58330</td>\n      <td>0.745000</td>\n      <td>1.0000</td>\n    </tr>\n    <tr>\n      <th>UG25ABV</th>\n      <td>6718.0</td>\n      <td>0.410021</td>\n      <td>0.228939</td>\n      <td>0.0</td>\n      <td>0.241500</td>\n      <td>0.40075</td>\n      <td>0.572275</td>\n      <td>1.0000</td>\n    </tr>\n  </tbody>\n</table>\n</div>"
     },
     "metadata": {},
     "output_type": "execute_result",
     "execution_count": 10
    }
   ],
   "source": [
    "import numpy as np\n",
    "#数字字段的统计量\n",
    "college.describe(include=[np.number]).T\n"
   ],
   "metadata": {
    "collapsed": false,
    "pycharm": {
     "name": "#%%\n",
     "is_executing": false
    }
   }
  },
  {
   "cell_type": "code",
   "execution_count": 11,
   "outputs": [
    {
     "traceback": [
      "\u001b[0;31m---------------------------------------------------------------------------\u001b[0m",
      "\u001b[0;31mNotImplementedError\u001b[0m                       Traceback (most recent call last)",
      "\u001b[0;32m<ipython-input-11-6dbe9b76e404>\u001b[0m in \u001b[0;36m<module>\u001b[0;34m\u001b[0m\n\u001b[0;32m----> 1\u001b[0;31m \u001b[0mcollege\u001b[0m\u001b[0;34m.\u001b[0m\u001b[0mdescribe\u001b[0m\u001b[0;34m(\u001b[0m\u001b[0minclude\u001b[0m\u001b[0;34m=\u001b[0m\u001b[0;34m[\u001b[0m\u001b[0mnp\u001b[0m\u001b[0;34m.\u001b[0m\u001b[0mobject\u001b[0m\u001b[0;34m,\u001b[0m\u001b[0mcudf\u001b[0m\u001b[0;34m.\u001b[0m\u001b[0mCategoricalDtype\u001b[0m\u001b[0;34m]\u001b[0m\u001b[0;34m)\u001b[0m\u001b[0;34m.\u001b[0m\u001b[0mT\u001b[0m\u001b[0;34m\u001b[0m\u001b[0;34m\u001b[0m\u001b[0m\n\u001b[0m\u001b[1;32m      2\u001b[0m \u001b[0;34m\u001b[0m\u001b[0m\n\u001b[1;32m      3\u001b[0m \u001b[0;34m\u001b[0m\u001b[0m\n",
      "\u001b[0;32m~/anaconda3/envs/liukai/lib/python3.6/site-packages/cudf/core/dataframe.py\u001b[0m in \u001b[0;36mdescribe\u001b[0;34m(self, percentiles, include, exclude)\u001b[0m\n\u001b[1;32m   3303\u001b[0m             \u001b[0;32mif\u001b[0m \u001b[0mincluded_data\u001b[0m\u001b[0;34m.\u001b[0m\u001b[0mempty\u001b[0m\u001b[0;34m:\u001b[0m\u001b[0;34m\u001b[0m\u001b[0;34m\u001b[0m\u001b[0m\n\u001b[1;32m   3304\u001b[0m                 \u001b[0;32mraise\u001b[0m \u001b[0mValueError\u001b[0m\u001b[0;34m(\u001b[0m\u001b[0;34m\"No data of included types.\"\u001b[0m\u001b[0;34m)\u001b[0m\u001b[0;34m\u001b[0m\u001b[0;34m\u001b[0m\u001b[0m\n\u001b[0;32m-> 3305\u001b[0;31m             \u001b[0moutput_frame\u001b[0m \u001b[0;34m=\u001b[0m \u001b[0m_create_output_frame\u001b[0m\u001b[0;34m(\u001b[0m\u001b[0mincluded_data\u001b[0m\u001b[0;34m,\u001b[0m \u001b[0mpercentiles\u001b[0m\u001b[0;34m)\u001b[0m\u001b[0;34m\u001b[0m\u001b[0;34m\u001b[0m\u001b[0m\n\u001b[0m\u001b[1;32m   3306\u001b[0m \u001b[0;34m\u001b[0m\u001b[0m\n\u001b[1;32m   3307\u001b[0m         \u001b[0;32mreturn\u001b[0m \u001b[0moutput_frame\u001b[0m\u001b[0;34m\u001b[0m\u001b[0;34m\u001b[0m\u001b[0m\n",
      "\u001b[0;32m~/anaconda3/envs/liukai/lib/python3.6/site-packages/cudf/core/dataframe.py\u001b[0m in \u001b[0;36m_create_output_frame\u001b[0;34m(data, percentiles)\u001b[0m\n\u001b[1;32m   3275\u001b[0m                 {\n\u001b[1;32m   3276\u001b[0m                     \u001b[0mcol\u001b[0m\u001b[0;34m:\u001b[0m \u001b[0mdata\u001b[0m\u001b[0;34m[\u001b[0m\u001b[0mcol\u001b[0m\u001b[0;34m]\u001b[0m\u001b[0;34m.\u001b[0m\u001b[0mdescribe\u001b[0m\u001b[0;34m(\u001b[0m\u001b[0mpercentiles\u001b[0m\u001b[0;34m=\u001b[0m\u001b[0mpercentiles\u001b[0m\u001b[0;34m)\u001b[0m\u001b[0;34m\u001b[0m\u001b[0;34m\u001b[0m\u001b[0m\n\u001b[0;32m-> 3277\u001b[0;31m                     \u001b[0;32mfor\u001b[0m \u001b[0mcol\u001b[0m \u001b[0;32min\u001b[0m \u001b[0mdata\u001b[0m\u001b[0;34m.\u001b[0m\u001b[0mcolumns\u001b[0m\u001b[0;34m\u001b[0m\u001b[0;34m\u001b[0m\u001b[0m\n\u001b[0m\u001b[1;32m   3278\u001b[0m                 }\n\u001b[1;32m   3279\u001b[0m             )\n",
      "\u001b[0;32m~/anaconda3/envs/liukai/lib/python3.6/site-packages/cudf/core/dataframe.py\u001b[0m in \u001b[0;36m<dictcomp>\u001b[0;34m(.0)\u001b[0m\n\u001b[1;32m   3275\u001b[0m                 {\n\u001b[1;32m   3276\u001b[0m                     \u001b[0mcol\u001b[0m\u001b[0;34m:\u001b[0m \u001b[0mdata\u001b[0m\u001b[0;34m[\u001b[0m\u001b[0mcol\u001b[0m\u001b[0;34m]\u001b[0m\u001b[0;34m.\u001b[0m\u001b[0mdescribe\u001b[0m\u001b[0;34m(\u001b[0m\u001b[0mpercentiles\u001b[0m\u001b[0;34m=\u001b[0m\u001b[0mpercentiles\u001b[0m\u001b[0;34m)\u001b[0m\u001b[0;34m\u001b[0m\u001b[0;34m\u001b[0m\u001b[0m\n\u001b[0;32m-> 3277\u001b[0;31m                     \u001b[0;32mfor\u001b[0m \u001b[0mcol\u001b[0m \u001b[0;32min\u001b[0m \u001b[0mdata\u001b[0m\u001b[0;34m.\u001b[0m\u001b[0mcolumns\u001b[0m\u001b[0;34m\u001b[0m\u001b[0;34m\u001b[0m\u001b[0m\n\u001b[0m\u001b[1;32m   3278\u001b[0m                 }\n\u001b[1;32m   3279\u001b[0m             )\n",
      "\u001b[0;32m~/anaconda3/envs/liukai/lib/python3.6/site-packages/cudf/core/series.py\u001b[0m in \u001b[0;36mdescribe\u001b[0;34m(self, percentiles, include, exclude)\u001b[0m\n\u001b[1;32m   2374\u001b[0m         \u001b[0;32melse\u001b[0m\u001b[0;34m:\u001b[0m\u001b[0;34m\u001b[0m\u001b[0;34m\u001b[0m\u001b[0m\n\u001b[1;32m   2375\u001b[0m             raise NotImplementedError(\n\u001b[0;32m-> 2376\u001b[0;31m                 \u001b[0;34m\"Describing non-numeric columns is not \"\u001b[0m \u001b[0;34m\"yet supported\"\u001b[0m\u001b[0;34m\u001b[0m\u001b[0;34m\u001b[0m\u001b[0m\n\u001b[0m\u001b[1;32m   2377\u001b[0m             )\n\u001b[1;32m   2378\u001b[0m \u001b[0;34m\u001b[0m\u001b[0m\n",
      "\u001b[0;31mNotImplementedError\u001b[0m: Describing non-numeric columns is not yet supported"
     ],
     "ename": "NotImplementedError",
     "evalue": "Describing non-numeric columns is not yet supported",
     "output_type": "error"
    }
   ],
   "source": [
    "# college.describe(include=[np.object,cudf.CategoricalDtype]).T 目前不支持\n",
    "\n"
   ],
   "metadata": {
    "collapsed": false,
    "pycharm": {
     "name": "#%%\n",
     "is_executing": false
    }
   }
  },
  {
   "cell_type": "code",
   "execution_count": 27,
   "outputs": [
    {
     "data": {
      "text/plain": "   RELAFFIL SATVRMID  CURROPER                               INSTNM STABBR\n0         0    424.0         1             Alabama A & M University     AL\n1         0    570.0         1  University of Alabama at Birmingham     AL\n2         1     null         1                   Amridge University     AL\n3         0    595.0         1  University of Alabama in Huntsville     AL\n4         0    425.0         1             Alabama State University     AL",
      "text/html": "<div>\n<style scoped>\n    .dataframe tbody tr th:only-of-type {\n        vertical-align: middle;\n    }\n\n    .dataframe tbody tr th {\n        vertical-align: top;\n    }\n\n    .dataframe thead th {\n        text-align: right;\n    }\n</style>\n<table border=\"1\" class=\"dataframe\">\n  <thead>\n    <tr style=\"text-align: right;\">\n      <th></th>\n      <th>RELAFFIL</th>\n      <th>SATVRMID</th>\n      <th>CURROPER</th>\n      <th>INSTNM</th>\n      <th>STABBR</th>\n    </tr>\n  </thead>\n  <tbody>\n    <tr>\n      <th>0</th>\n      <td>0</td>\n      <td>424.0</td>\n      <td>1</td>\n      <td>Alabama A &amp; M University</td>\n      <td>AL</td>\n    </tr>\n    <tr>\n      <th>1</th>\n      <td>0</td>\n      <td>570.0</td>\n      <td>1</td>\n      <td>University of Alabama at Birmingham</td>\n      <td>AL</td>\n    </tr>\n    <tr>\n      <th>2</th>\n      <td>1</td>\n      <td>null</td>\n      <td>1</td>\n      <td>Amridge University</td>\n      <td>AL</td>\n    </tr>\n    <tr>\n      <th>3</th>\n      <td>0</td>\n      <td>595.0</td>\n      <td>1</td>\n      <td>University of Alabama in Huntsville</td>\n      <td>AL</td>\n    </tr>\n    <tr>\n      <th>4</th>\n      <td>0</td>\n      <td>425.0</td>\n      <td>1</td>\n      <td>Alabama State University</td>\n      <td>AL</td>\n    </tr>\n  </tbody>\n</table>\n</div>"
     },
     "metadata": {},
     "output_type": "execute_result",
     "execution_count": 27
    }
   ],
   "source": [
    "#内存通过改变字段的类型减少内存使用\n",
    "college = cudf.read_csv('../Data/college.csv')\n",
    "diff_cols = ['RELAFFIL','SATVRMID','CURROPER','INSTNM','STABBR']\n",
    "col2 = college.loc[:,diff_cols]\n",
    "col2.head()"
   ],
   "metadata": {
    "collapsed": false,
    "pycharm": {
     "name": "#%%\n",
     "is_executing": false
    }
   }
  },
  {
   "cell_type": "code",
   "execution_count": 15,
   "outputs": [
    {
     "data": {
      "text/plain": "RELAFFIL      int64\nSATVRMID    float64\nCURROPER      int64\nINSTNM       object\nSTABBR       object\ndtype: object"
     },
     "metadata": {},
     "output_type": "execute_result",
     "execution_count": 15
    }
   ],
   "source": [
    "col2.dtypes"
   ],
   "metadata": {
    "collapsed": false,
    "pycharm": {
     "name": "#%%\n",
     "is_executing": false
    }
   }
  },
  {
   "cell_type": "code",
   "execution_count": 24,
   "outputs": [
    {
     "data": {
      "text/plain": "RELAFFIL       int8\nSATVRMID    float64\nCURROPER      int64\nINSTNM       object\nSTABBR       object\ndtype: object"
     },
     "metadata": {},
     "output_type": "execute_result",
     "execution_count": 24
    }
   ],
   "source": [
    "#改变字段的数据类型\n",
    "col2['RELAFFIL'] = col2['RELAFFIL'].astype(np.int8)\n",
    "col2.dtypes"
   ],
   "metadata": {
    "collapsed": false,
    "pycharm": {
     "name": "#%%\n",
     "is_executing": false
    }
   }
  },
  {
   "cell_type": "code",
   "execution_count": 25,
   "outputs": [
    {
     "data": {
      "text/plain": "                                INSTNM STABBR\n0             Alabama A & M University     AL\n1  University of Alabama at Birmingham     AL\n2                   Amridge University     AL\n3  University of Alabama in Huntsville     AL\n4             Alabama State University     AL",
      "text/html": "<div>\n<style scoped>\n    .dataframe tbody tr th:only-of-type {\n        vertical-align: middle;\n    }\n\n    .dataframe tbody tr th {\n        vertical-align: top;\n    }\n\n    .dataframe thead th {\n        text-align: right;\n    }\n</style>\n<table border=\"1\" class=\"dataframe\">\n  <thead>\n    <tr style=\"text-align: right;\">\n      <th></th>\n      <th>INSTNM</th>\n      <th>STABBR</th>\n    </tr>\n  </thead>\n  <tbody>\n    <tr>\n      <th>0</th>\n      <td>Alabama A &amp; M University</td>\n      <td>AL</td>\n    </tr>\n    <tr>\n      <th>1</th>\n      <td>University of Alabama at Birmingham</td>\n      <td>AL</td>\n    </tr>\n    <tr>\n      <th>2</th>\n      <td>Amridge University</td>\n      <td>AL</td>\n    </tr>\n    <tr>\n      <th>3</th>\n      <td>University of Alabama in Huntsville</td>\n      <td>AL</td>\n    </tr>\n    <tr>\n      <th>4</th>\n      <td>Alabama State University</td>\n      <td>AL</td>\n    </tr>\n  </tbody>\n</table>\n</div>"
     },
     "metadata": {},
     "output_type": "execute_result",
     "execution_count": 25
    }
   ],
   "source": [
    "col2.select_dtypes(include=['object']).head()\n",
    "\n"
   ],
   "metadata": {
    "collapsed": false,
    "pycharm": {
     "name": "#%%\n",
     "is_executing": false
    }
   }
  },
  {
   "cell_type": "code",
   "execution_count": 28,
   "outputs": [
    {
     "data": {
      "text/plain": "RELAFFIL       int64\nSATVRMID     float64\nCURROPER       int64\nINSTNM        object\nSTABBR      category\ndtype: object"
     },
     "metadata": {},
     "output_type": "execute_result",
     "execution_count": 28
    }
   ],
   "source": [
    "col2['STABBR'] = col2['STABBR'].astype('category')\n",
    "col2.dtypes"
   ],
   "metadata": {
    "collapsed": false,
    "pycharm": {
     "name": "#%%\n",
     "is_executing": false
    }
   }
  },
  {
   "cell_type": "code",
   "execution_count": 36,
   "outputs": [
    {
     "data": {
      "text/plain": "                                  movie_title  imdb_score       budget\n0                                      Avatar         7.9  237000000.0\n1    Pirates of the Caribbean: At World's End         7.1  300000000.0\n2                                     Spectre         6.8  245000000.0\n3                       The Dark Knight Rises         8.5  250000000.0\n4  Star Wars: Episode VII - The Force Awakens         7.1         null",
      "text/html": "<div>\n<style scoped>\n    .dataframe tbody tr th:only-of-type {\n        vertical-align: middle;\n    }\n\n    .dataframe tbody tr th {\n        vertical-align: top;\n    }\n\n    .dataframe thead th {\n        text-align: right;\n    }\n</style>\n<table border=\"1\" class=\"dataframe\">\n  <thead>\n    <tr style=\"text-align: right;\">\n      <th></th>\n      <th>movie_title</th>\n      <th>imdb_score</th>\n      <th>budget</th>\n    </tr>\n  </thead>\n  <tbody>\n    <tr>\n      <th>0</th>\n      <td>Avatar</td>\n      <td>7.9</td>\n      <td>237000000.0</td>\n    </tr>\n    <tr>\n      <th>1</th>\n      <td>Pirates of the Caribbean: At World's End</td>\n      <td>7.1</td>\n      <td>300000000.0</td>\n    </tr>\n    <tr>\n      <th>2</th>\n      <td>Spectre</td>\n      <td>6.8</td>\n      <td>245000000.0</td>\n    </tr>\n    <tr>\n      <th>3</th>\n      <td>The Dark Knight Rises</td>\n      <td>8.5</td>\n      <td>250000000.0</td>\n    </tr>\n    <tr>\n      <th>4</th>\n      <td>Star Wars: Episode VII - The Force Awakens</td>\n      <td>7.1</td>\n      <td>null</td>\n    </tr>\n  </tbody>\n</table>\n</div>"
     },
     "metadata": {},
     "output_type": "execute_result",
     "execution_count": 36
    }
   ],
   "source": [
    "movie = cudf.read_csv('../Data/movie.csv')\n",
    "movie2 = movie[['movie_title','imdb_score','budget']]\n",
    "movie2.head()\n"
   ],
   "metadata": {
    "collapsed": false,
    "pycharm": {
     "name": "#%%\n",
     "is_executing": false
    }
   }
  },
  {
   "cell_type": "code",
   "execution_count": 35,
   "outputs": [
    {
     "data": {
      "text/plain": "                   movie_title  imdb_score      budget\n2725          Towering Inferno         9.5        null\n1920  The Shawshank Redemption         9.3  25000000.0\n3402             The Godfather         9.2   6000000.0\n2779                   Dekalog         9.1        null\n4312      Kickboxer: Vengeance         9.1  17000000.0",
      "text/html": "<div>\n<style scoped>\n    .dataframe tbody tr th:only-of-type {\n        vertical-align: middle;\n    }\n\n    .dataframe tbody tr th {\n        vertical-align: top;\n    }\n\n    .dataframe thead th {\n        text-align: right;\n    }\n</style>\n<table border=\"1\" class=\"dataframe\">\n  <thead>\n    <tr style=\"text-align: right;\">\n      <th></th>\n      <th>movie_title</th>\n      <th>imdb_score</th>\n      <th>budget</th>\n    </tr>\n  </thead>\n  <tbody>\n    <tr>\n      <th>2725</th>\n      <td>Towering Inferno</td>\n      <td>9.5</td>\n      <td>null</td>\n    </tr>\n    <tr>\n      <th>1920</th>\n      <td>The Shawshank Redemption</td>\n      <td>9.3</td>\n      <td>25000000.0</td>\n    </tr>\n    <tr>\n      <th>3402</th>\n      <td>The Godfather</td>\n      <td>9.2</td>\n      <td>6000000.0</td>\n    </tr>\n    <tr>\n      <th>2779</th>\n      <td>Dekalog</td>\n      <td>9.1</td>\n      <td>null</td>\n    </tr>\n    <tr>\n      <th>4312</th>\n      <td>Kickboxer: Vengeance</td>\n      <td>9.1</td>\n      <td>17000000.0</td>\n    </tr>\n  </tbody>\n</table>\n</div>"
     },
     "metadata": {},
     "output_type": "execute_result",
     "execution_count": 35
    }
   ],
   "source": [
    "#选择imdb评分最高的电影\n",
    "movie2.nlargest(100,'imdb_score').head()\n"
   ],
   "metadata": {
    "collapsed": false,
    "pycharm": {
     "name": "#%%\n",
     "is_executing": false
    }
   }
  },
  {
   "cell_type": "code",
   "execution_count": 38,
   "outputs": [
    {
     "data": {
      "text/plain": "               movie_title  imdb_score    budget\n4804        Butterfly Girl         8.7  180000.0\n4801    Children of Heaven         8.5  180000.0\n4706          12 Angry Men         8.9  350000.0\n4550          A Separation         8.4  500000.0\n4636  The Other Dream Team         8.4  500000.0",
      "text/html": "<div>\n<style scoped>\n    .dataframe tbody tr th:only-of-type {\n        vertical-align: middle;\n    }\n\n    .dataframe tbody tr th {\n        vertical-align: top;\n    }\n\n    .dataframe thead th {\n        text-align: right;\n    }\n</style>\n<table border=\"1\" class=\"dataframe\">\n  <thead>\n    <tr style=\"text-align: right;\">\n      <th></th>\n      <th>movie_title</th>\n      <th>imdb_score</th>\n      <th>budget</th>\n    </tr>\n  </thead>\n  <tbody>\n    <tr>\n      <th>4804</th>\n      <td>Butterfly Girl</td>\n      <td>8.7</td>\n      <td>180000.0</td>\n    </tr>\n    <tr>\n      <th>4801</th>\n      <td>Children of Heaven</td>\n      <td>8.5</td>\n      <td>180000.0</td>\n    </tr>\n    <tr>\n      <th>4706</th>\n      <td>12 Angry Men</td>\n      <td>8.9</td>\n      <td>350000.0</td>\n    </tr>\n    <tr>\n      <th>4550</th>\n      <td>A Separation</td>\n      <td>8.4</td>\n      <td>500000.0</td>\n    </tr>\n    <tr>\n      <th>4636</th>\n      <td>The Other Dream Team</td>\n      <td>8.4</td>\n      <td>500000.0</td>\n    </tr>\n  </tbody>\n</table>\n</div>"
     },
     "metadata": {},
     "output_type": "execute_result",
     "execution_count": 38
    }
   ],
   "source": [
    "#选出前100部高分电影中预算最低的\n",
    "movie2.nlargest(100,'imdb_score').nsmallest(5,'budget').head()"
   ],
   "metadata": {
    "collapsed": false,
    "pycharm": {
     "name": "#%%\n",
     "is_executing": false
    }
   }
  },
  {
   "cell_type": "code",
   "execution_count": 48,
   "outputs": [
    {
     "data": {
      "text/plain": "                                  movie_title title_year  imdb_score\n0                                      Avatar     2009.0         7.9\n1    Pirates of the Caribbean: At World's End     2007.0         7.1\n2                                     Spectre     2015.0         6.8\n3                       The Dark Knight Rises     2012.0         8.5\n4  Star Wars: Episode VII - The Force Awakens       null         7.1",
      "text/html": "<div>\n<style scoped>\n    .dataframe tbody tr th:only-of-type {\n        vertical-align: middle;\n    }\n\n    .dataframe tbody tr th {\n        vertical-align: top;\n    }\n\n    .dataframe thead th {\n        text-align: right;\n    }\n</style>\n<table border=\"1\" class=\"dataframe\">\n  <thead>\n    <tr style=\"text-align: right;\">\n      <th></th>\n      <th>movie_title</th>\n      <th>title_year</th>\n      <th>imdb_score</th>\n    </tr>\n  </thead>\n  <tbody>\n    <tr>\n      <th>0</th>\n      <td>Avatar</td>\n      <td>2009.0</td>\n      <td>7.9</td>\n    </tr>\n    <tr>\n      <th>1</th>\n      <td>Pirates of the Caribbean: At World's End</td>\n      <td>2007.0</td>\n      <td>7.1</td>\n    </tr>\n    <tr>\n      <th>2</th>\n      <td>Spectre</td>\n      <td>2015.0</td>\n      <td>6.8</td>\n    </tr>\n    <tr>\n      <th>3</th>\n      <td>The Dark Knight Rises</td>\n      <td>2012.0</td>\n      <td>8.5</td>\n    </tr>\n    <tr>\n      <th>4</th>\n      <td>Star Wars: Episode VII - The Force Awakens</td>\n      <td>null</td>\n      <td>7.1</td>\n    </tr>\n  </tbody>\n</table>\n</div>"
     },
     "metadata": {},
     "output_type": "execute_result",
     "execution_count": 48
    }
   ],
   "source": [
    "movie = cudf.read_csv('../Data/movie.csv')\n",
    "movie2 = movie[['movie_title','title_year','imdb_score']]\n",
    "movie2.head()\n",
    "\n"
   ],
   "metadata": {
    "collapsed": false,
    "pycharm": {
     "name": "#%%\n",
     "is_executing": false
    }
   }
  },
  {
   "cell_type": "code",
   "execution_count": 49,
   "outputs": [
    {
     "data": {
      "text/plain": "                                           movie_title  title_year  imdb_score\n4695  Intolerance: Love's Struggle Throughout the Ages      1916.0         8.0\n4833                    Over the Hill to the Poorhouse      1920.0         4.8\n4767                                    The Big Parade      1925.0         8.3\n2694                                        Metropolis      1927.0         8.3\n4555                                     Pandora's Box      1929.0         8.0",
      "text/html": "<div>\n<style scoped>\n    .dataframe tbody tr th:only-of-type {\n        vertical-align: middle;\n    }\n\n    .dataframe tbody tr th {\n        vertical-align: top;\n    }\n\n    .dataframe thead th {\n        text-align: right;\n    }\n</style>\n<table border=\"1\" class=\"dataframe\">\n  <thead>\n    <tr style=\"text-align: right;\">\n      <th></th>\n      <th>movie_title</th>\n      <th>title_year</th>\n      <th>imdb_score</th>\n    </tr>\n  </thead>\n  <tbody>\n    <tr>\n      <th>4695</th>\n      <td>Intolerance: Love's Struggle Throughout the Ages</td>\n      <td>1916.0</td>\n      <td>8.0</td>\n    </tr>\n    <tr>\n      <th>4833</th>\n      <td>Over the Hill to the Poorhouse</td>\n      <td>1920.0</td>\n      <td>4.8</td>\n    </tr>\n    <tr>\n      <th>4767</th>\n      <td>The Big Parade</td>\n      <td>1925.0</td>\n      <td>8.3</td>\n    </tr>\n    <tr>\n      <th>2694</th>\n      <td>Metropolis</td>\n      <td>1927.0</td>\n      <td>8.3</td>\n    </tr>\n    <tr>\n      <th>4555</th>\n      <td>Pandora's Box</td>\n      <td>1929.0</td>\n      <td>8.0</td>\n    </tr>\n  </tbody>\n</table>\n</div>"
     },
     "metadata": {},
     "output_type": "execute_result",
     "execution_count": 49
    }
   ],
   "source": [
    "#根据年份正序\n",
    "movie2.sort_values('title_year').head()"
   ],
   "metadata": {
    "collapsed": false,
    "pycharm": {
     "name": "#%%\n",
     "is_executing": false
    }
   }
  },
  {
   "cell_type": "code",
   "execution_count": 50,
   "outputs": [
    {
     "data": {
      "text/plain": "                           movie_title  title_year  imdb_score\n10  Batman v Superman: Dawn of Justice      2016.0         6.9\n27          Captain America: Civil War      2016.0         8.2\n57                    Star Trek Beyond      2016.0         7.5\n63                The Legend of Tarzan      2016.0         6.6\n65                   X-Men: Apocalypse      2016.0         7.3",
      "text/html": "<div>\n<style scoped>\n    .dataframe tbody tr th:only-of-type {\n        vertical-align: middle;\n    }\n\n    .dataframe tbody tr th {\n        vertical-align: top;\n    }\n\n    .dataframe thead th {\n        text-align: right;\n    }\n</style>\n<table border=\"1\" class=\"dataframe\">\n  <thead>\n    <tr style=\"text-align: right;\">\n      <th></th>\n      <th>movie_title</th>\n      <th>title_year</th>\n      <th>imdb_score</th>\n    </tr>\n  </thead>\n  <tbody>\n    <tr>\n      <th>10</th>\n      <td>Batman v Superman: Dawn of Justice</td>\n      <td>2016.0</td>\n      <td>6.9</td>\n    </tr>\n    <tr>\n      <th>27</th>\n      <td>Captain America: Civil War</td>\n      <td>2016.0</td>\n      <td>8.2</td>\n    </tr>\n    <tr>\n      <th>57</th>\n      <td>Star Trek Beyond</td>\n      <td>2016.0</td>\n      <td>7.5</td>\n    </tr>\n    <tr>\n      <th>63</th>\n      <td>The Legend of Tarzan</td>\n      <td>2016.0</td>\n      <td>6.6</td>\n    </tr>\n    <tr>\n      <th>65</th>\n      <td>X-Men: Apocalypse</td>\n      <td>2016.0</td>\n      <td>7.3</td>\n    </tr>\n  </tbody>\n</table>\n</div>"
     },
     "metadata": {},
     "output_type": "execute_result",
     "execution_count": 50
    }
   ],
   "source": [
    "#根据年份倒序\n",
    "movie2.sort_values('title_year',ascending=False).head()"
   ],
   "metadata": {
    "collapsed": false,
    "pycharm": {
     "name": "#%%\n",
     "is_executing": false
    }
   }
  },
  {
   "cell_type": "code",
   "execution_count": 51,
   "outputs": [
    {
     "data": {
      "text/plain": "                      movie_title  title_year  imdb_score\n4312         Kickboxer: Vengeance      2016.0         9.1\n4277  A Beginner's Guide to Snuff      2016.0         8.7\n3798                      Airlift      2016.0         8.5\n27     Captain America: Civil War      2016.0         8.2\n98            Godzilla Resurgence      2016.0         8.2",
      "text/html": "<div>\n<style scoped>\n    .dataframe tbody tr th:only-of-type {\n        vertical-align: middle;\n    }\n\n    .dataframe tbody tr th {\n        vertical-align: top;\n    }\n\n    .dataframe thead th {\n        text-align: right;\n    }\n</style>\n<table border=\"1\" class=\"dataframe\">\n  <thead>\n    <tr style=\"text-align: right;\">\n      <th></th>\n      <th>movie_title</th>\n      <th>title_year</th>\n      <th>imdb_score</th>\n    </tr>\n  </thead>\n  <tbody>\n    <tr>\n      <th>4312</th>\n      <td>Kickboxer: Vengeance</td>\n      <td>2016.0</td>\n      <td>9.1</td>\n    </tr>\n    <tr>\n      <th>4277</th>\n      <td>A Beginner's Guide to Snuff</td>\n      <td>2016.0</td>\n      <td>8.7</td>\n    </tr>\n    <tr>\n      <th>3798</th>\n      <td>Airlift</td>\n      <td>2016.0</td>\n      <td>8.5</td>\n    </tr>\n    <tr>\n      <th>27</th>\n      <td>Captain America: Civil War</td>\n      <td>2016.0</td>\n      <td>8.2</td>\n    </tr>\n    <tr>\n      <th>98</th>\n      <td>Godzilla Resurgence</td>\n      <td>2016.0</td>\n      <td>8.2</td>\n    </tr>\n  </tbody>\n</table>\n</div>"
     },
     "metadata": {},
     "output_type": "execute_result",
     "execution_count": 51
    }
   ],
   "source": [
    "#根据多个字段排序\n",
    "movie3 = movie2.sort_values(['title_year','imdb_score'],ascending=False)\n",
    "movie3.head()\n"
   ],
   "metadata": {
    "collapsed": false,
    "pycharm": {
     "name": "#%%\n",
     "is_executing": false
    }
   }
  },
  {
   "cell_type": "code",
   "execution_count": 53,
   "outputs": [
    {
     "data": {
      "text/plain": "                                  movie_title title_year  imdb_score\n3935  Batman: The Dark Knight Returns, Part 2     2013.0         8.4\n4369                   Queen of the Mountains     2014.0         8.7\n3745                          Running Forever     2015.0         8.6\n4312                     Kickboxer: Vengeance     2016.0         9.1\n2725                         Towering Inferno       null         9.5",
      "text/html": "<div>\n<style scoped>\n    .dataframe tbody tr th:only-of-type {\n        vertical-align: middle;\n    }\n\n    .dataframe tbody tr th {\n        vertical-align: top;\n    }\n\n    .dataframe thead th {\n        text-align: right;\n    }\n</style>\n<table border=\"1\" class=\"dataframe\">\n  <thead>\n    <tr style=\"text-align: right;\">\n      <th></th>\n      <th>movie_title</th>\n      <th>title_year</th>\n      <th>imdb_score</th>\n    </tr>\n  </thead>\n  <tbody>\n    <tr>\n      <th>3935</th>\n      <td>Batman: The Dark Knight Returns, Part 2</td>\n      <td>2013.0</td>\n      <td>8.4</td>\n    </tr>\n    <tr>\n      <th>4369</th>\n      <td>Queen of the Mountains</td>\n      <td>2014.0</td>\n      <td>8.7</td>\n    </tr>\n    <tr>\n      <th>3745</th>\n      <td>Running Forever</td>\n      <td>2015.0</td>\n      <td>8.6</td>\n    </tr>\n    <tr>\n      <th>4312</th>\n      <td>Kickboxer: Vengeance</td>\n      <td>2016.0</td>\n      <td>9.1</td>\n    </tr>\n    <tr>\n      <th>2725</th>\n      <td>Towering Inferno</td>\n      <td>null</td>\n      <td>9.5</td>\n    </tr>\n  </tbody>\n</table>\n</div>"
     },
     "metadata": {},
     "output_type": "execute_result",
     "execution_count": 53
    }
   ],
   "source": [
    "movie_top_year = movie3.drop_duplicates(subset='title_year')\n",
    "movie_top_year.tail()\n",
    "\n"
   ],
   "metadata": {
    "collapsed": false,
    "pycharm": {
     "name": "#%%\n",
     "is_executing": false
    }
   }
  }
 ],
 "metadata": {
  "kernelspec": {
   "display_name": "Python 3",
   "language": "python",
   "name": "python3"
  },
  "language_info": {
   "codemirror_mode": {
    "name": "ipython",
    "version": 2
   },
   "file_extension": ".py",
   "mimetype": "text/x-python",
   "name": "python",
   "nbconvert_exporter": "python",
   "pygments_lexer": "ipython2",
   "version": "2.7.6"
  },
  "pycharm": {
   "stem_cell": {
    "cell_type": "raw",
    "source": [],
    "metadata": {
     "collapsed": false
    }
   }
  }
 },
 "nbformat": 4,
 "nbformat_minor": 0
}