{
 "cells": [
  {
   "cell_type": "code",
   "execution_count": 1,
   "metadata": {
    "collapsed": true,
    "pycharm": {
     "is_executing": false
    }
   },
   "outputs": [],
   "source": [
    "import cudf "
   ]
  },
  {
   "cell_type": "code",
   "execution_count": 2,
   "outputs": [
    {
     "data": {
      "text/plain": "                                            color      director_name  \\\nmovie_title                                                            \nAvatar                                      Color      James Cameron   \nPirates of the Caribbean: At World's End    Color     Gore Verbinski   \nSpectre                                     Color         Sam Mendes   \nThe Dark Knight Rises                       Color  Christopher Nolan   \nStar Wars: Episode VII - The Force Awakens   None        Doug Walker   \n\n                                           num_critic_for_reviews duration  \\\nmovie_title                                                                  \nAvatar                                                      723.0    178.0   \nPirates of the Caribbean: At World's End                    302.0    169.0   \nSpectre                                                     602.0    148.0   \nThe Dark Knight Rises                                       813.0    164.0   \nStar Wars: Episode VII - The Force Awakens                   null     null   \n\n                                            director_facebook_likes  \\\nmovie_title                                                           \nAvatar                                                          0.0   \nPirates of the Caribbean: At World's End                      563.0   \nSpectre                                                         0.0   \nThe Dark Knight Rises                                       22000.0   \nStar Wars: Episode VII - The Force Awakens                    131.0   \n\n                                           actor_3_facebook_likes  \\\nmovie_title                                                         \nAvatar                                                      855.0   \nPirates of the Caribbean: At World's End                   1000.0   \nSpectre                                                     161.0   \nThe Dark Knight Rises                                     23000.0   \nStar Wars: Episode VII - The Force Awakens                   null   \n\n                                                actor_2_name  \\\nmovie_title                                                    \nAvatar                                      Joel David Moore   \nPirates of the Caribbean: At World's End       Orlando Bloom   \nSpectre                                         Rory Kinnear   \nThe Dark Knight Rises                         Christian Bale   \nStar Wars: Episode VII - The Force Awakens        Rob Walker   \n\n                                            actor_1_facebook_likes  \\\nmovie_title                                                          \nAvatar                                                      1000.0   \nPirates of the Caribbean: At World's End                   40000.0   \nSpectre                                                    11000.0   \nThe Dark Knight Rises                                      27000.0   \nStar Wars: Episode VII - The Force Awakens                   131.0   \n\n                                                  gross  \\\nmovie_title                                               \nAvatar                                      760505847.0   \nPirates of the Caribbean: At World's End    309404152.0   \nSpectre                                     200074175.0   \nThe Dark Knight Rises                       448130642.0   \nStar Wars: Episode VII - The Force Awakens         null   \n\n                                                                     genres  \\\nmovie_title                                                                   \nAvatar                                      Action|Adventure|Fantasy|Sci-Fi   \nPirates of the Caribbean: At World's End           Action|Adventure|Fantasy   \nSpectre                                           Action|Adventure|Thriller   \nThe Dark Knight Rises                                       Action|Thriller   \nStar Wars: Episode VII - The Force Awakens                      Documentary   \n\n                                            ... num_user_for_reviews language  \\\nmovie_title                                 ...                                 \nAvatar                                      ...               3054.0  English   \nPirates of the Caribbean: At World's End    ...               1238.0  English   \nSpectre                                     ...                994.0  English   \nThe Dark Knight Rises                       ...               2701.0  English   \nStar Wars: Episode VII - The Force Awakens  ...                 null     None   \n\n                                           country content_rating  \\\nmovie_title                                                         \nAvatar                                         USA          PG-13   \nPirates of the Caribbean: At World's End       USA          PG-13   \nSpectre                                         UK          PG-13   \nThe Dark Knight Rises                          USA          PG-13   \nStar Wars: Episode VII - The Force Awakens    None           None   \n\n                                                 budget title_year  \\\nmovie_title                                                          \nAvatar                                      237000000.0     2009.0   \nPirates of the Caribbean: At World's End    300000000.0     2007.0   \nSpectre                                     245000000.0     2015.0   \nThe Dark Knight Rises                       250000000.0     2012.0   \nStar Wars: Episode VII - The Force Awakens         null       null   \n\n                                           actor_2_facebook_likes imdb_score  \\\nmovie_title                                                                    \nAvatar                                                      936.0        7.9   \nPirates of the Caribbean: At World's End                   5000.0        7.1   \nSpectre                                                     393.0        6.8   \nThe Dark Knight Rises                                     23000.0        8.5   \nStar Wars: Episode VII - The Force Awakens                   12.0        7.1   \n\n                                            aspect_ratio  movie_facebook_likes  \nmovie_title                                                                     \nAvatar                                              1.78                 33000  \nPirates of the Caribbean: At World's End            2.35                     0  \nSpectre                                             2.35                 85000  \nThe Dark Knight Rises                               2.35                164000  \nStar Wars: Episode VII - The Force Awakens          null                     0  \n\n[5 rows x 27 columns]",
      "text/html": "<div>\n<style scoped>\n    .dataframe tbody tr th:only-of-type {\n        vertical-align: middle;\n    }\n\n    .dataframe tbody tr th {\n        vertical-align: top;\n    }\n\n    .dataframe thead th {\n        text-align: right;\n    }\n</style>\n<table border=\"1\" class=\"dataframe\">\n  <thead>\n    <tr style=\"text-align: right;\">\n      <th></th>\n      <th>color</th>\n      <th>director_name</th>\n      <th>num_critic_for_reviews</th>\n      <th>duration</th>\n      <th>director_facebook_likes</th>\n      <th>actor_3_facebook_likes</th>\n      <th>actor_2_name</th>\n      <th>actor_1_facebook_likes</th>\n      <th>gross</th>\n      <th>genres</th>\n      <th>...</th>\n      <th>num_user_for_reviews</th>\n      <th>language</th>\n      <th>country</th>\n      <th>content_rating</th>\n      <th>budget</th>\n      <th>title_year</th>\n      <th>actor_2_facebook_likes</th>\n      <th>imdb_score</th>\n      <th>aspect_ratio</th>\n      <th>movie_facebook_likes</th>\n    </tr>\n    <tr>\n      <th>movie_title</th>\n      <th></th>\n      <th></th>\n      <th></th>\n      <th></th>\n      <th></th>\n      <th></th>\n      <th></th>\n      <th></th>\n      <th></th>\n      <th></th>\n      <th></th>\n      <th></th>\n      <th></th>\n      <th></th>\n      <th></th>\n      <th></th>\n      <th></th>\n      <th></th>\n      <th></th>\n      <th></th>\n      <th></th>\n    </tr>\n  </thead>\n  <tbody>\n    <tr>\n      <th>Avatar</th>\n      <td>Color</td>\n      <td>James Cameron</td>\n      <td>723.0</td>\n      <td>178.0</td>\n      <td>0.0</td>\n      <td>855.0</td>\n      <td>Joel David Moore</td>\n      <td>1000.0</td>\n      <td>760505847.0</td>\n      <td>Action|Adventure|Fantasy|Sci-Fi</td>\n      <td>...</td>\n      <td>3054.0</td>\n      <td>English</td>\n      <td>USA</td>\n      <td>PG-13</td>\n      <td>237000000.0</td>\n      <td>2009.0</td>\n      <td>936.0</td>\n      <td>7.9</td>\n      <td>1.78</td>\n      <td>33000</td>\n    </tr>\n    <tr>\n      <th>Pirates of the Caribbean: At World's End</th>\n      <td>Color</td>\n      <td>Gore Verbinski</td>\n      <td>302.0</td>\n      <td>169.0</td>\n      <td>563.0</td>\n      <td>1000.0</td>\n      <td>Orlando Bloom</td>\n      <td>40000.0</td>\n      <td>309404152.0</td>\n      <td>Action|Adventure|Fantasy</td>\n      <td>...</td>\n      <td>1238.0</td>\n      <td>English</td>\n      <td>USA</td>\n      <td>PG-13</td>\n      <td>300000000.0</td>\n      <td>2007.0</td>\n      <td>5000.0</td>\n      <td>7.1</td>\n      <td>2.35</td>\n      <td>0</td>\n    </tr>\n    <tr>\n      <th>Spectre</th>\n      <td>Color</td>\n      <td>Sam Mendes</td>\n      <td>602.0</td>\n      <td>148.0</td>\n      <td>0.0</td>\n      <td>161.0</td>\n      <td>Rory Kinnear</td>\n      <td>11000.0</td>\n      <td>200074175.0</td>\n      <td>Action|Adventure|Thriller</td>\n      <td>...</td>\n      <td>994.0</td>\n      <td>English</td>\n      <td>UK</td>\n      <td>PG-13</td>\n      <td>245000000.0</td>\n      <td>2015.0</td>\n      <td>393.0</td>\n      <td>6.8</td>\n      <td>2.35</td>\n      <td>85000</td>\n    </tr>\n    <tr>\n      <th>The Dark Knight Rises</th>\n      <td>Color</td>\n      <td>Christopher Nolan</td>\n      <td>813.0</td>\n      <td>164.0</td>\n      <td>22000.0</td>\n      <td>23000.0</td>\n      <td>Christian Bale</td>\n      <td>27000.0</td>\n      <td>448130642.0</td>\n      <td>Action|Thriller</td>\n      <td>...</td>\n      <td>2701.0</td>\n      <td>English</td>\n      <td>USA</td>\n      <td>PG-13</td>\n      <td>250000000.0</td>\n      <td>2012.0</td>\n      <td>23000.0</td>\n      <td>8.5</td>\n      <td>2.35</td>\n      <td>164000</td>\n    </tr>\n    <tr>\n      <th>Star Wars: Episode VII - The Force Awakens</th>\n      <td>None</td>\n      <td>Doug Walker</td>\n      <td>null</td>\n      <td>null</td>\n      <td>131.0</td>\n      <td>null</td>\n      <td>Rob Walker</td>\n      <td>131.0</td>\n      <td>null</td>\n      <td>Documentary</td>\n      <td>...</td>\n      <td>null</td>\n      <td>None</td>\n      <td>None</td>\n      <td>None</td>\n      <td>null</td>\n      <td>null</td>\n      <td>12.0</td>\n      <td>7.1</td>\n      <td>null</td>\n      <td>0</td>\n    </tr>\n  </tbody>\n</table>\n<p>5 rows × 27 columns</p>\n</div>"
     },
     "metadata": {},
     "output_type": "execute_result",
     "execution_count": 2
    }
   ],
   "source": [
    "movie = cudf.read_csv('../../Data/movie.csv',index_col='movie_title')\n",
    "movie.head()\n"
   ],
   "metadata": {
    "collapsed": false,
    "pycharm": {
     "name": "#%%\n",
     "is_executing": false
    }
   }
  },
  {
   "cell_type": "code",
   "execution_count": 3,
   "outputs": [
    {
     "data": {
      "text/plain": "Avatar                                         True\nPirates of the Caribbean: At World's End       True\nSpectre                                        True\nThe Dark Knight Rises                          True\nStar Wars: Episode VII - The Force Awakens    False\nJohn Carter                                    True\nSpider-Man 3                                   True\nTangled                                       False\nAvengers: Age of Ultron                        True\nHarry Potter and the Half-Blood Prince         True\nName: duration, dtype: bool"
     },
     "metadata": {},
     "output_type": "execute_result",
     "execution_count": 3
    }
   ],
   "source": [
    "#找出时长大于两小时的电影\n",
    "movie_2_hours = movie['duration'] > 120\n",
    "movie_2_hours.head(10)"
   ],
   "metadata": {
    "collapsed": false,
    "pycharm": {
     "name": "#%%\n",
     "is_executing": false
    }
   }
  },
  {
   "cell_type": "code",
   "execution_count": 4,
   "outputs": [
    {
     "data": {
      "text/plain": "1039"
     },
     "metadata": {},
     "output_type": "execute_result",
     "execution_count": 4
    }
   ],
   "source": [
    "movie_2_hours.sum()\n",
    "\n"
   ],
   "metadata": {
    "collapsed": false,
    "pycharm": {
     "name": "#%%\n",
     "is_executing": false
    }
   }
  },
  {
   "cell_type": "code",
   "execution_count": 5,
   "outputs": [
    {
     "data": {
      "text/plain": "0.2113506916192026"
     },
     "metadata": {},
     "output_type": "execute_result",
     "execution_count": 5
    }
   ],
   "source": [
    "movie_2_hours.mean()\n",
    "\n"
   ],
   "metadata": {
    "collapsed": false,
    "pycharm": {
     "name": "#%%\n",
     "is_executing": false
    }
   }
  },
  {
   "cell_type": "code",
   "execution_count": 6,
   "outputs": [
    {
     "data": {
      "text/plain": "0.21199755152009794"
     },
     "metadata": {},
     "output_type": "execute_result",
     "execution_count": 6
    }
   ],
   "source": [
    "movie['duration'].dropna().gt(120).mean()\n",
    "\n"
   ],
   "metadata": {
    "collapsed": false,
    "pycharm": {
     "name": "#%%\n",
     "is_executing": false
    }
   }
  },
  {
   "cell_type": "code",
   "execution_count": 7,
   "outputs": [
    {
     "traceback": [
      "\u001b[0;31m---------------------------------------------------------------------------\u001b[0m",
      "\u001b[0;31mNotImplementedError\u001b[0m                       Traceback (most recent call last)",
      "\u001b[0;32m<ipython-input-7-c8497ef3973a>\u001b[0m in \u001b[0;36m<module>\u001b[0;34m\u001b[0m\n\u001b[0;32m----> 1\u001b[0;31m \u001b[0mmovie_2_hours\u001b[0m\u001b[0;34m.\u001b[0m\u001b[0mdescribe\u001b[0m\u001b[0;34m(\u001b[0m\u001b[0;34m)\u001b[0m\u001b[0;34m\u001b[0m\u001b[0;34m\u001b[0m\u001b[0m\n\u001b[0m\u001b[1;32m      2\u001b[0m \u001b[0;34m\u001b[0m\u001b[0m\n\u001b[1;32m      3\u001b[0m \u001b[0;34m\u001b[0m\u001b[0m\n",
      "\u001b[0;32m~/anaconda3/envs/liukai/lib/python3.6/site-packages/cudf/core/series.py\u001b[0m in \u001b[0;36mdescribe\u001b[0;34m(self, percentiles, include, exclude)\u001b[0m\n\u001b[1;32m   2400\u001b[0m         \u001b[0;32melse\u001b[0m\u001b[0;34m:\u001b[0m\u001b[0;34m\u001b[0m\u001b[0;34m\u001b[0m\u001b[0m\n\u001b[1;32m   2401\u001b[0m             raise NotImplementedError(\n\u001b[0;32m-> 2402\u001b[0;31m                 \u001b[0;34m\"Describing non-numeric columns is not \"\u001b[0m \u001b[0;34m\"yet supported\"\u001b[0m\u001b[0;34m\u001b[0m\u001b[0;34m\u001b[0m\u001b[0m\n\u001b[0m\u001b[1;32m   2403\u001b[0m             )\n\u001b[1;32m   2404\u001b[0m \u001b[0;34m\u001b[0m\u001b[0m\n",
      "\u001b[0;31mNotImplementedError\u001b[0m: Describing non-numeric columns is not yet supported"
     ],
     "ename": "NotImplementedError",
     "evalue": "Describing non-numeric columns is not yet supported",
     "output_type": "error"
    }
   ],
   "source": [
    "# movie_2_hours.describe()\n",
    "\n"
   ],
   "metadata": {
    "collapsed": false,
    "pycharm": {
     "name": "#%%\n",
     "is_executing": false
    }
   }
  },
  {
   "cell_type": "code",
   "execution_count": 7,
   "outputs": [
    {
     "data": {
      "text/plain": "Avatar                                        True\nPirates of the Caribbean: At World's End      True\nSpectre                                       True\nThe Dark Knight Rises                         True\nStar Wars: Episode VII - The Force Awakens    null\nName: content_rating, dtype: bool"
     },
     "metadata": {},
     "output_type": "execute_result",
     "execution_count": 7
    }
   ],
   "source": [
    "#组合条件表达式\n",
    "cri1=movie.imdb_score >8\n",
    "cri2=movie.content_rating=='PG-13'\n",
    "cri3=(movie.title_year<2000)|(movie.title_year>2009)\n",
    "cri2.head()\n"
   ],
   "metadata": {
    "collapsed": false,
    "pycharm": {
     "name": "#%%\n",
     "is_executing": false
    }
   }
  },
  {
   "cell_type": "code",
   "execution_count": 8,
   "outputs": [
    {
     "data": {
      "text/plain": "Avatar                                        False\nPirates of the Caribbean: At World's End      False\nSpectre                                       False\nThe Dark Knight Rises                          True\nStar Wars: Episode VII - The Force Awakens     null\ndtype: bool"
     },
     "metadata": {},
     "output_type": "execute_result",
     "execution_count": 8
    }
   ],
   "source": [
    "cri_final = cri1&cri2&cri3\n",
    "cri_final.head()\n",
    "\n"
   ],
   "metadata": {
    "collapsed": false,
    "pycharm": {
     "name": "#%%\n",
     "is_executing": false
    }
   }
  },
  {
   "cell_type": "code",
   "execution_count": 9,
   "outputs": [
    {
     "data": {
      "text/plain": "                            color      director_name  num_critic_for_reviews  \\\nThe Dark Knight Rises       Color  Christopher Nolan                   813.0   \nThe Avengers                Color        Joss Whedon                   703.0   \nCaptain America: Civil War  Color      Anthony Russo                   516.0   \nGuardians of the Galaxy     Color         James Gunn                   653.0   \nInterstellar                Color  Christopher Nolan                   712.0   \n\n                            duration  director_facebook_likes  \\\nThe Dark Knight Rises          164.0                  22000.0   \nThe Avengers                   173.0                      0.0   \nCaptain America: Civil War     147.0                     94.0   \nGuardians of the Galaxy        121.0                    571.0   \nInterstellar                   169.0                  22000.0   \n\n                            actor_3_facebook_likes        actor_2_name  \\\nThe Dark Knight Rises                      23000.0      Christian Bale   \nThe Avengers                               19000.0   Robert Downey Jr.   \nCaptain America: Civil War                 11000.0  Scarlett Johansson   \nGuardians of the Galaxy                     3000.0          Vin Diesel   \nInterstellar                                6000.0       Anne Hathaway   \n\n                            actor_1_facebook_likes        gross  \\\nThe Dark Knight Rises                      27000.0  448130642.0   \nThe Avengers                               26000.0  623279547.0   \nCaptain America: Civil War                 21000.0  407197282.0   \nGuardians of the Galaxy                    14000.0  333130696.0   \nInterstellar                               11000.0  187991439.0   \n\n                                             genres  ... num_user_for_reviews  \\\nThe Dark Knight Rises               Action|Thriller  ...               2701.0   \nThe Avengers                Action|Adventure|Sci-Fi  ...               1722.0   \nCaptain America: Civil War  Action|Adventure|Sci-Fi  ...               1022.0   \nGuardians of the Galaxy     Action|Adventure|Sci-Fi  ...               1097.0   \nInterstellar                 Adventure|Drama|Sci-Fi  ...               2725.0   \n\n                           language  country content_rating       budget  \\\nThe Dark Knight Rises       English      USA          PG-13  250000000.0   \nThe Avengers                English      USA          PG-13  220000000.0   \nCaptain America: Civil War  English      USA          PG-13  250000000.0   \nGuardians of the Galaxy     English      USA          PG-13  170000000.0   \nInterstellar                English      USA          PG-13  165000000.0   \n\n                           title_year  actor_2_facebook_likes  imdb_score  \\\nThe Dark Knight Rises          2012.0                 23000.0         8.5   \nThe Avengers                   2012.0                 21000.0         8.1   \nCaptain America: Civil War     2016.0                 19000.0         8.2   \nGuardians of the Galaxy        2014.0                 14000.0         8.1   \nInterstellar                   2014.0                 11000.0         8.6   \n\n                            aspect_ratio  movie_facebook_likes  \nThe Dark Knight Rises               2.35                164000  \nThe Avengers                        1.85                123000  \nCaptain America: Civil War          2.35                 72000  \nGuardians of the Galaxy             2.35                 96000  \nInterstellar                        2.35                349000  \n\n[5 rows x 27 columns]",
      "text/html": "<div>\n<style scoped>\n    .dataframe tbody tr th:only-of-type {\n        vertical-align: middle;\n    }\n\n    .dataframe tbody tr th {\n        vertical-align: top;\n    }\n\n    .dataframe thead th {\n        text-align: right;\n    }\n</style>\n<table border=\"1\" class=\"dataframe\">\n  <thead>\n    <tr style=\"text-align: right;\">\n      <th></th>\n      <th>color</th>\n      <th>director_name</th>\n      <th>num_critic_for_reviews</th>\n      <th>duration</th>\n      <th>director_facebook_likes</th>\n      <th>actor_3_facebook_likes</th>\n      <th>actor_2_name</th>\n      <th>actor_1_facebook_likes</th>\n      <th>gross</th>\n      <th>genres</th>\n      <th>...</th>\n      <th>num_user_for_reviews</th>\n      <th>language</th>\n      <th>country</th>\n      <th>content_rating</th>\n      <th>budget</th>\n      <th>title_year</th>\n      <th>actor_2_facebook_likes</th>\n      <th>imdb_score</th>\n      <th>aspect_ratio</th>\n      <th>movie_facebook_likes</th>\n    </tr>\n  </thead>\n  <tbody>\n    <tr>\n      <th>The Dark Knight Rises</th>\n      <td>Color</td>\n      <td>Christopher Nolan</td>\n      <td>813.0</td>\n      <td>164.0</td>\n      <td>22000.0</td>\n      <td>23000.0</td>\n      <td>Christian Bale</td>\n      <td>27000.0</td>\n      <td>448130642.0</td>\n      <td>Action|Thriller</td>\n      <td>...</td>\n      <td>2701.0</td>\n      <td>English</td>\n      <td>USA</td>\n      <td>PG-13</td>\n      <td>250000000.0</td>\n      <td>2012.0</td>\n      <td>23000.0</td>\n      <td>8.5</td>\n      <td>2.35</td>\n      <td>164000</td>\n    </tr>\n    <tr>\n      <th>The Avengers</th>\n      <td>Color</td>\n      <td>Joss Whedon</td>\n      <td>703.0</td>\n      <td>173.0</td>\n      <td>0.0</td>\n      <td>19000.0</td>\n      <td>Robert Downey Jr.</td>\n      <td>26000.0</td>\n      <td>623279547.0</td>\n      <td>Action|Adventure|Sci-Fi</td>\n      <td>...</td>\n      <td>1722.0</td>\n      <td>English</td>\n      <td>USA</td>\n      <td>PG-13</td>\n      <td>220000000.0</td>\n      <td>2012.0</td>\n      <td>21000.0</td>\n      <td>8.1</td>\n      <td>1.85</td>\n      <td>123000</td>\n    </tr>\n    <tr>\n      <th>Captain America: Civil War</th>\n      <td>Color</td>\n      <td>Anthony Russo</td>\n      <td>516.0</td>\n      <td>147.0</td>\n      <td>94.0</td>\n      <td>11000.0</td>\n      <td>Scarlett Johansson</td>\n      <td>21000.0</td>\n      <td>407197282.0</td>\n      <td>Action|Adventure|Sci-Fi</td>\n      <td>...</td>\n      <td>1022.0</td>\n      <td>English</td>\n      <td>USA</td>\n      <td>PG-13</td>\n      <td>250000000.0</td>\n      <td>2016.0</td>\n      <td>19000.0</td>\n      <td>8.2</td>\n      <td>2.35</td>\n      <td>72000</td>\n    </tr>\n    <tr>\n      <th>Guardians of the Galaxy</th>\n      <td>Color</td>\n      <td>James Gunn</td>\n      <td>653.0</td>\n      <td>121.0</td>\n      <td>571.0</td>\n      <td>3000.0</td>\n      <td>Vin Diesel</td>\n      <td>14000.0</td>\n      <td>333130696.0</td>\n      <td>Action|Adventure|Sci-Fi</td>\n      <td>...</td>\n      <td>1097.0</td>\n      <td>English</td>\n      <td>USA</td>\n      <td>PG-13</td>\n      <td>170000000.0</td>\n      <td>2014.0</td>\n      <td>14000.0</td>\n      <td>8.1</td>\n      <td>2.35</td>\n      <td>96000</td>\n    </tr>\n    <tr>\n      <th>Interstellar</th>\n      <td>Color</td>\n      <td>Christopher Nolan</td>\n      <td>712.0</td>\n      <td>169.0</td>\n      <td>22000.0</td>\n      <td>6000.0</td>\n      <td>Anne Hathaway</td>\n      <td>11000.0</td>\n      <td>187991439.0</td>\n      <td>Adventure|Drama|Sci-Fi</td>\n      <td>...</td>\n      <td>2725.0</td>\n      <td>English</td>\n      <td>USA</td>\n      <td>PG-13</td>\n      <td>165000000.0</td>\n      <td>2014.0</td>\n      <td>11000.0</td>\n      <td>8.6</td>\n      <td>2.35</td>\n      <td>349000</td>\n    </tr>\n  </tbody>\n</table>\n<p>5 rows × 27 columns</p>\n</div>"
     },
     "metadata": {},
     "output_type": "execute_result",
     "execution_count": 9
    }
   ],
   "source": [
    "#以上代码结果可以直接作为过滤器使用\n",
    "movie[cri_final].head()\n",
    "\n"
   ],
   "metadata": {
    "collapsed": false,
    "pycharm": {
     "name": "#%%\n",
     "is_executing": false
    }
   }
  },
  {
   "cell_type": "code",
   "execution_count": 10,
   "outputs": [
    {
     "data": {
      "text/plain": "                            imdb_score content_rating  title_year\nThe Dark Knight Rises              8.5          PG-13      2012.0\nThe Avengers                       8.1          PG-13      2012.0\nCaptain America: Civil War         8.2          PG-13      2016.0\nGuardians of the Galaxy            8.1          PG-13      2014.0\nInterstellar                       8.6          PG-13      2014.0",
      "text/html": "<div>\n<style scoped>\n    .dataframe tbody tr th:only-of-type {\n        vertical-align: middle;\n    }\n\n    .dataframe tbody tr th {\n        vertical-align: top;\n    }\n\n    .dataframe thead th {\n        text-align: right;\n    }\n</style>\n<table border=\"1\" class=\"dataframe\">\n  <thead>\n    <tr style=\"text-align: right;\">\n      <th></th>\n      <th>imdb_score</th>\n      <th>content_rating</th>\n      <th>title_year</th>\n    </tr>\n  </thead>\n  <tbody>\n    <tr>\n      <th>The Dark Knight Rises</th>\n      <td>8.5</td>\n      <td>PG-13</td>\n      <td>2012.0</td>\n    </tr>\n    <tr>\n      <th>The Avengers</th>\n      <td>8.1</td>\n      <td>PG-13</td>\n      <td>2012.0</td>\n    </tr>\n    <tr>\n      <th>Captain America: Civil War</th>\n      <td>8.2</td>\n      <td>PG-13</td>\n      <td>2016.0</td>\n    </tr>\n    <tr>\n      <th>Guardians of the Galaxy</th>\n      <td>8.1</td>\n      <td>PG-13</td>\n      <td>2014.0</td>\n    </tr>\n    <tr>\n      <th>Interstellar</th>\n      <td>8.6</td>\n      <td>PG-13</td>\n      <td>2014.0</td>\n    </tr>\n  </tbody>\n</table>\n</div>"
     },
     "metadata": {},
     "output_type": "execute_result",
     "execution_count": 10
    }
   ],
   "source": [
    "cols = ['imdb_score','content_rating','title_year']\n",
    "movie_filtered = movie.loc[cri_final,cols]\n",
    "movie_filtered.head()\n",
    "\n"
   ],
   "metadata": {
    "collapsed": false,
    "pycharm": {
     "name": "#%%\n",
     "is_executing": false
    }
   }
  },
  {
   "cell_type": "code",
   "execution_count": 11,
   "outputs": [
    {
     "data": {
      "text/plain": "                            INSTNM        CITY STABBR  HBCU  MENONLY  \\\n3610  Abilene Christian University     Abilene     TX   0.0      0.0   \n3611       Alvin Community College       Alvin     TX   0.0      0.0   \n3612              Amarillo College    Amarillo     TX   0.0      0.0   \n3613              Angelina College      Lufkin     TX   0.0      0.0   \n3614       Angelo State University  San Angelo     TX   0.0      0.0   \n\n      WOMENONLY  RELAFFIL SATVRMID SATMTMID  DISTANCEONLY  ...  UGDS_2MOR  \\\n3610        0.0         1    530.0    545.0           0.0  ...     0.0454   \n3611        0.0         0     null     null           0.0  ...     0.0002   \n3612        0.0         0     null     null           0.0  ...     0.0000   \n3613        0.0         0     null     null           0.0  ...     0.0264   \n3614        0.0         0    475.0    490.0           0.0  ...     0.0285   \n\n      UGDS_NRA  UGDS_UNKN  PPTUG_EF  CURROPER  PCTPELL  PCTFLOAN  UG25ABV  \\\n3610    0.0423     0.0045    0.0468         1   0.2595    0.5527   0.0381   \n3611    0.0000     0.0143    0.7123         1   0.1549    0.0625   0.2841   \n3612    0.0001     0.0085    0.6922         1   0.3786    0.1573   0.3431   \n3613    0.0005     0.0000    0.5600         1   0.5308    0.0000   0.2603   \n3614    0.0331     0.0011    0.1289         1   0.4068    0.5279   0.1407   \n\n      MD_EARN_WNE_P10  GRAD_DEBT_MDN_SUPP  \n3610            40200               25985  \n3611            34500                6750  \n3612            31700               10950  \n3613            26900   PrivacySuppressed  \n3614            37700             21319.5  \n\n[5 rows x 27 columns]",
      "text/html": "<div>\n<style scoped>\n    .dataframe tbody tr th:only-of-type {\n        vertical-align: middle;\n    }\n\n    .dataframe tbody tr th {\n        vertical-align: top;\n    }\n\n    .dataframe thead th {\n        text-align: right;\n    }\n</style>\n<table border=\"1\" class=\"dataframe\">\n  <thead>\n    <tr style=\"text-align: right;\">\n      <th></th>\n      <th>INSTNM</th>\n      <th>CITY</th>\n      <th>STABBR</th>\n      <th>HBCU</th>\n      <th>MENONLY</th>\n      <th>WOMENONLY</th>\n      <th>RELAFFIL</th>\n      <th>SATVRMID</th>\n      <th>SATMTMID</th>\n      <th>DISTANCEONLY</th>\n      <th>...</th>\n      <th>UGDS_2MOR</th>\n      <th>UGDS_NRA</th>\n      <th>UGDS_UNKN</th>\n      <th>PPTUG_EF</th>\n      <th>CURROPER</th>\n      <th>PCTPELL</th>\n      <th>PCTFLOAN</th>\n      <th>UG25ABV</th>\n      <th>MD_EARN_WNE_P10</th>\n      <th>GRAD_DEBT_MDN_SUPP</th>\n    </tr>\n  </thead>\n  <tbody>\n    <tr>\n      <th>3610</th>\n      <td>Abilene Christian University</td>\n      <td>Abilene</td>\n      <td>TX</td>\n      <td>0.0</td>\n      <td>0.0</td>\n      <td>0.0</td>\n      <td>1</td>\n      <td>530.0</td>\n      <td>545.0</td>\n      <td>0.0</td>\n      <td>...</td>\n      <td>0.0454</td>\n      <td>0.0423</td>\n      <td>0.0045</td>\n      <td>0.0468</td>\n      <td>1</td>\n      <td>0.2595</td>\n      <td>0.5527</td>\n      <td>0.0381</td>\n      <td>40200</td>\n      <td>25985</td>\n    </tr>\n    <tr>\n      <th>3611</th>\n      <td>Alvin Community College</td>\n      <td>Alvin</td>\n      <td>TX</td>\n      <td>0.0</td>\n      <td>0.0</td>\n      <td>0.0</td>\n      <td>0</td>\n      <td>null</td>\n      <td>null</td>\n      <td>0.0</td>\n      <td>...</td>\n      <td>0.0002</td>\n      <td>0.0000</td>\n      <td>0.0143</td>\n      <td>0.7123</td>\n      <td>1</td>\n      <td>0.1549</td>\n      <td>0.0625</td>\n      <td>0.2841</td>\n      <td>34500</td>\n      <td>6750</td>\n    </tr>\n    <tr>\n      <th>3612</th>\n      <td>Amarillo College</td>\n      <td>Amarillo</td>\n      <td>TX</td>\n      <td>0.0</td>\n      <td>0.0</td>\n      <td>0.0</td>\n      <td>0</td>\n      <td>null</td>\n      <td>null</td>\n      <td>0.0</td>\n      <td>...</td>\n      <td>0.0000</td>\n      <td>0.0001</td>\n      <td>0.0085</td>\n      <td>0.6922</td>\n      <td>1</td>\n      <td>0.3786</td>\n      <td>0.1573</td>\n      <td>0.3431</td>\n      <td>31700</td>\n      <td>10950</td>\n    </tr>\n    <tr>\n      <th>3613</th>\n      <td>Angelina College</td>\n      <td>Lufkin</td>\n      <td>TX</td>\n      <td>0.0</td>\n      <td>0.0</td>\n      <td>0.0</td>\n      <td>0</td>\n      <td>null</td>\n      <td>null</td>\n      <td>0.0</td>\n      <td>...</td>\n      <td>0.0264</td>\n      <td>0.0005</td>\n      <td>0.0000</td>\n      <td>0.5600</td>\n      <td>1</td>\n      <td>0.5308</td>\n      <td>0.0000</td>\n      <td>0.2603</td>\n      <td>26900</td>\n      <td>PrivacySuppressed</td>\n    </tr>\n    <tr>\n      <th>3614</th>\n      <td>Angelo State University</td>\n      <td>San Angelo</td>\n      <td>TX</td>\n      <td>0.0</td>\n      <td>0.0</td>\n      <td>0.0</td>\n      <td>0</td>\n      <td>475.0</td>\n      <td>490.0</td>\n      <td>0.0</td>\n      <td>...</td>\n      <td>0.0285</td>\n      <td>0.0331</td>\n      <td>0.0011</td>\n      <td>0.1289</td>\n      <td>1</td>\n      <td>0.4068</td>\n      <td>0.5279</td>\n      <td>0.1407</td>\n      <td>37700</td>\n      <td>21319.5</td>\n    </tr>\n  </tbody>\n</table>\n<p>5 rows × 27 columns</p>\n</div>"
     },
     "metadata": {},
     "output_type": "execute_result",
     "execution_count": 11
    }
   ],
   "source": [
    "#一个让代码变快的小技巧\n",
    "college = cudf.read_csv('../../Data/college.csv')\n",
    "college[college['STABBR']=='TX'].head()\n"
   ],
   "metadata": {
    "collapsed": false,
    "pycharm": {
     "name": "#%%\n",
     "is_executing": false
    }
   }
  },
  {
   "cell_type": "code",
   "execution_count": 12,
   "outputs": [
    {
     "data": {
      "text/plain": "                          INSTNM     CITY  HBCU  MENONLY  WOMENONLY  RELAFFIL  \\\nTX  Abilene Christian University  Abilene   0.0      0.0        0.0         1   \n\n    SATVRMID  SATMTMID  DISTANCEONLY    UGDS  ...  UGDS_2MOR  UGDS_NRA  \\\nTX     530.0     545.0           0.0  3572.0  ...     0.0454    0.0423   \n\n    UGDS_UNKN  PPTUG_EF  CURROPER  PCTPELL  PCTFLOAN  UG25ABV  \\\nTX     0.0045    0.0468         1   0.2595    0.5527   0.0381   \n\n    MD_EARN_WNE_P10  GRAD_DEBT_MDN_SUPP  \nTX            40200               25985  \n\n[1 rows x 26 columns]",
      "text/html": "<div>\n<style scoped>\n    .dataframe tbody tr th:only-of-type {\n        vertical-align: middle;\n    }\n\n    .dataframe tbody tr th {\n        vertical-align: top;\n    }\n\n    .dataframe thead th {\n        text-align: right;\n    }\n</style>\n<table border=\"1\" class=\"dataframe\">\n  <thead>\n    <tr style=\"text-align: right;\">\n      <th></th>\n      <th>INSTNM</th>\n      <th>CITY</th>\n      <th>HBCU</th>\n      <th>MENONLY</th>\n      <th>WOMENONLY</th>\n      <th>RELAFFIL</th>\n      <th>SATVRMID</th>\n      <th>SATMTMID</th>\n      <th>DISTANCEONLY</th>\n      <th>UGDS</th>\n      <th>...</th>\n      <th>UGDS_2MOR</th>\n      <th>UGDS_NRA</th>\n      <th>UGDS_UNKN</th>\n      <th>PPTUG_EF</th>\n      <th>CURROPER</th>\n      <th>PCTPELL</th>\n      <th>PCTFLOAN</th>\n      <th>UG25ABV</th>\n      <th>MD_EARN_WNE_P10</th>\n      <th>GRAD_DEBT_MDN_SUPP</th>\n    </tr>\n  </thead>\n  <tbody>\n    <tr>\n      <th>TX</th>\n      <td>Abilene Christian University</td>\n      <td>Abilene</td>\n      <td>0.0</td>\n      <td>0.0</td>\n      <td>0.0</td>\n      <td>1</td>\n      <td>530.0</td>\n      <td>545.0</td>\n      <td>0.0</td>\n      <td>3572.0</td>\n      <td>...</td>\n      <td>0.0454</td>\n      <td>0.0423</td>\n      <td>0.0045</td>\n      <td>0.0468</td>\n      <td>1</td>\n      <td>0.2595</td>\n      <td>0.5527</td>\n      <td>0.0381</td>\n      <td>40200</td>\n      <td>25985</td>\n    </tr>\n  </tbody>\n</table>\n<p>1 rows × 26 columns</p>\n</div>"
     },
     "metadata": {},
     "output_type": "execute_result",
     "execution_count": 12
    }
   ],
   "source": [
    "college2 = college.set_index('STABBR')\n",
    "college2.loc['TX'].head()\n",
    "\n"
   ],
   "metadata": {
    "collapsed": false,
    "pycharm": {
     "name": "#%%\n",
     "is_executing": false
    }
   }
  },
  {
   "cell_type": "code",
   "execution_count": 17,
   "outputs": [
    {
     "name": "stdout",
     "text": [
      "89.2 ms ± 4.32 ms per loop (mean ± std. dev. of 7 runs, 10 loops each)\n"
     ],
     "output_type": "stream"
    }
   ],
   "source": [
    "%timeit college[college['STABBR']=='TX']\n",
    "\n"
   ],
   "metadata": {
    "collapsed": false,
    "pycharm": {
     "name": "#%%\n",
     "is_executing": false
    }
   }
  },
  {
   "cell_type": "code",
   "execution_count": 13,
   "outputs": [
    {
     "name": "stdout",
     "text": [
      "224 ms ± 3.34 ms per loop (mean ± std. dev. of 7 runs, 1 loop each)\n"
     ],
     "output_type": "stream"
    }
   ],
   "source": [
    "%timeit college2.loc['TX']"
   ],
   "metadata": {
    "collapsed": false,
    "pycharm": {
     "name": "#%%\n",
     "is_executing": false
    }
   }
  },
  {
   "cell_type": "code",
   "execution_count": 19,
   "outputs": [
    {
     "data": {
      "text/plain": "False"
     },
     "metadata": {},
     "output_type": "execute_result",
     "execution_count": 19
    }
   ],
   "source": [
    "college2.index.is_monotonic\n",
    "\n"
   ],
   "metadata": {
    "collapsed": false,
    "pycharm": {
     "name": "#%%\n",
     "is_executing": false
    }
   }
  },
  {
   "cell_type": "code",
   "execution_count": 15,
   "outputs": [
    {
     "data": {
      "text/plain": "True"
     },
     "metadata": {},
     "output_type": "execute_result",
     "execution_count": 15
    }
   ],
   "source": [
    "college3 = college2.sort_index()\n",
    "college3.index.is_monotonic\n"
   ],
   "metadata": {
    "collapsed": false,
    "pycharm": {
     "name": "#%%\n",
     "is_executing": false
    }
   }
  },
  {
   "cell_type": "code",
   "execution_count": 16,
   "outputs": [
    {
     "name": "stdout",
     "text": [
      "72.9 ms ± 3.54 ms per loop (mean ± std. dev. of 7 runs, 10 loops each)\n"
     ],
     "output_type": "stream"
    }
   ],
   "source": [
    "%timeit college[college['STABBR']=='TX']\n",
    "\n"
   ],
   "metadata": {
    "collapsed": false,
    "pycharm": {
     "name": "#%%\n",
     "is_executing": false
    }
   }
  },
  {
   "cell_type": "code",
   "execution_count": 17,
   "outputs": [
    {
     "name": "stdout",
     "text": [
      "220 ms ± 1 ms per loop (mean ± std. dev. of 7 runs, 1 loop each)\n"
     ],
     "output_type": "stream"
    }
   ],
   "source": [
    "%timeit college2.loc['TX']\n",
    "\n"
   ],
   "metadata": {
    "collapsed": false,
    "pycharm": {
     "name": "#%%\n",
     "is_executing": false
    }
   }
  },
  {
   "cell_type": "code",
   "execution_count": 18,
   "outputs": [
    {
     "name": "stdout",
     "text": [
      "224 ms ± 9.45 ms per loop (mean ± std. dev. of 7 runs, 1 loop each)\n"
     ],
     "output_type": "stream"
    }
   ],
   "source": [
    "%timeit college3.loc['TX']"
   ],
   "metadata": {
    "collapsed": false,
    "pycharm": {
     "name": "#%%\n",
     "is_executing": false
    }
   }
  },
  {
   "cell_type": "code",
   "execution_count": 20,
   "outputs": [],
   "source": [
    "college_unique = college.set_index('INSTNM')\n",
    "\n"
   ],
   "metadata": {
    "collapsed": false,
    "pycharm": {
     "name": "#%%\n",
     "is_executing": false
    }
   }
  },
  {
   "cell_type": "code",
   "execution_count": 21,
   "outputs": [
    {
     "data": {
      "text/plain": "                   INSTNM      CITY STABBR  HBCU  MENONLY  WOMENONLY  \\\n4217  Stanford University  Stanford     CA   0.0      0.0        0.0   \n\n      RELAFFIL  SATVRMID  SATMTMID  DISTANCEONLY  ...  UGDS_2MOR  UGDS_NRA  \\\n4217         0     730.0     745.0           0.0  ...     0.1067    0.0819   \n\n      UGDS_UNKN  PPTUG_EF  CURROPER  PCTPELL  PCTFLOAN  UG25ABV  \\\n4217     0.0031       0.0         1   0.1556    0.1256   0.0401   \n\n      MD_EARN_WNE_P10  GRAD_DEBT_MDN_SUPP  \n4217            86000               12782  \n\n[1 rows x 27 columns]",
      "text/html": "<div>\n<style scoped>\n    .dataframe tbody tr th:only-of-type {\n        vertical-align: middle;\n    }\n\n    .dataframe tbody tr th {\n        vertical-align: top;\n    }\n\n    .dataframe thead th {\n        text-align: right;\n    }\n</style>\n<table border=\"1\" class=\"dataframe\">\n  <thead>\n    <tr style=\"text-align: right;\">\n      <th></th>\n      <th>INSTNM</th>\n      <th>CITY</th>\n      <th>STABBR</th>\n      <th>HBCU</th>\n      <th>MENONLY</th>\n      <th>WOMENONLY</th>\n      <th>RELAFFIL</th>\n      <th>SATVRMID</th>\n      <th>SATMTMID</th>\n      <th>DISTANCEONLY</th>\n      <th>...</th>\n      <th>UGDS_2MOR</th>\n      <th>UGDS_NRA</th>\n      <th>UGDS_UNKN</th>\n      <th>PPTUG_EF</th>\n      <th>CURROPER</th>\n      <th>PCTPELL</th>\n      <th>PCTFLOAN</th>\n      <th>UG25ABV</th>\n      <th>MD_EARN_WNE_P10</th>\n      <th>GRAD_DEBT_MDN_SUPP</th>\n    </tr>\n  </thead>\n  <tbody>\n    <tr>\n      <th>4217</th>\n      <td>Stanford University</td>\n      <td>Stanford</td>\n      <td>CA</td>\n      <td>0.0</td>\n      <td>0.0</td>\n      <td>0.0</td>\n      <td>0</td>\n      <td>730.0</td>\n      <td>745.0</td>\n      <td>0.0</td>\n      <td>...</td>\n      <td>0.1067</td>\n      <td>0.0819</td>\n      <td>0.0031</td>\n      <td>0.0</td>\n      <td>1</td>\n      <td>0.1556</td>\n      <td>0.1256</td>\n      <td>0.0401</td>\n      <td>86000</td>\n      <td>12782</td>\n    </tr>\n  </tbody>\n</table>\n<p>1 rows × 27 columns</p>\n</div>"
     },
     "metadata": {},
     "output_type": "execute_result",
     "execution_count": 21
    }
   ],
   "source": [
    "#注意有什么不同\n",
    "college[college['INSTNM'] == 'Stanford University']\n",
    "\n"
   ],
   "metadata": {
    "collapsed": false,
    "pycharm": {
     "name": "#%%\n",
     "is_executing": false
    }
   }
  },
  {
   "cell_type": "code",
   "execution_count": 22,
   "outputs": [
    {
     "data": {
      "text/plain": "                         CITY STABBR  HBCU  MENONLY  WOMENONLY  RELAFFIL  \\\nStanford University  Stanford     CA   0.0      0.0        0.0         0   \n\n                     SATVRMID  SATMTMID  DISTANCEONLY    UGDS  ...  UGDS_2MOR  \\\nStanford University     730.0     745.0           0.0  7018.0  ...     0.1067   \n\n                     UGDS_NRA  UGDS_UNKN  PPTUG_EF  CURROPER  PCTPELL  \\\nStanford University    0.0819     0.0031       0.0         1   0.1556   \n\n                     PCTFLOAN  UG25ABV  MD_EARN_WNE_P10  GRAD_DEBT_MDN_SUPP  \nStanford University    0.1256   0.0401            86000               12782  \n\n[1 rows x 26 columns]",
      "text/html": "<div>\n<style scoped>\n    .dataframe tbody tr th:only-of-type {\n        vertical-align: middle;\n    }\n\n    .dataframe tbody tr th {\n        vertical-align: top;\n    }\n\n    .dataframe thead th {\n        text-align: right;\n    }\n</style>\n<table border=\"1\" class=\"dataframe\">\n  <thead>\n    <tr style=\"text-align: right;\">\n      <th></th>\n      <th>CITY</th>\n      <th>STABBR</th>\n      <th>HBCU</th>\n      <th>MENONLY</th>\n      <th>WOMENONLY</th>\n      <th>RELAFFIL</th>\n      <th>SATVRMID</th>\n      <th>SATMTMID</th>\n      <th>DISTANCEONLY</th>\n      <th>UGDS</th>\n      <th>...</th>\n      <th>UGDS_2MOR</th>\n      <th>UGDS_NRA</th>\n      <th>UGDS_UNKN</th>\n      <th>PPTUG_EF</th>\n      <th>CURROPER</th>\n      <th>PCTPELL</th>\n      <th>PCTFLOAN</th>\n      <th>UG25ABV</th>\n      <th>MD_EARN_WNE_P10</th>\n      <th>GRAD_DEBT_MDN_SUPP</th>\n    </tr>\n  </thead>\n  <tbody>\n    <tr>\n      <th>Stanford University</th>\n      <td>Stanford</td>\n      <td>CA</td>\n      <td>0.0</td>\n      <td>0.0</td>\n      <td>0.0</td>\n      <td>0</td>\n      <td>730.0</td>\n      <td>745.0</td>\n      <td>0.0</td>\n      <td>7018.0</td>\n      <td>...</td>\n      <td>0.1067</td>\n      <td>0.0819</td>\n      <td>0.0031</td>\n      <td>0.0</td>\n      <td>1</td>\n      <td>0.1556</td>\n      <td>0.1256</td>\n      <td>0.0401</td>\n      <td>86000</td>\n      <td>12782</td>\n    </tr>\n  </tbody>\n</table>\n<p>1 rows × 26 columns</p>\n</div>"
     },
     "metadata": {},
     "output_type": "execute_result",
     "execution_count": 22
    }
   ],
   "source": [
    "college_unique.loc['Stanford University']\n",
    "\n"
   ],
   "metadata": {
    "collapsed": false,
    "pycharm": {
     "name": "#%%\n",
     "is_executing": false
    }
   }
  },
  {
   "cell_type": "code",
   "execution_count": 23,
   "outputs": [
    {
     "data": {
      "text/plain": "             Open   High    Low  Close    Volume\nDate                                            \n2010-01-04  66.39  67.20  66.12  67.11   5771234\n2010-01-05  66.99  67.62  66.73  67.30   7366270\n2010-01-06  67.17  68.94  67.03  68.80   9949946\n2010-01-07  68.49  69.81  68.21  69.51   7700297\n2010-01-08  69.19  72.00  69.09  70.65  13487621",
      "text/html": "<div>\n<style scoped>\n    .dataframe tbody tr th:only-of-type {\n        vertical-align: middle;\n    }\n\n    .dataframe tbody tr th {\n        vertical-align: top;\n    }\n\n    .dataframe thead th {\n        text-align: right;\n    }\n</style>\n<table border=\"1\" class=\"dataframe\">\n  <thead>\n    <tr style=\"text-align: right;\">\n      <th></th>\n      <th>Open</th>\n      <th>High</th>\n      <th>Low</th>\n      <th>Close</th>\n      <th>Volume</th>\n    </tr>\n    <tr>\n      <th>Date</th>\n      <th></th>\n      <th></th>\n      <th></th>\n      <th></th>\n      <th></th>\n    </tr>\n  </thead>\n  <tbody>\n    <tr>\n      <th>2010-01-04</th>\n      <td>66.39</td>\n      <td>67.20</td>\n      <td>66.12</td>\n      <td>67.11</td>\n      <td>5771234</td>\n    </tr>\n    <tr>\n      <th>2010-01-05</th>\n      <td>66.99</td>\n      <td>67.62</td>\n      <td>66.73</td>\n      <td>67.30</td>\n      <td>7366270</td>\n    </tr>\n    <tr>\n      <th>2010-01-06</th>\n      <td>67.17</td>\n      <td>68.94</td>\n      <td>67.03</td>\n      <td>68.80</td>\n      <td>9949946</td>\n    </tr>\n    <tr>\n      <th>2010-01-07</th>\n      <td>68.49</td>\n      <td>69.81</td>\n      <td>68.21</td>\n      <td>69.51</td>\n      <td>7700297</td>\n    </tr>\n    <tr>\n      <th>2010-01-08</th>\n      <td>69.19</td>\n      <td>72.00</td>\n      <td>69.09</td>\n      <td>70.65</td>\n      <td>13487621</td>\n    </tr>\n  </tbody>\n</table>\n</div>"
     },
     "metadata": {},
     "output_type": "execute_result",
     "execution_count": 23
    }
   ],
   "source": [
    "#玩一手股票\n",
    "slb = cudf.read_csv('../../Data/slb_stock.csv',index_col='Date',parse_dates=['Date'])\n",
    "slb.head()\n"
   ],
   "metadata": {
    "collapsed": false,
    "pycharm": {
     "name": "#%%\n",
     "is_executing": false
    }
   }
  },
  {
   "cell_type": "code",
   "execution_count": 24,
   "outputs": [
    {
     "data": {
      "text/plain": "count    1895.000000\nmean       79.121905\nstd        11.767802\nmin        51.750000\n10%        64.892000\n50%        78.000000\n90%        93.248000\nmax       117.950000\nName: Close, dtype: float64"
     },
     "metadata": {},
     "output_type": "execute_result",
     "execution_count": 24
    }
   ],
   "source": [
    "slb_close = slb['Close']\n",
    "slb_summary = slb_close.describe(percentiles=[.1,.9])\n",
    "slb_summary\n",
    "\n"
   ],
   "metadata": {
    "collapsed": false,
    "pycharm": {
     "name": "#%%\n",
     "is_executing": false
    }
   }
  },
  {
   "cell_type": "code",
   "execution_count": 34,
   "outputs": [],
   "source": [
    "upper_10 = slb_summary.loc['90%']\n",
    "lower_10 = slb_summary.loc['10%']\n",
    "cri = (slb_close < lower_10) | (slb_close > upper_10)\n",
    "slb_t_b_10 = slb_close[cri]\n"
   ],
   "metadata": {
    "collapsed": false,
    "pycharm": {
     "name": "#%%\n",
     "is_executing": false
    }
   }
  },
  {
   "cell_type": "code",
   "execution_count": 35,
   "outputs": [
    {
     "data": {
      "text/plain": "<matplotlib.collections.LineCollection at 0x7f1971ff7780>"
     },
     "metadata": {},
     "output_type": "execute_result",
     "execution_count": 35
    },
    {
     "data": {
      "text/plain": "<Figure size 864x432 with 1 Axes>",
      "image/png": "[encoded data removed]"
     },
     "metadata": {
      "needs_background": "light"
     },
     "output_type": "display_data"
    }
   ],
   "source": [
    "from matplotlib import pyplot as plt\n",
    "pdslb_close = slb_close.to_pandas()\n",
    "pdslb_close.plot(color='black',figsize=(12,6))\n",
    "# slb_t_b_10.to_pandas.plot(marker='o',style=' ',ms=4,color='lightgray')\n",
    "pdslb_t_b_10 = slb_t_b_10.to_pandas()\n",
    "pdslb_t_b_10.plot(marker='o',style=' ',ms=4,color='lightgray')\n",
    "xmin = cri.index[0]\n",
    "xmax=cri.index[-1]\n",
    "plt.hlines(y=[lower_10,upper_10],xmin=xmin,xmax=xmax,color='black')\n"
   ],
   "metadata": {
    "collapsed": false,
    "pycharm": {
     "name": "#%%\n",
     "is_executing": false
    }
   }
  },
  {
   "cell_type": "code",
   "execution_count": null,
   "outputs": [],
   "source": [
    "#现在我们来转换一条SQL语句\n",
    "# SELECT\n",
    "#     UNIQUE_ID,\n",
    "#     DEPARTMENT,\n",
    "#     GENDER,\n",
    "#     BASE_SALARY,\n",
    "# FROM\n",
    "#     EMPLOYEE\n",
    "# WHERE \n",
    "#     DEPARTMENT IN ('Houston Police Depart-HPD','Houston Fire Department (HFD)') AND\n",
    "#     GENDER = 'Female' AND\n",
    "#     BASE_SALARY BETWEEN 80000 AND 120000;\n",
    "\n",
    "\n"
   ],
   "metadata": {
    "collapsed": false,
    "pycharm": {
     "name": "#%%\n"
    }
   }
  },
  {
   "cell_type": "code",
   "execution_count": 37,
   "outputs": [
    {
     "data": {
      "text/plain": "Houston Police Department-HPD     638\nHouston Fire Department (HFD)     384\nPublic Works & Engineering-PWE    343\nHealth & Human Services           110\nHouston Airport System (HAS)      106\nName: DEPARTMENT, dtype: int32"
     },
     "metadata": {},
     "output_type": "execute_result",
     "execution_count": 37
    }
   ],
   "source": [
    "employee = cudf.read_csv('../../Data/employee.csv')\n",
    "employee.DEPARTMENT.value_counts().head()\n"
   ],
   "metadata": {
    "collapsed": false,
    "pycharm": {
     "name": "#%%\n",
     "is_executing": false
    }
   }
  },
  {
   "cell_type": "code",
   "execution_count": 38,
   "outputs": [
    {
     "data": {
      "text/plain": "Male      1397\nFemale     603\nName: GENDER, dtype: int32"
     },
     "metadata": {},
     "output_type": "execute_result",
     "execution_count": 38
    }
   ],
   "source": [
    "employee.GENDER.value_counts()\n",
    "\n"
   ],
   "metadata": {
    "collapsed": false,
    "pycharm": {
     "name": "#%%\n",
     "is_executing": false
    }
   }
  },
  {
   "cell_type": "code",
   "execution_count": 39,
   "outputs": [
    {
     "data": {
      "text/plain": "count      1886\nmean      55767\nstd       21693\nmin       24960\n25%       40170\n50%       54461\n75%       66614\nmax      275000\nName: BASE_SALARY, dtype: int64"
     },
     "metadata": {},
     "output_type": "execute_result",
     "execution_count": 39
    }
   ],
   "source": [
    "employee.BASE_SALARY.describe().astype('int')\n",
    "\n"
   ],
   "metadata": {
    "collapsed": false,
    "pycharm": {
     "name": "#%%\n",
     "is_executing": false
    }
   }
  },
  {
   "cell_type": "code",
   "execution_count": null,
   "outputs": [],
   "source": [
    "depts = ['Houston Police Department-HPD','Houston Fire Department (HFD)']\n",
    "cri_dept = employee.DEPARTMENT.isin(depts)\n",
    "cri_gender = employee.GENDER == 'Female'\n",
    "cri_sal = (employee.BASE_SALARY >=80000) & (employee.BASE_SALARY <=120000)"
   ],
   "metadata": {
    "collapsed": false,
    "pycharm": {
     "name": "#%%\n",
     "is_executing": true
    }
   }
  },
  {
   "cell_type": "code",
   "execution_count": 44,
   "outputs": [
    {
     "data": {
      "text/plain": "0       False\n1       False\n2       False\n3       False\n4       False\n        ...  \n1995    False\n1996    False\n1997    False\n1998    False\n1999    False\nName: BASE_SALARY, Length: 2000, dtype: bool"
     },
     "metadata": {},
     "output_type": "execute_result",
     "execution_count": 44
    }
   ],
   "source": [
    "cri_sal\n"
   ],
   "metadata": {
    "collapsed": false,
    "pycharm": {
     "name": "#%%\n",
     "is_executing": false
    }
   }
  },
  {
   "cell_type": "code",
   "execution_count": 46,
   "outputs": [
    {
     "data": {
      "text/plain": "    UNIQUE_ID                     DEPARTMENT  GENDER  BASE_SALARY\n61         61  Houston Fire Department (HFD)  Female      96668.0",
      "text/html": "<div>\n<style scoped>\n    .dataframe tbody tr th:only-of-type {\n        vertical-align: middle;\n    }\n\n    .dataframe tbody tr th {\n        vertical-align: top;\n    }\n\n    .dataframe thead th {\n        text-align: right;\n    }\n</style>\n<table border=\"1\" class=\"dataframe\">\n  <thead>\n    <tr style=\"text-align: right;\">\n      <th></th>\n      <th>UNIQUE_ID</th>\n      <th>DEPARTMENT</th>\n      <th>GENDER</th>\n      <th>BASE_SALARY</th>\n    </tr>\n  </thead>\n  <tbody>\n    <tr>\n      <th>61</th>\n      <td>61</td>\n      <td>Houston Fire Department (HFD)</td>\n      <td>Female</td>\n      <td>96668.0</td>\n    </tr>\n  </tbody>\n</table>\n</div>"
     },
     "metadata": {},
     "output_type": "execute_result",
     "execution_count": 46
    }
   ],
   "source": [
    "cri_final = (cri_dept & cri_sal&cri_gender)\n",
    "select_col = ['UNIQUE_ID',\n",
    "    'DEPARTMENT',\n",
    "    'GENDER',\n",
    "    'BASE_SALARY']\n",
    "employee.loc[cri_final,select_col].head()"
   ],
   "metadata": {
    "collapsed": false,
    "pycharm": {
     "name": "#%%\n",
     "is_executing": false
    }
   }
  },
  {
   "cell_type": "code",
   "execution_count": 3,
   "outputs": [
    {
     "data": {
      "text/plain": "Avatar                                         1000.0\nPirates of the Caribbean: At World's End      40000.0\nSpectre                                       11000.0\nThe Dark Knight Rises                         27000.0\nStar Wars: Episode VII - The Force Awakens      131.0\nName: actor_1_facebook_likes, dtype: float64"
     },
     "metadata": {},
     "output_type": "execute_result",
     "execution_count": 3
    }
   ],
   "source": [
    "#where 的用法\n",
    "movie = cudf.read_csv('../../Data/movie.csv',index_col='movie_title')\n",
    "fb_likes = movie['actor_1_facebook_likes'].dropna()\n",
    "fb_likes.head()\n",
    "\n"
   ],
   "metadata": {
    "collapsed": false,
    "pycharm": {
     "name": "#%%\n",
     "is_executing": false
    }
   }
  },
  {
   "cell_type": "code",
   "execution_count": 4,
   "outputs": [
    {
     "data": {
      "text/plain": "count      4909\nmean       6494\nstd       15106\nmin           0\n10%         240\n25%         607\n50%         982\n75%       11000\n90%       18000\nmax      640000\nName: actor_1_facebook_likes, dtype: int64"
     },
     "metadata": {},
     "output_type": "execute_result",
     "execution_count": 4
    }
   ],
   "source": [
    "fb_likes.describe(percentiles=[.1,.25,.5,.75,.9]).astype(int)\n",
    "\n"
   ],
   "metadata": {
    "collapsed": false,
    "pycharm": {
     "name": "#%%\n",
     "is_executing": false
    }
   }
  },
  {
   "cell_type": "code",
   "execution_count": 5,
   "outputs": [
    {
     "data": {
      "text/plain": "<matplotlib.axes._subplots.AxesSubplot at 0x7fab451ce8d0>"
     },
     "metadata": {},
     "output_type": "execute_result",
     "execution_count": 5
    },
    {
     "data": {
      "text/plain": "<Figure size 432x288 with 1 Axes>",
      "image/png": "[encoded data removed]"
     },
     "metadata": {
      "needs_background": "light"
     },
     "output_type": "display_data"
    }
   ],
   "source": [
    "pdfb_likes = fb_likes.to_pandas()\n",
    "pdfb_likes.hist()\n",
    "\n"
   ],
   "metadata": {
    "collapsed": false,
    "pycharm": {
     "name": "#%%\n",
     "is_executing": false
    }
   }
  },
  {
   "cell_type": "code",
   "execution_count": 7,
   "outputs": [
    {
     "data": {
      "text/plain": "0.9085353432470972"
     },
     "metadata": {},
     "output_type": "execute_result",
     "execution_count": 7
    }
   ],
   "source": [
    "cri_high = fb_likes < 20000\n",
    "cri_high.mean()\n"
   ],
   "metadata": {
    "collapsed": false,
    "pycharm": {
     "name": "#%%\n",
     "is_executing": false
    }
   }
  },
  {
   "cell_type": "code",
   "execution_count": 10,
   "outputs": [
    {
     "data": {
      "text/plain": "Avatar                                         1000.0\nPirates of the Caribbean: At World's End         null\nSpectre                                       11000.0\nThe Dark Knight Rises                            null\nStar Wars: Episode VII - The Force Awakens      131.0\nName: actor_1_facebook_likes, dtype: float64"
     },
     "metadata": {},
     "output_type": "execute_result",
     "execution_count": 10
    }
   ],
   "source": [
    "fb_likes.where(cri_high).head()\n",
    "\n"
   ],
   "metadata": {
    "collapsed": false,
    "pycharm": {
     "name": "#%%\n",
     "is_executing": false
    }
   }
  },
  {
   "cell_type": "code",
   "execution_count": 13,
   "outputs": [
    {
     "data": {
      "text/plain": "Avatar                                        null\nPirates of the Caribbean: At World's End      null\nSpectre                                       null\nThe Dark Knight Rises                         null\nStar Wars: Episode VII - The Force Awakens    null\nName: actor_1_facebook_likes, dtype: float64"
     },
     "metadata": {},
     "output_type": "execute_result",
     "execution_count": 13
    }
   ],
   "source": [
    "#填充miss值\n",
    "fb_likes.where(cri_high,other=2000).head()\n",
    "#根我余项的不太一样这可能是个bug"
   ],
   "metadata": {
    "collapsed": false,
    "pycharm": {
     "name": "#%%\n",
     "is_executing": false
    }
   }
  },
  {
   "cell_type": "code",
   "execution_count": 18,
   "outputs": [
    {
     "data": {
      "text/plain": "Avatar                                         1000.0\nPirates of the Caribbean: At World's End         null\nSpectre                                       11000.0\nThe Dark Knight Rises                            null\nStar Wars: Episode VII - The Force Awakens       null\nName: actor_1_facebook_likes, dtype: float64"
     },
     "metadata": {},
     "output_type": "execute_result",
     "execution_count": 18
    }
   ],
   "source": [
    "cri_low = fb_likes > 300\n",
    "fb_likes_cap = fb_likes.where(cri_low).where(cri_high)\n",
    "fb_likes_cap.head()\n"
   ],
   "metadata": {
    "collapsed": false,
    "pycharm": {
     "name": "#%%\n",
     "is_executing": false
    }
   }
  },
  {
   "cell_type": "code",
   "execution_count": 19,
   "outputs": [
    {
     "data": {
      "text/plain": "(4909, 4909)"
     },
     "metadata": {},
     "output_type": "execute_result",
     "execution_count": 19
    }
   ],
   "source": [
    "len(fb_likes),len(fb_likes_cap)\n",
    "\n"
   ],
   "metadata": {
    "collapsed": false,
    "pycharm": {
     "name": "#%%\n",
     "is_executing": false
    }
   }
  },
  {
   "cell_type": "code",
   "execution_count": 20,
   "outputs": [
    {
     "data": {
      "text/plain": "<matplotlib.axes._subplots.AxesSubplot at 0x7fab47e83898>"
     },
     "metadata": {},
     "output_type": "execute_result",
     "execution_count": 20
    },
    {
     "data": {
      "text/plain": "<Figure size 432x288 with 1 Axes>",
      "image/png": "[encoded data removed]"
     },
     "metadata": {
      "needs_background": "light"
     },
     "output_type": "display_data"
    }
   ],
   "source": [
    "#这里我将cudf转化为dataframe\n",
    "pdfb_cap = fb_likes_cap.to_pandas()\n",
    "pdfb_cap.hist()\n",
    "\n"
   ],
   "metadata": {
    "collapsed": false,
    "pycharm": {
     "name": "#%%\n",
     "is_executing": false
    }
   }
  },
  {
   "cell_type": "code",
   "execution_count": 5,
   "outputs": [],
   "source": [
    "#\n",
    "movie = cudf.read_csv('../../Data/movie.csv',index_col='movie_title')\n",
    "c1 = movie['content_rating'] == 'G'\n",
    "c2 = movie['imdb_score'] < 4\n",
    "criteria = c1&c2\n"
   ],
   "metadata": {
    "collapsed": false,
    "pycharm": {
     "name": "#%%\n",
     "is_executing": false
    }
   }
  },
  {
   "cell_type": "code",
   "execution_count": 7,
   "outputs": [
    {
     "data": {
      "text/plain": "                                color     director_name  \\\nThe True Story of Puss'N Boots  Color  Jérôme Deschamps   \nDoogal                          Color    Dave Borthwick   \nThomas and the Magic Railroad   Color    Britt Allcroft   \nBarney's Great Adventure        Color       Steve Gomer   \nJustin Bieber: Never Say Never  Color        Jon M. Chu   \n\n                                num_critic_for_reviews  duration  \\\nThe True Story of Puss'N Boots                     4.0      80.0   \nDoogal                                            31.0      77.0   \nThomas and the Magic Railroad                     47.0      85.0   \nBarney's Great Adventure                          24.0      76.0   \nJustin Bieber: Never Say Never                    84.0     115.0   \n\n                                director_facebook_likes  \\\nThe True Story of Puss'N Boots                      0.0   \nDoogal                                              3.0   \nThomas and the Magic Railroad                       2.0   \nBarney's Great Adventure                            9.0   \nJustin Bieber: Never Say Never                    209.0   \n\n                                actor_3_facebook_likes   actor_2_name  \\\nThe True Story of Puss'N Boots                     0.0    André Wilms   \nDoogal                                           593.0  Kylie Minogue   \nThomas and the Magic Railroad                    402.0     Colm Feore   \nBarney's Great Adventure                          47.0     Kyla Pratt   \nJustin Bieber: Never Say Never                    41.0  Sean Kingston   \n\n                                actor_1_facebook_likes       gross  \\\nThe True Story of Puss'N Boots                    44.0        null   \nDoogal                                           787.0   7382993.0   \nThomas and the Magic Railroad                   1000.0  15911333.0   \nBarney's Great Adventure                         595.0  11144518.0   \nJustin Bieber: Never Say Never                   569.0  73000942.0   \n\n                                                                   genres  \\\nThe True Story of Puss'N Boots                 Adventure|Animation|Comedy   \nDoogal                          Adventure|Animation|Comedy|Family|Fantasy   \nThomas and the Magic Railroad       Adventure|Comedy|Drama|Family|Fantasy   \nBarney's Great Adventure                                 Adventure|Family   \nJustin Bieber: Never Say Never                          Documentary|Music   \n\n                                ... num_user_for_reviews language  country  \\\nThe True Story of Puss'N Boots  ...                 24.0  English   France   \nDoogal                          ...                114.0  English      USA   \nThomas and the Magic Railroad   ...                119.0  English       UK   \nBarney's Great Adventure        ...                 53.0  English   Canada   \nJustin Bieber: Never Say Never  ...                233.0  English      USA   \n\n                               content_rating      budget title_year  \\\nThe True Story of Puss'N Boots              G  25000000.0     2009.0   \nDoogal                                      G  20000000.0     2006.0   \nThomas and the Magic Railroad               G  19000000.0     2000.0   \nBarney's Great Adventure                    G  15000000.0     1998.0   \nJustin Bieber: Never Say Never              G  13000000.0     2011.0   \n\n                                actor_2_facebook_likes  imdb_score  \\\nThe True Story of Puss'N Boots                     9.0         2.9   \nDoogal                                           690.0         2.8   \nThomas and the Magic Railroad                    539.0         3.6   \nBarney's Great Adventure                         417.0         2.8   \nJustin Bieber: Never Say Never                    69.0         1.6   \n\n                                aspect_ratio  movie_facebook_likes  \nThe True Story of Puss'N Boots          null                    90  \nDoogal                                  1.85                   346  \nThomas and the Magic Railroad           1.85                   663  \nBarney's Great Adventure                1.85                   436  \nJustin Bieber: Never Say Never          1.85                 62000  \n\n[5 rows x 27 columns]",
      "text/html": "<div>\n<style scoped>\n    .dataframe tbody tr th:only-of-type {\n        vertical-align: middle;\n    }\n\n    .dataframe tbody tr th {\n        vertical-align: top;\n    }\n\n    .dataframe thead th {\n        text-align: right;\n    }\n</style>\n<table border=\"1\" class=\"dataframe\">\n  <thead>\n    <tr style=\"text-align: right;\">\n      <th></th>\n      <th>color</th>\n      <th>director_name</th>\n      <th>num_critic_for_reviews</th>\n      <th>duration</th>\n      <th>director_facebook_likes</th>\n      <th>actor_3_facebook_likes</th>\n      <th>actor_2_name</th>\n      <th>actor_1_facebook_likes</th>\n      <th>gross</th>\n      <th>genres</th>\n      <th>...</th>\n      <th>num_user_for_reviews</th>\n      <th>language</th>\n      <th>country</th>\n      <th>content_rating</th>\n      <th>budget</th>\n      <th>title_year</th>\n      <th>actor_2_facebook_likes</th>\n      <th>imdb_score</th>\n      <th>aspect_ratio</th>\n      <th>movie_facebook_likes</th>\n    </tr>\n  </thead>\n  <tbody>\n    <tr>\n      <th>The True Story of Puss'N Boots</th>\n      <td>Color</td>\n      <td>Jérôme Deschamps</td>\n      <td>4.0</td>\n      <td>80.0</td>\n      <td>0.0</td>\n      <td>0.0</td>\n      <td>André Wilms</td>\n      <td>44.0</td>\n      <td>null</td>\n      <td>Adventure|Animation|Comedy</td>\n      <td>...</td>\n      <td>24.0</td>\n      <td>English</td>\n      <td>France</td>\n      <td>G</td>\n      <td>25000000.0</td>\n      <td>2009.0</td>\n      <td>9.0</td>\n      <td>2.9</td>\n      <td>null</td>\n      <td>90</td>\n    </tr>\n    <tr>\n      <th>Doogal</th>\n      <td>Color</td>\n      <td>Dave Borthwick</td>\n      <td>31.0</td>\n      <td>77.0</td>\n      <td>3.0</td>\n      <td>593.0</td>\n      <td>Kylie Minogue</td>\n      <td>787.0</td>\n      <td>7382993.0</td>\n      <td>Adventure|Animation|Comedy|Family|Fantasy</td>\n      <td>...</td>\n      <td>114.0</td>\n      <td>English</td>\n      <td>USA</td>\n      <td>G</td>\n      <td>20000000.0</td>\n      <td>2006.0</td>\n      <td>690.0</td>\n      <td>2.8</td>\n      <td>1.85</td>\n      <td>346</td>\n    </tr>\n    <tr>\n      <th>Thomas and the Magic Railroad</th>\n      <td>Color</td>\n      <td>Britt Allcroft</td>\n      <td>47.0</td>\n      <td>85.0</td>\n      <td>2.0</td>\n      <td>402.0</td>\n      <td>Colm Feore</td>\n      <td>1000.0</td>\n      <td>15911333.0</td>\n      <td>Adventure|Comedy|Drama|Family|Fantasy</td>\n      <td>...</td>\n      <td>119.0</td>\n      <td>English</td>\n      <td>UK</td>\n      <td>G</td>\n      <td>19000000.0</td>\n      <td>2000.0</td>\n      <td>539.0</td>\n      <td>3.6</td>\n      <td>1.85</td>\n      <td>663</td>\n    </tr>\n    <tr>\n      <th>Barney's Great Adventure</th>\n      <td>Color</td>\n      <td>Steve Gomer</td>\n      <td>24.0</td>\n      <td>76.0</td>\n      <td>9.0</td>\n      <td>47.0</td>\n      <td>Kyla Pratt</td>\n      <td>595.0</td>\n      <td>11144518.0</td>\n      <td>Adventure|Family</td>\n      <td>...</td>\n      <td>53.0</td>\n      <td>English</td>\n      <td>Canada</td>\n      <td>G</td>\n      <td>15000000.0</td>\n      <td>1998.0</td>\n      <td>417.0</td>\n      <td>2.8</td>\n      <td>1.85</td>\n      <td>436</td>\n    </tr>\n    <tr>\n      <th>Justin Bieber: Never Say Never</th>\n      <td>Color</td>\n      <td>Jon M. Chu</td>\n      <td>84.0</td>\n      <td>115.0</td>\n      <td>209.0</td>\n      <td>41.0</td>\n      <td>Sean Kingston</td>\n      <td>569.0</td>\n      <td>73000942.0</td>\n      <td>Documentary|Music</td>\n      <td>...</td>\n      <td>233.0</td>\n      <td>English</td>\n      <td>USA</td>\n      <td>G</td>\n      <td>13000000.0</td>\n      <td>2011.0</td>\n      <td>69.0</td>\n      <td>1.6</td>\n      <td>1.85</td>\n      <td>62000</td>\n    </tr>\n  </tbody>\n</table>\n<p>5 rows × 27 columns</p>\n</div>"
     },
     "metadata": {},
     "output_type": "execute_result",
     "execution_count": 7
    }
   ],
   "source": [
    "movie_loc = movie.loc[criteria]\n",
    "movie_loc.head()\n",
    "\n"
   ],
   "metadata": {
    "collapsed": false,
    "pycharm": {
     "name": "#%%\n",
     "is_executing": false
    }
   }
  },
  {
   "cell_type": "code",
   "execution_count": 14,
   "outputs": [],
   "source": [
    "movie_1 = movie[criteria]\n"
   ],
   "metadata": {
    "collapsed": false,
    "pycharm": {
     "name": "#%%\n",
     "is_executing": false
    }
   }
  },
  {
   "cell_type": "code",
   "execution_count": 15,
   "outputs": [
    {
     "data": {
      "text/plain": "False"
     },
     "metadata": {},
     "output_type": "execute_result",
     "execution_count": 15
    }
   ],
   "source": [
    "movie_loc.equals(movie_1)\n",
    "#应该是True，以后的版本再看看吧\n"
   ],
   "metadata": {
    "collapsed": false,
    "pycharm": {
     "name": "#%%\n",
     "is_executing": false
    }
   }
  },
  {
   "cell_type": "code",
   "execution_count": 17,
   "outputs": [],
   "source": [
    "\n"
   ],
   "metadata": {
    "collapsed": false,
    "pycharm": {
     "name": "#%%\n",
     "is_executing": false
    }
   }
  }
 ],
 "metadata": {
  "kernelspec": {
   "display_name": "Python 3",
   "language": "python",
   "name": "python3"
  },
  "language_info": {
   "codemirror_mode": {
    "name": "ipython",
    "version": 2
   },
   "file_extension": ".py",
   "mimetype": "text/x-python",
   "name": "python",
   "nbconvert_exporter": "python",
   "pygments_lexer": "ipython2",
   "version": "2.7.6"
  },
  "pycharm": {
   "stem_cell": {
    "cell_type": "raw",
    "source": [],
    "metadata": {
     "collapsed": false
    }
   }
  }
 },
 "nbformat": 4,
 "nbformat_minor": 0
}