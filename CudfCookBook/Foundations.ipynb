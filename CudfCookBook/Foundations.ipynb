{
 "cells": [
  {
   "cell_type": "code",
   "execution_count": 44,
   "metadata": {
    "collapsed": true,
    "pycharm": {
     "is_executing": false
    }
   },
   "outputs": [],
   "source": [
    "import cudf"
   ]
  },
  {
   "cell_type": "markdown",
   "source": [
    "#### Cudf基础内容"
   ],
   "metadata": {
    "collapsed": false
   }
  },
  {
   "cell_type": "code",
   "execution_count": 45,
   "outputs": [
    {
     "data": {
      "text/plain": "   color      director_name num_critic_for_reviews duration  \\\n0  Color      James Cameron                  723.0    178.0   \n1  Color     Gore Verbinski                  302.0    169.0   \n2  Color         Sam Mendes                  602.0    148.0   \n3  Color  Christopher Nolan                  813.0    164.0   \n4   None        Doug Walker                   null     null   \n\n   director_facebook_likes actor_3_facebook_likes      actor_2_name  \\\n0                      0.0                  855.0  Joel David Moore   \n1                    563.0                 1000.0     Orlando Bloom   \n2                      0.0                  161.0      Rory Kinnear   \n3                  22000.0                23000.0    Christian Bale   \n4                    131.0                   null        Rob Walker   \n\n   actor_1_facebook_likes        gross                           genres  ...  \\\n0                  1000.0  760505847.0  Action|Adventure|Fantasy|Sci-Fi  ...   \n1                 40000.0  309404152.0         Action|Adventure|Fantasy  ...   \n2                 11000.0  200074175.0        Action|Adventure|Thriller  ...   \n3                 27000.0  448130642.0                  Action|Thriller  ...   \n4                   131.0         null                      Documentary  ...   \n\n  num_user_for_reviews language country content_rating       budget  \\\n0               3054.0  English     USA          PG-13  237000000.0   \n1               1238.0  English     USA          PG-13  300000000.0   \n2                994.0  English      UK          PG-13  245000000.0   \n3               2701.0  English     USA          PG-13  250000000.0   \n4                 null     None    None           None         null   \n\n  title_year actor_2_facebook_likes imdb_score  aspect_ratio  \\\n0     2009.0                  936.0        7.9          1.78   \n1     2007.0                 5000.0        7.1          2.35   \n2     2015.0                  393.0        6.8          2.35   \n3     2012.0                23000.0        8.5          2.35   \n4       null                   12.0        7.1          null   \n\n   movie_facebook_likes  \n0                 33000  \n1                     0  \n2                 85000  \n3                164000  \n4                     0  \n\n[5 rows x 28 columns]",
      "text/html": "<div>\n<style scoped>\n    .dataframe tbody tr th:only-of-type {\n        vertical-align: middle;\n    }\n\n    .dataframe tbody tr th {\n        vertical-align: top;\n    }\n\n    .dataframe thead th {\n        text-align: right;\n    }\n</style>\n<table border=\"1\" class=\"dataframe\">\n  <thead>\n    <tr style=\"text-align: right;\">\n      <th></th>\n      <th>color</th>\n      <th>director_name</th>\n      <th>num_critic_for_reviews</th>\n      <th>duration</th>\n      <th>director_facebook_likes</th>\n      <th>actor_3_facebook_likes</th>\n      <th>actor_2_name</th>\n      <th>actor_1_facebook_likes</th>\n      <th>gross</th>\n      <th>genres</th>\n      <th>...</th>\n      <th>num_user_for_reviews</th>\n      <th>language</th>\n      <th>country</th>\n      <th>content_rating</th>\n      <th>budget</th>\n      <th>title_year</th>\n      <th>actor_2_facebook_likes</th>\n      <th>imdb_score</th>\n      <th>aspect_ratio</th>\n      <th>movie_facebook_likes</th>\n    </tr>\n  </thead>\n  <tbody>\n    <tr>\n      <th>0</th>\n      <td>Color</td>\n      <td>James Cameron</td>\n      <td>723.0</td>\n      <td>178.0</td>\n      <td>0.0</td>\n      <td>855.0</td>\n      <td>Joel David Moore</td>\n      <td>1000.0</td>\n      <td>760505847.0</td>\n      <td>Action|Adventure|Fantasy|Sci-Fi</td>\n      <td>...</td>\n      <td>3054.0</td>\n      <td>English</td>\n      <td>USA</td>\n      <td>PG-13</td>\n      <td>237000000.0</td>\n      <td>2009.0</td>\n      <td>936.0</td>\n      <td>7.9</td>\n      <td>1.78</td>\n      <td>33000</td>\n    </tr>\n    <tr>\n      <th>1</th>\n      <td>Color</td>\n      <td>Gore Verbinski</td>\n      <td>302.0</td>\n      <td>169.0</td>\n      <td>563.0</td>\n      <td>1000.0</td>\n      <td>Orlando Bloom</td>\n      <td>40000.0</td>\n      <td>309404152.0</td>\n      <td>Action|Adventure|Fantasy</td>\n      <td>...</td>\n      <td>1238.0</td>\n      <td>English</td>\n      <td>USA</td>\n      <td>PG-13</td>\n      <td>300000000.0</td>\n      <td>2007.0</td>\n      <td>5000.0</td>\n      <td>7.1</td>\n      <td>2.35</td>\n      <td>0</td>\n    </tr>\n    <tr>\n      <th>2</th>\n      <td>Color</td>\n      <td>Sam Mendes</td>\n      <td>602.0</td>\n      <td>148.0</td>\n      <td>0.0</td>\n      <td>161.0</td>\n      <td>Rory Kinnear</td>\n      <td>11000.0</td>\n      <td>200074175.0</td>\n      <td>Action|Adventure|Thriller</td>\n      <td>...</td>\n      <td>994.0</td>\n      <td>English</td>\n      <td>UK</td>\n      <td>PG-13</td>\n      <td>245000000.0</td>\n      <td>2015.0</td>\n      <td>393.0</td>\n      <td>6.8</td>\n      <td>2.35</td>\n      <td>85000</td>\n    </tr>\n    <tr>\n      <th>3</th>\n      <td>Color</td>\n      <td>Christopher Nolan</td>\n      <td>813.0</td>\n      <td>164.0</td>\n      <td>22000.0</td>\n      <td>23000.0</td>\n      <td>Christian Bale</td>\n      <td>27000.0</td>\n      <td>448130642.0</td>\n      <td>Action|Thriller</td>\n      <td>...</td>\n      <td>2701.0</td>\n      <td>English</td>\n      <td>USA</td>\n      <td>PG-13</td>\n      <td>250000000.0</td>\n      <td>2012.0</td>\n      <td>23000.0</td>\n      <td>8.5</td>\n      <td>2.35</td>\n      <td>164000</td>\n    </tr>\n    <tr>\n      <th>4</th>\n      <td>None</td>\n      <td>Doug Walker</td>\n      <td>null</td>\n      <td>null</td>\n      <td>131.0</td>\n      <td>null</td>\n      <td>Rob Walker</td>\n      <td>131.0</td>\n      <td>null</td>\n      <td>Documentary</td>\n      <td>...</td>\n      <td>null</td>\n      <td>None</td>\n      <td>None</td>\n      <td>None</td>\n      <td>null</td>\n      <td>null</td>\n      <td>12.0</td>\n      <td>7.1</td>\n      <td>null</td>\n      <td>0</td>\n    </tr>\n  </tbody>\n</table>\n<p>5 rows × 28 columns</p>\n</div>"
     },
     "metadata": {},
     "output_type": "execute_result",
     "execution_count": 45
    }
   ],
   "source": [
    "#读取数据,查看前5条数据\n",
    "movie = cudf.read_csv('../Data/movie.csv')\n",
    "movie.head()\n",
    "\n"
   ],
   "metadata": {
    "collapsed": false,
    "pycharm": {
     "name": "#%%\n",
     "is_executing": false
    }
   }
  },
  {
   "cell_type": "code",
   "execution_count": 46,
   "outputs": [
    {
     "data": {
      "text/plain": "Index(['color', 'director_name', 'num_critic_for_reviews', 'duration',\n       'director_facebook_likes', 'actor_3_facebook_likes', 'actor_2_name',\n       'actor_1_facebook_likes', 'gross', 'genres', 'actor_1_name',\n       'movie_title', 'num_voted_users', 'cast_total_facebook_likes',\n       'actor_3_name', 'facenumber_in_poster', 'plot_keywords',\n       'movie_imdb_link', 'num_user_for_reviews', 'language', 'country',\n       'content_rating', 'budget', 'title_year', 'actor_2_facebook_likes',\n       'imdb_score', 'aspect_ratio', 'movie_facebook_likes'],\n      dtype='object')"
     },
     "metadata": {},
     "output_type": "execute_result",
     "execution_count": 46
    }
   ],
   "source": [
    "#查看index，col和value\n",
    "index = movie.index\n",
    "columns = movie.columns\n",
    "# data = movie.values #目前不支持\n",
    "index\n",
    "columns\n"
   ],
   "metadata": {
    "collapsed": false,
    "pycharm": {
     "name": "#%%\n",
     "is_executing": false
    }
   }
  },
  {
   "cell_type": "code",
   "execution_count": 47,
   "outputs": [
    {
     "name": "stdout",
     "text": [
      "<class 'cudf.core.index.RangeIndex'>\n",
      "<class 'pandas.core.indexes.base.Index'>\n"
     ],
     "output_type": "stream"
    }
   ],
   "source": [
    "#看一下他们的属性\n",
    "print(type(index))\n",
    "print(type(columns))"
   ],
   "metadata": {
    "collapsed": false,
    "pycharm": {
     "name": "#%%\n",
     "is_executing": false
    }
   }
  },
  {
   "cell_type": "code",
   "execution_count": 48,
   "outputs": [
    {
     "data": {
      "text/plain": "color                         object\ndirector_name                 object\nnum_critic_for_reviews       float64\nduration                     float64\ndirector_facebook_likes      float64\nactor_3_facebook_likes       float64\nactor_2_name                  object\nactor_1_facebook_likes       float64\ngross                        float64\ngenres                        object\nactor_1_name                  object\nmovie_title                   object\nnum_voted_users                int64\ncast_total_facebook_likes      int64\nactor_3_name                  object\nfacenumber_in_poster         float64\nplot_keywords                 object\nmovie_imdb_link               object\nnum_user_for_reviews         float64\nlanguage                      object\ncountry                       object\ncontent_rating                object\nbudget                       float64\ntitle_year                   float64\nactor_2_facebook_likes       float64\nimdb_score                   float64\naspect_ratio                 float64\nmovie_facebook_likes           int64\ndtype: object"
     },
     "metadata": {},
     "output_type": "execute_result",
     "execution_count": 48
    }
   ],
   "source": [
    "#查看每个字段的类型\n",
    "movie.dtypes"
   ],
   "metadata": {
    "collapsed": false,
    "pycharm": {
     "name": "#%%\n",
     "is_executing": false
    }
   }
  },
  {
   "cell_type": "code",
   "execution_count": 49,
   "outputs": [],
   "source": [
    "#每个字段的类型的统计\n",
    "# movie.get_dtype_count()#目前还不支持"
   ],
   "metadata": {
    "collapsed": false,
    "pycharm": {
     "name": "#%%\n",
     "is_executing": false
    }
   }
  },
  {
   "cell_type": "code",
   "execution_count": 50,
   "outputs": [
    {
     "data": {
      "text/plain": "0            James Cameron\n1           Gore Verbinski\n2               Sam Mendes\n3        Christopher Nolan\n4              Doug Walker\n5           Andrew Stanton\n6                Sam Raimi\n7             Nathan Greno\n8              Joss Whedon\n9              David Yates\n10             Zack Snyder\n11            Bryan Singer\n12            Marc Forster\n13          Gore Verbinski\n14          Gore Verbinski\n15             Zack Snyder\n16          Andrew Adamson\n17             Joss Whedon\n18            Rob Marshall\n19        Barry Sonnenfeld\n20           Peter Jackson\n21               Marc Webb\n22            Ridley Scott\n23           Peter Jackson\n24             Chris Weitz\n25           Peter Jackson\n26           James Cameron\n27           Anthony Russo\n28              Peter Berg\n29         Colin Trevorrow\n               ...        \n4886            Eric Eason\n4887              Uwe Boll\n4888     Richard Linklater\n4889       Joseph Mazzella\n4890          Travis Legge\n4891         Alex Kendrick\n4892         Marcus Nispel\n4893       Brandon Landers\n4894           Jay Duplass\n4895            Jim Chuchu\n4896            Daryl Wein\n4897           Jason Trost\n4898           John Waters\n4899       Olivier Assayas\n4900          Jafar Panahi\n4901         Ivan Kavanagh\n4902      Kiyoshi Kurosawa\n4903          Tadeo Garcia\n4904    Thomas L. Phillips\n4905       Ash Baron-Cohen\n4906         Shane Carruth\n4907      Neill Dela Llana\n4908      Robert Rodriguez\n4909       Anthony Vallone\n4910          Edward Burns\n4911           Scott Smith\n4912                  None\n4913      Benjamin Roberds\n4914           Daniel Hsia\n4915              Jon Gunn\nName: director_name, Length: 4916, dtype: object"
     },
     "metadata": {},
     "output_type": "execute_result",
     "execution_count": 50
    }
   ],
   "source": [
    "#读取一个字段的数组\n",
    "movie['director_name']"
   ],
   "metadata": {
    "collapsed": false,
    "pycharm": {
     "name": "#%%\n",
     "is_executing": false
    }
   }
  },
  {
   "cell_type": "code",
   "execution_count": 51,
   "outputs": [
    {
     "name": "stdout",
     "text": [
      "<class 'cudf.core.series.Series'>\n"
     ],
     "output_type": "stream"
    }
   ],
   "source": [
    "#看一下它的类型\n",
    "print(type(movie['director_name']))"
   ],
   "metadata": {
    "collapsed": false,
    "pycharm": {
     "name": "#%%\n",
     "is_executing": false
    }
   }
  },
  {
   "cell_type": "code",
   "execution_count": 52,
   "outputs": [],
   "source": [
    "#关于数组的一些基础操作\n",
    "director = movie['director_name']\n",
    "actor_1_fb_likes = movie['actor_1_facebook_likes']\n"
   ],
   "metadata": {
    "collapsed": false,
    "pycharm": {
     "name": "#%%\n",
     "is_executing": false
    }
   }
  },
  {
   "cell_type": "code",
   "execution_count": 53,
   "outputs": [
    {
     "data": {
      "text/plain": "0        James Cameron\n1       Gore Verbinski\n2           Sam Mendes\n3    Christopher Nolan\n4          Doug Walker\nName: director_name, dtype: object"
     },
     "metadata": {},
     "output_type": "execute_result",
     "execution_count": 53
    }
   ],
   "source": [
    "director.head()\n",
    "\n"
   ],
   "metadata": {
    "collapsed": false,
    "pycharm": {
     "name": "#%%\n",
     "is_executing": false
    }
   }
  },
  {
   "cell_type": "code",
   "execution_count": 54,
   "outputs": [
    {
     "data": {
      "text/plain": "0     1000.0\n1    40000.0\n2    11000.0\n3    27000.0\n4      131.0\nName: actor_1_facebook_likes, dtype: float64"
     },
     "metadata": {},
     "output_type": "execute_result",
     "execution_count": 54
    }
   ],
   "source": [
    "actor_1_fb_likes.head()"
   ],
   "metadata": {
    "collapsed": false,
    "pycharm": {
     "name": "#%%\n",
     "is_executing": false
    }
   }
  },
  {
   "cell_type": "code",
   "execution_count": 55,
   "outputs": [
    {
     "data": {
      "text/plain": "Steven Spielberg        26\nWoody Allen             22\nClint Eastwood          20\nMartin Scorsese         20\nRidley Scott            16\nSpike Lee               16\nRenny Harlin            15\nSteven Soderbergh       15\nOliver Stone            14\nTim Burton              14\nBarry Levinson          13\nJoel Schumacher         13\nRobert Rodriguez        13\nRobert Zemeckis         13\nRon Howard              13\nBrian De Palma          12\nKevin Smith             12\nMichael Bay             12\nTony Scott              12\nChris Columbus          11\nFrancis Ford Coppola    11\nRichard Donner          11\nRichard Linklater       11\nRob Reiner              11\nSam Raimi               11\nShawn Levy              11\nBobby Farrelly          10\nDavid Fincher           10\nJohn Carpenter          10\nJohn McTiernan          10\n                        ..\nWill Canon               1\nWillard Huyck            1\nWilliam A. Fraker        1\nWilliam A. Graham        1\nWilliam Arntz            1\nWilliam Bindley          1\nWilliam Cottrell         1\nWilliam Eubank           1\nWilliam H. Macy          1\nWilliam Phillips         1\nWilliam Sachs            1\nWilliam Shatner          1\nWilliam Wyler            1\nWilson Yip               1\nWolfgang Becker          1\nWoo-Suk Kang             1\nWych Kaosayananda        1\nXavier Beauvois          1\nYarrow Cheney            1\nYorgos Lanthimos         1\nYuefeng Song             1\nZach Cregger             1\nZack Ward                1\nZackary Adler            1\nZak Penn                 1\nZoran Lisinac            1\nÁlex de la Iglesia       1\nÉmile Gaudreault         1\nÉric Tessier             1\nÉtienne Faure            1\nName: director_name, Length: 2397, dtype: int32"
     },
     "metadata": {},
     "output_type": "execute_result",
     "execution_count": 55
    }
   ],
   "source": [
    "director.value_counts()"
   ],
   "metadata": {
    "collapsed": false,
    "pycharm": {
     "name": "#%%\n",
     "is_executing": false
    }
   }
  },
  {
   "cell_type": "code",
   "execution_count": 56,
   "outputs": [
    {
     "data": {
      "text/plain": "(4916,)"
     },
     "metadata": {},
     "output_type": "execute_result",
     "execution_count": 56
    }
   ],
   "source": [
    "director.shape"
   ],
   "metadata": {
    "collapsed": false,
    "pycharm": {
     "name": "#%%\n",
     "is_executing": false
    }
   }
  },
  {
   "cell_type": "code",
   "execution_count": 57,
   "outputs": [
    {
     "data": {
      "text/plain": "4916"
     },
     "metadata": {},
     "output_type": "execute_result",
     "execution_count": 57
    }
   ],
   "source": [
    "len(director)"
   ],
   "metadata": {
    "collapsed": false,
    "pycharm": {
     "name": "#%%\n",
     "is_executing": false
    }
   }
  },
  {
   "cell_type": "code",
   "execution_count": 58,
   "outputs": [
    {
     "data": {
      "text/plain": "4814"
     },
     "metadata": {},
     "output_type": "execute_result",
     "execution_count": 58
    }
   ],
   "source": [
    "#非空计数\n",
    "director.count()\n"
   ],
   "metadata": {
    "collapsed": false,
    "pycharm": {
     "name": "#%%\n",
     "is_executing": false
    }
   }
  },
  {
   "cell_type": "code",
   "execution_count": 59,
   "outputs": [
    {
     "data": {
      "text/plain": "count      4909.000000\nmean       6494.488491\nstd       15106.986884\nmin           0.000000\n25%         607.000000\n50%         982.000000\n75%       11000.000000\nmax      640000.000000\nName: actor_1_facebook_likes, dtype: float64"
     },
     "metadata": {},
     "output_type": "execute_result",
     "execution_count": 59
    }
   ],
   "source": [
    "actor_1_fb_likes.describe()"
   ],
   "metadata": {
    "collapsed": false,
    "pycharm": {
     "name": "#%%\n",
     "is_executing": false
    }
   }
  },
  {
   "cell_type": "code",
   "execution_count": 60,
   "outputs": [],
   "source": [
    "# director.describe()#目前不支持"
   ],
   "metadata": {
    "collapsed": false,
    "pycharm": {
     "name": "#%%\n",
     "is_executing": false
    }
   }
  },
  {
   "cell_type": "code",
   "execution_count": 61,
   "outputs": [
    {
     "data": {
      "text/plain": "0.1      240.0\n0.2      510.0\n0.3      694.0\n0.4      854.0\n0.5      982.0\n0.6     1000.0\n0.7     8000.0\n0.8    13000.0\n0.9    18000.0\nName: actor_1_facebook_likes, dtype: float64"
     },
     "metadata": {},
     "output_type": "execute_result",
     "execution_count": 61
    }
   ],
   "source": [
    "actor_1_fb_likes.quantile([.1,.2,.3,.4,.5,.6,.7,.8,.9])"
   ],
   "metadata": {
    "collapsed": false,
    "pycharm": {
     "name": "#%%\n",
     "is_executing": false
    }
   }
  },
  {
   "cell_type": "code",
   "execution_count": 62,
   "outputs": [
    {
     "data": {
      "text/plain": "0       False\n1       False\n2       False\n3       False\n4       False\n5       False\n6       False\n7       False\n8       False\n9       False\n10      False\n11      False\n12      False\n13      False\n14      False\n15      False\n16      False\n17      False\n18      False\n19      False\n20      False\n21      False\n22      False\n23      False\n24      False\n25      False\n26      False\n27      False\n28      False\n29      False\n        ...  \n4886    False\n4887    False\n4888    False\n4889    False\n4890    False\n4891    False\n4892    False\n4893    False\n4894    False\n4895    False\n4896    False\n4897    False\n4898    False\n4899    False\n4900    False\n4901    False\n4902    False\n4903    False\n4904    False\n4905    False\n4906    False\n4907    False\n4908    False\n4909    False\n4910    False\n4911    False\n4912     True\n4913    False\n4914    False\n4915    False\nName: director_name, Length: 4916, dtype: bool"
     },
     "metadata": {},
     "output_type": "execute_result",
     "execution_count": 62
    }
   ],
   "source": [
    "director.isnull()"
   ],
   "metadata": {
    "collapsed": false,
    "pycharm": {
     "name": "#%%\n",
     "is_executing": false
    }
   }
  },
  {
   "cell_type": "code",
   "execution_count": 63,
   "outputs": [
    {
     "data": {
      "text/plain": "4916"
     },
     "metadata": {},
     "output_type": "execute_result",
     "execution_count": 63
    }
   ],
   "source": [
    "dir = director.fillna('Liu Kai')\n",
    "dir.count()"
   ],
   "metadata": {
    "collapsed": false,
    "pycharm": {
     "name": "#%%\n",
     "is_executing": false
    }
   }
  },
  {
   "cell_type": "code",
   "execution_count": 64,
   "outputs": [
    {
     "data": {
      "text/plain": "4909"
     },
     "metadata": {},
     "output_type": "execute_result",
     "execution_count": 64
    }
   ],
   "source": [
    "act = actor_1_fb_likes.dropna()\n",
    "act.count()"
   ],
   "metadata": {
    "collapsed": false,
    "pycharm": {
     "name": "#%%\n",
     "is_executing": false
    }
   }
  },
  {
   "cell_type": "code",
   "execution_count": 65,
   "outputs": [
    {
     "data": {
      "text/plain": "0       7.9\n1       7.1\n2       6.8\n3       8.5\n4       7.1\n5       6.6\n6       6.2\n7       7.8\n8       7.5\n9       7.5\n10      6.9\n11      6.1\n12      6.7\n13      7.3\n14      6.5\n15      7.2\n16      6.6\n17      8.1\n18      6.7\n19      6.8\n20      7.5\n21      7.0\n22      6.7\n23      7.9\n24      6.1\n25      7.2\n26      7.7\n27      8.2\n28      5.9\n29      7.0\n       ... \n4886    7.0\n4887    6.3\n4888    7.1\n4889    4.8\n4890    3.3\n4891    6.9\n4892    4.6\n4893    3.0\n4894    6.6\n4895    7.4\n4896    6.2\n4897    4.0\n4898    6.1\n4899    6.9\n4900    7.5\n4901    6.7\n4902    7.4\n4903    6.1\n4904    5.4\n4905    6.4\n4906    7.0\n4907    6.3\n4908    6.9\n4909    7.8\n4910    6.4\n4911    7.7\n4912    7.5\n4913    6.3\n4914    6.3\n4915    6.6\nName: imdb_score, Length: 4916, dtype: float64"
     },
     "metadata": {},
     "output_type": "execute_result",
     "execution_count": 65
    }
   ],
   "source": [
    "#数组的算术操作\n",
    "imdb_score = movie['imdb_score']\n",
    "imdb_score"
   ],
   "metadata": {
    "collapsed": false,
    "pycharm": {
     "name": "#%%\n",
     "is_executing": false
    }
   }
  },
  {
   "cell_type": "code",
   "execution_count": 66,
   "outputs": [
    {
     "data": {
      "text/plain": "0       8.9\n1       8.1\n2       7.8\n3       9.5\n4       8.1\n5       7.6\n6       7.2\n7       8.8\n8       8.5\n9       8.5\n10      7.9\n11      7.1\n12      7.7\n13      8.3\n14      7.5\n15      8.2\n16      7.6\n17      9.1\n18      7.7\n19      7.8\n20      8.5\n21      8.0\n22      7.7\n23      8.9\n24      7.1\n25      8.2\n26      8.7\n27      9.2\n28      6.9\n29      8.0\n       ... \n4886    8.0\n4887    7.3\n4888    8.1\n4889    5.8\n4890    4.3\n4891    7.9\n4892    5.6\n4893    4.0\n4894    7.6\n4895    8.4\n4896    7.2\n4897    5.0\n4898    7.1\n4899    7.9\n4900    8.5\n4901    7.7\n4902    8.4\n4903    7.1\n4904    6.4\n4905    7.4\n4906    8.0\n4907    7.3\n4908    7.9\n4909    8.8\n4910    7.4\n4911    8.7\n4912    8.5\n4913    7.3\n4914    7.3\n4915    7.6\nName: imdb_score, Length: 4916, dtype: float64"
     },
     "metadata": {},
     "output_type": "execute_result",
     "execution_count": 66
    }
   ],
   "source": [
    "imdb_score+1"
   ],
   "metadata": {
    "collapsed": false,
    "pycharm": {
     "name": "#%%\n",
     "is_executing": false
    }
   }
  },
  {
   "cell_type": "code",
   "execution_count": 67,
   "outputs": [
    {
     "data": {
      "text/plain": "0       19.75\n1       17.75\n2       17.00\n3       21.25\n4       17.75\n5       16.50\n6       15.50\n7       19.50\n8       18.75\n9       18.75\n10      17.25\n11      15.25\n12      16.75\n13      18.25\n14      16.25\n15      18.00\n16      16.50\n17      20.25\n18      16.75\n19      17.00\n20      18.75\n21      17.50\n22      16.75\n23      19.75\n24      15.25\n25      18.00\n26      19.25\n27      20.50\n28      14.75\n29      17.50\n        ...  \n4886    17.50\n4887    15.75\n4888    17.75\n4889    12.00\n4890     8.25\n4891    17.25\n4892    11.50\n4893     7.50\n4894    16.50\n4895    18.50\n4896    15.50\n4897    10.00\n4898    15.25\n4899    17.25\n4900    18.75\n4901    16.75\n4902    18.50\n4903    15.25\n4904    13.50\n4905    16.00\n4906    17.50\n4907    15.75\n4908    17.25\n4909    19.50\n4910    16.00\n4911    19.25\n4912    18.75\n4913    15.75\n4914    15.75\n4915    16.50\nName: imdb_score, Length: 4916, dtype: float64"
     },
     "metadata": {},
     "output_type": "execute_result",
     "execution_count": 67
    }
   ],
   "source": [
    "imdb_score * 2.5\n",
    "\n"
   ],
   "metadata": {
    "collapsed": false,
    "pycharm": {
     "name": "#%%\n",
     "is_executing": false
    }
   }
  },
  {
   "cell_type": "code",
   "execution_count": 68,
   "outputs": [
    {
     "data": {
      "text/plain": "0       1.0\n1       1.0\n2       0.0\n3       1.0\n4       1.0\n5       0.0\n6       0.0\n7       1.0\n8       1.0\n9       1.0\n10      0.0\n11      0.0\n12      0.0\n13      1.0\n14      0.0\n15      1.0\n16      0.0\n17      1.0\n18      0.0\n19      0.0\n20      1.0\n21      1.0\n22      0.0\n23      1.0\n24      0.0\n25      1.0\n26      1.0\n27      1.0\n28      0.0\n29      1.0\n       ... \n4886    1.0\n4887    0.0\n4888    1.0\n4889    0.0\n4890    0.0\n4891    0.0\n4892    0.0\n4893    0.0\n4894    0.0\n4895    1.0\n4896    0.0\n4897    0.0\n4898    0.0\n4899    0.0\n4900    1.0\n4901    0.0\n4902    1.0\n4903    0.0\n4904    0.0\n4905    0.0\n4906    1.0\n4907    0.0\n4908    0.0\n4909    1.0\n4910    0.0\n4911    1.0\n4912    1.0\n4913    0.0\n4914    0.0\n4915    0.0\nName: imdb_score, Length: 4916, dtype: float64"
     },
     "metadata": {},
     "output_type": "execute_result",
     "execution_count": 68
    }
   ],
   "source": [
    "imdb_score // 7"
   ],
   "metadata": {
    "collapsed": false,
    "pycharm": {
     "name": "#%%\n",
     "is_executing": false
    }
   }
  },
  {
   "cell_type": "code",
   "execution_count": 69,
   "outputs": [
    {
     "data": {
      "text/plain": "0        True\n1        True\n2       False\n3        True\n4        True\n5       False\n6       False\n7        True\n8        True\n9        True\n10      False\n11      False\n12      False\n13       True\n14      False\n15       True\n16      False\n17       True\n18      False\n19      False\n20       True\n21      False\n22      False\n23       True\n24      False\n25       True\n26       True\n27       True\n28      False\n29      False\n        ...  \n4886    False\n4887    False\n4888     True\n4889    False\n4890    False\n4891    False\n4892    False\n4893    False\n4894    False\n4895     True\n4896    False\n4897    False\n4898    False\n4899    False\n4900     True\n4901    False\n4902     True\n4903    False\n4904    False\n4905    False\n4906    False\n4907    False\n4908    False\n4909     True\n4910    False\n4911     True\n4912     True\n4913    False\n4914    False\n4915    False\nName: imdb_score, Length: 4916, dtype: bool"
     },
     "metadata": {},
     "output_type": "execute_result",
     "execution_count": 69
    }
   ],
   "source": [
    "imdb_score > 7"
   ],
   "metadata": {
    "collapsed": false,
    "pycharm": {
     "name": "#%%\n",
     "is_executing": false
    }
   }
  },
  {
   "cell_type": "code",
   "execution_count": 70,
   "outputs": [
    {
     "data": {
      "text/plain": "0        True\n1       False\n2       False\n3       False\n4       False\n5       False\n6       False\n7       False\n8       False\n9       False\n10      False\n11      False\n12      False\n13      False\n14      False\n15      False\n16      False\n17      False\n18      False\n19      False\n20      False\n21      False\n22      False\n23      False\n24      False\n25      False\n26       True\n27      False\n28      False\n29      False\n        ...  \n4886    False\n4887    False\n4888    False\n4889    False\n4890    False\n4891    False\n4892    False\n4893    False\n4894    False\n4895    False\n4896    False\n4897    False\n4898    False\n4899    False\n4900    False\n4901    False\n4902    False\n4903    False\n4904    False\n4905    False\n4906    False\n4907    False\n4908    False\n4909    False\n4910    False\n4911    False\n4912     null\n4913    False\n4914    False\n4915    False\nName: director_name, Length: 4916, dtype: bool"
     },
     "metadata": {},
     "output_type": "execute_result",
     "execution_count": 70
    }
   ],
   "source": [
    "director == 'James Cameron'"
   ],
   "metadata": {
    "collapsed": false,
    "pycharm": {
     "name": "#%%\n",
     "is_executing": false
    }
   }
  },
  {
   "cell_type": "code",
   "execution_count": 71,
   "outputs": [
    {
     "data": {
      "text/plain": "Steven Spielberg    26\nWoody Allen         22\nClint Eastwood      20\nName: director_name, dtype: int32"
     },
     "metadata": {},
     "output_type": "execute_result",
     "execution_count": 71
    }
   ],
   "source": [
    "#熟练的操作数组函数\n",
    "director.value_counts().head(3)"
   ],
   "metadata": {
    "collapsed": false,
    "pycharm": {
     "name": "#%%\n",
     "is_executing": false
    }
   }
  },
  {
   "cell_type": "code",
   "execution_count": 72,
   "outputs": [
    {
     "data": {
      "text/plain": "7"
     },
     "metadata": {},
     "output_type": "execute_result",
     "execution_count": 72
    }
   ],
   "source": [
    "actor_1_fb_likes.isnull().sum()"
   ],
   "metadata": {
    "collapsed": false,
    "pycharm": {
     "name": "#%%\n",
     "is_executing": false
    }
   }
  },
  {
   "cell_type": "code",
   "execution_count": 73,
   "outputs": [
    {
     "data": {
      "text/plain": "dtype('float64')"
     },
     "metadata": {},
     "output_type": "execute_result",
     "execution_count": 73
    }
   ],
   "source": [
    "actor_1_fb_likes.dtype"
   ],
   "metadata": {
    "collapsed": false,
    "pycharm": {
     "name": "#%%\n",
     "is_executing": false
    }
   }
  },
  {
   "cell_type": "code",
   "execution_count": 74,
   "outputs": [
    {
     "data": {
      "text/plain": "0     1000\n1    40000\n2    11000\n3    27000\n4      131\nName: actor_1_facebook_likes, dtype: int64"
     },
     "metadata": {},
     "output_type": "execute_result",
     "execution_count": 74
    }
   ],
   "source": [
    "actor_1_fb_likes.fillna(0).astype(int).head()"
   ],
   "metadata": {
    "collapsed": false,
    "pycharm": {
     "name": "#%%\n",
     "is_executing": false
    }
   }
  },
  {
   "cell_type": "code",
   "execution_count": 75,
   "outputs": [
    {
     "data": {
      "text/plain": "                                            color      director_name  \\\nmovie_title                                                            \nAvatar                                      Color      James Cameron   \nPirates of the Caribbean: At World's End    Color     Gore Verbinski   \nSpectre                                     Color         Sam Mendes   \nThe Dark Knight Rises                       Color  Christopher Nolan   \nStar Wars: Episode VII - The Force Awakens   None        Doug Walker   \n\n                                           num_critic_for_reviews duration  \\\nmovie_title                                                                  \nAvatar                                                      723.0    178.0   \nPirates of the Caribbean: At World's End                    302.0    169.0   \nSpectre                                                     602.0    148.0   \nThe Dark Knight Rises                                       813.0    164.0   \nStar Wars: Episode VII - The Force Awakens                   null     null   \n\n                                            director_facebook_likes  \\\nmovie_title                                                           \nAvatar                                                          0.0   \nPirates of the Caribbean: At World's End                      563.0   \nSpectre                                                         0.0   \nThe Dark Knight Rises                                       22000.0   \nStar Wars: Episode VII - The Force Awakens                    131.0   \n\n                                           actor_3_facebook_likes  \\\nmovie_title                                                         \nAvatar                                                      855.0   \nPirates of the Caribbean: At World's End                   1000.0   \nSpectre                                                     161.0   \nThe Dark Knight Rises                                     23000.0   \nStar Wars: Episode VII - The Force Awakens                   null   \n\n                                                actor_2_name  \\\nmovie_title                                                    \nAvatar                                      Joel David Moore   \nPirates of the Caribbean: At World's End       Orlando Bloom   \nSpectre                                         Rory Kinnear   \nThe Dark Knight Rises                         Christian Bale   \nStar Wars: Episode VII - The Force Awakens        Rob Walker   \n\n                                            actor_1_facebook_likes  \\\nmovie_title                                                          \nAvatar                                                      1000.0   \nPirates of the Caribbean: At World's End                   40000.0   \nSpectre                                                    11000.0   \nThe Dark Knight Rises                                      27000.0   \nStar Wars: Episode VII - The Force Awakens                   131.0   \n\n                                                  gross  \\\nmovie_title                                               \nAvatar                                      760505847.0   \nPirates of the Caribbean: At World's End    309404152.0   \nSpectre                                     200074175.0   \nThe Dark Knight Rises                       448130642.0   \nStar Wars: Episode VII - The Force Awakens         null   \n\n                                                                     genres  \\\nmovie_title                                                                   \nAvatar                                      Action|Adventure|Fantasy|Sci-Fi   \nPirates of the Caribbean: At World's End           Action|Adventure|Fantasy   \nSpectre                                           Action|Adventure|Thriller   \nThe Dark Knight Rises                                       Action|Thriller   \nStar Wars: Episode VII - The Force Awakens                      Documentary   \n\n                                            ... num_user_for_reviews language  \\\nmovie_title                                 ...                                 \nAvatar                                      ...               3054.0  English   \nPirates of the Caribbean: At World's End    ...               1238.0  English   \nSpectre                                     ...                994.0  English   \nThe Dark Knight Rises                       ...               2701.0  English   \nStar Wars: Episode VII - The Force Awakens  ...                 null     None   \n\n                                           country content_rating  \\\nmovie_title                                                         \nAvatar                                         USA          PG-13   \nPirates of the Caribbean: At World's End       USA          PG-13   \nSpectre                                         UK          PG-13   \nThe Dark Knight Rises                          USA          PG-13   \nStar Wars: Episode VII - The Force Awakens    None           None   \n\n                                                 budget title_year  \\\nmovie_title                                                          \nAvatar                                      237000000.0     2009.0   \nPirates of the Caribbean: At World's End    300000000.0     2007.0   \nSpectre                                     245000000.0     2015.0   \nThe Dark Knight Rises                       250000000.0     2012.0   \nStar Wars: Episode VII - The Force Awakens         null       null   \n\n                                           actor_2_facebook_likes imdb_score  \\\nmovie_title                                                                    \nAvatar                                                      936.0        7.9   \nPirates of the Caribbean: At World's End                   5000.0        7.1   \nSpectre                                                     393.0        6.8   \nThe Dark Knight Rises                                     23000.0        8.5   \nStar Wars: Episode VII - The Force Awakens                   12.0        7.1   \n\n                                            aspect_ratio  movie_facebook_likes  \nmovie_title                                                                     \nAvatar                                              1.78                 33000  \nPirates of the Caribbean: At World's End            2.35                     0  \nSpectre                                             2.35                 85000  \nThe Dark Knight Rises                               2.35                164000  \nStar Wars: Episode VII - The Force Awakens          null                     0  \n\n[5 rows x 27 columns]",
      "text/html": "<div>\n<style scoped>\n    .dataframe tbody tr th:only-of-type {\n        vertical-align: middle;\n    }\n\n    .dataframe tbody tr th {\n        vertical-align: top;\n    }\n\n    .dataframe thead th {\n        text-align: right;\n    }\n</style>\n<table border=\"1\" class=\"dataframe\">\n  <thead>\n    <tr style=\"text-align: right;\">\n      <th></th>\n      <th>color</th>\n      <th>director_name</th>\n      <th>num_critic_for_reviews</th>\n      <th>duration</th>\n      <th>director_facebook_likes</th>\n      <th>actor_3_facebook_likes</th>\n      <th>actor_2_name</th>\n      <th>actor_1_facebook_likes</th>\n      <th>gross</th>\n      <th>genres</th>\n      <th>...</th>\n      <th>num_user_for_reviews</th>\n      <th>language</th>\n      <th>country</th>\n      <th>content_rating</th>\n      <th>budget</th>\n      <th>title_year</th>\n      <th>actor_2_facebook_likes</th>\n      <th>imdb_score</th>\n      <th>aspect_ratio</th>\n      <th>movie_facebook_likes</th>\n    </tr>\n    <tr>\n      <th>movie_title</th>\n      <th></th>\n      <th></th>\n      <th></th>\n      <th></th>\n      <th></th>\n      <th></th>\n      <th></th>\n      <th></th>\n      <th></th>\n      <th></th>\n      <th></th>\n      <th></th>\n      <th></th>\n      <th></th>\n      <th></th>\n      <th></th>\n      <th></th>\n      <th></th>\n      <th></th>\n      <th></th>\n      <th></th>\n    </tr>\n  </thead>\n  <tbody>\n    <tr>\n      <th>Avatar</th>\n      <td>Color</td>\n      <td>James Cameron</td>\n      <td>723.0</td>\n      <td>178.0</td>\n      <td>0.0</td>\n      <td>855.0</td>\n      <td>Joel David Moore</td>\n      <td>1000.0</td>\n      <td>760505847.0</td>\n      <td>Action|Adventure|Fantasy|Sci-Fi</td>\n      <td>...</td>\n      <td>3054.0</td>\n      <td>English</td>\n      <td>USA</td>\n      <td>PG-13</td>\n      <td>237000000.0</td>\n      <td>2009.0</td>\n      <td>936.0</td>\n      <td>7.9</td>\n      <td>1.78</td>\n      <td>33000</td>\n    </tr>\n    <tr>\n      <th>Pirates of the Caribbean: At World's End</th>\n      <td>Color</td>\n      <td>Gore Verbinski</td>\n      <td>302.0</td>\n      <td>169.0</td>\n      <td>563.0</td>\n      <td>1000.0</td>\n      <td>Orlando Bloom</td>\n      <td>40000.0</td>\n      <td>309404152.0</td>\n      <td>Action|Adventure|Fantasy</td>\n      <td>...</td>\n      <td>1238.0</td>\n      <td>English</td>\n      <td>USA</td>\n      <td>PG-13</td>\n      <td>300000000.0</td>\n      <td>2007.0</td>\n      <td>5000.0</td>\n      <td>7.1</td>\n      <td>2.35</td>\n      <td>0</td>\n    </tr>\n    <tr>\n      <th>Spectre</th>\n      <td>Color</td>\n      <td>Sam Mendes</td>\n      <td>602.0</td>\n      <td>148.0</td>\n      <td>0.0</td>\n      <td>161.0</td>\n      <td>Rory Kinnear</td>\n      <td>11000.0</td>\n      <td>200074175.0</td>\n      <td>Action|Adventure|Thriller</td>\n      <td>...</td>\n      <td>994.0</td>\n      <td>English</td>\n      <td>UK</td>\n      <td>PG-13</td>\n      <td>245000000.0</td>\n      <td>2015.0</td>\n      <td>393.0</td>\n      <td>6.8</td>\n      <td>2.35</td>\n      <td>85000</td>\n    </tr>\n    <tr>\n      <th>The Dark Knight Rises</th>\n      <td>Color</td>\n      <td>Christopher Nolan</td>\n      <td>813.0</td>\n      <td>164.0</td>\n      <td>22000.0</td>\n      <td>23000.0</td>\n      <td>Christian Bale</td>\n      <td>27000.0</td>\n      <td>448130642.0</td>\n      <td>Action|Thriller</td>\n      <td>...</td>\n      <td>2701.0</td>\n      <td>English</td>\n      <td>USA</td>\n      <td>PG-13</td>\n      <td>250000000.0</td>\n      <td>2012.0</td>\n      <td>23000.0</td>\n      <td>8.5</td>\n      <td>2.35</td>\n      <td>164000</td>\n    </tr>\n    <tr>\n      <th>Star Wars: Episode VII - The Force Awakens</th>\n      <td>None</td>\n      <td>Doug Walker</td>\n      <td>null</td>\n      <td>null</td>\n      <td>131.0</td>\n      <td>null</td>\n      <td>Rob Walker</td>\n      <td>131.0</td>\n      <td>null</td>\n      <td>Documentary</td>\n      <td>...</td>\n      <td>null</td>\n      <td>None</td>\n      <td>None</td>\n      <td>None</td>\n      <td>null</td>\n      <td>null</td>\n      <td>12.0</td>\n      <td>7.1</td>\n      <td>null</td>\n      <td>0</td>\n    </tr>\n  </tbody>\n</table>\n<p>5 rows × 27 columns</p>\n</div>"
     },
     "metadata": {},
     "output_type": "execute_result",
     "execution_count": 75
    }
   ],
   "source": [
    "#让index有意义\n",
    "movie2 = cudf.read_csv('../Data/movie.csv',index_col='movie_title')\n",
    "movie2.head()"
   ],
   "metadata": {
    "collapsed": false,
    "pycharm": {
     "name": "#%%\n",
     "is_executing": false
    }
   }
  },
  {
   "cell_type": "code",
   "execution_count": 76,
   "outputs": [],
   "source": [
    "#给字段重命名\n",
    "idx = {'Avatar':'Ratava'}\n",
    "col = {'director_name':'Director Name'}"
   ],
   "metadata": {
    "collapsed": false,
    "pycharm": {
     "name": "#%%\n",
     "is_executing": false
    }
   }
  },
  {
   "cell_type": "code",
   "execution_count": 77,
   "outputs": [
    {
     "data": {
      "text/plain": "                                            color      Director Name  \\\nmovie_title                                                            \nAvatar                                      Color      James Cameron   \nPirates of the Caribbean: At World's End    Color     Gore Verbinski   \nSpectre                                     Color         Sam Mendes   \nThe Dark Knight Rises                       Color  Christopher Nolan   \nStar Wars: Episode VII - The Force Awakens   None        Doug Walker   \n\n                                           num_critic_for_reviews duration  \\\nmovie_title                                                                  \nAvatar                                                      723.0    178.0   \nPirates of the Caribbean: At World's End                    302.0    169.0   \nSpectre                                                     602.0    148.0   \nThe Dark Knight Rises                                       813.0    164.0   \nStar Wars: Episode VII - The Force Awakens                   null     null   \n\n                                            director_facebook_likes  \\\nmovie_title                                                           \nAvatar                                                          0.0   \nPirates of the Caribbean: At World's End                      563.0   \nSpectre                                                         0.0   \nThe Dark Knight Rises                                       22000.0   \nStar Wars: Episode VII - The Force Awakens                    131.0   \n\n                                           actor_3_facebook_likes  \\\nmovie_title                                                         \nAvatar                                                      855.0   \nPirates of the Caribbean: At World's End                   1000.0   \nSpectre                                                     161.0   \nThe Dark Knight Rises                                     23000.0   \nStar Wars: Episode VII - The Force Awakens                   null   \n\n                                                actor_2_name  \\\nmovie_title                                                    \nAvatar                                      Joel David Moore   \nPirates of the Caribbean: At World's End       Orlando Bloom   \nSpectre                                         Rory Kinnear   \nThe Dark Knight Rises                         Christian Bale   \nStar Wars: Episode VII - The Force Awakens        Rob Walker   \n\n                                            actor_1_facebook_likes  \\\nmovie_title                                                          \nAvatar                                                      1000.0   \nPirates of the Caribbean: At World's End                   40000.0   \nSpectre                                                    11000.0   \nThe Dark Knight Rises                                      27000.0   \nStar Wars: Episode VII - The Force Awakens                   131.0   \n\n                                                  gross  \\\nmovie_title                                               \nAvatar                                      760505847.0   \nPirates of the Caribbean: At World's End    309404152.0   \nSpectre                                     200074175.0   \nThe Dark Knight Rises                       448130642.0   \nStar Wars: Episode VII - The Force Awakens         null   \n\n                                                                     genres  \\\nmovie_title                                                                   \nAvatar                                      Action|Adventure|Fantasy|Sci-Fi   \nPirates of the Caribbean: At World's End           Action|Adventure|Fantasy   \nSpectre                                           Action|Adventure|Thriller   \nThe Dark Knight Rises                                       Action|Thriller   \nStar Wars: Episode VII - The Force Awakens                      Documentary   \n\n                                            ... num_user_for_reviews language  \\\nmovie_title                                 ...                                 \nAvatar                                      ...               3054.0  English   \nPirates of the Caribbean: At World's End    ...               1238.0  English   \nSpectre                                     ...                994.0  English   \nThe Dark Knight Rises                       ...               2701.0  English   \nStar Wars: Episode VII - The Force Awakens  ...                 null     None   \n\n                                           country content_rating  \\\nmovie_title                                                         \nAvatar                                         USA          PG-13   \nPirates of the Caribbean: At World's End       USA          PG-13   \nSpectre                                         UK          PG-13   \nThe Dark Knight Rises                          USA          PG-13   \nStar Wars: Episode VII - The Force Awakens    None           None   \n\n                                                 budget title_year  \\\nmovie_title                                                          \nAvatar                                      237000000.0     2009.0   \nPirates of the Caribbean: At World's End    300000000.0     2007.0   \nSpectre                                     245000000.0     2015.0   \nThe Dark Knight Rises                       250000000.0     2012.0   \nStar Wars: Episode VII - The Force Awakens         null       null   \n\n                                           actor_2_facebook_likes imdb_score  \\\nmovie_title                                                                    \nAvatar                                                      936.0        7.9   \nPirates of the Caribbean: At World's End                   5000.0        7.1   \nSpectre                                                     393.0        6.8   \nThe Dark Knight Rises                                     23000.0        8.5   \nStar Wars: Episode VII - The Force Awakens                   12.0        7.1   \n\n                                            aspect_ratio  movie_facebook_likes  \nmovie_title                                                                     \nAvatar                                              1.78                 33000  \nPirates of the Caribbean: At World's End            2.35                     0  \nSpectre                                             2.35                 85000  \nThe Dark Knight Rises                               2.35                164000  \nStar Wars: Episode VII - The Force Awakens          null                     0  \n\n[5 rows x 27 columns]",
      "text/html": "<div>\n<style scoped>\n    .dataframe tbody tr th:only-of-type {\n        vertical-align: middle;\n    }\n\n    .dataframe tbody tr th {\n        vertical-align: top;\n    }\n\n    .dataframe thead th {\n        text-align: right;\n    }\n</style>\n<table border=\"1\" class=\"dataframe\">\n  <thead>\n    <tr style=\"text-align: right;\">\n      <th></th>\n      <th>color</th>\n      <th>Director Name</th>\n      <th>num_critic_for_reviews</th>\n      <th>duration</th>\n      <th>director_facebook_likes</th>\n      <th>actor_3_facebook_likes</th>\n      <th>actor_2_name</th>\n      <th>actor_1_facebook_likes</th>\n      <th>gross</th>\n      <th>genres</th>\n      <th>...</th>\n      <th>num_user_for_reviews</th>\n      <th>language</th>\n      <th>country</th>\n      <th>content_rating</th>\n      <th>budget</th>\n      <th>title_year</th>\n      <th>actor_2_facebook_likes</th>\n      <th>imdb_score</th>\n      <th>aspect_ratio</th>\n      <th>movie_facebook_likes</th>\n    </tr>\n    <tr>\n      <th>movie_title</th>\n      <th></th>\n      <th></th>\n      <th></th>\n      <th></th>\n      <th></th>\n      <th></th>\n      <th></th>\n      <th></th>\n      <th></th>\n      <th></th>\n      <th></th>\n      <th></th>\n      <th></th>\n      <th></th>\n      <th></th>\n      <th></th>\n      <th></th>\n      <th></th>\n      <th></th>\n      <th></th>\n      <th></th>\n    </tr>\n  </thead>\n  <tbody>\n    <tr>\n      <th>Avatar</th>\n      <td>Color</td>\n      <td>James Cameron</td>\n      <td>723.0</td>\n      <td>178.0</td>\n      <td>0.0</td>\n      <td>855.0</td>\n      <td>Joel David Moore</td>\n      <td>1000.0</td>\n      <td>760505847.0</td>\n      <td>Action|Adventure|Fantasy|Sci-Fi</td>\n      <td>...</td>\n      <td>3054.0</td>\n      <td>English</td>\n      <td>USA</td>\n      <td>PG-13</td>\n      <td>237000000.0</td>\n      <td>2009.0</td>\n      <td>936.0</td>\n      <td>7.9</td>\n      <td>1.78</td>\n      <td>33000</td>\n    </tr>\n    <tr>\n      <th>Pirates of the Caribbean: At World's End</th>\n      <td>Color</td>\n      <td>Gore Verbinski</td>\n      <td>302.0</td>\n      <td>169.0</td>\n      <td>563.0</td>\n      <td>1000.0</td>\n      <td>Orlando Bloom</td>\n      <td>40000.0</td>\n      <td>309404152.0</td>\n      <td>Action|Adventure|Fantasy</td>\n      <td>...</td>\n      <td>1238.0</td>\n      <td>English</td>\n      <td>USA</td>\n      <td>PG-13</td>\n      <td>300000000.0</td>\n      <td>2007.0</td>\n      <td>5000.0</td>\n      <td>7.1</td>\n      <td>2.35</td>\n      <td>0</td>\n    </tr>\n    <tr>\n      <th>Spectre</th>\n      <td>Color</td>\n      <td>Sam Mendes</td>\n      <td>602.0</td>\n      <td>148.0</td>\n      <td>0.0</td>\n      <td>161.0</td>\n      <td>Rory Kinnear</td>\n      <td>11000.0</td>\n      <td>200074175.0</td>\n      <td>Action|Adventure|Thriller</td>\n      <td>...</td>\n      <td>994.0</td>\n      <td>English</td>\n      <td>UK</td>\n      <td>PG-13</td>\n      <td>245000000.0</td>\n      <td>2015.0</td>\n      <td>393.0</td>\n      <td>6.8</td>\n      <td>2.35</td>\n      <td>85000</td>\n    </tr>\n    <tr>\n      <th>The Dark Knight Rises</th>\n      <td>Color</td>\n      <td>Christopher Nolan</td>\n      <td>813.0</td>\n      <td>164.0</td>\n      <td>22000.0</td>\n      <td>23000.0</td>\n      <td>Christian Bale</td>\n      <td>27000.0</td>\n      <td>448130642.0</td>\n      <td>Action|Thriller</td>\n      <td>...</td>\n      <td>2701.0</td>\n      <td>English</td>\n      <td>USA</td>\n      <td>PG-13</td>\n      <td>250000000.0</td>\n      <td>2012.0</td>\n      <td>23000.0</td>\n      <td>8.5</td>\n      <td>2.35</td>\n      <td>164000</td>\n    </tr>\n    <tr>\n      <th>Star Wars: Episode VII - The Force Awakens</th>\n      <td>None</td>\n      <td>Doug Walker</td>\n      <td>null</td>\n      <td>null</td>\n      <td>131.0</td>\n      <td>null</td>\n      <td>Rob Walker</td>\n      <td>131.0</td>\n      <td>null</td>\n      <td>Documentary</td>\n      <td>...</td>\n      <td>null</td>\n      <td>None</td>\n      <td>None</td>\n      <td>None</td>\n      <td>null</td>\n      <td>null</td>\n      <td>12.0</td>\n      <td>7.1</td>\n      <td>null</td>\n      <td>0</td>\n    </tr>\n  </tbody>\n</table>\n<p>5 rows × 27 columns</p>\n</div>"
     },
     "metadata": {},
     "output_type": "execute_result",
     "execution_count": 77
    }
   ],
   "source": [
    "movie_renamed = movie2.rename(columns=col) #目前不支持index\n",
    "movie_renamed.head()"
   ],
   "metadata": {
    "collapsed": false,
    "pycharm": {
     "name": "#%%\n",
     "is_executing": false
    }
   }
  },
  {
   "cell_type": "code",
   "execution_count": 108,
   "outputs": [],
   "source": [
    "#创建和删除字段\n",
    "movie = cudf.read_csv('../Data/movie.csv')\n",
    "movie['has_been'] = 0"
   ],
   "metadata": {
    "collapsed": false,
    "pycharm": {
     "name": "#%%\n",
     "is_executing": false
    }
   }
  },
  {
   "cell_type": "code",
   "execution_count": 109,
   "outputs": [],
   "source": [
    "movie['actor_director_facebook_likes'] = movie['actor_1_facebook_likes']+movie['actor_2_facebook_likes']+movie['actor_3_facebook_likes']+movie['director_facebook_likes']"
   ],
   "metadata": {
    "collapsed": false,
    "pycharm": {
     "name": "#%%\n",
     "is_executing": false
    }
   }
  },
  {
   "cell_type": "code",
   "execution_count": 110,
   "outputs": [
    {
     "data": {
      "text/plain": "122"
     },
     "metadata": {},
     "output_type": "execute_result",
     "execution_count": 110
    }
   ],
   "source": [
    "movie['actor_director_facebook_likes'].isnull().sum()"
   ],
   "metadata": {
    "collapsed": false,
    "pycharm": {
     "name": "#%%\n",
     "is_executing": false
    }
   }
  },
  {
   "cell_type": "code",
   "execution_count": 111,
   "outputs": [],
   "source": [
    "movie['actor_director_facebook_likes'] = movie['actor_director_facebook_likes'].fillna(0)\n",
    "\n"
   ],
   "metadata": {
    "collapsed": false,
    "pycharm": {
     "name": "#%%\n",
     "is_executing": false
    }
   }
  },
  {
   "cell_type": "code",
   "execution_count": 112,
   "outputs": [],
   "source": [
    "movie['is_cast_likes_more'] = movie['cast_total_facebook_likes'] >= movie['actor_director_facebook_likes']\n"
   ],
   "metadata": {
    "collapsed": false,
    "pycharm": {
     "name": "#%%\n",
     "is_executing": false
    }
   }
  },
  {
   "cell_type": "code",
   "execution_count": 113,
   "outputs": [
    {
     "data": {
      "text/plain": "False"
     },
     "metadata": {},
     "output_type": "execute_result",
     "execution_count": 113
    }
   ],
   "source": [
    "#查看所有元素是否为真\n",
    "movie['is_cast_likes_more'].all()\n"
   ],
   "metadata": {
    "collapsed": false,
    "pycharm": {
     "name": "#%%\n",
     "is_executing": false
    }
   }
  },
  {
   "cell_type": "code",
   "execution_count": 114,
   "outputs": [],
   "source": [
    "movie = movie.drop('actor_director_facebook_likes',axis = 'columns')"
   ],
   "metadata": {
    "collapsed": false,
    "pycharm": {
     "name": "#%%\n",
     "is_executing": false
    }
   }
  },
  {
   "cell_type": "code",
   "execution_count": 115,
   "outputs": [],
   "source": [
    "movie['actor_total_facebook_likes'] =  movie['actor_1_facebook_likes']+movie['actor_2_facebook_likes']+movie['actor_3_facebook_likes']"
   ],
   "metadata": {
    "collapsed": false,
    "pycharm": {
     "name": "#%%\n",
     "is_executing": false
    }
   }
  },
  {
   "cell_type": "code",
   "execution_count": 117,
   "outputs": [],
   "source": [
    "movie['actor_total_facebook_likes'] = movie['actor_total_facebook_likes'].fillna(0)"
   ],
   "metadata": {
    "collapsed": false,
    "pycharm": {
     "name": "#%%\n",
     "is_executing": false
    }
   }
  },
  {
   "cell_type": "code",
   "execution_count": 118,
   "outputs": [],
   "source": [
    "movie['is_cast_likes_more'] = movie['cast_total_facebook_likes'] >= movie['actor_total_facebook_likes']\n"
   ],
   "metadata": {
    "collapsed": false,
    "pycharm": {
     "name": "#%%\n",
     "is_executing": false
    }
   }
  },
  {
   "cell_type": "code",
   "execution_count": 119,
   "outputs": [
    {
     "data": {
      "text/plain": "True"
     },
     "metadata": {},
     "output_type": "execute_result",
     "execution_count": 119
    }
   ],
   "source": [
    "movie['is_cast_likes_more'].all()"
   ],
   "metadata": {
    "collapsed": false,
    "pycharm": {
     "name": "#%%\n",
     "is_executing": false
    }
   }
  },
  {
   "cell_type": "code",
   "execution_count": 120,
   "outputs": [],
   "source": [
    "movie['pct_actor_cast_like']=movie['actor_total_facebook_likes'] / movie['cast_total_facebook_likes']"
   ],
   "metadata": {
    "collapsed": false,
    "pycharm": {
     "name": "#%%\n",
     "is_executing": false
    }
   }
  },
  {
   "cell_type": "code",
   "execution_count": 121,
   "outputs": [
    {
     "data": {
      "text/plain": "(0.0, 1.0)"
     },
     "metadata": {},
     "output_type": "execute_result",
     "execution_count": 121
    }
   ],
   "source": [
    "(movie['pct_actor_cast_like'].min(),movie['pct_actor_cast_like'].max())"
   ],
   "metadata": {
    "collapsed": false,
    "pycharm": {
     "name": "#%%\n",
     "is_executing": false
    }
   }
  },
  {
   "cell_type": "code",
   "execution_count": 122,
   "outputs": [
    {
     "data": {
      "text/plain": "movie_title\nAvatar                                        0.577369\nPirates of the Caribbean: At World's End      0.951396\nSpectre                                       0.987521\nThe Dark Knight Rises                         0.683783\nStar Wars: Episode VII - The Force Awakens    0.000000\nName: pct_actor_cast_like, dtype: float64"
     },
     "metadata": {},
     "output_type": "execute_result",
     "execution_count": 122
    }
   ],
   "source": [
    "# movie.head()\n",
    "movie.set_index('movie_title')['pct_actor_cast_like'].head()\n"
   ],
   "metadata": {
    "collapsed": false,
    "pycharm": {
     "name": "#%%\n",
     "is_executing": false
    }
   }
  }
 ],
 "metadata": {
  "kernelspec": {
   "display_name": "Python 3",
   "language": "python",
   "name": "python3"
  },
  "language_info": {
   "codemirror_mode": {
    "name": "ipython",
    "version": 2
   },
   "file_extension": ".py",
   "mimetype": "text/x-python",
   "name": "python",
   "nbconvert_exporter": "python",
   "pygments_lexer": "ipython2",
   "version": "2.7.6"
  },
  "pycharm": {
   "stem_cell": {
    "cell_type": "raw",
    "source": [],
    "metadata": {
     "collapsed": false
    }
   }
  }
 },
 "nbformat": 4,
 "nbformat_minor": 0
}