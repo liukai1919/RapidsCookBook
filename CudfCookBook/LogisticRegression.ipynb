{
 "cells": [
  {
   "cell_type": "code",
   "execution_count": 1,
   "metadata": {
    "collapsed": true,
    "pycharm": {
     "is_executing": false
    }
   },
   "outputs": [],
   "source": [
    "from sklearn.datasets import load_breast_cancer\n",
    "from sklearn.model_selection import train_test_split\n",
    "from cuml.linear_model import logistic_regression\n",
    "cancer = load_breast_cancer()\n",
    "X_train,X_test,y_train,y_test =  train_test_split(cancer.data,cancer.target,stratify=cancer.target,random_state=42)"
   ]
  },
  {
   "cell_type": "code",
   "execution_count": 7,
   "outputs": [
    {
     "name": "stdout",
     "text": [
      "Train set score:0.626761\n",
      "Test set score:0.629371\n"
     ],
     "output_type": "stream"
    }
   ],
   "source": [
    "logreg = logistic_regression.LogisticRegression().fit(X_train,y_train.astype('float64'))\n",
    "print('Train set score:{:2f}'.format(logreg.score(X_train,y_train.astype('float64'))))\n",
    "print('Test set score:{:2f}'.format(logreg.score(X_test,y_test.astype('float64'))))"
   ],
   "metadata": {
    "collapsed": false,
    "pycharm": {
     "name": "#%%\n",
     "is_executing": false
    }
   }
  },
  {
   "cell_type": "code",
   "execution_count": 8,
   "outputs": [
    {
     "name": "stdout",
     "text": [
      "Train set score:0.626761\n",
      "Test set score:0.629371\n"
     ],
     "output_type": "stream"
    }
   ],
   "source": [
    "logreg100 = logistic_regression.LogisticRegression(C=100).fit(X_train,y_train.astype('float64'))\n",
    "print('Train set score:{:2f}'.format(logreg100.score(X_train,y_train)))\n",
    "print('Test set score:{:2f}'.format(logreg100.score(X_test,y_test)))"
   ],
   "metadata": {
    "collapsed": false,
    "pycharm": {
     "name": "#%%\n",
     "is_executing": false
    }
   }
  },
  {
   "cell_type": "code",
   "execution_count": 9,
   "outputs": [
    {
     "name": "stdout",
     "text": [
      "Train set score:0.626761\n",
      "Test set score:0.629371\n"
     ],
     "output_type": "stream"
    }
   ],
   "source": [
    "logreg001 = logistic_regression.LogisticRegression(C=0.01).fit(X_train,y_train.astype('float64'))\n",
    "print('Train set score:{:2f}'.format(logreg001.score(X_train,y_train)))\n",
    "print('Test set score:{:2f}'.format(logreg001.score(X_test,y_test)))\n"
   ],
   "metadata": {
    "collapsed": false,
    "pycharm": {
     "name": "#%%\n",
     "is_executing": false
    }
   }
  }
 ],
 "metadata": {
  "kernelspec": {
   "display_name": "Python 3",
   "language": "python",
   "name": "python3"
  },
  "language_info": {
   "codemirror_mode": {
    "name": "ipython",
    "version": 2
   },
   "file_extension": ".py",
   "mimetype": "text/x-python",
   "name": "python",
   "nbconvert_exporter": "python",
   "pygments_lexer": "ipython2",
   "version": "2.7.6"
  },
  "pycharm": {
   "stem_cell": {
    "cell_type": "raw",
    "source": [],
    "metadata": {
     "collapsed": false
    }
   }
  }
 },
 "nbformat": 4,
 "nbformat_minor": 0
}